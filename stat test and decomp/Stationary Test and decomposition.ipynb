{
 "cells": [
  {
   "cell_type": "code",
   "execution_count": 2,
   "id": "20dee250",
   "metadata": {},
   "outputs": [],
   "source": [
    "import matplotlib.pyplot as plt\n",
    "import numpy as np\n",
    "import pandas as pd\n",
    "import seaborn as sns\n",
    "import plotly.express as px"
   ]
  },
  {
   "cell_type": "code",
   "execution_count": 11,
   "id": "38740e2a",
   "metadata": {},
   "outputs": [],
   "source": [
    "df= pd.read_csv(\"production and pressure data.csv\")"
   ]
  },
  {
   "cell_type": "code",
   "execution_count": 12,
   "id": "22a09866",
   "metadata": {},
   "outputs": [
    {
     "data": {
      "text/html": [
       "<div>\n",
       "<style scoped>\n",
       "    .dataframe tbody tr th:only-of-type {\n",
       "        vertical-align: middle;\n",
       "    }\n",
       "\n",
       "    .dataframe tbody tr th {\n",
       "        vertical-align: top;\n",
       "    }\n",
       "\n",
       "    .dataframe thead th {\n",
       "        text-align: right;\n",
       "    }\n",
       "</style>\n",
       "<table border=\"1\" class=\"dataframe\">\n",
       "  <thead>\n",
       "    <tr style=\"text-align: right;\">\n",
       "      <th></th>\n",
       "      <th>Unnamed: 0</th>\n",
       "      <th>Oil Production</th>\n",
       "      <th>Date</th>\n",
       "      <th>Pressure</th>\n",
       "    </tr>\n",
       "  </thead>\n",
       "  <tbody>\n",
       "    <tr>\n",
       "      <th>0</th>\n",
       "      <td>0</td>\n",
       "      <td>8045.2</td>\n",
       "      <td>2005-01-01</td>\n",
       "      <td>353.5</td>\n",
       "    </tr>\n",
       "    <tr>\n",
       "      <th>1</th>\n",
       "      <td>1</td>\n",
       "      <td>9243.7</td>\n",
       "      <td>2005-02-01</td>\n",
       "      <td>426.8</td>\n",
       "    </tr>\n",
       "    <tr>\n",
       "      <th>2</th>\n",
       "      <td>2</td>\n",
       "      <td>7498.1</td>\n",
       "      <td>2005-03-01</td>\n",
       "      <td>313.4</td>\n",
       "    </tr>\n",
       "    <tr>\n",
       "      <th>3</th>\n",
       "      <td>3</td>\n",
       "      <td>6840.4</td>\n",
       "      <td>2005-04-01</td>\n",
       "      <td>362.5</td>\n",
       "    </tr>\n",
       "    <tr>\n",
       "      <th>4</th>\n",
       "      <td>4</td>\n",
       "      <td>6470.0</td>\n",
       "      <td>2005-05-01</td>\n",
       "      <td>456.1</td>\n",
       "    </tr>\n",
       "    <tr>\n",
       "      <th>...</th>\n",
       "      <td>...</td>\n",
       "      <td>...</td>\n",
       "      <td>...</td>\n",
       "      <td>...</td>\n",
       "    </tr>\n",
       "    <tr>\n",
       "      <th>56</th>\n",
       "      <td>56</td>\n",
       "      <td>727.9</td>\n",
       "      <td>2009-09-01</td>\n",
       "      <td>105.1</td>\n",
       "    </tr>\n",
       "    <tr>\n",
       "      <th>57</th>\n",
       "      <td>57</td>\n",
       "      <td>797.7</td>\n",
       "      <td>2009-10-01</td>\n",
       "      <td>119.9</td>\n",
       "    </tr>\n",
       "    <tr>\n",
       "      <th>58</th>\n",
       "      <td>58</td>\n",
       "      <td>685.8</td>\n",
       "      <td>2009-11-01</td>\n",
       "      <td>103.0</td>\n",
       "    </tr>\n",
       "    <tr>\n",
       "      <th>59</th>\n",
       "      <td>59</td>\n",
       "      <td>675.3</td>\n",
       "      <td>2009-12-01</td>\n",
       "      <td>105.2</td>\n",
       "    </tr>\n",
       "    <tr>\n",
       "      <th>60</th>\n",
       "      <td>60</td>\n",
       "      <td>690.2</td>\n",
       "      <td>2010-01-01</td>\n",
       "      <td>107.8</td>\n",
       "    </tr>\n",
       "  </tbody>\n",
       "</table>\n",
       "<p>61 rows × 4 columns</p>\n",
       "</div>"
      ],
      "text/plain": [
       "    Unnamed: 0  Oil Production        Date  Pressure\n",
       "0            0          8045.2  2005-01-01     353.5\n",
       "1            1          9243.7  2005-02-01     426.8\n",
       "2            2          7498.1  2005-03-01     313.4\n",
       "3            3          6840.4  2005-04-01     362.5\n",
       "4            4          6470.0  2005-05-01     456.1\n",
       "..         ...             ...         ...       ...\n",
       "56          56           727.9  2009-09-01     105.1\n",
       "57          57           797.7  2009-10-01     119.9\n",
       "58          58           685.8  2009-11-01     103.0\n",
       "59          59           675.3  2009-12-01     105.2\n",
       "60          60           690.2  2010-01-01     107.8\n",
       "\n",
       "[61 rows x 4 columns]"
      ]
     },
     "execution_count": 12,
     "metadata": {},
     "output_type": "execute_result"
    }
   ],
   "source": [
    "df"
   ]
  },
  {
   "cell_type": "code",
   "execution_count": 10,
   "id": "84a3a42f",
   "metadata": {},
   "outputs": [
    {
     "name": "stdout",
     "output_type": "stream",
     "text": [
      "<class 'pandas.core.frame.DataFrame'>\n",
      "RangeIndex: 61 entries, 0 to 60\n",
      "Data columns (total 4 columns):\n",
      " #   Column          Non-Null Count  Dtype  \n",
      "---  ------          --------------  -----  \n",
      " 0   Unnamed: 0      61 non-null     int64  \n",
      " 1   Oil Production  61 non-null     float64\n",
      " 2   Date            61 non-null     object \n",
      " 3   Pressure        61 non-null     float64\n",
      "dtypes: float64(2), int64(1), object(1)\n",
      "memory usage: 2.0+ KB\n"
     ]
    }
   ],
   "source": [
    "df.info()"
   ]
  },
  {
   "cell_type": "code",
   "execution_count": 13,
   "id": "c5921d43",
   "metadata": {},
   "outputs": [],
   "source": [
    "df.index = pd.to_datetime(df[\"Date\"])\n",
    "df= df.drop(\"Unnamed: 0\",axis=1)"
   ]
  },
  {
   "cell_type": "code",
   "execution_count": 15,
   "id": "920adbf0",
   "metadata": {},
   "outputs": [],
   "source": []
  },
  {
   "cell_type": "code",
   "execution_count": 16,
   "id": "2185d0f3",
   "metadata": {},
   "outputs": [
    {
     "data": {
      "text/html": [
       "<div>\n",
       "<style scoped>\n",
       "    .dataframe tbody tr th:only-of-type {\n",
       "        vertical-align: middle;\n",
       "    }\n",
       "\n",
       "    .dataframe tbody tr th {\n",
       "        vertical-align: top;\n",
       "    }\n",
       "\n",
       "    .dataframe thead th {\n",
       "        text-align: right;\n",
       "    }\n",
       "</style>\n",
       "<table border=\"1\" class=\"dataframe\">\n",
       "  <thead>\n",
       "    <tr style=\"text-align: right;\">\n",
       "      <th></th>\n",
       "      <th>Oil Production</th>\n",
       "      <th>Date</th>\n",
       "      <th>Pressure</th>\n",
       "    </tr>\n",
       "    <tr>\n",
       "      <th>Date</th>\n",
       "      <th></th>\n",
       "      <th></th>\n",
       "      <th></th>\n",
       "    </tr>\n",
       "  </thead>\n",
       "  <tbody>\n",
       "    <tr>\n",
       "      <th>2005-01-01</th>\n",
       "      <td>8045.2</td>\n",
       "      <td>2005-01-01</td>\n",
       "      <td>353.5</td>\n",
       "    </tr>\n",
       "    <tr>\n",
       "      <th>2005-02-01</th>\n",
       "      <td>9243.7</td>\n",
       "      <td>2005-02-01</td>\n",
       "      <td>426.8</td>\n",
       "    </tr>\n",
       "    <tr>\n",
       "      <th>2005-03-01</th>\n",
       "      <td>7498.1</td>\n",
       "      <td>2005-03-01</td>\n",
       "      <td>313.4</td>\n",
       "    </tr>\n",
       "    <tr>\n",
       "      <th>2005-04-01</th>\n",
       "      <td>6840.4</td>\n",
       "      <td>2005-04-01</td>\n",
       "      <td>362.5</td>\n",
       "    </tr>\n",
       "    <tr>\n",
       "      <th>2005-05-01</th>\n",
       "      <td>6470.0</td>\n",
       "      <td>2005-05-01</td>\n",
       "      <td>456.1</td>\n",
       "    </tr>\n",
       "    <tr>\n",
       "      <th>...</th>\n",
       "      <td>...</td>\n",
       "      <td>...</td>\n",
       "      <td>...</td>\n",
       "    </tr>\n",
       "    <tr>\n",
       "      <th>2009-09-01</th>\n",
       "      <td>727.9</td>\n",
       "      <td>2009-09-01</td>\n",
       "      <td>105.1</td>\n",
       "    </tr>\n",
       "    <tr>\n",
       "      <th>2009-10-01</th>\n",
       "      <td>797.7</td>\n",
       "      <td>2009-10-01</td>\n",
       "      <td>119.9</td>\n",
       "    </tr>\n",
       "    <tr>\n",
       "      <th>2009-11-01</th>\n",
       "      <td>685.8</td>\n",
       "      <td>2009-11-01</td>\n",
       "      <td>103.0</td>\n",
       "    </tr>\n",
       "    <tr>\n",
       "      <th>2009-12-01</th>\n",
       "      <td>675.3</td>\n",
       "      <td>2009-12-01</td>\n",
       "      <td>105.2</td>\n",
       "    </tr>\n",
       "    <tr>\n",
       "      <th>2010-01-01</th>\n",
       "      <td>690.2</td>\n",
       "      <td>2010-01-01</td>\n",
       "      <td>107.8</td>\n",
       "    </tr>\n",
       "  </tbody>\n",
       "</table>\n",
       "<p>61 rows × 3 columns</p>\n",
       "</div>"
      ],
      "text/plain": [
       "            Oil Production        Date  Pressure\n",
       "Date                                            \n",
       "2005-01-01          8045.2  2005-01-01     353.5\n",
       "2005-02-01          9243.7  2005-02-01     426.8\n",
       "2005-03-01          7498.1  2005-03-01     313.4\n",
       "2005-04-01          6840.4  2005-04-01     362.5\n",
       "2005-05-01          6470.0  2005-05-01     456.1\n",
       "...                    ...         ...       ...\n",
       "2009-09-01           727.9  2009-09-01     105.1\n",
       "2009-10-01           797.7  2009-10-01     119.9\n",
       "2009-11-01           685.8  2009-11-01     103.0\n",
       "2009-12-01           675.3  2009-12-01     105.2\n",
       "2010-01-01           690.2  2010-01-01     107.8\n",
       "\n",
       "[61 rows x 3 columns]"
      ]
     },
     "execution_count": 16,
     "metadata": {},
     "output_type": "execute_result"
    }
   ],
   "source": [
    "df"
   ]
  },
  {
   "cell_type": "code",
   "execution_count": 18,
   "id": "5d18ff8a",
   "metadata": {},
   "outputs": [
    {
     "data": {
      "text/plain": [
       "<AxesSubplot:xlabel='Date'>"
      ]
     },
     "execution_count": 18,
     "metadata": {},
     "output_type": "execute_result"
    },
    {
     "data": {
      "image/png": "[encoded data removed]",
      "text/plain": [
       "<Figure size 720x288 with 1 Axes>"
      ]
     },
     "metadata": {
      "needs_background": "light"
     },
     "output_type": "display_data"
    }
   ],
   "source": [
    "df.plot(figsize = (10,4))"
   ]
  },
  {
   "cell_type": "code",
   "execution_count": 19,
   "id": "501cfe44",
   "metadata": {},
   "outputs": [
    {
     "data": {
      "text/plain": [
       "array([<AxesSubplot:xlabel='Date'>, <AxesSubplot:xlabel='Date'>],\n",
       "      dtype=object)"
      ]
     },
     "execution_count": 19,
     "metadata": {},
     "output_type": "execute_result"
    },
    {
     "data": {
      "image/png": "[encoded data removed]",
      "text/plain": [
       "<Figure size 720x288 with 2 Axes>"
      ]
     },
     "metadata": {
      "needs_background": "light"
     },
     "output_type": "display_data"
    }
   ],
   "source": [
    "df.plot(figsize = (10,4),subplots = True)"
   ]
  },
  {
   "cell_type": "markdown",
   "id": "ad65f143",
   "metadata": {},
   "source": [
    "## Stationary"
   ]
  },
  {
   "cell_type": "markdown",
   "id": "64b24761",
   "metadata": {},
   "source": [
    "## KPSS test\n",
    "\n",
    "- null hypothesis: Series is stationary = Ho\n",
    "\n",
    "- Alternate hypothesis: Series is non stationary = H1"
   ]
  },
  {
   "cell_type": "markdown",
   "id": "2c417fbb",
   "metadata": {},
   "source": [
    "#### If p is low reject the ho,\n",
    "\n",
    "- p<0.05 : reject null hypothesis: Series is non stationary\n",
    "\n",
    "- p >= 0.05 : failed to reject null hypothesis: Series is stationary"
   ]
  },
  {
   "cell_type": "code",
   "execution_count": 20,
   "id": "1a7a32ae",
   "metadata": {},
   "outputs": [],
   "source": [
    "from statsmodels.tsa.stattools import kpss,adfuller"
   ]
  },
  {
   "cell_type": "code",
   "execution_count": 22,
   "id": "9b94ade0",
   "metadata": {},
   "outputs": [],
   "source": [
    "_,p,_,_ = kpss(df[\"Oil Production\"])"
   ]
  },
  {
   "cell_type": "code",
   "execution_count": 23,
   "id": "a078b7cd",
   "metadata": {},
   "outputs": [
    {
     "data": {
      "text/plain": [
       "0.024205159969745874"
      ]
     },
     "execution_count": 23,
     "metadata": {},
     "output_type": "execute_result"
    }
   ],
   "source": [
    "p"
   ]
  },
  {
   "cell_type": "code",
   "execution_count": 24,
   "id": "e0876022",
   "metadata": {},
   "outputs": [
    {
     "name": "stdout",
     "output_type": "stream",
     "text": [
      "p-value is: 0.024205159969745874\n",
      "Null hypothesies rejected\n",
      "Data is not stationary\n"
     ]
    }
   ],
   "source": [
    "print(f\"p-value is: {p}\" )\n",
    "\n",
    "\n",
    "if p<0.05:\n",
    "    print(\"Null hypothesies rejected\")\n",
    "    print(\"Data is not stationary\")\n",
    "\n",
    "else:\n",
    "    print(\"Null hypothesies failed to rejected\")\n",
    "    print(\"Data is stationary\")"
   ]
  },
  {
   "cell_type": "code",
   "execution_count": 25,
   "id": "37aa637e",
   "metadata": {},
   "outputs": [
    {
     "name": "stdout",
     "output_type": "stream",
     "text": [
      "p-value is: 0.07401601875918287\n",
      "Null hypothesies failed to rejected\n",
      "Data is stationary\n"
     ]
    }
   ],
   "source": [
    "_,p,_,_ = kpss(df[\"Pressure\"])\n",
    "\n",
    "print(f\"p-value is: {p}\" )\n",
    "\n",
    "\n",
    "if p<0.05:\n",
    "    print(\"Null hypothesies rejected\")\n",
    "    print(\"Data is not stationary\")\n",
    "\n",
    "else:\n",
    "    print(\"Null hypothesies failed to rejected\")\n",
    "    print(\"Data is stationary\")"
   ]
  },
  {
   "cell_type": "markdown",
   "id": "668c3d80",
   "metadata": {},
   "source": [
    "## ADF test\n",
    "\n",
    "- Null Hypothesis: Time series is not stationary\n",
    "\n",
    "- Alternate Hypothesis: Time series is stationary "
   ]
  },
  {
   "cell_type": "code",
   "execution_count": 33,
   "id": "1e176865",
   "metadata": {},
   "outputs": [],
   "source": [
    "r = adfuller(df[\"Oil Production\"])\n"
   ]
  },
  {
   "cell_type": "code",
   "execution_count": 36,
   "id": "34b8a947",
   "metadata": {},
   "outputs": [],
   "source": [
    " p = r[1]"
   ]
  },
  {
   "cell_type": "code",
   "execution_count": 37,
   "id": "e013005e",
   "metadata": {},
   "outputs": [
    {
     "name": "stdout",
     "output_type": "stream",
     "text": [
      "p value is 0.12947943121838767\n",
      "Null hypothesies accepted\n",
      "Data is not stationary\n"
     ]
    }
   ],
   "source": [
    "print(f\"p value is {p}\")\n",
    "if p<0.05:\n",
    "    print(\"Null hypothesies rejected\")\n",
    "    print(\"Data is stationary\")\n",
    "\n",
    "else:\n",
    "    print(\"Null hypothesies accepted\")\n",
    "    print(\"Data is not stationary\")"
   ]
  },
  {
   "cell_type": "markdown",
   "id": "929692a4",
   "metadata": {},
   "source": [
    "## Differencing: making non stationary time series stationary/\n"
   ]
  },
  {
   "cell_type": "code",
   "execution_count": 38,
   "id": "6ee8b62b",
   "metadata": {},
   "outputs": [
    {
     "data": {
      "text/html": [
       "<div>\n",
       "<style scoped>\n",
       "    .dataframe tbody tr th:only-of-type {\n",
       "        vertical-align: middle;\n",
       "    }\n",
       "\n",
       "    .dataframe tbody tr th {\n",
       "        vertical-align: top;\n",
       "    }\n",
       "\n",
       "    .dataframe thead th {\n",
       "        text-align: right;\n",
       "    }\n",
       "</style>\n",
       "<table border=\"1\" class=\"dataframe\">\n",
       "  <thead>\n",
       "    <tr style=\"text-align: right;\">\n",
       "      <th></th>\n",
       "      <th>Oil Production</th>\n",
       "      <th>Date</th>\n",
       "      <th>Pressure</th>\n",
       "    </tr>\n",
       "    <tr>\n",
       "      <th>Date</th>\n",
       "      <th></th>\n",
       "      <th></th>\n",
       "      <th></th>\n",
       "    </tr>\n",
       "  </thead>\n",
       "  <tbody>\n",
       "    <tr>\n",
       "      <th>2005-01-01</th>\n",
       "      <td>8045.2</td>\n",
       "      <td>2005-01-01</td>\n",
       "      <td>353.5</td>\n",
       "    </tr>\n",
       "    <tr>\n",
       "      <th>2005-02-01</th>\n",
       "      <td>9243.7</td>\n",
       "      <td>2005-02-01</td>\n",
       "      <td>426.8</td>\n",
       "    </tr>\n",
       "    <tr>\n",
       "      <th>2005-03-01</th>\n",
       "      <td>7498.1</td>\n",
       "      <td>2005-03-01</td>\n",
       "      <td>313.4</td>\n",
       "    </tr>\n",
       "    <tr>\n",
       "      <th>2005-04-01</th>\n",
       "      <td>6840.4</td>\n",
       "      <td>2005-04-01</td>\n",
       "      <td>362.5</td>\n",
       "    </tr>\n",
       "    <tr>\n",
       "      <th>2005-05-01</th>\n",
       "      <td>6470.0</td>\n",
       "      <td>2005-05-01</td>\n",
       "      <td>456.1</td>\n",
       "    </tr>\n",
       "    <tr>\n",
       "      <th>...</th>\n",
       "      <td>...</td>\n",
       "      <td>...</td>\n",
       "      <td>...</td>\n",
       "    </tr>\n",
       "    <tr>\n",
       "      <th>2009-09-01</th>\n",
       "      <td>727.9</td>\n",
       "      <td>2009-09-01</td>\n",
       "      <td>105.1</td>\n",
       "    </tr>\n",
       "    <tr>\n",
       "      <th>2009-10-01</th>\n",
       "      <td>797.7</td>\n",
       "      <td>2009-10-01</td>\n",
       "      <td>119.9</td>\n",
       "    </tr>\n",
       "    <tr>\n",
       "      <th>2009-11-01</th>\n",
       "      <td>685.8</td>\n",
       "      <td>2009-11-01</td>\n",
       "      <td>103.0</td>\n",
       "    </tr>\n",
       "    <tr>\n",
       "      <th>2009-12-01</th>\n",
       "      <td>675.3</td>\n",
       "      <td>2009-12-01</td>\n",
       "      <td>105.2</td>\n",
       "    </tr>\n",
       "    <tr>\n",
       "      <th>2010-01-01</th>\n",
       "      <td>690.2</td>\n",
       "      <td>2010-01-01</td>\n",
       "      <td>107.8</td>\n",
       "    </tr>\n",
       "  </tbody>\n",
       "</table>\n",
       "<p>61 rows × 3 columns</p>\n",
       "</div>"
      ],
      "text/plain": [
       "            Oil Production        Date  Pressure\n",
       "Date                                            \n",
       "2005-01-01          8045.2  2005-01-01     353.5\n",
       "2005-02-01          9243.7  2005-02-01     426.8\n",
       "2005-03-01          7498.1  2005-03-01     313.4\n",
       "2005-04-01          6840.4  2005-04-01     362.5\n",
       "2005-05-01          6470.0  2005-05-01     456.1\n",
       "...                    ...         ...       ...\n",
       "2009-09-01           727.9  2009-09-01     105.1\n",
       "2009-10-01           797.7  2009-10-01     119.9\n",
       "2009-11-01           685.8  2009-11-01     103.0\n",
       "2009-12-01           675.3  2009-12-01     105.2\n",
       "2010-01-01           690.2  2010-01-01     107.8\n",
       "\n",
       "[61 rows x 3 columns]"
      ]
     },
     "execution_count": 38,
     "metadata": {},
     "output_type": "execute_result"
    }
   ],
   "source": [
    "df"
   ]
  },
  {
   "cell_type": "code",
   "execution_count": 40,
   "id": "69f0dd7d",
   "metadata": {},
   "outputs": [
    {
     "data": {
      "text/html": [
       "<div>\n",
       "<style scoped>\n",
       "    .dataframe tbody tr th:only-of-type {\n",
       "        vertical-align: middle;\n",
       "    }\n",
       "\n",
       "    .dataframe tbody tr th {\n",
       "        vertical-align: top;\n",
       "    }\n",
       "\n",
       "    .dataframe thead th {\n",
       "        text-align: right;\n",
       "    }\n",
       "</style>\n",
       "<table border=\"1\" class=\"dataframe\">\n",
       "  <thead>\n",
       "    <tr style=\"text-align: right;\">\n",
       "      <th></th>\n",
       "      <th>Oil Production</th>\n",
       "    </tr>\n",
       "    <tr>\n",
       "      <th>Date</th>\n",
       "      <th></th>\n",
       "    </tr>\n",
       "  </thead>\n",
       "  <tbody>\n",
       "    <tr>\n",
       "      <th>2005-01-01</th>\n",
       "      <td>8045.2</td>\n",
       "    </tr>\n",
       "    <tr>\n",
       "      <th>2005-02-01</th>\n",
       "      <td>9243.7</td>\n",
       "    </tr>\n",
       "    <tr>\n",
       "      <th>2005-03-01</th>\n",
       "      <td>7498.1</td>\n",
       "    </tr>\n",
       "    <tr>\n",
       "      <th>2005-04-01</th>\n",
       "      <td>6840.4</td>\n",
       "    </tr>\n",
       "    <tr>\n",
       "      <th>2005-05-01</th>\n",
       "      <td>6470.0</td>\n",
       "    </tr>\n",
       "    <tr>\n",
       "      <th>...</th>\n",
       "      <td>...</td>\n",
       "    </tr>\n",
       "    <tr>\n",
       "      <th>2009-09-01</th>\n",
       "      <td>727.9</td>\n",
       "    </tr>\n",
       "    <tr>\n",
       "      <th>2009-10-01</th>\n",
       "      <td>797.7</td>\n",
       "    </tr>\n",
       "    <tr>\n",
       "      <th>2009-11-01</th>\n",
       "      <td>685.8</td>\n",
       "    </tr>\n",
       "    <tr>\n",
       "      <th>2009-12-01</th>\n",
       "      <td>675.3</td>\n",
       "    </tr>\n",
       "    <tr>\n",
       "      <th>2010-01-01</th>\n",
       "      <td>690.2</td>\n",
       "    </tr>\n",
       "  </tbody>\n",
       "</table>\n",
       "<p>61 rows × 1 columns</p>\n",
       "</div>"
      ],
      "text/plain": [
       "            Oil Production\n",
       "Date                      \n",
       "2005-01-01          8045.2\n",
       "2005-02-01          9243.7\n",
       "2005-03-01          7498.1\n",
       "2005-04-01          6840.4\n",
       "2005-05-01          6470.0\n",
       "...                    ...\n",
       "2009-09-01           727.9\n",
       "2009-10-01           797.7\n",
       "2009-11-01           685.8\n",
       "2009-12-01           675.3\n",
       "2010-01-01           690.2\n",
       "\n",
       "[61 rows x 1 columns]"
      ]
     },
     "execution_count": 40,
     "metadata": {},
     "output_type": "execute_result"
    }
   ],
   "source": [
    "df[[\"Oil Production\"]]"
   ]
  },
  {
   "cell_type": "code",
   "execution_count": 41,
   "id": "0927b263",
   "metadata": {},
   "outputs": [
    {
     "data": {
      "text/plain": [
       "<AxesSubplot:xlabel='Date'>"
      ]
     },
     "execution_count": 41,
     "metadata": {},
     "output_type": "execute_result"
    },
    {
     "data": {
      "image/png": "[encoded data removed]",
      "text/plain": [
       "<Figure size 432x288 with 1 Axes>"
      ]
     },
     "metadata": {
      "needs_background": "light"
     },
     "output_type": "display_data"
    }
   ],
   "source": [
    "df[[\"Oil Production\"]].plot()"
   ]
  },
  {
   "cell_type": "code",
   "execution_count": 56,
   "id": "899d23f4",
   "metadata": {},
   "outputs": [
    {
     "data": {
      "text/plain": [
       "<AxesSubplot:xlabel='Date'>"
      ]
     },
     "execution_count": 56,
     "metadata": {},
     "output_type": "execute_result"
    },
    {
     "data": {
      "image/png": "[encoded data removed]",
      "text/plain": [
       "<Figure size 432x288 with 1 Axes>"
      ]
     },
     "metadata": {
      "needs_background": "light"
     },
     "output_type": "display_data"
    }
   ],
   "source": [
    "df[[\"Oil Production\"]].diff()[1:].plot()"
   ]
  },
  {
   "cell_type": "code",
   "execution_count": 55,
   "id": "dfebfd63",
   "metadata": {},
   "outputs": [
    {
     "data": {
      "text/plain": [
       "Date\n",
       "2005-02-01    1198.5\n",
       "2005-03-01   -1745.6\n",
       "2005-04-01    -657.7\n",
       "2005-05-01    -370.4\n",
       "2005-06-01    1268.3\n",
       "2005-07-01   -1580.7\n",
       "2005-08-01    -369.0\n",
       "2005-09-01    -184.4\n",
       "2005-10-01     941.1\n",
       "2005-11-01   -1670.9\n",
       "2005-12-01    -578.9\n",
       "2006-01-01    -224.1\n",
       "2006-02-01     802.7\n",
       "2006-03-01   -1102.7\n",
       "2006-04-01    -231.0\n",
       "2006-05-01    -127.6\n",
       "2006-06-01     661.8\n",
       "2006-07-01   -1038.8\n",
       "2006-08-01    -217.3\n",
       "2006-09-01     -46.8\n",
       "2006-10-01     661.1\n",
       "2006-11-01    -874.9\n",
       "2006-12-01    -123.9\n",
       "2007-01-01      40.1\n",
       "2007-02-01     584.5\n",
       "2007-03-01    -849.4\n",
       "2007-04-01    -138.8\n",
       "2007-05-01      36.6\n",
       "2007-06-01     519.8\n",
       "2007-07-01    -746.2\n",
       "2007-08-01     -97.2\n",
       "2007-09-01      35.1\n",
       "2007-10-01     424.6\n",
       "2007-11-01    -655.5\n",
       "2007-12-01     -96.3\n",
       "2008-01-01      -5.6\n",
       "2008-02-01     309.0\n",
       "2008-03-01    -538.7\n",
       "2008-04-01     -99.4\n",
       "2008-05-01      56.5\n",
       "2008-06-01     238.9\n",
       "2008-07-01    -407.1\n",
       "2008-08-01     -79.8\n",
       "2008-09-01      23.8\n",
       "2008-10-01     181.5\n",
       "2008-11-01    -244.0\n",
       "2008-12-01     -20.1\n",
       "2009-01-01       7.2\n",
       "2009-02-01     153.7\n",
       "2009-03-01    -241.0\n",
       "2009-04-01     -37.6\n",
       "2009-05-01      12.9\n",
       "2009-06-01      97.1\n",
       "2009-07-01    -167.9\n",
       "2009-08-01     -16.8\n",
       "2009-09-01      14.0\n",
       "2009-10-01      69.8\n",
       "2009-11-01    -111.9\n",
       "2009-12-01     -10.5\n",
       "2010-01-01      14.9\n",
       "Name: Oil Production, dtype: float64"
      ]
     },
     "execution_count": 55,
     "metadata": {},
     "output_type": "execute_result"
    }
   ],
   "source": [
    "df[[\"Oil Production\"]].diff()[1:][\"Oil Production\"]"
   ]
  },
  {
   "cell_type": "code",
   "execution_count": 53,
   "id": "47d54578",
   "metadata": {},
   "outputs": [],
   "source": [
    "r = adfuller(df[[\"Oil Production\"]].diff()[1:][\"Oil Production\"])\n"
   ]
  },
  {
   "cell_type": "code",
   "execution_count": 54,
   "id": "6f36a6fa",
   "metadata": {},
   "outputs": [
    {
     "name": "stdout",
     "output_type": "stream",
     "text": [
      "p value is 4.642045037471511e-05\n",
      "Null hypothesies rejected\n",
      "Data is stationary\n"
     ]
    }
   ],
   "source": [
    "p = r[1]\n",
    "print(f\"p value is {p}\")\n",
    "if p<0.05:\n",
    "    print(\"Null hypothesies rejected\")\n",
    "    print(\"Data is stationary\")\n",
    "\n",
    "else:\n",
    "    print(\"Null hypothesies accepted\")\n",
    "    print(\"Data is not stationary\")"
   ]
  },
  {
   "cell_type": "code",
   "execution_count": 57,
   "id": "37a762ba",
   "metadata": {},
   "outputs": [
    {
     "data": {
      "text/plain": [
       "<AxesSubplot:xlabel='Date'>"
      ]
     },
     "execution_count": 57,
     "metadata": {},
     "output_type": "execute_result"
    },
    {
     "data": {
      "image/png": "[encoded data removed]",
      "text/plain": [
       "<Figure size 432x288 with 1 Axes>"
      ]
     },
     "metadata": {
      "needs_background": "light"
     },
     "output_type": "display_data"
    }
   ],
   "source": [
    "df[[\"Oil Production\"]].diff(2)[1:].plot()"
   ]
  },
  {
   "cell_type": "code",
   "execution_count": 58,
   "id": "f43522a2",
   "metadata": {},
   "outputs": [
    {
     "data": {
      "text/html": [
       "<div>\n",
       "<style scoped>\n",
       "    .dataframe tbody tr th:only-of-type {\n",
       "        vertical-align: middle;\n",
       "    }\n",
       "\n",
       "    .dataframe tbody tr th {\n",
       "        vertical-align: top;\n",
       "    }\n",
       "\n",
       "    .dataframe thead th {\n",
       "        text-align: right;\n",
       "    }\n",
       "</style>\n",
       "<table border=\"1\" class=\"dataframe\">\n",
       "  <thead>\n",
       "    <tr style=\"text-align: right;\">\n",
       "      <th></th>\n",
       "      <th>Oil Production</th>\n",
       "    </tr>\n",
       "    <tr>\n",
       "      <th>Date</th>\n",
       "      <th></th>\n",
       "    </tr>\n",
       "  </thead>\n",
       "  <tbody>\n",
       "    <tr>\n",
       "      <th>2005-01-01</th>\n",
       "      <td>NaN</td>\n",
       "    </tr>\n",
       "    <tr>\n",
       "      <th>2005-02-01</th>\n",
       "      <td>NaN</td>\n",
       "    </tr>\n",
       "    <tr>\n",
       "      <th>2005-03-01</th>\n",
       "      <td>-547.1</td>\n",
       "    </tr>\n",
       "    <tr>\n",
       "      <th>2005-04-01</th>\n",
       "      <td>-2403.3</td>\n",
       "    </tr>\n",
       "    <tr>\n",
       "      <th>2005-05-01</th>\n",
       "      <td>-1028.1</td>\n",
       "    </tr>\n",
       "    <tr>\n",
       "      <th>...</th>\n",
       "      <td>...</td>\n",
       "    </tr>\n",
       "    <tr>\n",
       "      <th>2009-09-01</th>\n",
       "      <td>-2.8</td>\n",
       "    </tr>\n",
       "    <tr>\n",
       "      <th>2009-10-01</th>\n",
       "      <td>83.8</td>\n",
       "    </tr>\n",
       "    <tr>\n",
       "      <th>2009-11-01</th>\n",
       "      <td>-42.1</td>\n",
       "    </tr>\n",
       "    <tr>\n",
       "      <th>2009-12-01</th>\n",
       "      <td>-122.4</td>\n",
       "    </tr>\n",
       "    <tr>\n",
       "      <th>2010-01-01</th>\n",
       "      <td>4.4</td>\n",
       "    </tr>\n",
       "  </tbody>\n",
       "</table>\n",
       "<p>61 rows × 1 columns</p>\n",
       "</div>"
      ],
      "text/plain": [
       "            Oil Production\n",
       "Date                      \n",
       "2005-01-01             NaN\n",
       "2005-02-01             NaN\n",
       "2005-03-01          -547.1\n",
       "2005-04-01         -2403.3\n",
       "2005-05-01         -1028.1\n",
       "...                    ...\n",
       "2009-09-01            -2.8\n",
       "2009-10-01            83.8\n",
       "2009-11-01           -42.1\n",
       "2009-12-01          -122.4\n",
       "2010-01-01             4.4\n",
       "\n",
       "[61 rows x 1 columns]"
      ]
     },
     "execution_count": 58,
     "metadata": {},
     "output_type": "execute_result"
    }
   ],
   "source": [
    "df[[\"Oil Production\"]].diff(2)"
   ]
  },
  {
   "cell_type": "markdown",
   "id": "fb2a3d68",
   "metadata": {},
   "source": [
    "## Time series decomposition:\n",
    "\n",
    "ts = trend+seasonality+residual"
   ]
  },
  {
   "cell_type": "code",
   "execution_count": 60,
   "id": "3564aa5b",
   "metadata": {},
   "outputs": [],
   "source": [
    "import  scipy.signal.signaltools\n",
    "\n",
    "def _centered(arr, newsize):\n",
    "    # Return the center newsize portion of the array.\n",
    "    newsize = np.asarray(newsize)\n",
    "    currsize = np.array(arr.shape)\n",
    "    startind = (currsize - newsize) // 2\n",
    "    endind = startind + newsize\n",
    "    myslice = [slice(startind[k], endind[k]) for k in range(len(endind))]\n",
    "    return arr[tuple(myslice)]\n",
    "\n",
    "scipy.signal.signaltools._centered = _centered"
   ]
  },
  {
   "cell_type": "code",
   "execution_count": 61,
   "id": "1a399307",
   "metadata": {},
   "outputs": [],
   "source": [
    "import statsmodels.api as sm\n"
   ]
  },
  {
   "cell_type": "code",
   "execution_count": 63,
   "id": "1faaf72c",
   "metadata": {},
   "outputs": [],
   "source": [
    "dec = sm.tsa.seasonal_decompose(df[\"Oil Production\"])"
   ]
  },
  {
   "cell_type": "code",
   "execution_count": 64,
   "id": "a2e59a89",
   "metadata": {},
   "outputs": [
    {
     "data": {
      "text/plain": [
       "<statsmodels.tsa.seasonal.DecomposeResult at 0x225377909a0>"
      ]
     },
     "execution_count": 64,
     "metadata": {},
     "output_type": "execute_result"
    }
   ],
   "source": [
    "dec"
   ]
  },
  {
   "cell_type": "code",
   "execution_count": 65,
   "id": "26617f2c",
   "metadata": {},
   "outputs": [
    {
     "data": {
      "image/png": "[encoded data removed]",
      "text/plain": [
       "<Figure size 432x288 with 4 Axes>"
      ]
     },
     "execution_count": 65,
     "metadata": {},
     "output_type": "execute_result"
    },
    {
     "data": {
      "image/png": "[encoded data removed]",
      "text/plain": [
       "<Figure size 432x288 with 4 Axes>"
      ]
     },
     "metadata": {
      "needs_background": "light"
     },
     "output_type": "display_data"
    }
   ],
   "source": [
    "dec.plot()"
   ]
  },
  {
   "cell_type": "code",
   "execution_count": 66,
   "id": "a1fefe71",
   "metadata": {},
   "outputs": [
    {
     "data": {
      "text/plain": [
       "<AxesSubplot:xlabel='Date'>"
      ]
     },
     "execution_count": 66,
     "metadata": {},
     "output_type": "execute_result"
    },
    {
     "data": {
      "image/png": "[encoded data removed]",
      "text/plain": [
       "<Figure size 432x288 with 1 Axes>"
      ]
     },
     "metadata": {
      "needs_background": "light"
     },
     "output_type": "display_data"
    }
   ],
   "source": [
    "dec.trend.plot()"
   ]
  },
  {
   "cell_type": "code",
   "execution_count": 67,
   "id": "cbf8b370",
   "metadata": {},
   "outputs": [
    {
     "data": {
      "text/plain": [
       "<AxesSubplot:xlabel='Date'>"
      ]
     },
     "execution_count": 67,
     "metadata": {},
     "output_type": "execute_result"
    },
    {
     "data": {
      "image/png": "[encoded data removed]",
      "text/plain": [
       "<Figure size 432x288 with 1 Axes>"
      ]
     },
     "metadata": {
      "needs_background": "light"
     },
     "output_type": "display_data"
    }
   ],
   "source": [
    "dec.seasonal.plot()"
   ]
  },
  {
   "cell_type": "markdown",
   "id": "56a5e60e",
   "metadata": {},
   "source": [
    "## Additivemodel: Observed = tremd+seasonailty+residual\n",
    "## multiplicativemodel: Observed = trend*seasonality+residual"
   ]
  },
  {
   "cell_type": "code",
   "execution_count": 68,
   "id": "c25bdb35",
   "metadata": {},
   "outputs": [],
   "source": [
    "dec = sm.tsa.seasonal_decompose(df[\"Oil Production\"],model='multiplicative')"
   ]
  },
  {
   "cell_type": "code",
   "execution_count": 69,
   "id": "d9725baf",
   "metadata": {},
   "outputs": [
    {
     "data": {
      "text/plain": [
       "<AxesSubplot:xlabel='Date'>"
      ]
     },
     "execution_count": 69,
     "metadata": {},
     "output_type": "execute_result"
    },
    {
     "data": {
      "image/png": "[encoded data removed]",
      "text/plain": [
       "<Figure size 432x288 with 1 Axes>"
      ]
     },
     "metadata": {
      "needs_background": "light"
     },
     "output_type": "display_data"
    }
   ],
   "source": [
    "dec.seasonal.plot()"
   ]
  },
  {
   "cell_type": "code",
   "execution_count": 70,
   "id": "a7c5ce0f",
   "metadata": {},
   "outputs": [
    {
     "data": {
      "text/plain": [
       "<AxesSubplot:xlabel='Date'>"
      ]
     },
     "execution_count": 70,
     "metadata": {},
     "output_type": "execute_result"
    },
    {
     "data": {
      "image/png": "[encoded data removed]",
      "text/plain": [
       "<Figure size 432x288 with 1 Axes>"
      ]
     },
     "metadata": {
      "needs_background": "light"
     },
     "output_type": "display_data"
    }
   ],
   "source": [
    "dec.trend.plot()"
   ]
  },
  {
   "cell_type": "code",
   "execution_count": 78,
   "id": "5cd58bb2",
   "metadata": {},
   "outputs": [
    {
     "data": {
      "text/plain": [
       "<AxesSubplot:xlabel='Date'>"
      ]
     },
     "execution_count": 78,
     "metadata": {},
     "output_type": "execute_result"
    },
    {
     "data": {
      "image/png": "[encoded data removed]",
      "text/plain": [
       "<Figure size 432x288 with 1 Axes>"
      ]
     },
     "metadata": {
      "needs_background": "light"
     },
     "output_type": "display_data"
    }
   ],
   "source": [
    "dec.resid.plot()"
   ]
  },
  {
   "cell_type": "code",
   "execution_count": 76,
   "id": "66cc4c46",
   "metadata": {},
   "outputs": [],
   "source": [
    "df = pd.DataFrame({\"trend\":dec.trend,\"seasonality\":dec.seasonal,\"residual\":dec.resid})"
   ]
  },
  {
   "cell_type": "code",
   "execution_count": 71,
   "id": "debc6318",
   "metadata": {},
   "outputs": [
    {
     "data": {
      "text/plain": [
       "Date\n",
       "2005-01-01   NaN\n",
       "2005-02-01   NaN\n",
       "2005-03-01   NaN\n",
       "2005-04-01   NaN\n",
       "2005-05-01   NaN\n",
       "              ..\n",
       "2009-09-01   NaN\n",
       "2009-10-01   NaN\n",
       "2009-11-01   NaN\n",
       "2009-12-01   NaN\n",
       "2010-01-01   NaN\n",
       "Name: Oil Production, Length: 61, dtype: float64"
      ]
     },
     "execution_count": 71,
     "metadata": {},
     "output_type": "execute_result"
    }
   ],
   "source": [
    "dec.trend"
   ]
  },
  {
   "cell_type": "code",
   "execution_count": 77,
   "id": "b4987c74",
   "metadata": {},
   "outputs": [
    {
     "data": {
      "text/html": [
       "<div>\n",
       "<style scoped>\n",
       "    .dataframe tbody tr th:only-of-type {\n",
       "        vertical-align: middle;\n",
       "    }\n",
       "\n",
       "    .dataframe tbody tr th {\n",
       "        vertical-align: top;\n",
       "    }\n",
       "\n",
       "    .dataframe thead th {\n",
       "        text-align: right;\n",
       "    }\n",
       "</style>\n",
       "<table border=\"1\" class=\"dataframe\">\n",
       "  <thead>\n",
       "    <tr style=\"text-align: right;\">\n",
       "      <th></th>\n",
       "      <th>trend</th>\n",
       "      <th>seasonality</th>\n",
       "      <th>residual</th>\n",
       "    </tr>\n",
       "    <tr>\n",
       "      <th>Date</th>\n",
       "      <th></th>\n",
       "      <th></th>\n",
       "      <th></th>\n",
       "    </tr>\n",
       "  </thead>\n",
       "  <tbody>\n",
       "    <tr>\n",
       "      <th>2005-06-01</th>\n",
       "      <td>NaN</td>\n",
       "      <td>1.188993</td>\n",
       "      <td>NaN</td>\n",
       "    </tr>\n",
       "    <tr>\n",
       "      <th>2005-07-01</th>\n",
       "      <td>6426.200000</td>\n",
       "      <td>0.931076</td>\n",
       "      <td>1.029134</td>\n",
       "    </tr>\n",
       "    <tr>\n",
       "      <th>2005-08-01</th>\n",
       "      <td>6078.558333</td>\n",
       "      <td>0.912988</td>\n",
       "      <td>1.043057</td>\n",
       "    </tr>\n",
       "    <tr>\n",
       "      <th>2005-09-01</th>\n",
       "      <td>5741.212500</td>\n",
       "      <td>0.956900</td>\n",
       "      <td>1.020101</td>\n",
       "    </tr>\n",
       "    <tr>\n",
       "      <th>2005-10-01</th>\n",
       "      <td>5448.433333</td>\n",
       "      <td>1.203297</td>\n",
       "      <td>0.998355</td>\n",
       "    </tr>\n",
       "    <tr>\n",
       "      <th>2005-11-01</th>\n",
       "      <td>5183.550000</td>\n",
       "      <td>0.935748</td>\n",
       "      <td>1.004928</td>\n",
       "    </tr>\n",
       "    <tr>\n",
       "      <th>2005-12-01</th>\n",
       "      <td>4903.512500</td>\n",
       "      <td>0.919400</td>\n",
       "      <td>0.952800</td>\n",
       "    </tr>\n",
       "    <tr>\n",
       "      <th>2006-01-01</th>\n",
       "      <td>4620.783333</td>\n",
       "      <td>0.956903</td>\n",
       "      <td>0.920789</td>\n",
       "    </tr>\n",
       "    <tr>\n",
       "      <th>2006-02-01</th>\n",
       "      <td>4366.954167</td>\n",
       "      <td>1.198018</td>\n",
       "      <td>0.931649</td>\n",
       "    </tr>\n",
       "    <tr>\n",
       "      <th>2006-03-01</th>\n",
       "      <td>4125.179167</td>\n",
       "      <td>0.924995</td>\n",
       "      <td>0.988372</td>\n",
       "    </tr>\n",
       "    <tr>\n",
       "      <th>2006-04-01</th>\n",
       "      <td>3877.470833</td>\n",
       "      <td>0.909091</td>\n",
       "      <td>1.004376</td>\n",
       "    </tr>\n",
       "    <tr>\n",
       "      <th>2006-05-01</th>\n",
       "      <td>3651.262500</td>\n",
       "      <td>0.962590</td>\n",
       "      <td>0.971016</td>\n",
       "    </tr>\n",
       "    <tr>\n",
       "      <th>2006-06-01</th>\n",
       "      <td>3477.179167</td>\n",
       "      <td>1.188993</td>\n",
       "      <td>0.985550</td>\n",
       "    </tr>\n",
       "    <tr>\n",
       "      <th>2006-07-01</th>\n",
       "      <td>3333.062500</td>\n",
       "      <td>0.931076</td>\n",
       "      <td>0.978238</td>\n",
       "    </tr>\n",
       "    <tr>\n",
       "      <th>2006-08-01</th>\n",
       "      <td>3190.862500</td>\n",
       "      <td>0.912988</td>\n",
       "      <td>0.967487</td>\n",
       "    </tr>\n",
       "    <tr>\n",
       "      <th>2006-09-01</th>\n",
       "      <td>3050.125000</td>\n",
       "      <td>0.956900</td>\n",
       "      <td>0.949646</td>\n",
       "    </tr>\n",
       "    <tr>\n",
       "      <th>2006-10-01</th>\n",
       "      <td>2923.783333</td>\n",
       "      <td>1.203297</td>\n",
       "      <td>0.975732</td>\n",
       "    </tr>\n",
       "    <tr>\n",
       "      <th>2006-11-01</th>\n",
       "      <td>2808.125000</td>\n",
       "      <td>0.935748</td>\n",
       "      <td>0.973438</td>\n",
       "    </tr>\n",
       "    <tr>\n",
       "      <th>2006-12-01</th>\n",
       "      <td>2693.391667</td>\n",
       "      <td>0.919400</td>\n",
       "      <td>0.982916</td>\n",
       "    </tr>\n",
       "    <tr>\n",
       "      <th>2007-01-01</th>\n",
       "      <td>2584.933333</td>\n",
       "      <td>0.956903</td>\n",
       "      <td>1.000230</td>\n",
       "    </tr>\n",
       "    <tr>\n",
       "      <th>2007-02-01</th>\n",
       "      <td>2493.670833</td>\n",
       "      <td>1.198018</td>\n",
       "      <td>1.023812</td>\n",
       "    </tr>\n",
       "    <tr>\n",
       "      <th>2007-03-01</th>\n",
       "      <td>2410.825000</td>\n",
       "      <td>0.924995</td>\n",
       "      <td>0.990672</td>\n",
       "    </tr>\n",
       "    <tr>\n",
       "      <th>2007-04-01</th>\n",
       "      <td>2321.537500</td>\n",
       "      <td>0.909091</td>\n",
       "      <td>0.981005</td>\n",
       "    </tr>\n",
       "    <tr>\n",
       "      <th>2007-05-01</th>\n",
       "      <td>2231.537500</td>\n",
       "      <td>0.962590</td>\n",
       "      <td>0.980887</td>\n",
       "    </tr>\n",
       "    <tr>\n",
       "      <th>2007-06-01</th>\n",
       "      <td>2151.829167</td>\n",
       "      <td>1.188993</td>\n",
       "      <td>1.026691</td>\n",
       "    </tr>\n",
       "    <tr>\n",
       "      <th>2007-07-01</th>\n",
       "      <td>2071.366667</td>\n",
       "      <td>0.931076</td>\n",
       "      <td>0.975111</td>\n",
       "    </tr>\n",
       "    <tr>\n",
       "      <th>2007-08-01</th>\n",
       "      <td>1977.520833</td>\n",
       "      <td>0.912988</td>\n",
       "      <td>0.987786</td>\n",
       "    </tr>\n",
       "    <tr>\n",
       "      <th>2007-09-01</th>\n",
       "      <td>1885.141667</td>\n",
       "      <td>0.956900</td>\n",
       "      <td>1.008098</td>\n",
       "    </tr>\n",
       "    <tr>\n",
       "      <th>2007-10-01</th>\n",
       "      <td>1807.350000</td>\n",
       "      <td>1.203297</td>\n",
       "      <td>1.031416</td>\n",
       "    </tr>\n",
       "    <tr>\n",
       "      <th>2007-11-01</th>\n",
       "      <td>1732.029167</td>\n",
       "      <td>0.935748</td>\n",
       "      <td>0.979551</td>\n",
       "    </tr>\n",
       "    <tr>\n",
       "      <th>2007-12-01</th>\n",
       "      <td>1645.833333</td>\n",
       "      <td>0.919400</td>\n",
       "      <td>0.985541</td>\n",
       "    </tr>\n",
       "    <tr>\n",
       "      <th>2008-01-01</th>\n",
       "      <td>1562.062500</td>\n",
       "      <td>0.956903</td>\n",
       "      <td>0.993951</td>\n",
       "    </tr>\n",
       "    <tr>\n",
       "      <th>2008-02-01</th>\n",
       "      <td>1493.145833</td>\n",
       "      <td>1.198018</td>\n",
       "      <td>1.003289</td>\n",
       "    </tr>\n",
       "    <tr>\n",
       "      <th>2008-03-01</th>\n",
       "      <td>1424.483333</td>\n",
       "      <td>0.924995</td>\n",
       "      <td>0.953219</td>\n",
       "    </tr>\n",
       "    <tr>\n",
       "      <th>2008-04-01</th>\n",
       "      <td>1345.220833</td>\n",
       "      <td>0.909091</td>\n",
       "      <td>0.945762</td>\n",
       "    </tr>\n",
       "    <tr>\n",
       "      <th>2008-05-01</th>\n",
       "      <td>1272.975000</td>\n",
       "      <td>0.962590</td>\n",
       "      <td>0.990000</td>\n",
       "    </tr>\n",
       "    <tr>\n",
       "      <th>2008-06-01</th>\n",
       "      <td>1221.050000</td>\n",
       "      <td>1.188993</td>\n",
       "      <td>1.000124</td>\n",
       "    </tr>\n",
       "    <tr>\n",
       "      <th>2008-07-01</th>\n",
       "      <td>1172.833333</td>\n",
       "      <td>0.931076</td>\n",
       "      <td>0.956871</td>\n",
       "    </tr>\n",
       "    <tr>\n",
       "      <th>2008-08-01</th>\n",
       "      <td>1118.679167</td>\n",
       "      <td>0.912988</td>\n",
       "      <td>0.944935</td>\n",
       "    </tr>\n",
       "    <tr>\n",
       "      <th>2008-09-01</th>\n",
       "      <td>1070.458333</td>\n",
       "      <td>0.956900</td>\n",
       "      <td>0.965419</td>\n",
       "    </tr>\n",
       "    <tr>\n",
       "      <th>2008-10-01</th>\n",
       "      <td>1037.216667</td>\n",
       "      <td>1.203297</td>\n",
       "      <td>0.937761</td>\n",
       "    </tr>\n",
       "    <tr>\n",
       "      <th>2008-11-01</th>\n",
       "      <td>1004.733333</td>\n",
       "      <td>0.935748</td>\n",
       "      <td>0.985346</td>\n",
       "    </tr>\n",
       "    <tr>\n",
       "      <th>2008-12-01</th>\n",
       "      <td>964.525000</td>\n",
       "      <td>0.919400</td>\n",
       "      <td>1.022007</td>\n",
       "    </tr>\n",
       "    <tr>\n",
       "      <th>2009-01-01</th>\n",
       "      <td>928.375000</td>\n",
       "      <td>0.956903</td>\n",
       "      <td>1.028294</td>\n",
       "    </tr>\n",
       "    <tr>\n",
       "      <th>2009-02-01</th>\n",
       "      <td>904.816667</td>\n",
       "      <td>1.198018</td>\n",
       "      <td>0.984514</td>\n",
       "    </tr>\n",
       "    <tr>\n",
       "      <th>2009-03-01</th>\n",
       "      <td>883.475000</td>\n",
       "      <td>0.924995</td>\n",
       "      <td>1.011001</td>\n",
       "    </tr>\n",
       "    <tr>\n",
       "      <th>2009-04-01</th>\n",
       "      <td>857.070833</td>\n",
       "      <td>0.909091</td>\n",
       "      <td>1.012121</td>\n",
       "    </tr>\n",
       "    <tr>\n",
       "      <th>2009-05-01</th>\n",
       "      <td>831.516667</td>\n",
       "      <td>0.962590</td>\n",
       "      <td>1.001362</td>\n",
       "    </tr>\n",
       "    <tr>\n",
       "      <th>2009-06-01</th>\n",
       "      <td>811.866667</td>\n",
       "      <td>1.188993</td>\n",
       "      <td>0.930899</td>\n",
       "    </tr>\n",
       "    <tr>\n",
       "      <th>2009-07-01</th>\n",
       "      <td>792.937500</td>\n",
       "      <td>0.931076</td>\n",
       "      <td>0.989726</td>\n",
       "    </tr>\n",
       "    <tr>\n",
       "      <th>2009-08-01</th>\n",
       "      <td>NaN</td>\n",
       "      <td>0.912988</td>\n",
       "      <td>NaN</td>\n",
       "    </tr>\n",
       "    <tr>\n",
       "      <th>2009-09-01</th>\n",
       "      <td>NaN</td>\n",
       "      <td>0.956900</td>\n",
       "      <td>NaN</td>\n",
       "    </tr>\n",
       "    <tr>\n",
       "      <th>2009-10-01</th>\n",
       "      <td>NaN</td>\n",
       "      <td>1.203297</td>\n",
       "      <td>NaN</td>\n",
       "    </tr>\n",
       "    <tr>\n",
       "      <th>2009-11-01</th>\n",
       "      <td>NaN</td>\n",
       "      <td>0.935748</td>\n",
       "      <td>NaN</td>\n",
       "    </tr>\n",
       "    <tr>\n",
       "      <th>2009-12-01</th>\n",
       "      <td>NaN</td>\n",
       "      <td>0.919400</td>\n",
       "      <td>NaN</td>\n",
       "    </tr>\n",
       "    <tr>\n",
       "      <th>2010-01-01</th>\n",
       "      <td>NaN</td>\n",
       "      <td>0.956903</td>\n",
       "      <td>NaN</td>\n",
       "    </tr>\n",
       "  </tbody>\n",
       "</table>\n",
       "</div>"
      ],
      "text/plain": [
       "                  trend  seasonality  residual\n",
       "Date                                          \n",
       "2005-06-01          NaN     1.188993       NaN\n",
       "2005-07-01  6426.200000     0.931076  1.029134\n",
       "2005-08-01  6078.558333     0.912988  1.043057\n",
       "2005-09-01  5741.212500     0.956900  1.020101\n",
       "2005-10-01  5448.433333     1.203297  0.998355\n",
       "2005-11-01  5183.550000     0.935748  1.004928\n",
       "2005-12-01  4903.512500     0.919400  0.952800\n",
       "2006-01-01  4620.783333     0.956903  0.920789\n",
       "2006-02-01  4366.954167     1.198018  0.931649\n",
       "2006-03-01  4125.179167     0.924995  0.988372\n",
       "2006-04-01  3877.470833     0.909091  1.004376\n",
       "2006-05-01  3651.262500     0.962590  0.971016\n",
       "2006-06-01  3477.179167     1.188993  0.985550\n",
       "2006-07-01  3333.062500     0.931076  0.978238\n",
       "2006-08-01  3190.862500     0.912988  0.967487\n",
       "2006-09-01  3050.125000     0.956900  0.949646\n",
       "2006-10-01  2923.783333     1.203297  0.975732\n",
       "2006-11-01  2808.125000     0.935748  0.973438\n",
       "2006-12-01  2693.391667     0.919400  0.982916\n",
       "2007-01-01  2584.933333     0.956903  1.000230\n",
       "2007-02-01  2493.670833     1.198018  1.023812\n",
       "2007-03-01  2410.825000     0.924995  0.990672\n",
       "2007-04-01  2321.537500     0.909091  0.981005\n",
       "2007-05-01  2231.537500     0.962590  0.980887\n",
       "2007-06-01  2151.829167     1.188993  1.026691\n",
       "2007-07-01  2071.366667     0.931076  0.975111\n",
       "2007-08-01  1977.520833     0.912988  0.987786\n",
       "2007-09-01  1885.141667     0.956900  1.008098\n",
       "2007-10-01  1807.350000     1.203297  1.031416\n",
       "2007-11-01  1732.029167     0.935748  0.979551\n",
       "2007-12-01  1645.833333     0.919400  0.985541\n",
       "2008-01-01  1562.062500     0.956903  0.993951\n",
       "2008-02-01  1493.145833     1.198018  1.003289\n",
       "2008-03-01  1424.483333     0.924995  0.953219\n",
       "2008-04-01  1345.220833     0.909091  0.945762\n",
       "2008-05-01  1272.975000     0.962590  0.990000\n",
       "2008-06-01  1221.050000     1.188993  1.000124\n",
       "2008-07-01  1172.833333     0.931076  0.956871\n",
       "2008-08-01  1118.679167     0.912988  0.944935\n",
       "2008-09-01  1070.458333     0.956900  0.965419\n",
       "2008-10-01  1037.216667     1.203297  0.937761\n",
       "2008-11-01  1004.733333     0.935748  0.985346\n",
       "2008-12-01   964.525000     0.919400  1.022007\n",
       "2009-01-01   928.375000     0.956903  1.028294\n",
       "2009-02-01   904.816667     1.198018  0.984514\n",
       "2009-03-01   883.475000     0.924995  1.011001\n",
       "2009-04-01   857.070833     0.909091  1.012121\n",
       "2009-05-01   831.516667     0.962590  1.001362\n",
       "2009-06-01   811.866667     1.188993  0.930899\n",
       "2009-07-01   792.937500     0.931076  0.989726\n",
       "2009-08-01          NaN     0.912988       NaN\n",
       "2009-09-01          NaN     0.956900       NaN\n",
       "2009-10-01          NaN     1.203297       NaN\n",
       "2009-11-01          NaN     0.935748       NaN\n",
       "2009-12-01          NaN     0.919400       NaN\n",
       "2010-01-01          NaN     0.956903       NaN"
      ]
     },
     "execution_count": 77,
     "metadata": {},
     "output_type": "execute_result"
    }
   ],
   "source": [
    "df[5:]"
   ]
  },
  {
   "cell_type": "code",
   "execution_count": 85,
   "id": "7f61580b",
   "metadata": {},
   "outputs": [],
   "source": [
    "df= pd.read_csv(\"production and pressure data.csv\")"
   ]
  },
  {
   "cell_type": "code",
   "execution_count": 86,
   "id": "b4687ca3",
   "metadata": {},
   "outputs": [
    {
     "data": {
      "text/html": [
       "<div>\n",
       "<style scoped>\n",
       "    .dataframe tbody tr th:only-of-type {\n",
       "        vertical-align: middle;\n",
       "    }\n",
       "\n",
       "    .dataframe tbody tr th {\n",
       "        vertical-align: top;\n",
       "    }\n",
       "\n",
       "    .dataframe thead th {\n",
       "        text-align: right;\n",
       "    }\n",
       "</style>\n",
       "<table border=\"1\" class=\"dataframe\">\n",
       "  <thead>\n",
       "    <tr style=\"text-align: right;\">\n",
       "      <th></th>\n",
       "      <th>Unnamed: 0</th>\n",
       "      <th>Oil Production</th>\n",
       "      <th>Date</th>\n",
       "      <th>Pressure</th>\n",
       "    </tr>\n",
       "  </thead>\n",
       "  <tbody>\n",
       "    <tr>\n",
       "      <th>0</th>\n",
       "      <td>0</td>\n",
       "      <td>8045.2</td>\n",
       "      <td>2005-01-01</td>\n",
       "      <td>353.5</td>\n",
       "    </tr>\n",
       "    <tr>\n",
       "      <th>1</th>\n",
       "      <td>1</td>\n",
       "      <td>9243.7</td>\n",
       "      <td>2005-02-01</td>\n",
       "      <td>426.8</td>\n",
       "    </tr>\n",
       "    <tr>\n",
       "      <th>2</th>\n",
       "      <td>2</td>\n",
       "      <td>7498.1</td>\n",
       "      <td>2005-03-01</td>\n",
       "      <td>313.4</td>\n",
       "    </tr>\n",
       "    <tr>\n",
       "      <th>3</th>\n",
       "      <td>3</td>\n",
       "      <td>6840.4</td>\n",
       "      <td>2005-04-01</td>\n",
       "      <td>362.5</td>\n",
       "    </tr>\n",
       "    <tr>\n",
       "      <th>4</th>\n",
       "      <td>4</td>\n",
       "      <td>6470.0</td>\n",
       "      <td>2005-05-01</td>\n",
       "      <td>456.1</td>\n",
       "    </tr>\n",
       "    <tr>\n",
       "      <th>...</th>\n",
       "      <td>...</td>\n",
       "      <td>...</td>\n",
       "      <td>...</td>\n",
       "      <td>...</td>\n",
       "    </tr>\n",
       "    <tr>\n",
       "      <th>56</th>\n",
       "      <td>56</td>\n",
       "      <td>727.9</td>\n",
       "      <td>2009-09-01</td>\n",
       "      <td>105.1</td>\n",
       "    </tr>\n",
       "    <tr>\n",
       "      <th>57</th>\n",
       "      <td>57</td>\n",
       "      <td>797.7</td>\n",
       "      <td>2009-10-01</td>\n",
       "      <td>119.9</td>\n",
       "    </tr>\n",
       "    <tr>\n",
       "      <th>58</th>\n",
       "      <td>58</td>\n",
       "      <td>685.8</td>\n",
       "      <td>2009-11-01</td>\n",
       "      <td>103.0</td>\n",
       "    </tr>\n",
       "    <tr>\n",
       "      <th>59</th>\n",
       "      <td>59</td>\n",
       "      <td>675.3</td>\n",
       "      <td>2009-12-01</td>\n",
       "      <td>105.2</td>\n",
       "    </tr>\n",
       "    <tr>\n",
       "      <th>60</th>\n",
       "      <td>60</td>\n",
       "      <td>690.2</td>\n",
       "      <td>2010-01-01</td>\n",
       "      <td>107.8</td>\n",
       "    </tr>\n",
       "  </tbody>\n",
       "</table>\n",
       "<p>61 rows × 4 columns</p>\n",
       "</div>"
      ],
      "text/plain": [
       "    Unnamed: 0  Oil Production        Date  Pressure\n",
       "0            0          8045.2  2005-01-01     353.5\n",
       "1            1          9243.7  2005-02-01     426.8\n",
       "2            2          7498.1  2005-03-01     313.4\n",
       "3            3          6840.4  2005-04-01     362.5\n",
       "4            4          6470.0  2005-05-01     456.1\n",
       "..         ...             ...         ...       ...\n",
       "56          56           727.9  2009-09-01     105.1\n",
       "57          57           797.7  2009-10-01     119.9\n",
       "58          58           685.8  2009-11-01     103.0\n",
       "59          59           675.3  2009-12-01     105.2\n",
       "60          60           690.2  2010-01-01     107.8\n",
       "\n",
       "[61 rows x 4 columns]"
      ]
     },
     "execution_count": 86,
     "metadata": {},
     "output_type": "execute_result"
    }
   ],
   "source": [
    "df"
   ]
  },
  {
   "cell_type": "code",
   "execution_count": 87,
   "id": "dc638426",
   "metadata": {},
   "outputs": [],
   "source": [
    "df.index = pd.to_datetime(df[\"Date\"])\n",
    "df= df.drop(\"Unnamed: 0\",axis=1)"
   ]
  },
  {
   "cell_type": "code",
   "execution_count": 88,
   "id": "d194e7cf",
   "metadata": {},
   "outputs": [
    {
     "data": {
      "text/html": [
       "<div>\n",
       "<style scoped>\n",
       "    .dataframe tbody tr th:only-of-type {\n",
       "        vertical-align: middle;\n",
       "    }\n",
       "\n",
       "    .dataframe tbody tr th {\n",
       "        vertical-align: top;\n",
       "    }\n",
       "\n",
       "    .dataframe thead th {\n",
       "        text-align: right;\n",
       "    }\n",
       "</style>\n",
       "<table border=\"1\" class=\"dataframe\">\n",
       "  <thead>\n",
       "    <tr style=\"text-align: right;\">\n",
       "      <th></th>\n",
       "      <th>Oil Production</th>\n",
       "      <th>Date</th>\n",
       "      <th>Pressure</th>\n",
       "    </tr>\n",
       "    <tr>\n",
       "      <th>Date</th>\n",
       "      <th></th>\n",
       "      <th></th>\n",
       "      <th></th>\n",
       "    </tr>\n",
       "  </thead>\n",
       "  <tbody>\n",
       "    <tr>\n",
       "      <th>2005-01-01</th>\n",
       "      <td>8045.2</td>\n",
       "      <td>2005-01-01</td>\n",
       "      <td>353.5</td>\n",
       "    </tr>\n",
       "    <tr>\n",
       "      <th>2005-02-01</th>\n",
       "      <td>9243.7</td>\n",
       "      <td>2005-02-01</td>\n",
       "      <td>426.8</td>\n",
       "    </tr>\n",
       "    <tr>\n",
       "      <th>2005-03-01</th>\n",
       "      <td>7498.1</td>\n",
       "      <td>2005-03-01</td>\n",
       "      <td>313.4</td>\n",
       "    </tr>\n",
       "    <tr>\n",
       "      <th>2005-04-01</th>\n",
       "      <td>6840.4</td>\n",
       "      <td>2005-04-01</td>\n",
       "      <td>362.5</td>\n",
       "    </tr>\n",
       "    <tr>\n",
       "      <th>2005-05-01</th>\n",
       "      <td>6470.0</td>\n",
       "      <td>2005-05-01</td>\n",
       "      <td>456.1</td>\n",
       "    </tr>\n",
       "    <tr>\n",
       "      <th>...</th>\n",
       "      <td>...</td>\n",
       "      <td>...</td>\n",
       "      <td>...</td>\n",
       "    </tr>\n",
       "    <tr>\n",
       "      <th>2009-09-01</th>\n",
       "      <td>727.9</td>\n",
       "      <td>2009-09-01</td>\n",
       "      <td>105.1</td>\n",
       "    </tr>\n",
       "    <tr>\n",
       "      <th>2009-10-01</th>\n",
       "      <td>797.7</td>\n",
       "      <td>2009-10-01</td>\n",
       "      <td>119.9</td>\n",
       "    </tr>\n",
       "    <tr>\n",
       "      <th>2009-11-01</th>\n",
       "      <td>685.8</td>\n",
       "      <td>2009-11-01</td>\n",
       "      <td>103.0</td>\n",
       "    </tr>\n",
       "    <tr>\n",
       "      <th>2009-12-01</th>\n",
       "      <td>675.3</td>\n",
       "      <td>2009-12-01</td>\n",
       "      <td>105.2</td>\n",
       "    </tr>\n",
       "    <tr>\n",
       "      <th>2010-01-01</th>\n",
       "      <td>690.2</td>\n",
       "      <td>2010-01-01</td>\n",
       "      <td>107.8</td>\n",
       "    </tr>\n",
       "  </tbody>\n",
       "</table>\n",
       "<p>61 rows × 3 columns</p>\n",
       "</div>"
      ],
      "text/plain": [
       "            Oil Production        Date  Pressure\n",
       "Date                                            \n",
       "2005-01-01          8045.2  2005-01-01     353.5\n",
       "2005-02-01          9243.7  2005-02-01     426.8\n",
       "2005-03-01          7498.1  2005-03-01     313.4\n",
       "2005-04-01          6840.4  2005-04-01     362.5\n",
       "2005-05-01          6470.0  2005-05-01     456.1\n",
       "...                    ...         ...       ...\n",
       "2009-09-01           727.9  2009-09-01     105.1\n",
       "2009-10-01           797.7  2009-10-01     119.9\n",
       "2009-11-01           685.8  2009-11-01     103.0\n",
       "2009-12-01           675.3  2009-12-01     105.2\n",
       "2010-01-01           690.2  2010-01-01     107.8\n",
       "\n",
       "[61 rows x 3 columns]"
      ]
     },
     "execution_count": 88,
     "metadata": {},
     "output_type": "execute_result"
    }
   ],
   "source": [
    "df"
   ]
  },
  {
   "cell_type": "code",
   "execution_count": 89,
   "id": "6597712e",
   "metadata": {},
   "outputs": [],
   "source": [
    "df = df[[\"Oil Production\"]]"
   ]
  },
  {
   "cell_type": "code",
   "execution_count": 90,
   "id": "daa1d610",
   "metadata": {},
   "outputs": [
    {
     "data": {
      "text/html": [
       "<div>\n",
       "<style scoped>\n",
       "    .dataframe tbody tr th:only-of-type {\n",
       "        vertical-align: middle;\n",
       "    }\n",
       "\n",
       "    .dataframe tbody tr th {\n",
       "        vertical-align: top;\n",
       "    }\n",
       "\n",
       "    .dataframe thead th {\n",
       "        text-align: right;\n",
       "    }\n",
       "</style>\n",
       "<table border=\"1\" class=\"dataframe\">\n",
       "  <thead>\n",
       "    <tr style=\"text-align: right;\">\n",
       "      <th></th>\n",
       "      <th>Oil Production</th>\n",
       "    </tr>\n",
       "    <tr>\n",
       "      <th>Date</th>\n",
       "      <th></th>\n",
       "    </tr>\n",
       "  </thead>\n",
       "  <tbody>\n",
       "    <tr>\n",
       "      <th>2005-01-01</th>\n",
       "      <td>8045.2</td>\n",
       "    </tr>\n",
       "    <tr>\n",
       "      <th>2005-02-01</th>\n",
       "      <td>9243.7</td>\n",
       "    </tr>\n",
       "    <tr>\n",
       "      <th>2005-03-01</th>\n",
       "      <td>7498.1</td>\n",
       "    </tr>\n",
       "    <tr>\n",
       "      <th>2005-04-01</th>\n",
       "      <td>6840.4</td>\n",
       "    </tr>\n",
       "    <tr>\n",
       "      <th>2005-05-01</th>\n",
       "      <td>6470.0</td>\n",
       "    </tr>\n",
       "    <tr>\n",
       "      <th>...</th>\n",
       "      <td>...</td>\n",
       "    </tr>\n",
       "    <tr>\n",
       "      <th>2009-09-01</th>\n",
       "      <td>727.9</td>\n",
       "    </tr>\n",
       "    <tr>\n",
       "      <th>2009-10-01</th>\n",
       "      <td>797.7</td>\n",
       "    </tr>\n",
       "    <tr>\n",
       "      <th>2009-11-01</th>\n",
       "      <td>685.8</td>\n",
       "    </tr>\n",
       "    <tr>\n",
       "      <th>2009-12-01</th>\n",
       "      <td>675.3</td>\n",
       "    </tr>\n",
       "    <tr>\n",
       "      <th>2010-01-01</th>\n",
       "      <td>690.2</td>\n",
       "    </tr>\n",
       "  </tbody>\n",
       "</table>\n",
       "<p>61 rows × 1 columns</p>\n",
       "</div>"
      ],
      "text/plain": [
       "            Oil Production\n",
       "Date                      \n",
       "2005-01-01          8045.2\n",
       "2005-02-01          9243.7\n",
       "2005-03-01          7498.1\n",
       "2005-04-01          6840.4\n",
       "2005-05-01          6470.0\n",
       "...                    ...\n",
       "2009-09-01           727.9\n",
       "2009-10-01           797.7\n",
       "2009-11-01           685.8\n",
       "2009-12-01           675.3\n",
       "2010-01-01           690.2\n",
       "\n",
       "[61 rows x 1 columns]"
      ]
     },
     "execution_count": 90,
     "metadata": {},
     "output_type": "execute_result"
    }
   ],
   "source": [
    "df"
   ]
  },
  {
   "cell_type": "markdown",
   "id": "78a86784",
   "metadata": {},
   "source": [
    "## Resample\n",
    "\n",
    "D\tCalendar day\t\n",
    "\n",
    "B\tBusiness day\n",
    "\n",
    "W\tWeekly\t\t\n",
    "\n",
    "M\tMonth\n",
    "\n",
    "Q\tQuarter\n",
    "\n",
    "A\tYear end\n",
    "\n",
    "H\tHours\n",
    "\n",
    "T\tMinutes\t\t\n",
    "\n",
    "S\tSeconds\t"
   ]
  },
  {
   "cell_type": "code",
   "execution_count": 92,
   "id": "94f395d8",
   "metadata": {},
   "outputs": [
    {
     "data": {
      "text/plain": [
       "<AxesSubplot:xlabel='Date'>"
      ]
     },
     "execution_count": 92,
     "metadata": {},
     "output_type": "execute_result"
    },
    {
     "data": {
      "image/png": "[encoded data removed]",
      "text/plain": [
       "<Figure size 432x288 with 1 Axes>"
      ]
     },
     "metadata": {
      "needs_background": "light"
     },
     "output_type": "display_data"
    }
   ],
   "source": [
    "df.plot()"
   ]
  },
  {
   "cell_type": "code",
   "execution_count": 94,
   "id": "8780698a",
   "metadata": {},
   "outputs": [
    {
     "data": {
      "text/plain": [
       "<AxesSubplot:xlabel='Date'>"
      ]
     },
     "execution_count": 94,
     "metadata": {},
     "output_type": "execute_result"
    },
    {
     "data": {
      "image/png": "[encoded data removed]",
      "text/plain": [
       "<Figure size 432x288 with 1 Axes>"
      ]
     },
     "metadata": {
      "needs_background": "light"
     },
     "output_type": "display_data"
    }
   ],
   "source": [
    "df.resample(\"Q\").mean().plot()"
   ]
  },
  {
   "cell_type": "code",
   "execution_count": 95,
   "id": "be6b593a",
   "metadata": {},
   "outputs": [
    {
     "data": {
      "text/html": [
       "<div>\n",
       "<style scoped>\n",
       "    .dataframe tbody tr th:only-of-type {\n",
       "        vertical-align: middle;\n",
       "    }\n",
       "\n",
       "    .dataframe tbody tr th {\n",
       "        vertical-align: top;\n",
       "    }\n",
       "\n",
       "    .dataframe thead th {\n",
       "        text-align: right;\n",
       "    }\n",
       "</style>\n",
       "<table border=\"1\" class=\"dataframe\">\n",
       "  <thead>\n",
       "    <tr style=\"text-align: right;\">\n",
       "      <th></th>\n",
       "      <th>Oil Production</th>\n",
       "    </tr>\n",
       "    <tr>\n",
       "      <th>Date</th>\n",
       "      <th></th>\n",
       "    </tr>\n",
       "  </thead>\n",
       "  <tbody>\n",
       "    <tr>\n",
       "      <th>2005-01-01</th>\n",
       "      <td>8045.2</td>\n",
       "    </tr>\n",
       "    <tr>\n",
       "      <th>2005-02-01</th>\n",
       "      <td>9243.7</td>\n",
       "    </tr>\n",
       "    <tr>\n",
       "      <th>2005-03-01</th>\n",
       "      <td>7498.1</td>\n",
       "    </tr>\n",
       "    <tr>\n",
       "      <th>2005-04-01</th>\n",
       "      <td>6840.4</td>\n",
       "    </tr>\n",
       "    <tr>\n",
       "      <th>2005-05-01</th>\n",
       "      <td>6470.0</td>\n",
       "    </tr>\n",
       "    <tr>\n",
       "      <th>...</th>\n",
       "      <td>...</td>\n",
       "    </tr>\n",
       "    <tr>\n",
       "      <th>2009-09-01</th>\n",
       "      <td>727.9</td>\n",
       "    </tr>\n",
       "    <tr>\n",
       "      <th>2009-10-01</th>\n",
       "      <td>797.7</td>\n",
       "    </tr>\n",
       "    <tr>\n",
       "      <th>2009-11-01</th>\n",
       "      <td>685.8</td>\n",
       "    </tr>\n",
       "    <tr>\n",
       "      <th>2009-12-01</th>\n",
       "      <td>675.3</td>\n",
       "    </tr>\n",
       "    <tr>\n",
       "      <th>2010-01-01</th>\n",
       "      <td>690.2</td>\n",
       "    </tr>\n",
       "  </tbody>\n",
       "</table>\n",
       "<p>61 rows × 1 columns</p>\n",
       "</div>"
      ],
      "text/plain": [
       "            Oil Production\n",
       "Date                      \n",
       "2005-01-01          8045.2\n",
       "2005-02-01          9243.7\n",
       "2005-03-01          7498.1\n",
       "2005-04-01          6840.4\n",
       "2005-05-01          6470.0\n",
       "...                    ...\n",
       "2009-09-01           727.9\n",
       "2009-10-01           797.7\n",
       "2009-11-01           685.8\n",
       "2009-12-01           675.3\n",
       "2010-01-01           690.2\n",
       "\n",
       "[61 rows x 1 columns]"
      ]
     },
     "execution_count": 95,
     "metadata": {},
     "output_type": "execute_result"
    }
   ],
   "source": [
    "df"
   ]
  },
  {
   "cell_type": "code",
   "execution_count": 96,
   "id": "d9d40b1c",
   "metadata": {},
   "outputs": [
    {
     "data": {
      "text/html": [
       "<div>\n",
       "<style scoped>\n",
       "    .dataframe tbody tr th:only-of-type {\n",
       "        vertical-align: middle;\n",
       "    }\n",
       "\n",
       "    .dataframe tbody tr th {\n",
       "        vertical-align: top;\n",
       "    }\n",
       "\n",
       "    .dataframe thead th {\n",
       "        text-align: right;\n",
       "    }\n",
       "</style>\n",
       "<table border=\"1\" class=\"dataframe\">\n",
       "  <thead>\n",
       "    <tr style=\"text-align: right;\">\n",
       "      <th></th>\n",
       "      <th>Oil Production</th>\n",
       "    </tr>\n",
       "    <tr>\n",
       "      <th>Date</th>\n",
       "      <th></th>\n",
       "    </tr>\n",
       "  </thead>\n",
       "  <tbody>\n",
       "    <tr>\n",
       "      <th>2005-03-31</th>\n",
       "      <td>8262.333333</td>\n",
       "    </tr>\n",
       "    <tr>\n",
       "      <th>2005-06-30</th>\n",
       "      <td>7016.233333</td>\n",
       "    </tr>\n",
       "    <tr>\n",
       "      <th>2005-09-30</th>\n",
       "      <td>5850.133333</td>\n",
       "    </tr>\n",
       "    <tr>\n",
       "      <th>2005-12-31</th>\n",
       "      <td>5238.400000</td>\n",
       "    </tr>\n",
       "    <tr>\n",
       "      <th>2006-03-31</th>\n",
       "      <td>4238.966667</td>\n",
       "    </tr>\n",
       "    <tr>\n",
       "      <th>2006-06-30</th>\n",
       "      <td>3675.933333</td>\n",
       "    </tr>\n",
       "    <tr>\n",
       "      <th>2006-09-30</th>\n",
       "      <td>2875.333333</td>\n",
       "    </tr>\n",
       "    <tr>\n",
       "      <th>2006-12-31</th>\n",
       "      <td>2808.233333</td>\n",
       "    </tr>\n",
       "    <tr>\n",
       "      <th>2007-03-31</th>\n",
       "      <td>2580.633333</td>\n",
       "    </tr>\n",
       "    <tr>\n",
       "      <th>2007-06-30</th>\n",
       "      <td>2268.066667</td>\n",
       "    </tr>\n",
       "    <tr>\n",
       "      <th>2007-09-30</th>\n",
       "      <td>1827.500000</td>\n",
       "    </tr>\n",
       "    <tr>\n",
       "      <th>2007-12-31</th>\n",
       "      <td>1774.000000</td>\n",
       "    </tr>\n",
       "    <tr>\n",
       "      <th>2008-03-31</th>\n",
       "      <td>1512.133333</td>\n",
       "    </tr>\n",
       "    <tr>\n",
       "      <th>2008-06-30</th>\n",
       "      <td>1273.900000</td>\n",
       "    </tr>\n",
       "    <tr>\n",
       "      <th>2008-09-30</th>\n",
       "      <td>999.633333</td>\n",
       "    </tr>\n",
       "    <tr>\n",
       "      <th>2008-12-31</th>\n",
       "      <td>1001.033333</td>\n",
       "    </tr>\n",
       "    <tr>\n",
       "      <th>2009-03-31</th>\n",
       "      <td>935.633333</td>\n",
       "    </tr>\n",
       "    <tr>\n",
       "      <th>2009-06-30</th>\n",
       "      <td>829.566667</td>\n",
       "    </tr>\n",
       "    <tr>\n",
       "      <th>2009-09-30</th>\n",
       "      <td>724.166667</td>\n",
       "    </tr>\n",
       "    <tr>\n",
       "      <th>2009-12-31</th>\n",
       "      <td>719.600000</td>\n",
       "    </tr>\n",
       "    <tr>\n",
       "      <th>2010-03-31</th>\n",
       "      <td>690.200000</td>\n",
       "    </tr>\n",
       "  </tbody>\n",
       "</table>\n",
       "</div>"
      ],
      "text/plain": [
       "            Oil Production\n",
       "Date                      \n",
       "2005-03-31     8262.333333\n",
       "2005-06-30     7016.233333\n",
       "2005-09-30     5850.133333\n",
       "2005-12-31     5238.400000\n",
       "2006-03-31     4238.966667\n",
       "2006-06-30     3675.933333\n",
       "2006-09-30     2875.333333\n",
       "2006-12-31     2808.233333\n",
       "2007-03-31     2580.633333\n",
       "2007-06-30     2268.066667\n",
       "2007-09-30     1827.500000\n",
       "2007-12-31     1774.000000\n",
       "2008-03-31     1512.133333\n",
       "2008-06-30     1273.900000\n",
       "2008-09-30      999.633333\n",
       "2008-12-31     1001.033333\n",
       "2009-03-31      935.633333\n",
       "2009-06-30      829.566667\n",
       "2009-09-30      724.166667\n",
       "2009-12-31      719.600000\n",
       "2010-03-31      690.200000"
      ]
     },
     "execution_count": 96,
     "metadata": {},
     "output_type": "execute_result"
    }
   ],
   "source": [
    "df.resample(\"Q\").mean()"
   ]
  },
  {
   "cell_type": "code",
   "execution_count": 97,
   "id": "9795c045",
   "metadata": {},
   "outputs": [
    {
     "data": {
      "text/plain": [
       "21"
      ]
     },
     "execution_count": 97,
     "metadata": {},
     "output_type": "execute_result"
    }
   ],
   "source": [
    "len(df.resample(\"Q\").mean())"
   ]
  },
  {
   "cell_type": "markdown",
   "id": "10ce305f",
   "metadata": {},
   "source": [
    "## Rolling  window"
   ]
  },
  {
   "cell_type": "code",
   "execution_count": 98,
   "id": "5be78e96",
   "metadata": {},
   "outputs": [
    {
     "data": {
      "text/html": [
       "<div>\n",
       "<style scoped>\n",
       "    .dataframe tbody tr th:only-of-type {\n",
       "        vertical-align: middle;\n",
       "    }\n",
       "\n",
       "    .dataframe tbody tr th {\n",
       "        vertical-align: top;\n",
       "    }\n",
       "\n",
       "    .dataframe thead th {\n",
       "        text-align: right;\n",
       "    }\n",
       "</style>\n",
       "<table border=\"1\" class=\"dataframe\">\n",
       "  <thead>\n",
       "    <tr style=\"text-align: right;\">\n",
       "      <th></th>\n",
       "      <th>Oil Production</th>\n",
       "    </tr>\n",
       "    <tr>\n",
       "      <th>Date</th>\n",
       "      <th></th>\n",
       "    </tr>\n",
       "  </thead>\n",
       "  <tbody>\n",
       "    <tr>\n",
       "      <th>2005-01-01</th>\n",
       "      <td>8045.2</td>\n",
       "    </tr>\n",
       "    <tr>\n",
       "      <th>2005-02-01</th>\n",
       "      <td>9243.7</td>\n",
       "    </tr>\n",
       "    <tr>\n",
       "      <th>2005-03-01</th>\n",
       "      <td>7498.1</td>\n",
       "    </tr>\n",
       "    <tr>\n",
       "      <th>2005-04-01</th>\n",
       "      <td>6840.4</td>\n",
       "    </tr>\n",
       "    <tr>\n",
       "      <th>2005-05-01</th>\n",
       "      <td>6470.0</td>\n",
       "    </tr>\n",
       "    <tr>\n",
       "      <th>...</th>\n",
       "      <td>...</td>\n",
       "    </tr>\n",
       "    <tr>\n",
       "      <th>2009-09-01</th>\n",
       "      <td>727.9</td>\n",
       "    </tr>\n",
       "    <tr>\n",
       "      <th>2009-10-01</th>\n",
       "      <td>797.7</td>\n",
       "    </tr>\n",
       "    <tr>\n",
       "      <th>2009-11-01</th>\n",
       "      <td>685.8</td>\n",
       "    </tr>\n",
       "    <tr>\n",
       "      <th>2009-12-01</th>\n",
       "      <td>675.3</td>\n",
       "    </tr>\n",
       "    <tr>\n",
       "      <th>2010-01-01</th>\n",
       "      <td>690.2</td>\n",
       "    </tr>\n",
       "  </tbody>\n",
       "</table>\n",
       "<p>61 rows × 1 columns</p>\n",
       "</div>"
      ],
      "text/plain": [
       "            Oil Production\n",
       "Date                      \n",
       "2005-01-01          8045.2\n",
       "2005-02-01          9243.7\n",
       "2005-03-01          7498.1\n",
       "2005-04-01          6840.4\n",
       "2005-05-01          6470.0\n",
       "...                    ...\n",
       "2009-09-01           727.9\n",
       "2009-10-01           797.7\n",
       "2009-11-01           685.8\n",
       "2009-12-01           675.3\n",
       "2010-01-01           690.2\n",
       "\n",
       "[61 rows x 1 columns]"
      ]
     },
     "execution_count": 98,
     "metadata": {},
     "output_type": "execute_result"
    }
   ],
   "source": [
    "df"
   ]
  },
  {
   "cell_type": "code",
   "execution_count": 99,
   "id": "6a53be83",
   "metadata": {},
   "outputs": [
    {
     "data": {
      "text/html": [
       "<div>\n",
       "<style scoped>\n",
       "    .dataframe tbody tr th:only-of-type {\n",
       "        vertical-align: middle;\n",
       "    }\n",
       "\n",
       "    .dataframe tbody tr th {\n",
       "        vertical-align: top;\n",
       "    }\n",
       "\n",
       "    .dataframe thead th {\n",
       "        text-align: right;\n",
       "    }\n",
       "</style>\n",
       "<table border=\"1\" class=\"dataframe\">\n",
       "  <thead>\n",
       "    <tr style=\"text-align: right;\">\n",
       "      <th></th>\n",
       "      <th>Oil Production</th>\n",
       "    </tr>\n",
       "    <tr>\n",
       "      <th>Date</th>\n",
       "      <th></th>\n",
       "    </tr>\n",
       "  </thead>\n",
       "  <tbody>\n",
       "    <tr>\n",
       "      <th>2005-01-01</th>\n",
       "      <td>NaN</td>\n",
       "    </tr>\n",
       "    <tr>\n",
       "      <th>2005-02-01</th>\n",
       "      <td>NaN</td>\n",
       "    </tr>\n",
       "    <tr>\n",
       "      <th>2005-03-01</th>\n",
       "      <td>8262.333333</td>\n",
       "    </tr>\n",
       "    <tr>\n",
       "      <th>2005-04-01</th>\n",
       "      <td>7860.733333</td>\n",
       "    </tr>\n",
       "    <tr>\n",
       "      <th>2005-05-01</th>\n",
       "      <td>6936.166667</td>\n",
       "    </tr>\n",
       "    <tr>\n",
       "      <th>...</th>\n",
       "      <td>...</td>\n",
       "    </tr>\n",
       "    <tr>\n",
       "      <th>2009-09-01</th>\n",
       "      <td>724.166667</td>\n",
       "    </tr>\n",
       "    <tr>\n",
       "      <th>2009-10-01</th>\n",
       "      <td>746.500000</td>\n",
       "    </tr>\n",
       "    <tr>\n",
       "      <th>2009-11-01</th>\n",
       "      <td>737.133333</td>\n",
       "    </tr>\n",
       "    <tr>\n",
       "      <th>2009-12-01</th>\n",
       "      <td>719.600000</td>\n",
       "    </tr>\n",
       "    <tr>\n",
       "      <th>2010-01-01</th>\n",
       "      <td>683.766667</td>\n",
       "    </tr>\n",
       "  </tbody>\n",
       "</table>\n",
       "<p>61 rows × 1 columns</p>\n",
       "</div>"
      ],
      "text/plain": [
       "            Oil Production\n",
       "Date                      \n",
       "2005-01-01             NaN\n",
       "2005-02-01             NaN\n",
       "2005-03-01     8262.333333\n",
       "2005-04-01     7860.733333\n",
       "2005-05-01     6936.166667\n",
       "...                    ...\n",
       "2009-09-01      724.166667\n",
       "2009-10-01      746.500000\n",
       "2009-11-01      737.133333\n",
       "2009-12-01      719.600000\n",
       "2010-01-01      683.766667\n",
       "\n",
       "[61 rows x 1 columns]"
      ]
     },
     "execution_count": 99,
     "metadata": {},
     "output_type": "execute_result"
    }
   ],
   "source": [
    "df.rolling(window=3).mean()"
   ]
  },
  {
   "cell_type": "code",
   "execution_count": 100,
   "id": "ed1fccbc",
   "metadata": {},
   "outputs": [
    {
     "data": {
      "text/plain": [
       "<AxesSubplot:xlabel='Date'>"
      ]
     },
     "execution_count": 100,
     "metadata": {},
     "output_type": "execute_result"
    },
    {
     "data": {
      "image/png": "[encoded data removed]",
      "text/plain": [
       "<Figure size 432x288 with 1 Axes>"
      ]
     },
     "metadata": {
      "needs_background": "light"
     },
     "output_type": "display_data"
    }
   ],
   "source": [
    "df.rolling(window=3).mean().plot()"
   ]
  },
  {
   "cell_type": "code",
   "execution_count": 103,
   "id": "8c7a6795",
   "metadata": {},
   "outputs": [
    {
     "data": {
      "text/plain": [
       "[<matplotlib.lines.Line2D at 0x22538d88e20>]"
      ]
     },
     "execution_count": 103,
     "metadata": {},
     "output_type": "execute_result"
    },
    {
     "data": {
      "image/png": "[encoded data removed]",
      "text/plain": [
       "<Figure size 864x576 with 1 Axes>"
      ]
     },
     "metadata": {
      "needs_background": "light"
     },
     "output_type": "display_data"
    }
   ],
   "source": [
    "plt.figure(figsize=(12,8))\n",
    "plt.plot(df[\"Oil Production\"],c=\"black\")\n",
    "plt.plot(df.index,df[\"Oil Production\"].rolling(window=3).mean(),c= \"blue\")\n",
    "plt.plot(df.resample(\"Q\").mean().index,df.resample(\"Q\").mean(),c = \"red\")"
   ]
  },
  {
   "cell_type": "code",
   "execution_count": 104,
   "id": "4bcd67ae",
   "metadata": {},
   "outputs": [],
   "source": [
    "## diff"
   ]
  },
  {
   "cell_type": "code",
   "execution_count": 105,
   "id": "05341b61",
   "metadata": {},
   "outputs": [
    {
     "data": {
      "text/plain": [
       "[<matplotlib.lines.Line2D at 0x2253a7805b0>]"
      ]
     },
     "execution_count": 105,
     "metadata": {},
     "output_type": "execute_result"
    },
    {
     "data": {
      "image/png": "[encoded data removed]",
      "text/plain": [
       "<Figure size 432x288 with 1 Axes>"
      ]
     },
     "metadata": {
      "needs_background": "light"
     },
     "output_type": "display_data"
    }
   ],
   "source": [
    "plt.plot(df)\n",
    "plt.plot(df.diff())"
   ]
  },
  {
   "cell_type": "markdown",
   "id": "c07f1777",
   "metadata": {},
   "source": [
    "### Shift\n",
    "\n",
    "- shift index and data values"
   ]
  },
  {
   "cell_type": "code",
   "execution_count": 106,
   "id": "2e87c914",
   "metadata": {},
   "outputs": [
    {
     "data": {
      "text/html": [
       "<div>\n",
       "<style scoped>\n",
       "    .dataframe tbody tr th:only-of-type {\n",
       "        vertical-align: middle;\n",
       "    }\n",
       "\n",
       "    .dataframe tbody tr th {\n",
       "        vertical-align: top;\n",
       "    }\n",
       "\n",
       "    .dataframe thead th {\n",
       "        text-align: right;\n",
       "    }\n",
       "</style>\n",
       "<table border=\"1\" class=\"dataframe\">\n",
       "  <thead>\n",
       "    <tr style=\"text-align: right;\">\n",
       "      <th></th>\n",
       "      <th>Oil Production</th>\n",
       "    </tr>\n",
       "    <tr>\n",
       "      <th>Date</th>\n",
       "      <th></th>\n",
       "    </tr>\n",
       "  </thead>\n",
       "  <tbody>\n",
       "    <tr>\n",
       "      <th>2005-01-01</th>\n",
       "      <td>8045.2</td>\n",
       "    </tr>\n",
       "    <tr>\n",
       "      <th>2005-02-01</th>\n",
       "      <td>9243.7</td>\n",
       "    </tr>\n",
       "    <tr>\n",
       "      <th>2005-03-01</th>\n",
       "      <td>7498.1</td>\n",
       "    </tr>\n",
       "    <tr>\n",
       "      <th>2005-04-01</th>\n",
       "      <td>6840.4</td>\n",
       "    </tr>\n",
       "    <tr>\n",
       "      <th>2005-05-01</th>\n",
       "      <td>6470.0</td>\n",
       "    </tr>\n",
       "    <tr>\n",
       "      <th>...</th>\n",
       "      <td>...</td>\n",
       "    </tr>\n",
       "    <tr>\n",
       "      <th>2009-09-01</th>\n",
       "      <td>727.9</td>\n",
       "    </tr>\n",
       "    <tr>\n",
       "      <th>2009-10-01</th>\n",
       "      <td>797.7</td>\n",
       "    </tr>\n",
       "    <tr>\n",
       "      <th>2009-11-01</th>\n",
       "      <td>685.8</td>\n",
       "    </tr>\n",
       "    <tr>\n",
       "      <th>2009-12-01</th>\n",
       "      <td>675.3</td>\n",
       "    </tr>\n",
       "    <tr>\n",
       "      <th>2010-01-01</th>\n",
       "      <td>690.2</td>\n",
       "    </tr>\n",
       "  </tbody>\n",
       "</table>\n",
       "<p>61 rows × 1 columns</p>\n",
       "</div>"
      ],
      "text/plain": [
       "            Oil Production\n",
       "Date                      \n",
       "2005-01-01          8045.2\n",
       "2005-02-01          9243.7\n",
       "2005-03-01          7498.1\n",
       "2005-04-01          6840.4\n",
       "2005-05-01          6470.0\n",
       "...                    ...\n",
       "2009-09-01           727.9\n",
       "2009-10-01           797.7\n",
       "2009-11-01           685.8\n",
       "2009-12-01           675.3\n",
       "2010-01-01           690.2\n",
       "\n",
       "[61 rows x 1 columns]"
      ]
     },
     "execution_count": 106,
     "metadata": {},
     "output_type": "execute_result"
    }
   ],
   "source": [
    "df"
   ]
  },
  {
   "cell_type": "code",
   "execution_count": 107,
   "id": "c6a42bf3",
   "metadata": {},
   "outputs": [
    {
     "data": {
      "text/html": [
       "<div>\n",
       "<style scoped>\n",
       "    .dataframe tbody tr th:only-of-type {\n",
       "        vertical-align: middle;\n",
       "    }\n",
       "\n",
       "    .dataframe tbody tr th {\n",
       "        vertical-align: top;\n",
       "    }\n",
       "\n",
       "    .dataframe thead th {\n",
       "        text-align: right;\n",
       "    }\n",
       "</style>\n",
       "<table border=\"1\" class=\"dataframe\">\n",
       "  <thead>\n",
       "    <tr style=\"text-align: right;\">\n",
       "      <th></th>\n",
       "      <th>Oil Production</th>\n",
       "    </tr>\n",
       "    <tr>\n",
       "      <th>Date</th>\n",
       "      <th></th>\n",
       "    </tr>\n",
       "  </thead>\n",
       "  <tbody>\n",
       "    <tr>\n",
       "      <th>2005-01-01</th>\n",
       "      <td>NaN</td>\n",
       "    </tr>\n",
       "    <tr>\n",
       "      <th>2005-02-01</th>\n",
       "      <td>8045.2</td>\n",
       "    </tr>\n",
       "    <tr>\n",
       "      <th>2005-03-01</th>\n",
       "      <td>9243.7</td>\n",
       "    </tr>\n",
       "    <tr>\n",
       "      <th>2005-04-01</th>\n",
       "      <td>7498.1</td>\n",
       "    </tr>\n",
       "    <tr>\n",
       "      <th>2005-05-01</th>\n",
       "      <td>6840.4</td>\n",
       "    </tr>\n",
       "    <tr>\n",
       "      <th>...</th>\n",
       "      <td>...</td>\n",
       "    </tr>\n",
       "    <tr>\n",
       "      <th>2009-09-01</th>\n",
       "      <td>713.9</td>\n",
       "    </tr>\n",
       "    <tr>\n",
       "      <th>2009-10-01</th>\n",
       "      <td>727.9</td>\n",
       "    </tr>\n",
       "    <tr>\n",
       "      <th>2009-11-01</th>\n",
       "      <td>797.7</td>\n",
       "    </tr>\n",
       "    <tr>\n",
       "      <th>2009-12-01</th>\n",
       "      <td>685.8</td>\n",
       "    </tr>\n",
       "    <tr>\n",
       "      <th>2010-01-01</th>\n",
       "      <td>675.3</td>\n",
       "    </tr>\n",
       "  </tbody>\n",
       "</table>\n",
       "<p>61 rows × 1 columns</p>\n",
       "</div>"
      ],
      "text/plain": [
       "            Oil Production\n",
       "Date                      \n",
       "2005-01-01             NaN\n",
       "2005-02-01          8045.2\n",
       "2005-03-01          9243.7\n",
       "2005-04-01          7498.1\n",
       "2005-05-01          6840.4\n",
       "...                    ...\n",
       "2009-09-01           713.9\n",
       "2009-10-01           727.9\n",
       "2009-11-01           797.7\n",
       "2009-12-01           685.8\n",
       "2010-01-01           675.3\n",
       "\n",
       "[61 rows x 1 columns]"
      ]
     },
     "execution_count": 107,
     "metadata": {},
     "output_type": "execute_result"
    }
   ],
   "source": [
    "df.shift()"
   ]
  },
  {
   "cell_type": "code",
   "execution_count": 108,
   "id": "304b8e6b",
   "metadata": {},
   "outputs": [
    {
     "data": {
      "text/html": [
       "<div>\n",
       "<style scoped>\n",
       "    .dataframe tbody tr th:only-of-type {\n",
       "        vertical-align: middle;\n",
       "    }\n",
       "\n",
       "    .dataframe tbody tr th {\n",
       "        vertical-align: top;\n",
       "    }\n",
       "\n",
       "    .dataframe thead th {\n",
       "        text-align: right;\n",
       "    }\n",
       "</style>\n",
       "<table border=\"1\" class=\"dataframe\">\n",
       "  <thead>\n",
       "    <tr style=\"text-align: right;\">\n",
       "      <th></th>\n",
       "      <th>Oil Production</th>\n",
       "    </tr>\n",
       "    <tr>\n",
       "      <th>Date</th>\n",
       "      <th></th>\n",
       "    </tr>\n",
       "  </thead>\n",
       "  <tbody>\n",
       "    <tr>\n",
       "      <th>2005-01-01</th>\n",
       "      <td>NaN</td>\n",
       "    </tr>\n",
       "    <tr>\n",
       "      <th>2005-02-01</th>\n",
       "      <td>NaN</td>\n",
       "    </tr>\n",
       "    <tr>\n",
       "      <th>2005-03-01</th>\n",
       "      <td>8045.2</td>\n",
       "    </tr>\n",
       "    <tr>\n",
       "      <th>2005-04-01</th>\n",
       "      <td>9243.7</td>\n",
       "    </tr>\n",
       "    <tr>\n",
       "      <th>2005-05-01</th>\n",
       "      <td>7498.1</td>\n",
       "    </tr>\n",
       "    <tr>\n",
       "      <th>...</th>\n",
       "      <td>...</td>\n",
       "    </tr>\n",
       "    <tr>\n",
       "      <th>2009-09-01</th>\n",
       "      <td>730.7</td>\n",
       "    </tr>\n",
       "    <tr>\n",
       "      <th>2009-10-01</th>\n",
       "      <td>713.9</td>\n",
       "    </tr>\n",
       "    <tr>\n",
       "      <th>2009-11-01</th>\n",
       "      <td>727.9</td>\n",
       "    </tr>\n",
       "    <tr>\n",
       "      <th>2009-12-01</th>\n",
       "      <td>797.7</td>\n",
       "    </tr>\n",
       "    <tr>\n",
       "      <th>2010-01-01</th>\n",
       "      <td>685.8</td>\n",
       "    </tr>\n",
       "  </tbody>\n",
       "</table>\n",
       "<p>61 rows × 1 columns</p>\n",
       "</div>"
      ],
      "text/plain": [
       "            Oil Production\n",
       "Date                      \n",
       "2005-01-01             NaN\n",
       "2005-02-01             NaN\n",
       "2005-03-01          8045.2\n",
       "2005-04-01          9243.7\n",
       "2005-05-01          7498.1\n",
       "...                    ...\n",
       "2009-09-01           730.7\n",
       "2009-10-01           713.9\n",
       "2009-11-01           727.9\n",
       "2009-12-01           797.7\n",
       "2010-01-01           685.8\n",
       "\n",
       "[61 rows x 1 columns]"
      ]
     },
     "execution_count": 108,
     "metadata": {},
     "output_type": "execute_result"
    }
   ],
   "source": [
    "df.shift(2)"
   ]
  },
  {
   "cell_type": "markdown",
   "id": "cbe7818d",
   "metadata": {},
   "source": [
    "## CUMSUM"
   ]
  },
  {
   "cell_type": "code",
   "execution_count": 109,
   "id": "c4189744",
   "metadata": {},
   "outputs": [
    {
     "data": {
      "text/html": [
       "<div>\n",
       "<style scoped>\n",
       "    .dataframe tbody tr th:only-of-type {\n",
       "        vertical-align: middle;\n",
       "    }\n",
       "\n",
       "    .dataframe tbody tr th {\n",
       "        vertical-align: top;\n",
       "    }\n",
       "\n",
       "    .dataframe thead th {\n",
       "        text-align: right;\n",
       "    }\n",
       "</style>\n",
       "<table border=\"1\" class=\"dataframe\">\n",
       "  <thead>\n",
       "    <tr style=\"text-align: right;\">\n",
       "      <th></th>\n",
       "      <th>Oil Production</th>\n",
       "    </tr>\n",
       "    <tr>\n",
       "      <th>Date</th>\n",
       "      <th></th>\n",
       "    </tr>\n",
       "  </thead>\n",
       "  <tbody>\n",
       "    <tr>\n",
       "      <th>2005-01-01</th>\n",
       "      <td>8045.2</td>\n",
       "    </tr>\n",
       "    <tr>\n",
       "      <th>2005-02-01</th>\n",
       "      <td>9243.7</td>\n",
       "    </tr>\n",
       "    <tr>\n",
       "      <th>2005-03-01</th>\n",
       "      <td>7498.1</td>\n",
       "    </tr>\n",
       "    <tr>\n",
       "      <th>2005-04-01</th>\n",
       "      <td>6840.4</td>\n",
       "    </tr>\n",
       "    <tr>\n",
       "      <th>2005-05-01</th>\n",
       "      <td>6470.0</td>\n",
       "    </tr>\n",
       "    <tr>\n",
       "      <th>...</th>\n",
       "      <td>...</td>\n",
       "    </tr>\n",
       "    <tr>\n",
       "      <th>2009-09-01</th>\n",
       "      <td>727.9</td>\n",
       "    </tr>\n",
       "    <tr>\n",
       "      <th>2009-10-01</th>\n",
       "      <td>797.7</td>\n",
       "    </tr>\n",
       "    <tr>\n",
       "      <th>2009-11-01</th>\n",
       "      <td>685.8</td>\n",
       "    </tr>\n",
       "    <tr>\n",
       "      <th>2009-12-01</th>\n",
       "      <td>675.3</td>\n",
       "    </tr>\n",
       "    <tr>\n",
       "      <th>2010-01-01</th>\n",
       "      <td>690.2</td>\n",
       "    </tr>\n",
       "  </tbody>\n",
       "</table>\n",
       "<p>61 rows × 1 columns</p>\n",
       "</div>"
      ],
      "text/plain": [
       "            Oil Production\n",
       "Date                      \n",
       "2005-01-01          8045.2\n",
       "2005-02-01          9243.7\n",
       "2005-03-01          7498.1\n",
       "2005-04-01          6840.4\n",
       "2005-05-01          6470.0\n",
       "...                    ...\n",
       "2009-09-01           727.9\n",
       "2009-10-01           797.7\n",
       "2009-11-01           685.8\n",
       "2009-12-01           675.3\n",
       "2010-01-01           690.2\n",
       "\n",
       "[61 rows x 1 columns]"
      ]
     },
     "execution_count": 109,
     "metadata": {},
     "output_type": "execute_result"
    }
   ],
   "source": [
    "df"
   ]
  },
  {
   "cell_type": "code",
   "execution_count": 110,
   "id": "40c77ad8",
   "metadata": {},
   "outputs": [
    {
     "data": {
      "text/html": [
       "<div>\n",
       "<style scoped>\n",
       "    .dataframe tbody tr th:only-of-type {\n",
       "        vertical-align: middle;\n",
       "    }\n",
       "\n",
       "    .dataframe tbody tr th {\n",
       "        vertical-align: top;\n",
       "    }\n",
       "\n",
       "    .dataframe thead th {\n",
       "        text-align: right;\n",
       "    }\n",
       "</style>\n",
       "<table border=\"1\" class=\"dataframe\">\n",
       "  <thead>\n",
       "    <tr style=\"text-align: right;\">\n",
       "      <th></th>\n",
       "      <th>Oil Production</th>\n",
       "    </tr>\n",
       "    <tr>\n",
       "      <th>Date</th>\n",
       "      <th></th>\n",
       "    </tr>\n",
       "  </thead>\n",
       "  <tbody>\n",
       "    <tr>\n",
       "      <th>2005-01-01</th>\n",
       "      <td>8045.2</td>\n",
       "    </tr>\n",
       "    <tr>\n",
       "      <th>2005-02-01</th>\n",
       "      <td>17288.9</td>\n",
       "    </tr>\n",
       "    <tr>\n",
       "      <th>2005-03-01</th>\n",
       "      <td>24787.0</td>\n",
       "    </tr>\n",
       "    <tr>\n",
       "      <th>2005-04-01</th>\n",
       "      <td>31627.4</td>\n",
       "    </tr>\n",
       "    <tr>\n",
       "      <th>2005-05-01</th>\n",
       "      <td>38097.4</td>\n",
       "    </tr>\n",
       "    <tr>\n",
       "      <th>...</th>\n",
       "      <td>...</td>\n",
       "    </tr>\n",
       "    <tr>\n",
       "      <th>2009-09-01</th>\n",
       "      <td>167075.5</td>\n",
       "    </tr>\n",
       "    <tr>\n",
       "      <th>2009-10-01</th>\n",
       "      <td>167873.2</td>\n",
       "    </tr>\n",
       "    <tr>\n",
       "      <th>2009-11-01</th>\n",
       "      <td>168559.0</td>\n",
       "    </tr>\n",
       "    <tr>\n",
       "      <th>2009-12-01</th>\n",
       "      <td>169234.3</td>\n",
       "    </tr>\n",
       "    <tr>\n",
       "      <th>2010-01-01</th>\n",
       "      <td>169924.5</td>\n",
       "    </tr>\n",
       "  </tbody>\n",
       "</table>\n",
       "<p>61 rows × 1 columns</p>\n",
       "</div>"
      ],
      "text/plain": [
       "            Oil Production\n",
       "Date                      \n",
       "2005-01-01          8045.2\n",
       "2005-02-01         17288.9\n",
       "2005-03-01         24787.0\n",
       "2005-04-01         31627.4\n",
       "2005-05-01         38097.4\n",
       "...                    ...\n",
       "2009-09-01        167075.5\n",
       "2009-10-01        167873.2\n",
       "2009-11-01        168559.0\n",
       "2009-12-01        169234.3\n",
       "2010-01-01        169924.5\n",
       "\n",
       "[61 rows x 1 columns]"
      ]
     },
     "execution_count": 110,
     "metadata": {},
     "output_type": "execute_result"
    }
   ],
   "source": [
    "df.cumsum()"
   ]
  },
  {
   "cell_type": "code",
   "execution_count": 111,
   "id": "31bb2313",
   "metadata": {},
   "outputs": [
    {
     "data": {
      "text/plain": [
       "<AxesSubplot:xlabel='Date'>"
      ]
     },
     "execution_count": 111,
     "metadata": {},
     "output_type": "execute_result"
    },
    {
     "data": {
      "image/png": "[encoded data removed]",
      "text/plain": [
       "<Figure size 432x288 with 1 Axes>"
      ]
     },
     "metadata": {
      "needs_background": "light"
     },
     "output_type": "display_data"
    }
   ],
   "source": [
    "df.cumsum().plot()"
   ]
  },
  {
   "cell_type": "markdown",
   "id": "9e431866",
   "metadata": {},
   "source": [
    "## PCT Change"
   ]
  },
  {
   "cell_type": "code",
   "execution_count": 112,
   "id": "3848c608",
   "metadata": {},
   "outputs": [
    {
     "data": {
      "text/html": [
       "<div>\n",
       "<style scoped>\n",
       "    .dataframe tbody tr th:only-of-type {\n",
       "        vertical-align: middle;\n",
       "    }\n",
       "\n",
       "    .dataframe tbody tr th {\n",
       "        vertical-align: top;\n",
       "    }\n",
       "\n",
       "    .dataframe thead th {\n",
       "        text-align: right;\n",
       "    }\n",
       "</style>\n",
       "<table border=\"1\" class=\"dataframe\">\n",
       "  <thead>\n",
       "    <tr style=\"text-align: right;\">\n",
       "      <th></th>\n",
       "      <th>Oil Production</th>\n",
       "    </tr>\n",
       "    <tr>\n",
       "      <th>Date</th>\n",
       "      <th></th>\n",
       "    </tr>\n",
       "  </thead>\n",
       "  <tbody>\n",
       "    <tr>\n",
       "      <th>2005-01-01</th>\n",
       "      <td>8045.2</td>\n",
       "    </tr>\n",
       "    <tr>\n",
       "      <th>2005-02-01</th>\n",
       "      <td>9243.7</td>\n",
       "    </tr>\n",
       "    <tr>\n",
       "      <th>2005-03-01</th>\n",
       "      <td>7498.1</td>\n",
       "    </tr>\n",
       "    <tr>\n",
       "      <th>2005-04-01</th>\n",
       "      <td>6840.4</td>\n",
       "    </tr>\n",
       "    <tr>\n",
       "      <th>2005-05-01</th>\n",
       "      <td>6470.0</td>\n",
       "    </tr>\n",
       "    <tr>\n",
       "      <th>...</th>\n",
       "      <td>...</td>\n",
       "    </tr>\n",
       "    <tr>\n",
       "      <th>2009-09-01</th>\n",
       "      <td>727.9</td>\n",
       "    </tr>\n",
       "    <tr>\n",
       "      <th>2009-10-01</th>\n",
       "      <td>797.7</td>\n",
       "    </tr>\n",
       "    <tr>\n",
       "      <th>2009-11-01</th>\n",
       "      <td>685.8</td>\n",
       "    </tr>\n",
       "    <tr>\n",
       "      <th>2009-12-01</th>\n",
       "      <td>675.3</td>\n",
       "    </tr>\n",
       "    <tr>\n",
       "      <th>2010-01-01</th>\n",
       "      <td>690.2</td>\n",
       "    </tr>\n",
       "  </tbody>\n",
       "</table>\n",
       "<p>61 rows × 1 columns</p>\n",
       "</div>"
      ],
      "text/plain": [
       "            Oil Production\n",
       "Date                      \n",
       "2005-01-01          8045.2\n",
       "2005-02-01          9243.7\n",
       "2005-03-01          7498.1\n",
       "2005-04-01          6840.4\n",
       "2005-05-01          6470.0\n",
       "...                    ...\n",
       "2009-09-01           727.9\n",
       "2009-10-01           797.7\n",
       "2009-11-01           685.8\n",
       "2009-12-01           675.3\n",
       "2010-01-01           690.2\n",
       "\n",
       "[61 rows x 1 columns]"
      ]
     },
     "execution_count": 112,
     "metadata": {},
     "output_type": "execute_result"
    }
   ],
   "source": [
    "df"
   ]
  },
  {
   "cell_type": "code",
   "execution_count": 113,
   "id": "09bcd742",
   "metadata": {},
   "outputs": [
    {
     "data": {
      "text/html": [
       "<div>\n",
       "<style scoped>\n",
       "    .dataframe tbody tr th:only-of-type {\n",
       "        vertical-align: middle;\n",
       "    }\n",
       "\n",
       "    .dataframe tbody tr th {\n",
       "        vertical-align: top;\n",
       "    }\n",
       "\n",
       "    .dataframe thead th {\n",
       "        text-align: right;\n",
       "    }\n",
       "</style>\n",
       "<table border=\"1\" class=\"dataframe\">\n",
       "  <thead>\n",
       "    <tr style=\"text-align: right;\">\n",
       "      <th></th>\n",
       "      <th>Oil Production</th>\n",
       "    </tr>\n",
       "    <tr>\n",
       "      <th>Date</th>\n",
       "      <th></th>\n",
       "    </tr>\n",
       "  </thead>\n",
       "  <tbody>\n",
       "    <tr>\n",
       "      <th>2005-01-01</th>\n",
       "      <td>NaN</td>\n",
       "    </tr>\n",
       "    <tr>\n",
       "      <th>2005-02-01</th>\n",
       "      <td>0.148971</td>\n",
       "    </tr>\n",
       "    <tr>\n",
       "      <th>2005-03-01</th>\n",
       "      <td>-0.188842</td>\n",
       "    </tr>\n",
       "    <tr>\n",
       "      <th>2005-04-01</th>\n",
       "      <td>-0.087716</td>\n",
       "    </tr>\n",
       "    <tr>\n",
       "      <th>2005-05-01</th>\n",
       "      <td>-0.054149</td>\n",
       "    </tr>\n",
       "    <tr>\n",
       "      <th>...</th>\n",
       "      <td>...</td>\n",
       "    </tr>\n",
       "    <tr>\n",
       "      <th>2009-09-01</th>\n",
       "      <td>0.019611</td>\n",
       "    </tr>\n",
       "    <tr>\n",
       "      <th>2009-10-01</th>\n",
       "      <td>0.095892</td>\n",
       "    </tr>\n",
       "    <tr>\n",
       "      <th>2009-11-01</th>\n",
       "      <td>-0.140278</td>\n",
       "    </tr>\n",
       "    <tr>\n",
       "      <th>2009-12-01</th>\n",
       "      <td>-0.015311</td>\n",
       "    </tr>\n",
       "    <tr>\n",
       "      <th>2010-01-01</th>\n",
       "      <td>0.022064</td>\n",
       "    </tr>\n",
       "  </tbody>\n",
       "</table>\n",
       "<p>61 rows × 1 columns</p>\n",
       "</div>"
      ],
      "text/plain": [
       "            Oil Production\n",
       "Date                      \n",
       "2005-01-01             NaN\n",
       "2005-02-01        0.148971\n",
       "2005-03-01       -0.188842\n",
       "2005-04-01       -0.087716\n",
       "2005-05-01       -0.054149\n",
       "...                    ...\n",
       "2009-09-01        0.019611\n",
       "2009-10-01        0.095892\n",
       "2009-11-01       -0.140278\n",
       "2009-12-01       -0.015311\n",
       "2010-01-01        0.022064\n",
       "\n",
       "[61 rows x 1 columns]"
      ]
     },
     "execution_count": 113,
     "metadata": {},
     "output_type": "execute_result"
    }
   ],
   "source": [
    "df.pct_change()"
   ]
  },
  {
   "cell_type": "code",
   "execution_count": null,
   "id": "9c39aa0a",
   "metadata": {},
   "outputs": [],
   "source": []
  }
 ],
 "metadata": {
  "kernelspec": {
   "display_name": "Python 3",
   "language": "python",
   "name": "python3"
  },
  "language_info": {
   "codemirror_mode": {
    "name": "ipython",
    "version": 3
   },
   "file_extension": ".py",
   "mimetype": "text/x-python",
   "name": "python",
   "nbconvert_exporter": "python",
   "pygments_lexer": "ipython3",
   "version": "3.8.8"
  }
 },
 "nbformat": 4,
 "nbformat_minor": 5
}
