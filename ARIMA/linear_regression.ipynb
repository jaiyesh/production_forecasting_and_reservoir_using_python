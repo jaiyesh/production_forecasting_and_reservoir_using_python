{
 "cells": [
  {
   "cell_type": "code",
   "execution_count": 1,
   "metadata": {},
   "outputs": [],
   "source": [
    "import matplotlib.pyplot as plt\n",
    "import numpy as np\n",
    "import pandas as pd"
   ]
  },
  {
   "cell_type": "code",
   "execution_count": 2,
   "metadata": {},
   "outputs": [],
   "source": [
    "from sklearn.linear_model import LinearRegression\n"
   ]
  },
  {
   "cell_type": "code",
   "execution_count": 3,
   "metadata": {},
   "outputs": [],
   "source": [
    "df = pd.read_csv('production and pressure data.csv')"
   ]
  },
  {
   "cell_type": "code",
   "execution_count": 4,
   "metadata": {},
   "outputs": [
    {
     "data": {
      "text/html": [
       "<div>\n",
       "<style scoped>\n",
       "    .dataframe tbody tr th:only-of-type {\n",
       "        vertical-align: middle;\n",
       "    }\n",
       "\n",
       "    .dataframe tbody tr th {\n",
       "        vertical-align: top;\n",
       "    }\n",
       "\n",
       "    .dataframe thead th {\n",
       "        text-align: right;\n",
       "    }\n",
       "</style>\n",
       "<table border=\"1\" class=\"dataframe\">\n",
       "  <thead>\n",
       "    <tr style=\"text-align: right;\">\n",
       "      <th></th>\n",
       "      <th>Unnamed: 0</th>\n",
       "      <th>Oil Production</th>\n",
       "      <th>Date</th>\n",
       "      <th>Pressure</th>\n",
       "    </tr>\n",
       "  </thead>\n",
       "  <tbody>\n",
       "    <tr>\n",
       "      <th>0</th>\n",
       "      <td>0</td>\n",
       "      <td>8045.2</td>\n",
       "      <td>2005-01-01</td>\n",
       "      <td>353.5</td>\n",
       "    </tr>\n",
       "    <tr>\n",
       "      <th>1</th>\n",
       "      <td>1</td>\n",
       "      <td>9243.7</td>\n",
       "      <td>2005-02-01</td>\n",
       "      <td>426.8</td>\n",
       "    </tr>\n",
       "    <tr>\n",
       "      <th>2</th>\n",
       "      <td>2</td>\n",
       "      <td>7498.1</td>\n",
       "      <td>2005-03-01</td>\n",
       "      <td>313.4</td>\n",
       "    </tr>\n",
       "    <tr>\n",
       "      <th>3</th>\n",
       "      <td>3</td>\n",
       "      <td>6840.4</td>\n",
       "      <td>2005-04-01</td>\n",
       "      <td>362.5</td>\n",
       "    </tr>\n",
       "    <tr>\n",
       "      <th>4</th>\n",
       "      <td>4</td>\n",
       "      <td>6470.0</td>\n",
       "      <td>2005-05-01</td>\n",
       "      <td>456.1</td>\n",
       "    </tr>\n",
       "    <tr>\n",
       "      <th>...</th>\n",
       "      <td>...</td>\n",
       "      <td>...</td>\n",
       "      <td>...</td>\n",
       "      <td>...</td>\n",
       "    </tr>\n",
       "    <tr>\n",
       "      <th>56</th>\n",
       "      <td>56</td>\n",
       "      <td>727.9</td>\n",
       "      <td>2009-09-01</td>\n",
       "      <td>105.1</td>\n",
       "    </tr>\n",
       "    <tr>\n",
       "      <th>57</th>\n",
       "      <td>57</td>\n",
       "      <td>797.7</td>\n",
       "      <td>2009-10-01</td>\n",
       "      <td>119.9</td>\n",
       "    </tr>\n",
       "    <tr>\n",
       "      <th>58</th>\n",
       "      <td>58</td>\n",
       "      <td>685.8</td>\n",
       "      <td>2009-11-01</td>\n",
       "      <td>103.0</td>\n",
       "    </tr>\n",
       "    <tr>\n",
       "      <th>59</th>\n",
       "      <td>59</td>\n",
       "      <td>675.3</td>\n",
       "      <td>2009-12-01</td>\n",
       "      <td>105.2</td>\n",
       "    </tr>\n",
       "    <tr>\n",
       "      <th>60</th>\n",
       "      <td>60</td>\n",
       "      <td>690.2</td>\n",
       "      <td>2010-01-01</td>\n",
       "      <td>107.8</td>\n",
       "    </tr>\n",
       "  </tbody>\n",
       "</table>\n",
       "<p>61 rows × 4 columns</p>\n",
       "</div>"
      ],
      "text/plain": [
       "    Unnamed: 0  Oil Production        Date  Pressure\n",
       "0            0          8045.2  2005-01-01     353.5\n",
       "1            1          9243.7  2005-02-01     426.8\n",
       "2            2          7498.1  2005-03-01     313.4\n",
       "3            3          6840.4  2005-04-01     362.5\n",
       "4            4          6470.0  2005-05-01     456.1\n",
       "..         ...             ...         ...       ...\n",
       "56          56           727.9  2009-09-01     105.1\n",
       "57          57           797.7  2009-10-01     119.9\n",
       "58          58           685.8  2009-11-01     103.0\n",
       "59          59           675.3  2009-12-01     105.2\n",
       "60          60           690.2  2010-01-01     107.8\n",
       "\n",
       "[61 rows x 4 columns]"
      ]
     },
     "execution_count": 4,
     "metadata": {},
     "output_type": "execute_result"
    }
   ],
   "source": [
    "df"
   ]
  },
  {
   "cell_type": "code",
   "execution_count": 5,
   "metadata": {},
   "outputs": [],
   "source": [
    "df.index = pd.to_datetime(df[\"Date\"])\n",
    "df= df.drop(\"Unnamed: 0\",axis=1)"
   ]
  },
  {
   "cell_type": "code",
   "execution_count": 6,
   "metadata": {},
   "outputs": [
    {
     "data": {
      "text/html": [
       "<div>\n",
       "<style scoped>\n",
       "    .dataframe tbody tr th:only-of-type {\n",
       "        vertical-align: middle;\n",
       "    }\n",
       "\n",
       "    .dataframe tbody tr th {\n",
       "        vertical-align: top;\n",
       "    }\n",
       "\n",
       "    .dataframe thead th {\n",
       "        text-align: right;\n",
       "    }\n",
       "</style>\n",
       "<table border=\"1\" class=\"dataframe\">\n",
       "  <thead>\n",
       "    <tr style=\"text-align: right;\">\n",
       "      <th></th>\n",
       "      <th>Oil Production</th>\n",
       "      <th>Date</th>\n",
       "      <th>Pressure</th>\n",
       "    </tr>\n",
       "    <tr>\n",
       "      <th>Date</th>\n",
       "      <th></th>\n",
       "      <th></th>\n",
       "      <th></th>\n",
       "    </tr>\n",
       "  </thead>\n",
       "  <tbody>\n",
       "    <tr>\n",
       "      <th>2005-01-01</th>\n",
       "      <td>8045.2</td>\n",
       "      <td>2005-01-01</td>\n",
       "      <td>353.5</td>\n",
       "    </tr>\n",
       "    <tr>\n",
       "      <th>2005-02-01</th>\n",
       "      <td>9243.7</td>\n",
       "      <td>2005-02-01</td>\n",
       "      <td>426.8</td>\n",
       "    </tr>\n",
       "    <tr>\n",
       "      <th>2005-03-01</th>\n",
       "      <td>7498.1</td>\n",
       "      <td>2005-03-01</td>\n",
       "      <td>313.4</td>\n",
       "    </tr>\n",
       "    <tr>\n",
       "      <th>2005-04-01</th>\n",
       "      <td>6840.4</td>\n",
       "      <td>2005-04-01</td>\n",
       "      <td>362.5</td>\n",
       "    </tr>\n",
       "    <tr>\n",
       "      <th>2005-05-01</th>\n",
       "      <td>6470.0</td>\n",
       "      <td>2005-05-01</td>\n",
       "      <td>456.1</td>\n",
       "    </tr>\n",
       "    <tr>\n",
       "      <th>...</th>\n",
       "      <td>...</td>\n",
       "      <td>...</td>\n",
       "      <td>...</td>\n",
       "    </tr>\n",
       "    <tr>\n",
       "      <th>2009-09-01</th>\n",
       "      <td>727.9</td>\n",
       "      <td>2009-09-01</td>\n",
       "      <td>105.1</td>\n",
       "    </tr>\n",
       "    <tr>\n",
       "      <th>2009-10-01</th>\n",
       "      <td>797.7</td>\n",
       "      <td>2009-10-01</td>\n",
       "      <td>119.9</td>\n",
       "    </tr>\n",
       "    <tr>\n",
       "      <th>2009-11-01</th>\n",
       "      <td>685.8</td>\n",
       "      <td>2009-11-01</td>\n",
       "      <td>103.0</td>\n",
       "    </tr>\n",
       "    <tr>\n",
       "      <th>2009-12-01</th>\n",
       "      <td>675.3</td>\n",
       "      <td>2009-12-01</td>\n",
       "      <td>105.2</td>\n",
       "    </tr>\n",
       "    <tr>\n",
       "      <th>2010-01-01</th>\n",
       "      <td>690.2</td>\n",
       "      <td>2010-01-01</td>\n",
       "      <td>107.8</td>\n",
       "    </tr>\n",
       "  </tbody>\n",
       "</table>\n",
       "<p>61 rows × 3 columns</p>\n",
       "</div>"
      ],
      "text/plain": [
       "            Oil Production        Date  Pressure\n",
       "Date                                            \n",
       "2005-01-01          8045.2  2005-01-01     353.5\n",
       "2005-02-01          9243.7  2005-02-01     426.8\n",
       "2005-03-01          7498.1  2005-03-01     313.4\n",
       "2005-04-01          6840.4  2005-04-01     362.5\n",
       "2005-05-01          6470.0  2005-05-01     456.1\n",
       "...                    ...         ...       ...\n",
       "2009-09-01           727.9  2009-09-01     105.1\n",
       "2009-10-01           797.7  2009-10-01     119.9\n",
       "2009-11-01           685.8  2009-11-01     103.0\n",
       "2009-12-01           675.3  2009-12-01     105.2\n",
       "2010-01-01           690.2  2010-01-01     107.8\n",
       "\n",
       "[61 rows x 3 columns]"
      ]
     },
     "execution_count": 6,
     "metadata": {},
     "output_type": "execute_result"
    }
   ],
   "source": [
    "df"
   ]
  },
  {
   "cell_type": "code",
   "execution_count": 7,
   "metadata": {},
   "outputs": [],
   "source": [
    "df = df[[\"Oil Production\",\"Pressure\"]]"
   ]
  },
  {
   "cell_type": "code",
   "execution_count": 8,
   "metadata": {},
   "outputs": [
    {
     "data": {
      "text/plain": [
       "array([<AxesSubplot: xlabel='Date'>, <AxesSubplot: xlabel='Date'>],\n",
       "      dtype=object)"
      ]
     },
     "execution_count": 8,
     "metadata": {},
     "output_type": "execute_result"
    },
    {
     "data": {
      "image/png": "[encoded data removed]",
      "text/plain": [
       "<Figure size 640x480 with 2 Axes>"
      ]
     },
     "metadata": {},
     "output_type": "display_data"
    }
   ],
   "source": [
    "df.plot(subplots=True)"
   ]
  },
  {
   "cell_type": "code",
   "execution_count": 9,
   "metadata": {},
   "outputs": [],
   "source": [
    "data = df[[\"Oil Production\"]]"
   ]
  },
  {
   "cell_type": "code",
   "execution_count": 10,
   "metadata": {},
   "outputs": [
    {
     "data": {
      "text/plain": [
       "<AxesSubplot: xlabel='Date'>"
      ]
     },
     "execution_count": 10,
     "metadata": {},
     "output_type": "execute_result"
    },
    {
     "data": {
      "image/png": "[encoded data removed]",
      "text/plain": [
       "<Figure size 640x480 with 1 Axes>"
      ]
     },
     "metadata": {},
     "output_type": "display_data"
    }
   ],
   "source": [
    "data.plot()"
   ]
  },
  {
   "cell_type": "code",
   "execution_count": 12,
   "metadata": {},
   "outputs": [
    {
     "data": {
      "text/html": [
       "<div>\n",
       "<style scoped>\n",
       "    .dataframe tbody tr th:only-of-type {\n",
       "        vertical-align: middle;\n",
       "    }\n",
       "\n",
       "    .dataframe tbody tr th {\n",
       "        vertical-align: top;\n",
       "    }\n",
       "\n",
       "    .dataframe thead th {\n",
       "        text-align: right;\n",
       "    }\n",
       "</style>\n",
       "<table border=\"1\" class=\"dataframe\">\n",
       "  <thead>\n",
       "    <tr style=\"text-align: right;\">\n",
       "      <th></th>\n",
       "      <th>Oil Production</th>\n",
       "    </tr>\n",
       "    <tr>\n",
       "      <th>Date</th>\n",
       "      <th></th>\n",
       "    </tr>\n",
       "  </thead>\n",
       "  <tbody>\n",
       "    <tr>\n",
       "      <th>2008-05-01</th>\n",
       "      <td>1213.1</td>\n",
       "    </tr>\n",
       "    <tr>\n",
       "      <th>2008-06-01</th>\n",
       "      <td>1452.0</td>\n",
       "    </tr>\n",
       "    <tr>\n",
       "      <th>2008-07-01</th>\n",
       "      <td>1044.9</td>\n",
       "    </tr>\n",
       "    <tr>\n",
       "      <th>2008-08-01</th>\n",
       "      <td>965.1</td>\n",
       "    </tr>\n",
       "    <tr>\n",
       "      <th>2008-09-01</th>\n",
       "      <td>988.9</td>\n",
       "    </tr>\n",
       "    <tr>\n",
       "      <th>2008-10-01</th>\n",
       "      <td>1170.4</td>\n",
       "    </tr>\n",
       "    <tr>\n",
       "      <th>2008-11-01</th>\n",
       "      <td>926.4</td>\n",
       "    </tr>\n",
       "    <tr>\n",
       "      <th>2008-12-01</th>\n",
       "      <td>906.3</td>\n",
       "    </tr>\n",
       "    <tr>\n",
       "      <th>2009-01-01</th>\n",
       "      <td>913.5</td>\n",
       "    </tr>\n",
       "    <tr>\n",
       "      <th>2009-02-01</th>\n",
       "      <td>1067.2</td>\n",
       "    </tr>\n",
       "    <tr>\n",
       "      <th>2009-03-01</th>\n",
       "      <td>826.2</td>\n",
       "    </tr>\n",
       "    <tr>\n",
       "      <th>2009-04-01</th>\n",
       "      <td>788.6</td>\n",
       "    </tr>\n",
       "    <tr>\n",
       "      <th>2009-05-01</th>\n",
       "      <td>801.5</td>\n",
       "    </tr>\n",
       "    <tr>\n",
       "      <th>2009-06-01</th>\n",
       "      <td>898.6</td>\n",
       "    </tr>\n",
       "    <tr>\n",
       "      <th>2009-07-01</th>\n",
       "      <td>730.7</td>\n",
       "    </tr>\n",
       "    <tr>\n",
       "      <th>2009-08-01</th>\n",
       "      <td>713.9</td>\n",
       "    </tr>\n",
       "    <tr>\n",
       "      <th>2009-09-01</th>\n",
       "      <td>727.9</td>\n",
       "    </tr>\n",
       "    <tr>\n",
       "      <th>2009-10-01</th>\n",
       "      <td>797.7</td>\n",
       "    </tr>\n",
       "    <tr>\n",
       "      <th>2009-11-01</th>\n",
       "      <td>685.8</td>\n",
       "    </tr>\n",
       "    <tr>\n",
       "      <th>2009-12-01</th>\n",
       "      <td>675.3</td>\n",
       "    </tr>\n",
       "    <tr>\n",
       "      <th>2010-01-01</th>\n",
       "      <td>690.2</td>\n",
       "    </tr>\n",
       "  </tbody>\n",
       "</table>\n",
       "</div>"
      ],
      "text/plain": [
       "            Oil Production\n",
       "Date                      \n",
       "2008-05-01          1213.1\n",
       "2008-06-01          1452.0\n",
       "2008-07-01          1044.9\n",
       "2008-08-01           965.1\n",
       "2008-09-01           988.9\n",
       "2008-10-01          1170.4\n",
       "2008-11-01           926.4\n",
       "2008-12-01           906.3\n",
       "2009-01-01           913.5\n",
       "2009-02-01          1067.2\n",
       "2009-03-01           826.2\n",
       "2009-04-01           788.6\n",
       "2009-05-01           801.5\n",
       "2009-06-01           898.6\n",
       "2009-07-01           730.7\n",
       "2009-08-01           713.9\n",
       "2009-09-01           727.9\n",
       "2009-10-01           797.7\n",
       "2009-11-01           685.8\n",
       "2009-12-01           675.3\n",
       "2010-01-01           690.2"
      ]
     },
     "execution_count": 12,
     "metadata": {},
     "output_type": "execute_result"
    }
   ],
   "source": [
    "data[40:]"
   ]
  },
  {
   "cell_type": "code",
   "execution_count": 13,
   "metadata": {},
   "outputs": [
    {
     "data": {
      "text/plain": [
       "<Axes: xlabel='Lag', ylabel='Autocorrelation'>"
      ]
     },
     "execution_count": 13,
     "metadata": {},
     "output_type": "execute_result"
    },
    {
     "data": {
      "image/png": "[encoded data removed]",
      "text/plain": [
       "<Figure size 640x480 with 1 Axes>"
      ]
     },
     "metadata": {},
     "output_type": "display_data"
    }
   ],
   "source": [
    "pd.plotting.autocorrelation_plot(data)"
   ]
  },
  {
   "cell_type": "code",
   "execution_count": 15,
   "metadata": {},
   "outputs": [
    {
     "data": {
      "text/html": [
       "<div>\n",
       "<style scoped>\n",
       "    .dataframe tbody tr th:only-of-type {\n",
       "        vertical-align: middle;\n",
       "    }\n",
       "\n",
       "    .dataframe tbody tr th {\n",
       "        vertical-align: top;\n",
       "    }\n",
       "\n",
       "    .dataframe thead th {\n",
       "        text-align: right;\n",
       "    }\n",
       "</style>\n",
       "<table border=\"1\" class=\"dataframe\">\n",
       "  <thead>\n",
       "    <tr style=\"text-align: right;\">\n",
       "      <th></th>\n",
       "      <th>Oil Production</th>\n",
       "    </tr>\n",
       "    <tr>\n",
       "      <th>Date</th>\n",
       "      <th></th>\n",
       "    </tr>\n",
       "  </thead>\n",
       "  <tbody>\n",
       "    <tr>\n",
       "      <th>2005-01-01</th>\n",
       "      <td>8045.2</td>\n",
       "    </tr>\n",
       "    <tr>\n",
       "      <th>2005-02-01</th>\n",
       "      <td>9243.7</td>\n",
       "    </tr>\n",
       "    <tr>\n",
       "      <th>2005-03-01</th>\n",
       "      <td>7498.1</td>\n",
       "    </tr>\n",
       "    <tr>\n",
       "      <th>2005-04-01</th>\n",
       "      <td>6840.4</td>\n",
       "    </tr>\n",
       "    <tr>\n",
       "      <th>2005-05-01</th>\n",
       "      <td>6470.0</td>\n",
       "    </tr>\n",
       "    <tr>\n",
       "      <th>...</th>\n",
       "      <td>...</td>\n",
       "    </tr>\n",
       "    <tr>\n",
       "      <th>2009-09-01</th>\n",
       "      <td>727.9</td>\n",
       "    </tr>\n",
       "    <tr>\n",
       "      <th>2009-10-01</th>\n",
       "      <td>797.7</td>\n",
       "    </tr>\n",
       "    <tr>\n",
       "      <th>2009-11-01</th>\n",
       "      <td>685.8</td>\n",
       "    </tr>\n",
       "    <tr>\n",
       "      <th>2009-12-01</th>\n",
       "      <td>675.3</td>\n",
       "    </tr>\n",
       "    <tr>\n",
       "      <th>2010-01-01</th>\n",
       "      <td>690.2</td>\n",
       "    </tr>\n",
       "  </tbody>\n",
       "</table>\n",
       "<p>61 rows × 1 columns</p>\n",
       "</div>"
      ],
      "text/plain": [
       "            Oil Production\n",
       "Date                      \n",
       "2005-01-01          8045.2\n",
       "2005-02-01          9243.7\n",
       "2005-03-01          7498.1\n",
       "2005-04-01          6840.4\n",
       "2005-05-01          6470.0\n",
       "...                    ...\n",
       "2009-09-01           727.9\n",
       "2009-10-01           797.7\n",
       "2009-11-01           685.8\n",
       "2009-12-01           675.3\n",
       "2010-01-01           690.2\n",
       "\n",
       "[61 rows x 1 columns]"
      ]
     },
     "execution_count": 15,
     "metadata": {},
     "output_type": "execute_result"
    }
   ],
   "source": [
    "data"
   ]
  },
  {
   "cell_type": "code",
   "execution_count": 16,
   "metadata": {},
   "outputs": [],
   "source": [
    "data[\"yt-1\"] = data.shift()[\"Oil Production\"]"
   ]
  },
  {
   "cell_type": "code",
   "execution_count": 17,
   "metadata": {},
   "outputs": [
    {
     "data": {
      "text/html": [
       "<div>\n",
       "<style scoped>\n",
       "    .dataframe tbody tr th:only-of-type {\n",
       "        vertical-align: middle;\n",
       "    }\n",
       "\n",
       "    .dataframe tbody tr th {\n",
       "        vertical-align: top;\n",
       "    }\n",
       "\n",
       "    .dataframe thead th {\n",
       "        text-align: right;\n",
       "    }\n",
       "</style>\n",
       "<table border=\"1\" class=\"dataframe\">\n",
       "  <thead>\n",
       "    <tr style=\"text-align: right;\">\n",
       "      <th></th>\n",
       "      <th>Oil Production</th>\n",
       "      <th>yt-1</th>\n",
       "    </tr>\n",
       "    <tr>\n",
       "      <th>Date</th>\n",
       "      <th></th>\n",
       "      <th></th>\n",
       "    </tr>\n",
       "  </thead>\n",
       "  <tbody>\n",
       "    <tr>\n",
       "      <th>2005-01-01</th>\n",
       "      <td>8045.2</td>\n",
       "      <td>NaN</td>\n",
       "    </tr>\n",
       "    <tr>\n",
       "      <th>2005-02-01</th>\n",
       "      <td>9243.7</td>\n",
       "      <td>8045.2</td>\n",
       "    </tr>\n",
       "    <tr>\n",
       "      <th>2005-03-01</th>\n",
       "      <td>7498.1</td>\n",
       "      <td>9243.7</td>\n",
       "    </tr>\n",
       "    <tr>\n",
       "      <th>2005-04-01</th>\n",
       "      <td>6840.4</td>\n",
       "      <td>7498.1</td>\n",
       "    </tr>\n",
       "    <tr>\n",
       "      <th>2005-05-01</th>\n",
       "      <td>6470.0</td>\n",
       "      <td>6840.4</td>\n",
       "    </tr>\n",
       "    <tr>\n",
       "      <th>...</th>\n",
       "      <td>...</td>\n",
       "      <td>...</td>\n",
       "    </tr>\n",
       "    <tr>\n",
       "      <th>2009-09-01</th>\n",
       "      <td>727.9</td>\n",
       "      <td>713.9</td>\n",
       "    </tr>\n",
       "    <tr>\n",
       "      <th>2009-10-01</th>\n",
       "      <td>797.7</td>\n",
       "      <td>727.9</td>\n",
       "    </tr>\n",
       "    <tr>\n",
       "      <th>2009-11-01</th>\n",
       "      <td>685.8</td>\n",
       "      <td>797.7</td>\n",
       "    </tr>\n",
       "    <tr>\n",
       "      <th>2009-12-01</th>\n",
       "      <td>675.3</td>\n",
       "      <td>685.8</td>\n",
       "    </tr>\n",
       "    <tr>\n",
       "      <th>2010-01-01</th>\n",
       "      <td>690.2</td>\n",
       "      <td>675.3</td>\n",
       "    </tr>\n",
       "  </tbody>\n",
       "</table>\n",
       "<p>61 rows × 2 columns</p>\n",
       "</div>"
      ],
      "text/plain": [
       "            Oil Production    yt-1\n",
       "Date                              \n",
       "2005-01-01          8045.2     NaN\n",
       "2005-02-01          9243.7  8045.2\n",
       "2005-03-01          7498.1  9243.7\n",
       "2005-04-01          6840.4  7498.1\n",
       "2005-05-01          6470.0  6840.4\n",
       "...                    ...     ...\n",
       "2009-09-01           727.9   713.9\n",
       "2009-10-01           797.7   727.9\n",
       "2009-11-01           685.8   797.7\n",
       "2009-12-01           675.3   685.8\n",
       "2010-01-01           690.2   675.3\n",
       "\n",
       "[61 rows x 2 columns]"
      ]
     },
     "execution_count": 17,
     "metadata": {},
     "output_type": "execute_result"
    }
   ],
   "source": [
    "data"
   ]
  },
  {
   "cell_type": "code",
   "execution_count": 18,
   "metadata": {},
   "outputs": [
    {
     "data": {
      "text/plain": [
       "Date\n",
       "2005-01-01       NaN\n",
       "2005-02-01       NaN\n",
       "2005-03-01    8045.2\n",
       "2005-04-01    9243.7\n",
       "2005-05-01    7498.1\n",
       "               ...  \n",
       "2009-09-01     730.7\n",
       "2009-10-01     713.9\n",
       "2009-11-01     727.9\n",
       "2009-12-01     797.7\n",
       "2010-01-01     685.8\n",
       "Name: Oil Production, Length: 61, dtype: float64"
      ]
     },
     "execution_count": 18,
     "metadata": {},
     "output_type": "execute_result"
    }
   ],
   "source": [
    "data[\"Oil Production\"].shift(2)"
   ]
  },
  {
   "cell_type": "code",
   "execution_count": 19,
   "metadata": {},
   "outputs": [],
   "source": [
    "data[\"yt-2\"] = data[\"Oil Production\"].shift(2)"
   ]
  },
  {
   "cell_type": "code",
   "execution_count": 20,
   "metadata": {},
   "outputs": [
    {
     "data": {
      "text/html": [
       "<div>\n",
       "<style scoped>\n",
       "    .dataframe tbody tr th:only-of-type {\n",
       "        vertical-align: middle;\n",
       "    }\n",
       "\n",
       "    .dataframe tbody tr th {\n",
       "        vertical-align: top;\n",
       "    }\n",
       "\n",
       "    .dataframe thead th {\n",
       "        text-align: right;\n",
       "    }\n",
       "</style>\n",
       "<table border=\"1\" class=\"dataframe\">\n",
       "  <thead>\n",
       "    <tr style=\"text-align: right;\">\n",
       "      <th></th>\n",
       "      <th>Oil Production</th>\n",
       "      <th>yt-1</th>\n",
       "      <th>yt-2</th>\n",
       "    </tr>\n",
       "    <tr>\n",
       "      <th>Date</th>\n",
       "      <th></th>\n",
       "      <th></th>\n",
       "      <th></th>\n",
       "    </tr>\n",
       "  </thead>\n",
       "  <tbody>\n",
       "    <tr>\n",
       "      <th>2005-01-01</th>\n",
       "      <td>8045.2</td>\n",
       "      <td>NaN</td>\n",
       "      <td>NaN</td>\n",
       "    </tr>\n",
       "    <tr>\n",
       "      <th>2005-02-01</th>\n",
       "      <td>9243.7</td>\n",
       "      <td>8045.2</td>\n",
       "      <td>NaN</td>\n",
       "    </tr>\n",
       "    <tr>\n",
       "      <th>2005-03-01</th>\n",
       "      <td>7498.1</td>\n",
       "      <td>9243.7</td>\n",
       "      <td>8045.2</td>\n",
       "    </tr>\n",
       "    <tr>\n",
       "      <th>2005-04-01</th>\n",
       "      <td>6840.4</td>\n",
       "      <td>7498.1</td>\n",
       "      <td>9243.7</td>\n",
       "    </tr>\n",
       "    <tr>\n",
       "      <th>2005-05-01</th>\n",
       "      <td>6470.0</td>\n",
       "      <td>6840.4</td>\n",
       "      <td>7498.1</td>\n",
       "    </tr>\n",
       "    <tr>\n",
       "      <th>...</th>\n",
       "      <td>...</td>\n",
       "      <td>...</td>\n",
       "      <td>...</td>\n",
       "    </tr>\n",
       "    <tr>\n",
       "      <th>2009-09-01</th>\n",
       "      <td>727.9</td>\n",
       "      <td>713.9</td>\n",
       "      <td>730.7</td>\n",
       "    </tr>\n",
       "    <tr>\n",
       "      <th>2009-10-01</th>\n",
       "      <td>797.7</td>\n",
       "      <td>727.9</td>\n",
       "      <td>713.9</td>\n",
       "    </tr>\n",
       "    <tr>\n",
       "      <th>2009-11-01</th>\n",
       "      <td>685.8</td>\n",
       "      <td>797.7</td>\n",
       "      <td>727.9</td>\n",
       "    </tr>\n",
       "    <tr>\n",
       "      <th>2009-12-01</th>\n",
       "      <td>675.3</td>\n",
       "      <td>685.8</td>\n",
       "      <td>797.7</td>\n",
       "    </tr>\n",
       "    <tr>\n",
       "      <th>2010-01-01</th>\n",
       "      <td>690.2</td>\n",
       "      <td>675.3</td>\n",
       "      <td>685.8</td>\n",
       "    </tr>\n",
       "  </tbody>\n",
       "</table>\n",
       "<p>61 rows × 3 columns</p>\n",
       "</div>"
      ],
      "text/plain": [
       "            Oil Production    yt-1    yt-2\n",
       "Date                                      \n",
       "2005-01-01          8045.2     NaN     NaN\n",
       "2005-02-01          9243.7  8045.2     NaN\n",
       "2005-03-01          7498.1  9243.7  8045.2\n",
       "2005-04-01          6840.4  7498.1  9243.7\n",
       "2005-05-01          6470.0  6840.4  7498.1\n",
       "...                    ...     ...     ...\n",
       "2009-09-01           727.9   713.9   730.7\n",
       "2009-10-01           797.7   727.9   713.9\n",
       "2009-11-01           685.8   797.7   727.9\n",
       "2009-12-01           675.3   685.8   797.7\n",
       "2010-01-01           690.2   675.3   685.8\n",
       "\n",
       "[61 rows x 3 columns]"
      ]
     },
     "execution_count": 20,
     "metadata": {},
     "output_type": "execute_result"
    }
   ],
   "source": [
    "data"
   ]
  },
  {
   "cell_type": "code",
   "execution_count": 21,
   "metadata": {},
   "outputs": [],
   "source": [
    "data[\"yt-3\"] = data[\"Oil Production\"].shift(3)"
   ]
  },
  {
   "cell_type": "code",
   "execution_count": 22,
   "metadata": {},
   "outputs": [
    {
     "data": {
      "text/html": [
       "<div>\n",
       "<style scoped>\n",
       "    .dataframe tbody tr th:only-of-type {\n",
       "        vertical-align: middle;\n",
       "    }\n",
       "\n",
       "    .dataframe tbody tr th {\n",
       "        vertical-align: top;\n",
       "    }\n",
       "\n",
       "    .dataframe thead th {\n",
       "        text-align: right;\n",
       "    }\n",
       "</style>\n",
       "<table border=\"1\" class=\"dataframe\">\n",
       "  <thead>\n",
       "    <tr style=\"text-align: right;\">\n",
       "      <th></th>\n",
       "      <th>Oil Production</th>\n",
       "      <th>yt-1</th>\n",
       "      <th>yt-2</th>\n",
       "      <th>yt-3</th>\n",
       "    </tr>\n",
       "    <tr>\n",
       "      <th>Date</th>\n",
       "      <th></th>\n",
       "      <th></th>\n",
       "      <th></th>\n",
       "      <th></th>\n",
       "    </tr>\n",
       "  </thead>\n",
       "  <tbody>\n",
       "    <tr>\n",
       "      <th>2005-01-01</th>\n",
       "      <td>8045.2</td>\n",
       "      <td>NaN</td>\n",
       "      <td>NaN</td>\n",
       "      <td>NaN</td>\n",
       "    </tr>\n",
       "    <tr>\n",
       "      <th>2005-02-01</th>\n",
       "      <td>9243.7</td>\n",
       "      <td>8045.2</td>\n",
       "      <td>NaN</td>\n",
       "      <td>NaN</td>\n",
       "    </tr>\n",
       "    <tr>\n",
       "      <th>2005-03-01</th>\n",
       "      <td>7498.1</td>\n",
       "      <td>9243.7</td>\n",
       "      <td>8045.2</td>\n",
       "      <td>NaN</td>\n",
       "    </tr>\n",
       "    <tr>\n",
       "      <th>2005-04-01</th>\n",
       "      <td>6840.4</td>\n",
       "      <td>7498.1</td>\n",
       "      <td>9243.7</td>\n",
       "      <td>8045.2</td>\n",
       "    </tr>\n",
       "    <tr>\n",
       "      <th>2005-05-01</th>\n",
       "      <td>6470.0</td>\n",
       "      <td>6840.4</td>\n",
       "      <td>7498.1</td>\n",
       "      <td>9243.7</td>\n",
       "    </tr>\n",
       "    <tr>\n",
       "      <th>...</th>\n",
       "      <td>...</td>\n",
       "      <td>...</td>\n",
       "      <td>...</td>\n",
       "      <td>...</td>\n",
       "    </tr>\n",
       "    <tr>\n",
       "      <th>2009-09-01</th>\n",
       "      <td>727.9</td>\n",
       "      <td>713.9</td>\n",
       "      <td>730.7</td>\n",
       "      <td>898.6</td>\n",
       "    </tr>\n",
       "    <tr>\n",
       "      <th>2009-10-01</th>\n",
       "      <td>797.7</td>\n",
       "      <td>727.9</td>\n",
       "      <td>713.9</td>\n",
       "      <td>730.7</td>\n",
       "    </tr>\n",
       "    <tr>\n",
       "      <th>2009-11-01</th>\n",
       "      <td>685.8</td>\n",
       "      <td>797.7</td>\n",
       "      <td>727.9</td>\n",
       "      <td>713.9</td>\n",
       "    </tr>\n",
       "    <tr>\n",
       "      <th>2009-12-01</th>\n",
       "      <td>675.3</td>\n",
       "      <td>685.8</td>\n",
       "      <td>797.7</td>\n",
       "      <td>727.9</td>\n",
       "    </tr>\n",
       "    <tr>\n",
       "      <th>2010-01-01</th>\n",
       "      <td>690.2</td>\n",
       "      <td>675.3</td>\n",
       "      <td>685.8</td>\n",
       "      <td>797.7</td>\n",
       "    </tr>\n",
       "  </tbody>\n",
       "</table>\n",
       "<p>61 rows × 4 columns</p>\n",
       "</div>"
      ],
      "text/plain": [
       "            Oil Production    yt-1    yt-2    yt-3\n",
       "Date                                              \n",
       "2005-01-01          8045.2     NaN     NaN     NaN\n",
       "2005-02-01          9243.7  8045.2     NaN     NaN\n",
       "2005-03-01          7498.1  9243.7  8045.2     NaN\n",
       "2005-04-01          6840.4  7498.1  9243.7  8045.2\n",
       "2005-05-01          6470.0  6840.4  7498.1  9243.7\n",
       "...                    ...     ...     ...     ...\n",
       "2009-09-01           727.9   713.9   730.7   898.6\n",
       "2009-10-01           797.7   727.9   713.9   730.7\n",
       "2009-11-01           685.8   797.7   727.9   713.9\n",
       "2009-12-01           675.3   685.8   797.7   727.9\n",
       "2010-01-01           690.2   675.3   685.8   797.7\n",
       "\n",
       "[61 rows x 4 columns]"
      ]
     },
     "execution_count": 22,
     "metadata": {},
     "output_type": "execute_result"
    }
   ],
   "source": [
    "data "
   ]
  },
  {
   "cell_type": "code",
   "execution_count": 31,
   "metadata": {},
   "outputs": [],
   "source": [
    "# Sample input data\n",
    "X = data[[\"yt-1\",\"yt-2\",\"yt-3\"]][3:]\n",
    "y = data[['Oil Production']][3:]\n"
   ]
  },
  {
   "cell_type": "markdown",
   "metadata": {},
   "source": [
    "## Linear Regression Model"
   ]
  },
  {
   "cell_type": "code",
   "execution_count": 32,
   "metadata": {},
   "outputs": [],
   "source": [
    "model = LinearRegression()\n"
   ]
  },
  {
   "cell_type": "code",
   "execution_count": 33,
   "metadata": {},
   "outputs": [
    {
     "data": {
      "text/html": [
       "<div>\n",
       "<style scoped>\n",
       "    .dataframe tbody tr th:only-of-type {\n",
       "        vertical-align: middle;\n",
       "    }\n",
       "\n",
       "    .dataframe tbody tr th {\n",
       "        vertical-align: top;\n",
       "    }\n",
       "\n",
       "    .dataframe thead th {\n",
       "        text-align: right;\n",
       "    }\n",
       "</style>\n",
       "<table border=\"1\" class=\"dataframe\">\n",
       "  <thead>\n",
       "    <tr style=\"text-align: right;\">\n",
       "      <th></th>\n",
       "      <th>yt-1</th>\n",
       "      <th>yt-2</th>\n",
       "      <th>yt-3</th>\n",
       "    </tr>\n",
       "    <tr>\n",
       "      <th>Date</th>\n",
       "      <th></th>\n",
       "      <th></th>\n",
       "      <th></th>\n",
       "    </tr>\n",
       "  </thead>\n",
       "  <tbody>\n",
       "    <tr>\n",
       "      <th>2005-04-01</th>\n",
       "      <td>7498.1</td>\n",
       "      <td>9243.7</td>\n",
       "      <td>8045.2</td>\n",
       "    </tr>\n",
       "    <tr>\n",
       "      <th>2005-05-01</th>\n",
       "      <td>6840.4</td>\n",
       "      <td>7498.1</td>\n",
       "      <td>9243.7</td>\n",
       "    </tr>\n",
       "    <tr>\n",
       "      <th>2005-06-01</th>\n",
       "      <td>6470.0</td>\n",
       "      <td>6840.4</td>\n",
       "      <td>7498.1</td>\n",
       "    </tr>\n",
       "    <tr>\n",
       "      <th>2005-07-01</th>\n",
       "      <td>7738.3</td>\n",
       "      <td>6470.0</td>\n",
       "      <td>6840.4</td>\n",
       "    </tr>\n",
       "    <tr>\n",
       "      <th>2005-08-01</th>\n",
       "      <td>6157.6</td>\n",
       "      <td>7738.3</td>\n",
       "      <td>6470.0</td>\n",
       "    </tr>\n",
       "    <tr>\n",
       "      <th>2005-09-01</th>\n",
       "      <td>5788.6</td>\n",
       "      <td>6157.6</td>\n",
       "      <td>7738.3</td>\n",
       "    </tr>\n",
       "    <tr>\n",
       "      <th>2005-10-01</th>\n",
       "      <td>5604.2</td>\n",
       "      <td>5788.6</td>\n",
       "      <td>6157.6</td>\n",
       "    </tr>\n",
       "    <tr>\n",
       "      <th>2005-11-01</th>\n",
       "      <td>6545.3</td>\n",
       "      <td>5604.2</td>\n",
       "      <td>5788.6</td>\n",
       "    </tr>\n",
       "    <tr>\n",
       "      <th>2005-12-01</th>\n",
       "      <td>4874.4</td>\n",
       "      <td>6545.3</td>\n",
       "      <td>5604.2</td>\n",
       "    </tr>\n",
       "    <tr>\n",
       "      <th>2006-01-01</th>\n",
       "      <td>4295.5</td>\n",
       "      <td>4874.4</td>\n",
       "      <td>6545.3</td>\n",
       "    </tr>\n",
       "    <tr>\n",
       "      <th>2006-02-01</th>\n",
       "      <td>4071.4</td>\n",
       "      <td>4295.5</td>\n",
       "      <td>4874.4</td>\n",
       "    </tr>\n",
       "    <tr>\n",
       "      <th>2006-03-01</th>\n",
       "      <td>4874.1</td>\n",
       "      <td>4071.4</td>\n",
       "      <td>4295.5</td>\n",
       "    </tr>\n",
       "    <tr>\n",
       "      <th>2006-04-01</th>\n",
       "      <td>3771.4</td>\n",
       "      <td>4874.1</td>\n",
       "      <td>4071.4</td>\n",
       "    </tr>\n",
       "    <tr>\n",
       "      <th>2006-05-01</th>\n",
       "      <td>3540.4</td>\n",
       "      <td>3771.4</td>\n",
       "      <td>4874.1</td>\n",
       "    </tr>\n",
       "    <tr>\n",
       "      <th>2006-06-01</th>\n",
       "      <td>3412.8</td>\n",
       "      <td>3540.4</td>\n",
       "      <td>3771.4</td>\n",
       "    </tr>\n",
       "    <tr>\n",
       "      <th>2006-07-01</th>\n",
       "      <td>4074.6</td>\n",
       "      <td>3412.8</td>\n",
       "      <td>3540.4</td>\n",
       "    </tr>\n",
       "    <tr>\n",
       "      <th>2006-08-01</th>\n",
       "      <td>3035.8</td>\n",
       "      <td>4074.6</td>\n",
       "      <td>3412.8</td>\n",
       "    </tr>\n",
       "    <tr>\n",
       "      <th>2006-09-01</th>\n",
       "      <td>2818.5</td>\n",
       "      <td>3035.8</td>\n",
       "      <td>4074.6</td>\n",
       "    </tr>\n",
       "    <tr>\n",
       "      <th>2006-10-01</th>\n",
       "      <td>2771.7</td>\n",
       "      <td>2818.5</td>\n",
       "      <td>3035.8</td>\n",
       "    </tr>\n",
       "    <tr>\n",
       "      <th>2006-11-01</th>\n",
       "      <td>3432.8</td>\n",
       "      <td>2771.7</td>\n",
       "      <td>2818.5</td>\n",
       "    </tr>\n",
       "    <tr>\n",
       "      <th>2006-12-01</th>\n",
       "      <td>2557.9</td>\n",
       "      <td>3432.8</td>\n",
       "      <td>2771.7</td>\n",
       "    </tr>\n",
       "    <tr>\n",
       "      <th>2007-01-01</th>\n",
       "      <td>2434.0</td>\n",
       "      <td>2557.9</td>\n",
       "      <td>3432.8</td>\n",
       "    </tr>\n",
       "    <tr>\n",
       "      <th>2007-02-01</th>\n",
       "      <td>2474.1</td>\n",
       "      <td>2434.0</td>\n",
       "      <td>2557.9</td>\n",
       "    </tr>\n",
       "    <tr>\n",
       "      <th>2007-03-01</th>\n",
       "      <td>3058.6</td>\n",
       "      <td>2474.1</td>\n",
       "      <td>2434.0</td>\n",
       "    </tr>\n",
       "    <tr>\n",
       "      <th>2007-04-01</th>\n",
       "      <td>2209.2</td>\n",
       "      <td>3058.6</td>\n",
       "      <td>2474.1</td>\n",
       "    </tr>\n",
       "    <tr>\n",
       "      <th>2007-05-01</th>\n",
       "      <td>2070.4</td>\n",
       "      <td>2209.2</td>\n",
       "      <td>3058.6</td>\n",
       "    </tr>\n",
       "    <tr>\n",
       "      <th>2007-06-01</th>\n",
       "      <td>2107.0</td>\n",
       "      <td>2070.4</td>\n",
       "      <td>2209.2</td>\n",
       "    </tr>\n",
       "    <tr>\n",
       "      <th>2007-07-01</th>\n",
       "      <td>2626.8</td>\n",
       "      <td>2107.0</td>\n",
       "      <td>2070.4</td>\n",
       "    </tr>\n",
       "    <tr>\n",
       "      <th>2007-08-01</th>\n",
       "      <td>1880.6</td>\n",
       "      <td>2626.8</td>\n",
       "      <td>2107.0</td>\n",
       "    </tr>\n",
       "    <tr>\n",
       "      <th>2007-09-01</th>\n",
       "      <td>1783.4</td>\n",
       "      <td>1880.6</td>\n",
       "      <td>2626.8</td>\n",
       "    </tr>\n",
       "    <tr>\n",
       "      <th>2007-10-01</th>\n",
       "      <td>1818.5</td>\n",
       "      <td>1783.4</td>\n",
       "      <td>1880.6</td>\n",
       "    </tr>\n",
       "    <tr>\n",
       "      <th>2007-11-01</th>\n",
       "      <td>2243.1</td>\n",
       "      <td>1818.5</td>\n",
       "      <td>1783.4</td>\n",
       "    </tr>\n",
       "    <tr>\n",
       "      <th>2007-12-01</th>\n",
       "      <td>1587.6</td>\n",
       "      <td>2243.1</td>\n",
       "      <td>1818.5</td>\n",
       "    </tr>\n",
       "    <tr>\n",
       "      <th>2008-01-01</th>\n",
       "      <td>1491.3</td>\n",
       "      <td>1587.6</td>\n",
       "      <td>2243.1</td>\n",
       "    </tr>\n",
       "    <tr>\n",
       "      <th>2008-02-01</th>\n",
       "      <td>1485.7</td>\n",
       "      <td>1491.3</td>\n",
       "      <td>1587.6</td>\n",
       "    </tr>\n",
       "    <tr>\n",
       "      <th>2008-03-01</th>\n",
       "      <td>1794.7</td>\n",
       "      <td>1485.7</td>\n",
       "      <td>1491.3</td>\n",
       "    </tr>\n",
       "    <tr>\n",
       "      <th>2008-04-01</th>\n",
       "      <td>1256.0</td>\n",
       "      <td>1794.7</td>\n",
       "      <td>1485.7</td>\n",
       "    </tr>\n",
       "    <tr>\n",
       "      <th>2008-05-01</th>\n",
       "      <td>1156.6</td>\n",
       "      <td>1256.0</td>\n",
       "      <td>1794.7</td>\n",
       "    </tr>\n",
       "    <tr>\n",
       "      <th>2008-06-01</th>\n",
       "      <td>1213.1</td>\n",
       "      <td>1156.6</td>\n",
       "      <td>1256.0</td>\n",
       "    </tr>\n",
       "    <tr>\n",
       "      <th>2008-07-01</th>\n",
       "      <td>1452.0</td>\n",
       "      <td>1213.1</td>\n",
       "      <td>1156.6</td>\n",
       "    </tr>\n",
       "    <tr>\n",
       "      <th>2008-08-01</th>\n",
       "      <td>1044.9</td>\n",
       "      <td>1452.0</td>\n",
       "      <td>1213.1</td>\n",
       "    </tr>\n",
       "    <tr>\n",
       "      <th>2008-09-01</th>\n",
       "      <td>965.1</td>\n",
       "      <td>1044.9</td>\n",
       "      <td>1452.0</td>\n",
       "    </tr>\n",
       "    <tr>\n",
       "      <th>2008-10-01</th>\n",
       "      <td>988.9</td>\n",
       "      <td>965.1</td>\n",
       "      <td>1044.9</td>\n",
       "    </tr>\n",
       "    <tr>\n",
       "      <th>2008-11-01</th>\n",
       "      <td>1170.4</td>\n",
       "      <td>988.9</td>\n",
       "      <td>965.1</td>\n",
       "    </tr>\n",
       "    <tr>\n",
       "      <th>2008-12-01</th>\n",
       "      <td>926.4</td>\n",
       "      <td>1170.4</td>\n",
       "      <td>988.9</td>\n",
       "    </tr>\n",
       "    <tr>\n",
       "      <th>2009-01-01</th>\n",
       "      <td>906.3</td>\n",
       "      <td>926.4</td>\n",
       "      <td>1170.4</td>\n",
       "    </tr>\n",
       "    <tr>\n",
       "      <th>2009-02-01</th>\n",
       "      <td>913.5</td>\n",
       "      <td>906.3</td>\n",
       "      <td>926.4</td>\n",
       "    </tr>\n",
       "    <tr>\n",
       "      <th>2009-03-01</th>\n",
       "      <td>1067.2</td>\n",
       "      <td>913.5</td>\n",
       "      <td>906.3</td>\n",
       "    </tr>\n",
       "    <tr>\n",
       "      <th>2009-04-01</th>\n",
       "      <td>826.2</td>\n",
       "      <td>1067.2</td>\n",
       "      <td>913.5</td>\n",
       "    </tr>\n",
       "    <tr>\n",
       "      <th>2009-05-01</th>\n",
       "      <td>788.6</td>\n",
       "      <td>826.2</td>\n",
       "      <td>1067.2</td>\n",
       "    </tr>\n",
       "    <tr>\n",
       "      <th>2009-06-01</th>\n",
       "      <td>801.5</td>\n",
       "      <td>788.6</td>\n",
       "      <td>826.2</td>\n",
       "    </tr>\n",
       "    <tr>\n",
       "      <th>2009-07-01</th>\n",
       "      <td>898.6</td>\n",
       "      <td>801.5</td>\n",
       "      <td>788.6</td>\n",
       "    </tr>\n",
       "    <tr>\n",
       "      <th>2009-08-01</th>\n",
       "      <td>730.7</td>\n",
       "      <td>898.6</td>\n",
       "      <td>801.5</td>\n",
       "    </tr>\n",
       "    <tr>\n",
       "      <th>2009-09-01</th>\n",
       "      <td>713.9</td>\n",
       "      <td>730.7</td>\n",
       "      <td>898.6</td>\n",
       "    </tr>\n",
       "    <tr>\n",
       "      <th>2009-10-01</th>\n",
       "      <td>727.9</td>\n",
       "      <td>713.9</td>\n",
       "      <td>730.7</td>\n",
       "    </tr>\n",
       "    <tr>\n",
       "      <th>2009-11-01</th>\n",
       "      <td>797.7</td>\n",
       "      <td>727.9</td>\n",
       "      <td>713.9</td>\n",
       "    </tr>\n",
       "    <tr>\n",
       "      <th>2009-12-01</th>\n",
       "      <td>685.8</td>\n",
       "      <td>797.7</td>\n",
       "      <td>727.9</td>\n",
       "    </tr>\n",
       "    <tr>\n",
       "      <th>2010-01-01</th>\n",
       "      <td>675.3</td>\n",
       "      <td>685.8</td>\n",
       "      <td>797.7</td>\n",
       "    </tr>\n",
       "  </tbody>\n",
       "</table>\n",
       "</div>"
      ],
      "text/plain": [
       "              yt-1    yt-2    yt-3\n",
       "Date                              \n",
       "2005-04-01  7498.1  9243.7  8045.2\n",
       "2005-05-01  6840.4  7498.1  9243.7\n",
       "2005-06-01  6470.0  6840.4  7498.1\n",
       "2005-07-01  7738.3  6470.0  6840.4\n",
       "2005-08-01  6157.6  7738.3  6470.0\n",
       "2005-09-01  5788.6  6157.6  7738.3\n",
       "2005-10-01  5604.2  5788.6  6157.6\n",
       "2005-11-01  6545.3  5604.2  5788.6\n",
       "2005-12-01  4874.4  6545.3  5604.2\n",
       "2006-01-01  4295.5  4874.4  6545.3\n",
       "2006-02-01  4071.4  4295.5  4874.4\n",
       "2006-03-01  4874.1  4071.4  4295.5\n",
       "2006-04-01  3771.4  4874.1  4071.4\n",
       "2006-05-01  3540.4  3771.4  4874.1\n",
       "2006-06-01  3412.8  3540.4  3771.4\n",
       "2006-07-01  4074.6  3412.8  3540.4\n",
       "2006-08-01  3035.8  4074.6  3412.8\n",
       "2006-09-01  2818.5  3035.8  4074.6\n",
       "2006-10-01  2771.7  2818.5  3035.8\n",
       "2006-11-01  3432.8  2771.7  2818.5\n",
       "2006-12-01  2557.9  3432.8  2771.7\n",
       "2007-01-01  2434.0  2557.9  3432.8\n",
       "2007-02-01  2474.1  2434.0  2557.9\n",
       "2007-03-01  3058.6  2474.1  2434.0\n",
       "2007-04-01  2209.2  3058.6  2474.1\n",
       "2007-05-01  2070.4  2209.2  3058.6\n",
       "2007-06-01  2107.0  2070.4  2209.2\n",
       "2007-07-01  2626.8  2107.0  2070.4\n",
       "2007-08-01  1880.6  2626.8  2107.0\n",
       "2007-09-01  1783.4  1880.6  2626.8\n",
       "2007-10-01  1818.5  1783.4  1880.6\n",
       "2007-11-01  2243.1  1818.5  1783.4\n",
       "2007-12-01  1587.6  2243.1  1818.5\n",
       "2008-01-01  1491.3  1587.6  2243.1\n",
       "2008-02-01  1485.7  1491.3  1587.6\n",
       "2008-03-01  1794.7  1485.7  1491.3\n",
       "2008-04-01  1256.0  1794.7  1485.7\n",
       "2008-05-01  1156.6  1256.0  1794.7\n",
       "2008-06-01  1213.1  1156.6  1256.0\n",
       "2008-07-01  1452.0  1213.1  1156.6\n",
       "2008-08-01  1044.9  1452.0  1213.1\n",
       "2008-09-01   965.1  1044.9  1452.0\n",
       "2008-10-01   988.9   965.1  1044.9\n",
       "2008-11-01  1170.4   988.9   965.1\n",
       "2008-12-01   926.4  1170.4   988.9\n",
       "2009-01-01   906.3   926.4  1170.4\n",
       "2009-02-01   913.5   906.3   926.4\n",
       "2009-03-01  1067.2   913.5   906.3\n",
       "2009-04-01   826.2  1067.2   913.5\n",
       "2009-05-01   788.6   826.2  1067.2\n",
       "2009-06-01   801.5   788.6   826.2\n",
       "2009-07-01   898.6   801.5   788.6\n",
       "2009-08-01   730.7   898.6   801.5\n",
       "2009-09-01   713.9   730.7   898.6\n",
       "2009-10-01   727.9   713.9   730.7\n",
       "2009-11-01   797.7   727.9   713.9\n",
       "2009-12-01   685.8   797.7   727.9\n",
       "2010-01-01   675.3   685.8   797.7"
      ]
     },
     "execution_count": 33,
     "metadata": {},
     "output_type": "execute_result"
    }
   ],
   "source": [
    "X"
   ]
  },
  {
   "cell_type": "code",
   "execution_count": 34,
   "metadata": {},
   "outputs": [
    {
     "data": {
      "text/html": [
       "<style>#sk-container-id-1 {color: black;}#sk-container-id-1 pre{padding: 0;}#sk-container-id-1 div.sk-toggleable {background-color: white;}#sk-container-id-1 label.sk-toggleable__label {cursor: pointer;display: block;width: 100%;margin-bottom: 0;padding: 0.3em;box-sizing: border-box;text-align: center;}#sk-container-id-1 label.sk-toggleable__label-arrow:before {content: \"▸\";float: left;margin-right: 0.25em;color: #696969;}#sk-container-id-1 label.sk-toggleable__label-arrow:hover:before {color: black;}#sk-container-id-1 div.sk-estimator:hover label.sk-toggleable__label-arrow:before {color: black;}#sk-container-id-1 div.sk-toggleable__content {max-height: 0;max-width: 0;overflow: hidden;text-align: left;background-color: #f0f8ff;}#sk-container-id-1 div.sk-toggleable__content pre {margin: 0.2em;color: black;border-radius: 0.25em;background-color: #f0f8ff;}#sk-container-id-1 input.sk-toggleable__control:checked~div.sk-toggleable__content {max-height: 200px;max-width: 100%;overflow: auto;}#sk-container-id-1 input.sk-toggleable__control:checked~label.sk-toggleable__label-arrow:before {content: \"▾\";}#sk-container-id-1 div.sk-estimator input.sk-toggleable__control:checked~label.sk-toggleable__label {background-color: #d4ebff;}#sk-container-id-1 div.sk-label input.sk-toggleable__control:checked~label.sk-toggleable__label {background-color: #d4ebff;}#sk-container-id-1 input.sk-hidden--visually {border: 0;clip: rect(1px 1px 1px 1px);clip: rect(1px, 1px, 1px, 1px);height: 1px;margin: -1px;overflow: hidden;padding: 0;position: absolute;width: 1px;}#sk-container-id-1 div.sk-estimator {font-family: monospace;background-color: #f0f8ff;border: 1px dotted black;border-radius: 0.25em;box-sizing: border-box;margin-bottom: 0.5em;}#sk-container-id-1 div.sk-estimator:hover {background-color: #d4ebff;}#sk-container-id-1 div.sk-parallel-item::after {content: \"\";width: 100%;border-bottom: 1px solid gray;flex-grow: 1;}#sk-container-id-1 div.sk-label:hover label.sk-toggleable__label {background-color: #d4ebff;}#sk-container-id-1 div.sk-serial::before {content: \"\";position: absolute;border-left: 1px solid gray;box-sizing: border-box;top: 0;bottom: 0;left: 50%;z-index: 0;}#sk-container-id-1 div.sk-serial {display: flex;flex-direction: column;align-items: center;background-color: white;padding-right: 0.2em;padding-left: 0.2em;position: relative;}#sk-container-id-1 div.sk-item {position: relative;z-index: 1;}#sk-container-id-1 div.sk-parallel {display: flex;align-items: stretch;justify-content: center;background-color: white;position: relative;}#sk-container-id-1 div.sk-item::before, #sk-container-id-1 div.sk-parallel-item::before {content: \"\";position: absolute;border-left: 1px solid gray;box-sizing: border-box;top: 0;bottom: 0;left: 50%;z-index: -1;}#sk-container-id-1 div.sk-parallel-item {display: flex;flex-direction: column;z-index: 1;position: relative;background-color: white;}#sk-container-id-1 div.sk-parallel-item:first-child::after {align-self: flex-end;width: 50%;}#sk-container-id-1 div.sk-parallel-item:last-child::after {align-self: flex-start;width: 50%;}#sk-container-id-1 div.sk-parallel-item:only-child::after {width: 0;}#sk-container-id-1 div.sk-dashed-wrapped {border: 1px dashed gray;margin: 0 0.4em 0.5em 0.4em;box-sizing: border-box;padding-bottom: 0.4em;background-color: white;}#sk-container-id-1 div.sk-label label {font-family: monospace;font-weight: bold;display: inline-block;line-height: 1.2em;}#sk-container-id-1 div.sk-label-container {text-align: center;}#sk-container-id-1 div.sk-container {/* jupyter's `normalize.less` sets `[hidden] { display: none; }` but bootstrap.min.css set `[hidden] { display: none !important; }` so we also need the `!important` here to be able to override the default hidden behavior on the sphinx rendered scikit-learn.org. See: https://github.com/scikit-learn/scikit-learn/issues/21755 */display: inline-block !important;position: relative;}#sk-container-id-1 div.sk-text-repr-fallback {display: none;}</style><div id=\"sk-container-id-1\" class=\"sk-top-container\"><div class=\"sk-text-repr-fallback\"><pre>LinearRegression()</pre><b>In a Jupyter environment, please rerun this cell to show the HTML representation or trust the notebook. <br />On GitHub, the HTML representation is unable to render, please try loading this page with nbviewer.org.</b></div><div class=\"sk-container\" hidden><div class=\"sk-item\"><div class=\"sk-estimator sk-toggleable\"><input class=\"sk-toggleable__control sk-hidden--visually\" id=\"sk-estimator-id-1\" type=\"checkbox\" checked><label for=\"sk-estimator-id-1\" class=\"sk-toggleable__label sk-toggleable__label-arrow\">LinearRegression</label><div class=\"sk-toggleable__content\"><pre>LinearRegression()</pre></div></div></div></div></div>"
      ],
      "text/plain": [
       "LinearRegression()"
      ]
     },
     "execution_count": 34,
     "metadata": {},
     "output_type": "execute_result"
    }
   ],
   "source": [
    "#train the model \n",
    "\n",
    "model.fit(X,y)"
   ]
  },
  {
   "cell_type": "code",
   "execution_count": 35,
   "metadata": {},
   "outputs": [],
   "source": [
    "y_pred = model.predict(X)"
   ]
  },
  {
   "cell_type": "code",
   "execution_count": 36,
   "metadata": {},
   "outputs": [
    {
     "data": {
      "text/plain": [
       "array([[7078.57905622],\n",
       "       [7032.81801327],\n",
       "       [6188.18970874],\n",
       "       [6442.51527481],\n",
       "       [5795.3131817 ],\n",
       "       [5912.89277273],\n",
       "       [5236.29337824],\n",
       "       [5477.18381245],\n",
       "       [4821.52383407],\n",
       "       [4725.98895055],\n",
       "       [3977.49725785],\n",
       "       [4082.14564327],\n",
       "       [3633.58843164],\n",
       "       [3697.61464221],\n",
       "       [3229.00556399],\n",
       "       [3408.70231153],\n",
       "       [3005.08443247],\n",
       "       [3032.18179204],\n",
       "       [2621.33177947],\n",
       "       [2814.61972082],\n",
       "       [2507.72649623],\n",
       "       [2591.81290219],\n",
       "       [2285.51455618],\n",
       "       [2489.62970235],\n",
       "       [2215.48829117],\n",
       "       [2269.15802555],\n",
       "       [1968.74478269],\n",
       "       [2140.26027892],\n",
       "       [1900.6178856 ],\n",
       "       [1960.29927152],\n",
       "       [1700.38077422],\n",
       "       [1846.78257608],\n",
       "       [1633.72730298],\n",
       "       [1670.29594229],\n",
       "       [1425.57670763],\n",
       "       [1519.60212818],\n",
       "       [1327.86931913],\n",
       "       [1335.37220564],\n",
       "       [1157.43607724],\n",
       "       [1228.12349178],\n",
       "       [1105.29087121],\n",
       "       [1110.91398505],\n",
       "       [ 968.05261187],\n",
       "       [1018.10272039],\n",
       "       [ 945.21308353],\n",
       "       [ 973.66782864],\n",
       "       [ 888.20327017],\n",
       "       [ 945.912922  ],\n",
       "       [ 865.29624715],\n",
       "       [ 876.97641726],\n",
       "       [ 792.98717924],\n",
       "       [ 821.58116618],\n",
       "       [ 767.08595324],\n",
       "       [ 775.60957458],\n",
       "       [ 720.23480038],\n",
       "       [ 744.93258218],\n",
       "       [ 711.09131785],\n",
       "       [ 718.85919344]])"
      ]
     },
     "execution_count": 36,
     "metadata": {},
     "output_type": "execute_result"
    }
   ],
   "source": [
    "y_pred"
   ]
  },
  {
   "cell_type": "code",
   "execution_count": 38,
   "metadata": {},
   "outputs": [
    {
     "data": {
      "text/html": [
       "<div>\n",
       "<style scoped>\n",
       "    .dataframe tbody tr th:only-of-type {\n",
       "        vertical-align: middle;\n",
       "    }\n",
       "\n",
       "    .dataframe tbody tr th {\n",
       "        vertical-align: top;\n",
       "    }\n",
       "\n",
       "    .dataframe thead th {\n",
       "        text-align: right;\n",
       "    }\n",
       "</style>\n",
       "<table border=\"1\" class=\"dataframe\">\n",
       "  <thead>\n",
       "    <tr style=\"text-align: right;\">\n",
       "      <th></th>\n",
       "      <th>Oil Production</th>\n",
       "    </tr>\n",
       "    <tr>\n",
       "      <th>Date</th>\n",
       "      <th></th>\n",
       "    </tr>\n",
       "  </thead>\n",
       "  <tbody>\n",
       "    <tr>\n",
       "      <th>2005-04-01</th>\n",
       "      <td>6840.4</td>\n",
       "    </tr>\n",
       "    <tr>\n",
       "      <th>2005-05-01</th>\n",
       "      <td>6470.0</td>\n",
       "    </tr>\n",
       "    <tr>\n",
       "      <th>2005-06-01</th>\n",
       "      <td>7738.3</td>\n",
       "    </tr>\n",
       "    <tr>\n",
       "      <th>2005-07-01</th>\n",
       "      <td>6157.6</td>\n",
       "    </tr>\n",
       "    <tr>\n",
       "      <th>2005-08-01</th>\n",
       "      <td>5788.6</td>\n",
       "    </tr>\n",
       "    <tr>\n",
       "      <th>2005-09-01</th>\n",
       "      <td>5604.2</td>\n",
       "    </tr>\n",
       "    <tr>\n",
       "      <th>2005-10-01</th>\n",
       "      <td>6545.3</td>\n",
       "    </tr>\n",
       "    <tr>\n",
       "      <th>2005-11-01</th>\n",
       "      <td>4874.4</td>\n",
       "    </tr>\n",
       "    <tr>\n",
       "      <th>2005-12-01</th>\n",
       "      <td>4295.5</td>\n",
       "    </tr>\n",
       "    <tr>\n",
       "      <th>2006-01-01</th>\n",
       "      <td>4071.4</td>\n",
       "    </tr>\n",
       "    <tr>\n",
       "      <th>2006-02-01</th>\n",
       "      <td>4874.1</td>\n",
       "    </tr>\n",
       "    <tr>\n",
       "      <th>2006-03-01</th>\n",
       "      <td>3771.4</td>\n",
       "    </tr>\n",
       "    <tr>\n",
       "      <th>2006-04-01</th>\n",
       "      <td>3540.4</td>\n",
       "    </tr>\n",
       "    <tr>\n",
       "      <th>2006-05-01</th>\n",
       "      <td>3412.8</td>\n",
       "    </tr>\n",
       "    <tr>\n",
       "      <th>2006-06-01</th>\n",
       "      <td>4074.6</td>\n",
       "    </tr>\n",
       "    <tr>\n",
       "      <th>2006-07-01</th>\n",
       "      <td>3035.8</td>\n",
       "    </tr>\n",
       "    <tr>\n",
       "      <th>2006-08-01</th>\n",
       "      <td>2818.5</td>\n",
       "    </tr>\n",
       "    <tr>\n",
       "      <th>2006-09-01</th>\n",
       "      <td>2771.7</td>\n",
       "    </tr>\n",
       "    <tr>\n",
       "      <th>2006-10-01</th>\n",
       "      <td>3432.8</td>\n",
       "    </tr>\n",
       "    <tr>\n",
       "      <th>2006-11-01</th>\n",
       "      <td>2557.9</td>\n",
       "    </tr>\n",
       "    <tr>\n",
       "      <th>2006-12-01</th>\n",
       "      <td>2434.0</td>\n",
       "    </tr>\n",
       "    <tr>\n",
       "      <th>2007-01-01</th>\n",
       "      <td>2474.1</td>\n",
       "    </tr>\n",
       "    <tr>\n",
       "      <th>2007-02-01</th>\n",
       "      <td>3058.6</td>\n",
       "    </tr>\n",
       "    <tr>\n",
       "      <th>2007-03-01</th>\n",
       "      <td>2209.2</td>\n",
       "    </tr>\n",
       "    <tr>\n",
       "      <th>2007-04-01</th>\n",
       "      <td>2070.4</td>\n",
       "    </tr>\n",
       "    <tr>\n",
       "      <th>2007-05-01</th>\n",
       "      <td>2107.0</td>\n",
       "    </tr>\n",
       "    <tr>\n",
       "      <th>2007-06-01</th>\n",
       "      <td>2626.8</td>\n",
       "    </tr>\n",
       "    <tr>\n",
       "      <th>2007-07-01</th>\n",
       "      <td>1880.6</td>\n",
       "    </tr>\n",
       "    <tr>\n",
       "      <th>2007-08-01</th>\n",
       "      <td>1783.4</td>\n",
       "    </tr>\n",
       "    <tr>\n",
       "      <th>2007-09-01</th>\n",
       "      <td>1818.5</td>\n",
       "    </tr>\n",
       "    <tr>\n",
       "      <th>2007-10-01</th>\n",
       "      <td>2243.1</td>\n",
       "    </tr>\n",
       "    <tr>\n",
       "      <th>2007-11-01</th>\n",
       "      <td>1587.6</td>\n",
       "    </tr>\n",
       "    <tr>\n",
       "      <th>2007-12-01</th>\n",
       "      <td>1491.3</td>\n",
       "    </tr>\n",
       "    <tr>\n",
       "      <th>2008-01-01</th>\n",
       "      <td>1485.7</td>\n",
       "    </tr>\n",
       "    <tr>\n",
       "      <th>2008-02-01</th>\n",
       "      <td>1794.7</td>\n",
       "    </tr>\n",
       "    <tr>\n",
       "      <th>2008-03-01</th>\n",
       "      <td>1256.0</td>\n",
       "    </tr>\n",
       "    <tr>\n",
       "      <th>2008-04-01</th>\n",
       "      <td>1156.6</td>\n",
       "    </tr>\n",
       "    <tr>\n",
       "      <th>2008-05-01</th>\n",
       "      <td>1213.1</td>\n",
       "    </tr>\n",
       "    <tr>\n",
       "      <th>2008-06-01</th>\n",
       "      <td>1452.0</td>\n",
       "    </tr>\n",
       "    <tr>\n",
       "      <th>2008-07-01</th>\n",
       "      <td>1044.9</td>\n",
       "    </tr>\n",
       "    <tr>\n",
       "      <th>2008-08-01</th>\n",
       "      <td>965.1</td>\n",
       "    </tr>\n",
       "    <tr>\n",
       "      <th>2008-09-01</th>\n",
       "      <td>988.9</td>\n",
       "    </tr>\n",
       "    <tr>\n",
       "      <th>2008-10-01</th>\n",
       "      <td>1170.4</td>\n",
       "    </tr>\n",
       "    <tr>\n",
       "      <th>2008-11-01</th>\n",
       "      <td>926.4</td>\n",
       "    </tr>\n",
       "    <tr>\n",
       "      <th>2008-12-01</th>\n",
       "      <td>906.3</td>\n",
       "    </tr>\n",
       "    <tr>\n",
       "      <th>2009-01-01</th>\n",
       "      <td>913.5</td>\n",
       "    </tr>\n",
       "    <tr>\n",
       "      <th>2009-02-01</th>\n",
       "      <td>1067.2</td>\n",
       "    </tr>\n",
       "    <tr>\n",
       "      <th>2009-03-01</th>\n",
       "      <td>826.2</td>\n",
       "    </tr>\n",
       "    <tr>\n",
       "      <th>2009-04-01</th>\n",
       "      <td>788.6</td>\n",
       "    </tr>\n",
       "    <tr>\n",
       "      <th>2009-05-01</th>\n",
       "      <td>801.5</td>\n",
       "    </tr>\n",
       "    <tr>\n",
       "      <th>2009-06-01</th>\n",
       "      <td>898.6</td>\n",
       "    </tr>\n",
       "    <tr>\n",
       "      <th>2009-07-01</th>\n",
       "      <td>730.7</td>\n",
       "    </tr>\n",
       "    <tr>\n",
       "      <th>2009-08-01</th>\n",
       "      <td>713.9</td>\n",
       "    </tr>\n",
       "    <tr>\n",
       "      <th>2009-09-01</th>\n",
       "      <td>727.9</td>\n",
       "    </tr>\n",
       "    <tr>\n",
       "      <th>2009-10-01</th>\n",
       "      <td>797.7</td>\n",
       "    </tr>\n",
       "    <tr>\n",
       "      <th>2009-11-01</th>\n",
       "      <td>685.8</td>\n",
       "    </tr>\n",
       "    <tr>\n",
       "      <th>2009-12-01</th>\n",
       "      <td>675.3</td>\n",
       "    </tr>\n",
       "    <tr>\n",
       "      <th>2010-01-01</th>\n",
       "      <td>690.2</td>\n",
       "    </tr>\n",
       "  </tbody>\n",
       "</table>\n",
       "</div>"
      ],
      "text/plain": [
       "            Oil Production\n",
       "Date                      \n",
       "2005-04-01          6840.4\n",
       "2005-05-01          6470.0\n",
       "2005-06-01          7738.3\n",
       "2005-07-01          6157.6\n",
       "2005-08-01          5788.6\n",
       "2005-09-01          5604.2\n",
       "2005-10-01          6545.3\n",
       "2005-11-01          4874.4\n",
       "2005-12-01          4295.5\n",
       "2006-01-01          4071.4\n",
       "2006-02-01          4874.1\n",
       "2006-03-01          3771.4\n",
       "2006-04-01          3540.4\n",
       "2006-05-01          3412.8\n",
       "2006-06-01          4074.6\n",
       "2006-07-01          3035.8\n",
       "2006-08-01          2818.5\n",
       "2006-09-01          2771.7\n",
       "2006-10-01          3432.8\n",
       "2006-11-01          2557.9\n",
       "2006-12-01          2434.0\n",
       "2007-01-01          2474.1\n",
       "2007-02-01          3058.6\n",
       "2007-03-01          2209.2\n",
       "2007-04-01          2070.4\n",
       "2007-05-01          2107.0\n",
       "2007-06-01          2626.8\n",
       "2007-07-01          1880.6\n",
       "2007-08-01          1783.4\n",
       "2007-09-01          1818.5\n",
       "2007-10-01          2243.1\n",
       "2007-11-01          1587.6\n",
       "2007-12-01          1491.3\n",
       "2008-01-01          1485.7\n",
       "2008-02-01          1794.7\n",
       "2008-03-01          1256.0\n",
       "2008-04-01          1156.6\n",
       "2008-05-01          1213.1\n",
       "2008-06-01          1452.0\n",
       "2008-07-01          1044.9\n",
       "2008-08-01           965.1\n",
       "2008-09-01           988.9\n",
       "2008-10-01          1170.4\n",
       "2008-11-01           926.4\n",
       "2008-12-01           906.3\n",
       "2009-01-01           913.5\n",
       "2009-02-01          1067.2\n",
       "2009-03-01           826.2\n",
       "2009-04-01           788.6\n",
       "2009-05-01           801.5\n",
       "2009-06-01           898.6\n",
       "2009-07-01           730.7\n",
       "2009-08-01           713.9\n",
       "2009-09-01           727.9\n",
       "2009-10-01           797.7\n",
       "2009-11-01           685.8\n",
       "2009-12-01           675.3\n",
       "2010-01-01           690.2"
      ]
     },
     "execution_count": 38,
     "metadata": {},
     "output_type": "execute_result"
    }
   ],
   "source": [
    "y"
   ]
  },
  {
   "cell_type": "code",
   "execution_count": 44,
   "metadata": {},
   "outputs": [
    {
     "data": {
      "text/plain": [
       "<matplotlib.legend.Legend at 0x259d0da5730>"
      ]
     },
     "execution_count": 44,
     "metadata": {},
     "output_type": "execute_result"
    },
    {
     "data": {
      "image/png": "[encoded data removed]",
      "text/plain": [
       "<Figure size 1000x500 with 1 Axes>"
      ]
     },
     "metadata": {},
     "output_type": "display_data"
    }
   ],
   "source": [
    "plt.figure(figsize=(10,5))\n",
    "plt.plot(y.index,y,label=\"Actual\")\n",
    "plt.scatter(y.index,y_pred,label=\"Predicted\",c=\"red\")\n",
    "plt.legend()\n"
   ]
  },
  {
   "cell_type": "markdown",
   "metadata": {},
   "source": [
    "# Forecasting in future"
   ]
  },
  {
   "cell_type": "code",
   "execution_count": 23,
   "metadata": {},
   "outputs": [
    {
     "data": {
      "text/html": [
       "<div>\n",
       "<style scoped>\n",
       "    .dataframe tbody tr th:only-of-type {\n",
       "        vertical-align: middle;\n",
       "    }\n",
       "\n",
       "    .dataframe tbody tr th {\n",
       "        vertical-align: top;\n",
       "    }\n",
       "\n",
       "    .dataframe thead th {\n",
       "        text-align: right;\n",
       "    }\n",
       "</style>\n",
       "<table border=\"1\" class=\"dataframe\">\n",
       "  <thead>\n",
       "    <tr style=\"text-align: right;\">\n",
       "      <th></th>\n",
       "      <th>Oil Production</th>\n",
       "      <th>yt-1</th>\n",
       "      <th>yt-2</th>\n",
       "      <th>yt-3</th>\n",
       "    </tr>\n",
       "    <tr>\n",
       "      <th>Date</th>\n",
       "      <th></th>\n",
       "      <th></th>\n",
       "      <th></th>\n",
       "      <th></th>\n",
       "    </tr>\n",
       "  </thead>\n",
       "  <tbody>\n",
       "    <tr>\n",
       "      <th>2005-01-01</th>\n",
       "      <td>8045.2</td>\n",
       "      <td>NaN</td>\n",
       "      <td>NaN</td>\n",
       "      <td>NaN</td>\n",
       "    </tr>\n",
       "    <tr>\n",
       "      <th>2005-02-01</th>\n",
       "      <td>9243.7</td>\n",
       "      <td>8045.2</td>\n",
       "      <td>NaN</td>\n",
       "      <td>NaN</td>\n",
       "    </tr>\n",
       "    <tr>\n",
       "      <th>2005-03-01</th>\n",
       "      <td>7498.1</td>\n",
       "      <td>9243.7</td>\n",
       "      <td>8045.2</td>\n",
       "      <td>NaN</td>\n",
       "    </tr>\n",
       "    <tr>\n",
       "      <th>2005-04-01</th>\n",
       "      <td>6840.4</td>\n",
       "      <td>7498.1</td>\n",
       "      <td>9243.7</td>\n",
       "      <td>8045.2</td>\n",
       "    </tr>\n",
       "    <tr>\n",
       "      <th>2005-05-01</th>\n",
       "      <td>6470.0</td>\n",
       "      <td>6840.4</td>\n",
       "      <td>7498.1</td>\n",
       "      <td>9243.7</td>\n",
       "    </tr>\n",
       "    <tr>\n",
       "      <th>...</th>\n",
       "      <td>...</td>\n",
       "      <td>...</td>\n",
       "      <td>...</td>\n",
       "      <td>...</td>\n",
       "    </tr>\n",
       "    <tr>\n",
       "      <th>2009-09-01</th>\n",
       "      <td>727.9</td>\n",
       "      <td>713.9</td>\n",
       "      <td>730.7</td>\n",
       "      <td>898.6</td>\n",
       "    </tr>\n",
       "    <tr>\n",
       "      <th>2009-10-01</th>\n",
       "      <td>797.7</td>\n",
       "      <td>727.9</td>\n",
       "      <td>713.9</td>\n",
       "      <td>730.7</td>\n",
       "    </tr>\n",
       "    <tr>\n",
       "      <th>2009-11-01</th>\n",
       "      <td>685.8</td>\n",
       "      <td>797.7</td>\n",
       "      <td>727.9</td>\n",
       "      <td>713.9</td>\n",
       "    </tr>\n",
       "    <tr>\n",
       "      <th>2009-12-01</th>\n",
       "      <td>675.3</td>\n",
       "      <td>685.8</td>\n",
       "      <td>797.7</td>\n",
       "      <td>727.9</td>\n",
       "    </tr>\n",
       "    <tr>\n",
       "      <th>2010-01-01</th>\n",
       "      <td>690.2</td>\n",
       "      <td>675.3</td>\n",
       "      <td>685.8</td>\n",
       "      <td>797.7</td>\n",
       "    </tr>\n",
       "  </tbody>\n",
       "</table>\n",
       "<p>61 rows × 4 columns</p>\n",
       "</div>"
      ],
      "text/plain": [
       "            Oil Production    yt-1    yt-2    yt-3\n",
       "Date                                              \n",
       "2005-01-01          8045.2     NaN     NaN     NaN\n",
       "2005-02-01          9243.7  8045.2     NaN     NaN\n",
       "2005-03-01          7498.1  9243.7  8045.2     NaN\n",
       "2005-04-01          6840.4  7498.1  9243.7  8045.2\n",
       "2005-05-01          6470.0  6840.4  7498.1  9243.7\n",
       "...                    ...     ...     ...     ...\n",
       "2009-09-01           727.9   713.9   730.7   898.6\n",
       "2009-10-01           797.7   727.9   713.9   730.7\n",
       "2009-11-01           685.8   797.7   727.9   713.9\n",
       "2009-12-01           675.3   685.8   797.7   727.9\n",
       "2010-01-01           690.2   675.3   685.8   797.7\n",
       "\n",
       "[61 rows x 4 columns]"
      ]
     },
     "execution_count": 23,
     "metadata": {},
     "output_type": "execute_result"
    }
   ],
   "source": [
    "data"
   ]
  },
  {
   "cell_type": "code",
   "execution_count": 24,
   "metadata": {},
   "outputs": [
    {
     "ename": "NameError",
     "evalue": "name 'y' is not defined",
     "output_type": "error",
     "traceback": [
      "\u001b[1;31m---------------------------------------------------------------------------\u001b[0m",
      "\u001b[1;31mNameError\u001b[0m                                 Traceback (most recent call last)",
      "Cell \u001b[1;32mIn[24], line 1\u001b[0m\n\u001b[1;32m----> 1\u001b[0m \u001b[43my\u001b[49m\n",
      "\u001b[1;31mNameError\u001b[0m: name 'y' is not defined"
     ]
    }
   ],
   "source": [
    "y"
   ]
  },
  {
   "cell_type": "code",
   "execution_count": 50,
   "metadata": {},
   "outputs": [],
   "source": [
    "#1st time in future , yt is unknown\n",
    "\n",
    "yt,yt1,yt2,_ =  data.iloc[-1]"
   ]
  },
  {
   "cell_type": "code",
   "execution_count": 51,
   "metadata": {},
   "outputs": [
    {
     "data": {
      "text/plain": [
       "690.2"
      ]
     },
     "execution_count": 51,
     "metadata": {},
     "output_type": "execute_result"
    }
   ],
   "source": [
    "yt"
   ]
  },
  {
   "cell_type": "code",
   "execution_count": 52,
   "metadata": {},
   "outputs": [
    {
     "data": {
      "text/plain": [
       "675.3"
      ]
     },
     "execution_count": 52,
     "metadata": {},
     "output_type": "execute_result"
    }
   ],
   "source": [
    "yt1"
   ]
  },
  {
   "cell_type": "code",
   "execution_count": 53,
   "metadata": {},
   "outputs": [
    {
     "data": {
      "text/plain": [
       "685.8"
      ]
     },
     "execution_count": 53,
     "metadata": {},
     "output_type": "execute_result"
    }
   ],
   "source": [
    "yt2"
   ]
  },
  {
   "cell_type": "code",
   "execution_count": 54,
   "metadata": {},
   "outputs": [
    {
     "data": {
      "text/html": [
       "<div>\n",
       "<style scoped>\n",
       "    .dataframe tbody tr th:only-of-type {\n",
       "        vertical-align: middle;\n",
       "    }\n",
       "\n",
       "    .dataframe tbody tr th {\n",
       "        vertical-align: top;\n",
       "    }\n",
       "\n",
       "    .dataframe thead th {\n",
       "        text-align: right;\n",
       "    }\n",
       "</style>\n",
       "<table border=\"1\" class=\"dataframe\">\n",
       "  <thead>\n",
       "    <tr style=\"text-align: right;\">\n",
       "      <th></th>\n",
       "      <th>Oil Production</th>\n",
       "      <th>Pressure</th>\n",
       "    </tr>\n",
       "    <tr>\n",
       "      <th>Date</th>\n",
       "      <th></th>\n",
       "      <th></th>\n",
       "    </tr>\n",
       "  </thead>\n",
       "  <tbody>\n",
       "    <tr>\n",
       "      <th>2005-01-01</th>\n",
       "      <td>8045.2</td>\n",
       "      <td>353.5</td>\n",
       "    </tr>\n",
       "    <tr>\n",
       "      <th>2005-02-01</th>\n",
       "      <td>9243.7</td>\n",
       "      <td>426.8</td>\n",
       "    </tr>\n",
       "    <tr>\n",
       "      <th>2005-03-01</th>\n",
       "      <td>7498.1</td>\n",
       "      <td>313.4</td>\n",
       "    </tr>\n",
       "    <tr>\n",
       "      <th>2005-04-01</th>\n",
       "      <td>6840.4</td>\n",
       "      <td>362.5</td>\n",
       "    </tr>\n",
       "    <tr>\n",
       "      <th>2005-05-01</th>\n",
       "      <td>6470.0</td>\n",
       "      <td>456.1</td>\n",
       "    </tr>\n",
       "    <tr>\n",
       "      <th>...</th>\n",
       "      <td>...</td>\n",
       "      <td>...</td>\n",
       "    </tr>\n",
       "    <tr>\n",
       "      <th>2009-09-01</th>\n",
       "      <td>727.9</td>\n",
       "      <td>105.1</td>\n",
       "    </tr>\n",
       "    <tr>\n",
       "      <th>2009-10-01</th>\n",
       "      <td>797.7</td>\n",
       "      <td>119.9</td>\n",
       "    </tr>\n",
       "    <tr>\n",
       "      <th>2009-11-01</th>\n",
       "      <td>685.8</td>\n",
       "      <td>103.0</td>\n",
       "    </tr>\n",
       "    <tr>\n",
       "      <th>2009-12-01</th>\n",
       "      <td>675.3</td>\n",
       "      <td>105.2</td>\n",
       "    </tr>\n",
       "    <tr>\n",
       "      <th>2010-01-01</th>\n",
       "      <td>690.2</td>\n",
       "      <td>107.8</td>\n",
       "    </tr>\n",
       "  </tbody>\n",
       "</table>\n",
       "<p>61 rows × 2 columns</p>\n",
       "</div>"
      ],
      "text/plain": [
       "            Oil Production  Pressure\n",
       "Date                                \n",
       "2005-01-01          8045.2     353.5\n",
       "2005-02-01          9243.7     426.8\n",
       "2005-03-01          7498.1     313.4\n",
       "2005-04-01          6840.4     362.5\n",
       "2005-05-01          6470.0     456.1\n",
       "...                    ...       ...\n",
       "2009-09-01           727.9     105.1\n",
       "2009-10-01           797.7     119.9\n",
       "2009-11-01           685.8     103.0\n",
       "2009-12-01           675.3     105.2\n",
       "2010-01-01           690.2     107.8\n",
       "\n",
       "[61 rows x 2 columns]"
      ]
     },
     "execution_count": 54,
     "metadata": {},
     "output_type": "execute_result"
    }
   ],
   "source": [
    "df"
   ]
  },
  {
   "cell_type": "code",
   "execution_count": 55,
   "metadata": {},
   "outputs": [
    {
     "name": "stderr",
     "output_type": "stream",
     "text": [
      "d:\\miniconda3\\envs\\edv\\lib\\site-packages\\sklearn\\base.py:465: UserWarning: X does not have valid feature names, but LinearRegression was fitted with feature names\n",
      "  warnings.warn(\n"
     ]
    }
   ],
   "source": [
    "yf = model.predict([[yt,yt1,yt2]])"
   ]
  },
  {
   "cell_type": "code",
   "execution_count": 59,
   "metadata": {},
   "outputs": [],
   "source": [
    "forecast = []"
   ]
  },
  {
   "cell_type": "code",
   "execution_count": 60,
   "metadata": {},
   "outputs": [],
   "source": [
    "forecast.append(yf[0][0])"
   ]
  },
  {
   "cell_type": "code",
   "execution_count": 61,
   "metadata": {},
   "outputs": [
    {
     "name": "stdout",
     "output_type": "stream",
     "text": [
      "[679.87258278]\n",
      "[682.61777667]\n",
      "[681.19314019]\n",
      "[679.32471953]\n",
      "[679.35719073]\n",
      "[678.65825212]\n",
      "[677.71064673]\n",
      "[677.24928903]\n",
      "[676.704162]\n"
     ]
    },
    {
     "name": "stderr",
     "output_type": "stream",
     "text": [
      "d:\\miniconda3\\envs\\edv\\lib\\site-packages\\sklearn\\base.py:465: UserWarning: X does not have valid feature names, but LinearRegression was fitted with feature names\n",
      "  warnings.warn(\n",
      "d:\\miniconda3\\envs\\edv\\lib\\site-packages\\sklearn\\base.py:465: UserWarning: X does not have valid feature names, but LinearRegression was fitted with feature names\n",
      "  warnings.warn(\n",
      "d:\\miniconda3\\envs\\edv\\lib\\site-packages\\sklearn\\base.py:465: UserWarning: X does not have valid feature names, but LinearRegression was fitted with feature names\n",
      "  warnings.warn(\n",
      "d:\\miniconda3\\envs\\edv\\lib\\site-packages\\sklearn\\base.py:465: UserWarning: X does not have valid feature names, but LinearRegression was fitted with feature names\n",
      "  warnings.warn(\n",
      "d:\\miniconda3\\envs\\edv\\lib\\site-packages\\sklearn\\base.py:465: UserWarning: X does not have valid feature names, but LinearRegression was fitted with feature names\n",
      "  warnings.warn(\n",
      "d:\\miniconda3\\envs\\edv\\lib\\site-packages\\sklearn\\base.py:465: UserWarning: X does not have valid feature names, but LinearRegression was fitted with feature names\n",
      "  warnings.warn(\n",
      "d:\\miniconda3\\envs\\edv\\lib\\site-packages\\sklearn\\base.py:465: UserWarning: X does not have valid feature names, but LinearRegression was fitted with feature names\n",
      "  warnings.warn(\n",
      "d:\\miniconda3\\envs\\edv\\lib\\site-packages\\sklearn\\base.py:465: UserWarning: X does not have valid feature names, but LinearRegression was fitted with feature names\n",
      "  warnings.warn(\n",
      "d:\\miniconda3\\envs\\edv\\lib\\site-packages\\sklearn\\base.py:465: UserWarning: X does not have valid feature names, but LinearRegression was fitted with feature names\n",
      "  warnings.warn(\n"
     ]
    }
   ],
   "source": [
    "n = 1\n",
    "\n",
    "while n < 10:\n",
    "    yt,yt1,yt2,_ =  yf[0][0],yt,yt1,yt2\n",
    "    yf = model.predict([[yt,yt1,yt2]])\n",
    "    forecast.append(yf[0][0])\n",
    "    print(yf[0])\n",
    "    n += 1"
   ]
  },
  {
   "cell_type": "code",
   "execution_count": 62,
   "metadata": {},
   "outputs": [
    {
     "data": {
      "text/plain": [
       "[684.3509401834791,\n",
       " 679.8725827839476,\n",
       " 682.6177766723163,\n",
       " 681.1931401914086,\n",
       " 679.3247195313057,\n",
       " 679.3571907270192,\n",
       " 678.6582521169544,\n",
       " 677.7106467321539,\n",
       " 677.2492890280228,\n",
       " 676.7041619988875]"
      ]
     },
     "execution_count": 62,
     "metadata": {},
     "output_type": "execute_result"
    }
   ],
   "source": [
    "forecast"
   ]
  },
  {
   "cell_type": "code",
   "execution_count": 72,
   "metadata": {},
   "outputs": [
    {
     "data": {
      "text/plain": [
       "Timestamp('2009-12-31 00:00:00')"
      ]
     },
     "execution_count": 72,
     "metadata": {},
     "output_type": "execute_result"
    }
   ],
   "source": [
    "y.index[-1]+pd.DateOffset(days=-1)"
   ]
  },
  {
   "cell_type": "code",
   "execution_count": 74,
   "metadata": {},
   "outputs": [
    {
     "data": {
      "text/plain": [
       "Timestamp('2009-12-31 00:00:00')"
      ]
     },
     "execution_count": 74,
     "metadata": {},
     "output_type": "execute_result"
    }
   ],
   "source": [
    "y.index[-1]+pd.DateOffset(days=-1)"
   ]
  },
  {
   "cell_type": "code",
   "execution_count": 77,
   "metadata": {},
   "outputs": [],
   "source": [
    "date_forec = pd.date_range(start=y.index[-1],periods=10,freq=\"M\").shift(1,freq=\"D\")"
   ]
  },
  {
   "cell_type": "code",
   "execution_count": 80,
   "metadata": {},
   "outputs": [
    {
     "data": {
      "text/plain": [
       "<matplotlib.legend.Legend at 0x259d144e9d0>"
      ]
     },
     "execution_count": 80,
     "metadata": {},
     "output_type": "execute_result"
    },
    {
     "data": {
      "image/png": "[encoded data removed]",
      "text/plain": [
       "<Figure size 1000x500 with 1 Axes>"
      ]
     },
     "metadata": {},
     "output_type": "display_data"
    }
   ],
   "source": [
    "plt.figure(figsize=(10,5))\n",
    "plt.plot(y.index,y,label=\"Actual\")\n",
    "plt.scatter(y.index,y_pred,label=\"Predicted\",c=\"red\")\n",
    "plt.scatter(date_forec,forecast,label=\"Forecast\",c=\"green\")\n",
    "plt.ylim(0,8000)\n",
    "plt.legend()"
   ]
  },
  {
   "cell_type": "markdown",
   "metadata": {},
   "source": [
    "## Running multiple Modles"
   ]
  },
  {
   "cell_type": "code",
   "execution_count": 25,
   "metadata": {},
   "outputs": [
    {
     "data": {
      "text/html": [
       "<div>\n",
       "<style scoped>\n",
       "    .dataframe tbody tr th:only-of-type {\n",
       "        vertical-align: middle;\n",
       "    }\n",
       "\n",
       "    .dataframe tbody tr th {\n",
       "        vertical-align: top;\n",
       "    }\n",
       "\n",
       "    .dataframe thead th {\n",
       "        text-align: right;\n",
       "    }\n",
       "</style>\n",
       "<table border=\"1\" class=\"dataframe\">\n",
       "  <thead>\n",
       "    <tr style=\"text-align: right;\">\n",
       "      <th></th>\n",
       "      <th>Oil Production</th>\n",
       "      <th>yt-1</th>\n",
       "      <th>yt-2</th>\n",
       "      <th>yt-3</th>\n",
       "    </tr>\n",
       "    <tr>\n",
       "      <th>Date</th>\n",
       "      <th></th>\n",
       "      <th></th>\n",
       "      <th></th>\n",
       "      <th></th>\n",
       "    </tr>\n",
       "  </thead>\n",
       "  <tbody>\n",
       "    <tr>\n",
       "      <th>2005-01-01</th>\n",
       "      <td>8045.2</td>\n",
       "      <td>NaN</td>\n",
       "      <td>NaN</td>\n",
       "      <td>NaN</td>\n",
       "    </tr>\n",
       "    <tr>\n",
       "      <th>2005-02-01</th>\n",
       "      <td>9243.7</td>\n",
       "      <td>8045.2</td>\n",
       "      <td>NaN</td>\n",
       "      <td>NaN</td>\n",
       "    </tr>\n",
       "    <tr>\n",
       "      <th>2005-03-01</th>\n",
       "      <td>7498.1</td>\n",
       "      <td>9243.7</td>\n",
       "      <td>8045.2</td>\n",
       "      <td>NaN</td>\n",
       "    </tr>\n",
       "    <tr>\n",
       "      <th>2005-04-01</th>\n",
       "      <td>6840.4</td>\n",
       "      <td>7498.1</td>\n",
       "      <td>9243.7</td>\n",
       "      <td>8045.2</td>\n",
       "    </tr>\n",
       "    <tr>\n",
       "      <th>2005-05-01</th>\n",
       "      <td>6470.0</td>\n",
       "      <td>6840.4</td>\n",
       "      <td>7498.1</td>\n",
       "      <td>9243.7</td>\n",
       "    </tr>\n",
       "    <tr>\n",
       "      <th>...</th>\n",
       "      <td>...</td>\n",
       "      <td>...</td>\n",
       "      <td>...</td>\n",
       "      <td>...</td>\n",
       "    </tr>\n",
       "    <tr>\n",
       "      <th>2009-09-01</th>\n",
       "      <td>727.9</td>\n",
       "      <td>713.9</td>\n",
       "      <td>730.7</td>\n",
       "      <td>898.6</td>\n",
       "    </tr>\n",
       "    <tr>\n",
       "      <th>2009-10-01</th>\n",
       "      <td>797.7</td>\n",
       "      <td>727.9</td>\n",
       "      <td>713.9</td>\n",
       "      <td>730.7</td>\n",
       "    </tr>\n",
       "    <tr>\n",
       "      <th>2009-11-01</th>\n",
       "      <td>685.8</td>\n",
       "      <td>797.7</td>\n",
       "      <td>727.9</td>\n",
       "      <td>713.9</td>\n",
       "    </tr>\n",
       "    <tr>\n",
       "      <th>2009-12-01</th>\n",
       "      <td>675.3</td>\n",
       "      <td>685.8</td>\n",
       "      <td>797.7</td>\n",
       "      <td>727.9</td>\n",
       "    </tr>\n",
       "    <tr>\n",
       "      <th>2010-01-01</th>\n",
       "      <td>690.2</td>\n",
       "      <td>675.3</td>\n",
       "      <td>685.8</td>\n",
       "      <td>797.7</td>\n",
       "    </tr>\n",
       "  </tbody>\n",
       "</table>\n",
       "<p>61 rows × 4 columns</p>\n",
       "</div>"
      ],
      "text/plain": [
       "            Oil Production    yt-1    yt-2    yt-3\n",
       "Date                                              \n",
       "2005-01-01          8045.2     NaN     NaN     NaN\n",
       "2005-02-01          9243.7  8045.2     NaN     NaN\n",
       "2005-03-01          7498.1  9243.7  8045.2     NaN\n",
       "2005-04-01          6840.4  7498.1  9243.7  8045.2\n",
       "2005-05-01          6470.0  6840.4  7498.1  9243.7\n",
       "...                    ...     ...     ...     ...\n",
       "2009-09-01           727.9   713.9   730.7   898.6\n",
       "2009-10-01           797.7   727.9   713.9   730.7\n",
       "2009-11-01           685.8   797.7   727.9   713.9\n",
       "2009-12-01           675.3   685.8   797.7   727.9\n",
       "2010-01-01           690.2   675.3   685.8   797.7\n",
       "\n",
       "[61 rows x 4 columns]"
      ]
     },
     "execution_count": 25,
     "metadata": {},
     "output_type": "execute_result"
    }
   ],
   "source": [
    "data "
   ]
  },
  {
   "cell_type": "code",
   "execution_count": 26,
   "metadata": {},
   "outputs": [],
   "source": [
    "data= data.dropna()"
   ]
  },
  {
   "cell_type": "code",
   "execution_count": 27,
   "metadata": {},
   "outputs": [
    {
     "data": {
      "text/html": [
       "<div>\n",
       "<style scoped>\n",
       "    .dataframe tbody tr th:only-of-type {\n",
       "        vertical-align: middle;\n",
       "    }\n",
       "\n",
       "    .dataframe tbody tr th {\n",
       "        vertical-align: top;\n",
       "    }\n",
       "\n",
       "    .dataframe thead th {\n",
       "        text-align: right;\n",
       "    }\n",
       "</style>\n",
       "<table border=\"1\" class=\"dataframe\">\n",
       "  <thead>\n",
       "    <tr style=\"text-align: right;\">\n",
       "      <th></th>\n",
       "      <th>Oil Production</th>\n",
       "      <th>yt-1</th>\n",
       "      <th>yt-2</th>\n",
       "      <th>yt-3</th>\n",
       "    </tr>\n",
       "    <tr>\n",
       "      <th>Date</th>\n",
       "      <th></th>\n",
       "      <th></th>\n",
       "      <th></th>\n",
       "      <th></th>\n",
       "    </tr>\n",
       "  </thead>\n",
       "  <tbody>\n",
       "    <tr>\n",
       "      <th>2005-04-01</th>\n",
       "      <td>6840.4</td>\n",
       "      <td>7498.1</td>\n",
       "      <td>9243.7</td>\n",
       "      <td>8045.2</td>\n",
       "    </tr>\n",
       "    <tr>\n",
       "      <th>2005-05-01</th>\n",
       "      <td>6470.0</td>\n",
       "      <td>6840.4</td>\n",
       "      <td>7498.1</td>\n",
       "      <td>9243.7</td>\n",
       "    </tr>\n",
       "    <tr>\n",
       "      <th>2005-06-01</th>\n",
       "      <td>7738.3</td>\n",
       "      <td>6470.0</td>\n",
       "      <td>6840.4</td>\n",
       "      <td>7498.1</td>\n",
       "    </tr>\n",
       "    <tr>\n",
       "      <th>2005-07-01</th>\n",
       "      <td>6157.6</td>\n",
       "      <td>7738.3</td>\n",
       "      <td>6470.0</td>\n",
       "      <td>6840.4</td>\n",
       "    </tr>\n",
       "    <tr>\n",
       "      <th>2005-08-01</th>\n",
       "      <td>5788.6</td>\n",
       "      <td>6157.6</td>\n",
       "      <td>7738.3</td>\n",
       "      <td>6470.0</td>\n",
       "    </tr>\n",
       "    <tr>\n",
       "      <th>2005-09-01</th>\n",
       "      <td>5604.2</td>\n",
       "      <td>5788.6</td>\n",
       "      <td>6157.6</td>\n",
       "      <td>7738.3</td>\n",
       "    </tr>\n",
       "    <tr>\n",
       "      <th>2005-10-01</th>\n",
       "      <td>6545.3</td>\n",
       "      <td>5604.2</td>\n",
       "      <td>5788.6</td>\n",
       "      <td>6157.6</td>\n",
       "    </tr>\n",
       "    <tr>\n",
       "      <th>2005-11-01</th>\n",
       "      <td>4874.4</td>\n",
       "      <td>6545.3</td>\n",
       "      <td>5604.2</td>\n",
       "      <td>5788.6</td>\n",
       "    </tr>\n",
       "    <tr>\n",
       "      <th>2005-12-01</th>\n",
       "      <td>4295.5</td>\n",
       "      <td>4874.4</td>\n",
       "      <td>6545.3</td>\n",
       "      <td>5604.2</td>\n",
       "    </tr>\n",
       "    <tr>\n",
       "      <th>2006-01-01</th>\n",
       "      <td>4071.4</td>\n",
       "      <td>4295.5</td>\n",
       "      <td>4874.4</td>\n",
       "      <td>6545.3</td>\n",
       "    </tr>\n",
       "    <tr>\n",
       "      <th>2006-02-01</th>\n",
       "      <td>4874.1</td>\n",
       "      <td>4071.4</td>\n",
       "      <td>4295.5</td>\n",
       "      <td>4874.4</td>\n",
       "    </tr>\n",
       "    <tr>\n",
       "      <th>2006-03-01</th>\n",
       "      <td>3771.4</td>\n",
       "      <td>4874.1</td>\n",
       "      <td>4071.4</td>\n",
       "      <td>4295.5</td>\n",
       "    </tr>\n",
       "    <tr>\n",
       "      <th>2006-04-01</th>\n",
       "      <td>3540.4</td>\n",
       "      <td>3771.4</td>\n",
       "      <td>4874.1</td>\n",
       "      <td>4071.4</td>\n",
       "    </tr>\n",
       "    <tr>\n",
       "      <th>2006-05-01</th>\n",
       "      <td>3412.8</td>\n",
       "      <td>3540.4</td>\n",
       "      <td>3771.4</td>\n",
       "      <td>4874.1</td>\n",
       "    </tr>\n",
       "    <tr>\n",
       "      <th>2006-06-01</th>\n",
       "      <td>4074.6</td>\n",
       "      <td>3412.8</td>\n",
       "      <td>3540.4</td>\n",
       "      <td>3771.4</td>\n",
       "    </tr>\n",
       "    <tr>\n",
       "      <th>2006-07-01</th>\n",
       "      <td>3035.8</td>\n",
       "      <td>4074.6</td>\n",
       "      <td>3412.8</td>\n",
       "      <td>3540.4</td>\n",
       "    </tr>\n",
       "    <tr>\n",
       "      <th>2006-08-01</th>\n",
       "      <td>2818.5</td>\n",
       "      <td>3035.8</td>\n",
       "      <td>4074.6</td>\n",
       "      <td>3412.8</td>\n",
       "    </tr>\n",
       "    <tr>\n",
       "      <th>2006-09-01</th>\n",
       "      <td>2771.7</td>\n",
       "      <td>2818.5</td>\n",
       "      <td>3035.8</td>\n",
       "      <td>4074.6</td>\n",
       "    </tr>\n",
       "    <tr>\n",
       "      <th>2006-10-01</th>\n",
       "      <td>3432.8</td>\n",
       "      <td>2771.7</td>\n",
       "      <td>2818.5</td>\n",
       "      <td>3035.8</td>\n",
       "    </tr>\n",
       "    <tr>\n",
       "      <th>2006-11-01</th>\n",
       "      <td>2557.9</td>\n",
       "      <td>3432.8</td>\n",
       "      <td>2771.7</td>\n",
       "      <td>2818.5</td>\n",
       "    </tr>\n",
       "    <tr>\n",
       "      <th>2006-12-01</th>\n",
       "      <td>2434.0</td>\n",
       "      <td>2557.9</td>\n",
       "      <td>3432.8</td>\n",
       "      <td>2771.7</td>\n",
       "    </tr>\n",
       "    <tr>\n",
       "      <th>2007-01-01</th>\n",
       "      <td>2474.1</td>\n",
       "      <td>2434.0</td>\n",
       "      <td>2557.9</td>\n",
       "      <td>3432.8</td>\n",
       "    </tr>\n",
       "    <tr>\n",
       "      <th>2007-02-01</th>\n",
       "      <td>3058.6</td>\n",
       "      <td>2474.1</td>\n",
       "      <td>2434.0</td>\n",
       "      <td>2557.9</td>\n",
       "    </tr>\n",
       "    <tr>\n",
       "      <th>2007-03-01</th>\n",
       "      <td>2209.2</td>\n",
       "      <td>3058.6</td>\n",
       "      <td>2474.1</td>\n",
       "      <td>2434.0</td>\n",
       "    </tr>\n",
       "    <tr>\n",
       "      <th>2007-04-01</th>\n",
       "      <td>2070.4</td>\n",
       "      <td>2209.2</td>\n",
       "      <td>3058.6</td>\n",
       "      <td>2474.1</td>\n",
       "    </tr>\n",
       "    <tr>\n",
       "      <th>2007-05-01</th>\n",
       "      <td>2107.0</td>\n",
       "      <td>2070.4</td>\n",
       "      <td>2209.2</td>\n",
       "      <td>3058.6</td>\n",
       "    </tr>\n",
       "    <tr>\n",
       "      <th>2007-06-01</th>\n",
       "      <td>2626.8</td>\n",
       "      <td>2107.0</td>\n",
       "      <td>2070.4</td>\n",
       "      <td>2209.2</td>\n",
       "    </tr>\n",
       "    <tr>\n",
       "      <th>2007-07-01</th>\n",
       "      <td>1880.6</td>\n",
       "      <td>2626.8</td>\n",
       "      <td>2107.0</td>\n",
       "      <td>2070.4</td>\n",
       "    </tr>\n",
       "    <tr>\n",
       "      <th>2007-08-01</th>\n",
       "      <td>1783.4</td>\n",
       "      <td>1880.6</td>\n",
       "      <td>2626.8</td>\n",
       "      <td>2107.0</td>\n",
       "    </tr>\n",
       "    <tr>\n",
       "      <th>2007-09-01</th>\n",
       "      <td>1818.5</td>\n",
       "      <td>1783.4</td>\n",
       "      <td>1880.6</td>\n",
       "      <td>2626.8</td>\n",
       "    </tr>\n",
       "    <tr>\n",
       "      <th>2007-10-01</th>\n",
       "      <td>2243.1</td>\n",
       "      <td>1818.5</td>\n",
       "      <td>1783.4</td>\n",
       "      <td>1880.6</td>\n",
       "    </tr>\n",
       "    <tr>\n",
       "      <th>2007-11-01</th>\n",
       "      <td>1587.6</td>\n",
       "      <td>2243.1</td>\n",
       "      <td>1818.5</td>\n",
       "      <td>1783.4</td>\n",
       "    </tr>\n",
       "    <tr>\n",
       "      <th>2007-12-01</th>\n",
       "      <td>1491.3</td>\n",
       "      <td>1587.6</td>\n",
       "      <td>2243.1</td>\n",
       "      <td>1818.5</td>\n",
       "    </tr>\n",
       "    <tr>\n",
       "      <th>2008-01-01</th>\n",
       "      <td>1485.7</td>\n",
       "      <td>1491.3</td>\n",
       "      <td>1587.6</td>\n",
       "      <td>2243.1</td>\n",
       "    </tr>\n",
       "    <tr>\n",
       "      <th>2008-02-01</th>\n",
       "      <td>1794.7</td>\n",
       "      <td>1485.7</td>\n",
       "      <td>1491.3</td>\n",
       "      <td>1587.6</td>\n",
       "    </tr>\n",
       "    <tr>\n",
       "      <th>2008-03-01</th>\n",
       "      <td>1256.0</td>\n",
       "      <td>1794.7</td>\n",
       "      <td>1485.7</td>\n",
       "      <td>1491.3</td>\n",
       "    </tr>\n",
       "    <tr>\n",
       "      <th>2008-04-01</th>\n",
       "      <td>1156.6</td>\n",
       "      <td>1256.0</td>\n",
       "      <td>1794.7</td>\n",
       "      <td>1485.7</td>\n",
       "    </tr>\n",
       "    <tr>\n",
       "      <th>2008-05-01</th>\n",
       "      <td>1213.1</td>\n",
       "      <td>1156.6</td>\n",
       "      <td>1256.0</td>\n",
       "      <td>1794.7</td>\n",
       "    </tr>\n",
       "    <tr>\n",
       "      <th>2008-06-01</th>\n",
       "      <td>1452.0</td>\n",
       "      <td>1213.1</td>\n",
       "      <td>1156.6</td>\n",
       "      <td>1256.0</td>\n",
       "    </tr>\n",
       "    <tr>\n",
       "      <th>2008-07-01</th>\n",
       "      <td>1044.9</td>\n",
       "      <td>1452.0</td>\n",
       "      <td>1213.1</td>\n",
       "      <td>1156.6</td>\n",
       "    </tr>\n",
       "    <tr>\n",
       "      <th>2008-08-01</th>\n",
       "      <td>965.1</td>\n",
       "      <td>1044.9</td>\n",
       "      <td>1452.0</td>\n",
       "      <td>1213.1</td>\n",
       "    </tr>\n",
       "    <tr>\n",
       "      <th>2008-09-01</th>\n",
       "      <td>988.9</td>\n",
       "      <td>965.1</td>\n",
       "      <td>1044.9</td>\n",
       "      <td>1452.0</td>\n",
       "    </tr>\n",
       "    <tr>\n",
       "      <th>2008-10-01</th>\n",
       "      <td>1170.4</td>\n",
       "      <td>988.9</td>\n",
       "      <td>965.1</td>\n",
       "      <td>1044.9</td>\n",
       "    </tr>\n",
       "    <tr>\n",
       "      <th>2008-11-01</th>\n",
       "      <td>926.4</td>\n",
       "      <td>1170.4</td>\n",
       "      <td>988.9</td>\n",
       "      <td>965.1</td>\n",
       "    </tr>\n",
       "    <tr>\n",
       "      <th>2008-12-01</th>\n",
       "      <td>906.3</td>\n",
       "      <td>926.4</td>\n",
       "      <td>1170.4</td>\n",
       "      <td>988.9</td>\n",
       "    </tr>\n",
       "    <tr>\n",
       "      <th>2009-01-01</th>\n",
       "      <td>913.5</td>\n",
       "      <td>906.3</td>\n",
       "      <td>926.4</td>\n",
       "      <td>1170.4</td>\n",
       "    </tr>\n",
       "    <tr>\n",
       "      <th>2009-02-01</th>\n",
       "      <td>1067.2</td>\n",
       "      <td>913.5</td>\n",
       "      <td>906.3</td>\n",
       "      <td>926.4</td>\n",
       "    </tr>\n",
       "    <tr>\n",
       "      <th>2009-03-01</th>\n",
       "      <td>826.2</td>\n",
       "      <td>1067.2</td>\n",
       "      <td>913.5</td>\n",
       "      <td>906.3</td>\n",
       "    </tr>\n",
       "    <tr>\n",
       "      <th>2009-04-01</th>\n",
       "      <td>788.6</td>\n",
       "      <td>826.2</td>\n",
       "      <td>1067.2</td>\n",
       "      <td>913.5</td>\n",
       "    </tr>\n",
       "    <tr>\n",
       "      <th>2009-05-01</th>\n",
       "      <td>801.5</td>\n",
       "      <td>788.6</td>\n",
       "      <td>826.2</td>\n",
       "      <td>1067.2</td>\n",
       "    </tr>\n",
       "    <tr>\n",
       "      <th>2009-06-01</th>\n",
       "      <td>898.6</td>\n",
       "      <td>801.5</td>\n",
       "      <td>788.6</td>\n",
       "      <td>826.2</td>\n",
       "    </tr>\n",
       "    <tr>\n",
       "      <th>2009-07-01</th>\n",
       "      <td>730.7</td>\n",
       "      <td>898.6</td>\n",
       "      <td>801.5</td>\n",
       "      <td>788.6</td>\n",
       "    </tr>\n",
       "    <tr>\n",
       "      <th>2009-08-01</th>\n",
       "      <td>713.9</td>\n",
       "      <td>730.7</td>\n",
       "      <td>898.6</td>\n",
       "      <td>801.5</td>\n",
       "    </tr>\n",
       "    <tr>\n",
       "      <th>2009-09-01</th>\n",
       "      <td>727.9</td>\n",
       "      <td>713.9</td>\n",
       "      <td>730.7</td>\n",
       "      <td>898.6</td>\n",
       "    </tr>\n",
       "    <tr>\n",
       "      <th>2009-10-01</th>\n",
       "      <td>797.7</td>\n",
       "      <td>727.9</td>\n",
       "      <td>713.9</td>\n",
       "      <td>730.7</td>\n",
       "    </tr>\n",
       "    <tr>\n",
       "      <th>2009-11-01</th>\n",
       "      <td>685.8</td>\n",
       "      <td>797.7</td>\n",
       "      <td>727.9</td>\n",
       "      <td>713.9</td>\n",
       "    </tr>\n",
       "    <tr>\n",
       "      <th>2009-12-01</th>\n",
       "      <td>675.3</td>\n",
       "      <td>685.8</td>\n",
       "      <td>797.7</td>\n",
       "      <td>727.9</td>\n",
       "    </tr>\n",
       "    <tr>\n",
       "      <th>2010-01-01</th>\n",
       "      <td>690.2</td>\n",
       "      <td>675.3</td>\n",
       "      <td>685.8</td>\n",
       "      <td>797.7</td>\n",
       "    </tr>\n",
       "  </tbody>\n",
       "</table>\n",
       "</div>"
      ],
      "text/plain": [
       "            Oil Production    yt-1    yt-2    yt-3\n",
       "Date                                              \n",
       "2005-04-01          6840.4  7498.1  9243.7  8045.2\n",
       "2005-05-01          6470.0  6840.4  7498.1  9243.7\n",
       "2005-06-01          7738.3  6470.0  6840.4  7498.1\n",
       "2005-07-01          6157.6  7738.3  6470.0  6840.4\n",
       "2005-08-01          5788.6  6157.6  7738.3  6470.0\n",
       "2005-09-01          5604.2  5788.6  6157.6  7738.3\n",
       "2005-10-01          6545.3  5604.2  5788.6  6157.6\n",
       "2005-11-01          4874.4  6545.3  5604.2  5788.6\n",
       "2005-12-01          4295.5  4874.4  6545.3  5604.2\n",
       "2006-01-01          4071.4  4295.5  4874.4  6545.3\n",
       "2006-02-01          4874.1  4071.4  4295.5  4874.4\n",
       "2006-03-01          3771.4  4874.1  4071.4  4295.5\n",
       "2006-04-01          3540.4  3771.4  4874.1  4071.4\n",
       "2006-05-01          3412.8  3540.4  3771.4  4874.1\n",
       "2006-06-01          4074.6  3412.8  3540.4  3771.4\n",
       "2006-07-01          3035.8  4074.6  3412.8  3540.4\n",
       "2006-08-01          2818.5  3035.8  4074.6  3412.8\n",
       "2006-09-01          2771.7  2818.5  3035.8  4074.6\n",
       "2006-10-01          3432.8  2771.7  2818.5  3035.8\n",
       "2006-11-01          2557.9  3432.8  2771.7  2818.5\n",
       "2006-12-01          2434.0  2557.9  3432.8  2771.7\n",
       "2007-01-01          2474.1  2434.0  2557.9  3432.8\n",
       "2007-02-01          3058.6  2474.1  2434.0  2557.9\n",
       "2007-03-01          2209.2  3058.6  2474.1  2434.0\n",
       "2007-04-01          2070.4  2209.2  3058.6  2474.1\n",
       "2007-05-01          2107.0  2070.4  2209.2  3058.6\n",
       "2007-06-01          2626.8  2107.0  2070.4  2209.2\n",
       "2007-07-01          1880.6  2626.8  2107.0  2070.4\n",
       "2007-08-01          1783.4  1880.6  2626.8  2107.0\n",
       "2007-09-01          1818.5  1783.4  1880.6  2626.8\n",
       "2007-10-01          2243.1  1818.5  1783.4  1880.6\n",
       "2007-11-01          1587.6  2243.1  1818.5  1783.4\n",
       "2007-12-01          1491.3  1587.6  2243.1  1818.5\n",
       "2008-01-01          1485.7  1491.3  1587.6  2243.1\n",
       "2008-02-01          1794.7  1485.7  1491.3  1587.6\n",
       "2008-03-01          1256.0  1794.7  1485.7  1491.3\n",
       "2008-04-01          1156.6  1256.0  1794.7  1485.7\n",
       "2008-05-01          1213.1  1156.6  1256.0  1794.7\n",
       "2008-06-01          1452.0  1213.1  1156.6  1256.0\n",
       "2008-07-01          1044.9  1452.0  1213.1  1156.6\n",
       "2008-08-01           965.1  1044.9  1452.0  1213.1\n",
       "2008-09-01           988.9   965.1  1044.9  1452.0\n",
       "2008-10-01          1170.4   988.9   965.1  1044.9\n",
       "2008-11-01           926.4  1170.4   988.9   965.1\n",
       "2008-12-01           906.3   926.4  1170.4   988.9\n",
       "2009-01-01           913.5   906.3   926.4  1170.4\n",
       "2009-02-01          1067.2   913.5   906.3   926.4\n",
       "2009-03-01           826.2  1067.2   913.5   906.3\n",
       "2009-04-01           788.6   826.2  1067.2   913.5\n",
       "2009-05-01           801.5   788.6   826.2  1067.2\n",
       "2009-06-01           898.6   801.5   788.6   826.2\n",
       "2009-07-01           730.7   898.6   801.5   788.6\n",
       "2009-08-01           713.9   730.7   898.6   801.5\n",
       "2009-09-01           727.9   713.9   730.7   898.6\n",
       "2009-10-01           797.7   727.9   713.9   730.7\n",
       "2009-11-01           685.8   797.7   727.9   713.9\n",
       "2009-12-01           675.3   685.8   797.7   727.9\n",
       "2010-01-01           690.2   675.3   685.8   797.7"
      ]
     },
     "execution_count": 27,
     "metadata": {},
     "output_type": "execute_result"
    }
   ],
   "source": [
    "data "
   ]
  },
  {
   "cell_type": "code",
   "execution_count": 28,
   "metadata": {},
   "outputs": [],
   "source": [
    "import pycaret "
   ]
  },
  {
   "cell_type": "code",
   "execution_count": 29,
   "metadata": {},
   "outputs": [
    {
     "data": {
      "text/plain": [
       "'3.2.0'"
      ]
     },
     "execution_count": 29,
     "metadata": {},
     "output_type": "execute_result"
    }
   ],
   "source": [
    "pycaret.__version__"
   ]
  },
  {
   "cell_type": "code",
   "execution_count": 30,
   "metadata": {},
   "outputs": [],
   "source": [
    "import joblib\n",
    "\n"
   ]
  },
  {
   "cell_type": "code",
   "execution_count": 31,
   "metadata": {},
   "outputs": [
    {
     "data": {
      "text/html": [
       "<style type=\"text/css\">\n",
       "#T_c788b_row8_col1 {\n",
       "  background-color: lightgreen;\n",
       "}\n",
       "</style>\n",
       "<table id=\"T_c788b\">\n",
       "  <thead>\n",
       "    <tr>\n",
       "      <th class=\"blank level0\" >&nbsp;</th>\n",
       "      <th id=\"T_c788b_level0_col0\" class=\"col_heading level0 col0\" >Description</th>\n",
       "      <th id=\"T_c788b_level0_col1\" class=\"col_heading level0 col1\" >Value</th>\n",
       "    </tr>\n",
       "  </thead>\n",
       "  <tbody>\n",
       "    <tr>\n",
       "      <th id=\"T_c788b_level0_row0\" class=\"row_heading level0 row0\" >0</th>\n",
       "      <td id=\"T_c788b_row0_col0\" class=\"data row0 col0\" >Session id</td>\n",
       "      <td id=\"T_c788b_row0_col1\" class=\"data row0 col1\" >123</td>\n",
       "    </tr>\n",
       "    <tr>\n",
       "      <th id=\"T_c788b_level0_row1\" class=\"row_heading level0 row1\" >1</th>\n",
       "      <td id=\"T_c788b_row1_col0\" class=\"data row1 col0\" >Target</td>\n",
       "      <td id=\"T_c788b_row1_col1\" class=\"data row1 col1\" >Oil Production</td>\n",
       "    </tr>\n",
       "    <tr>\n",
       "      <th id=\"T_c788b_level0_row2\" class=\"row_heading level0 row2\" >2</th>\n",
       "      <td id=\"T_c788b_row2_col0\" class=\"data row2 col0\" >Target type</td>\n",
       "      <td id=\"T_c788b_row2_col1\" class=\"data row2 col1\" >Regression</td>\n",
       "    </tr>\n",
       "    <tr>\n",
       "      <th id=\"T_c788b_level0_row3\" class=\"row_heading level0 row3\" >3</th>\n",
       "      <td id=\"T_c788b_row3_col0\" class=\"data row3 col0\" >Original data shape</td>\n",
       "      <td id=\"T_c788b_row3_col1\" class=\"data row3 col1\" >(58, 4)</td>\n",
       "    </tr>\n",
       "    <tr>\n",
       "      <th id=\"T_c788b_level0_row4\" class=\"row_heading level0 row4\" >4</th>\n",
       "      <td id=\"T_c788b_row4_col0\" class=\"data row4 col0\" >Transformed data shape</td>\n",
       "      <td id=\"T_c788b_row4_col1\" class=\"data row4 col1\" >(58, 4)</td>\n",
       "    </tr>\n",
       "    <tr>\n",
       "      <th id=\"T_c788b_level0_row5\" class=\"row_heading level0 row5\" >5</th>\n",
       "      <td id=\"T_c788b_row5_col0\" class=\"data row5 col0\" >Transformed train set shape</td>\n",
       "      <td id=\"T_c788b_row5_col1\" class=\"data row5 col1\" >(40, 4)</td>\n",
       "    </tr>\n",
       "    <tr>\n",
       "      <th id=\"T_c788b_level0_row6\" class=\"row_heading level0 row6\" >6</th>\n",
       "      <td id=\"T_c788b_row6_col0\" class=\"data row6 col0\" >Transformed test set shape</td>\n",
       "      <td id=\"T_c788b_row6_col1\" class=\"data row6 col1\" >(18, 4)</td>\n",
       "    </tr>\n",
       "    <tr>\n",
       "      <th id=\"T_c788b_level0_row7\" class=\"row_heading level0 row7\" >7</th>\n",
       "      <td id=\"T_c788b_row7_col0\" class=\"data row7 col0\" >Numeric features</td>\n",
       "      <td id=\"T_c788b_row7_col1\" class=\"data row7 col1\" >3</td>\n",
       "    </tr>\n",
       "    <tr>\n",
       "      <th id=\"T_c788b_level0_row8\" class=\"row_heading level0 row8\" >8</th>\n",
       "      <td id=\"T_c788b_row8_col0\" class=\"data row8 col0\" >Preprocess</td>\n",
       "      <td id=\"T_c788b_row8_col1\" class=\"data row8 col1\" >True</td>\n",
       "    </tr>\n",
       "    <tr>\n",
       "      <th id=\"T_c788b_level0_row9\" class=\"row_heading level0 row9\" >9</th>\n",
       "      <td id=\"T_c788b_row9_col0\" class=\"data row9 col0\" >Imputation type</td>\n",
       "      <td id=\"T_c788b_row9_col1\" class=\"data row9 col1\" >simple</td>\n",
       "    </tr>\n",
       "    <tr>\n",
       "      <th id=\"T_c788b_level0_row10\" class=\"row_heading level0 row10\" >10</th>\n",
       "      <td id=\"T_c788b_row10_col0\" class=\"data row10 col0\" >Numeric imputation</td>\n",
       "      <td id=\"T_c788b_row10_col1\" class=\"data row10 col1\" >mean</td>\n",
       "    </tr>\n",
       "    <tr>\n",
       "      <th id=\"T_c788b_level0_row11\" class=\"row_heading level0 row11\" >11</th>\n",
       "      <td id=\"T_c788b_row11_col0\" class=\"data row11 col0\" >Categorical imputation</td>\n",
       "      <td id=\"T_c788b_row11_col1\" class=\"data row11 col1\" >mode</td>\n",
       "    </tr>\n",
       "    <tr>\n",
       "      <th id=\"T_c788b_level0_row12\" class=\"row_heading level0 row12\" >12</th>\n",
       "      <td id=\"T_c788b_row12_col0\" class=\"data row12 col0\" >Fold Generator</td>\n",
       "      <td id=\"T_c788b_row12_col1\" class=\"data row12 col1\" >KFold</td>\n",
       "    </tr>\n",
       "    <tr>\n",
       "      <th id=\"T_c788b_level0_row13\" class=\"row_heading level0 row13\" >13</th>\n",
       "      <td id=\"T_c788b_row13_col0\" class=\"data row13 col0\" >Fold Number</td>\n",
       "      <td id=\"T_c788b_row13_col1\" class=\"data row13 col1\" >10</td>\n",
       "    </tr>\n",
       "    <tr>\n",
       "      <th id=\"T_c788b_level0_row14\" class=\"row_heading level0 row14\" >14</th>\n",
       "      <td id=\"T_c788b_row14_col0\" class=\"data row14 col0\" >CPU Jobs</td>\n",
       "      <td id=\"T_c788b_row14_col1\" class=\"data row14 col1\" >-1</td>\n",
       "    </tr>\n",
       "    <tr>\n",
       "      <th id=\"T_c788b_level0_row15\" class=\"row_heading level0 row15\" >15</th>\n",
       "      <td id=\"T_c788b_row15_col0\" class=\"data row15 col0\" >Use GPU</td>\n",
       "      <td id=\"T_c788b_row15_col1\" class=\"data row15 col1\" >False</td>\n",
       "    </tr>\n",
       "    <tr>\n",
       "      <th id=\"T_c788b_level0_row16\" class=\"row_heading level0 row16\" >16</th>\n",
       "      <td id=\"T_c788b_row16_col0\" class=\"data row16 col0\" >Log Experiment</td>\n",
       "      <td id=\"T_c788b_row16_col1\" class=\"data row16 col1\" >False</td>\n",
       "    </tr>\n",
       "    <tr>\n",
       "      <th id=\"T_c788b_level0_row17\" class=\"row_heading level0 row17\" >17</th>\n",
       "      <td id=\"T_c788b_row17_col0\" class=\"data row17 col0\" >Experiment Name</td>\n",
       "      <td id=\"T_c788b_row17_col1\" class=\"data row17 col1\" >reg-default-name</td>\n",
       "    </tr>\n",
       "    <tr>\n",
       "      <th id=\"T_c788b_level0_row18\" class=\"row_heading level0 row18\" >18</th>\n",
       "      <td id=\"T_c788b_row18_col0\" class=\"data row18 col0\" >USI</td>\n",
       "      <td id=\"T_c788b_row18_col1\" class=\"data row18 col1\" >c89f</td>\n",
       "    </tr>\n",
       "  </tbody>\n",
       "</table>\n"
      ],
      "text/plain": [
       "<pandas.io.formats.style.Styler at 0x1d2c4dc08b0>"
      ]
     },
     "metadata": {},
     "output_type": "display_data"
    }
   ],
   "source": [
    "from pycaret.regression import *\n",
    "s = setup(data, target = 'Oil Production',session_id=123)"
   ]
  },
  {
   "cell_type": "code",
   "execution_count": 33,
   "metadata": {},
   "outputs": [
    {
     "data": {
      "text/html": [],
      "text/plain": [
       "<IPython.core.display.HTML object>"
      ]
     },
     "metadata": {},
     "output_type": "display_data"
    },
    {
     "data": {
      "text/html": [
       "<style type=\"text/css\">\n",
       "#T_255f1 th {\n",
       "  text-align: left;\n",
       "}\n",
       "#T_255f1_row0_col0, #T_255f1_row0_col5, #T_255f1_row1_col0, #T_255f1_row1_col1, #T_255f1_row1_col2, #T_255f1_row1_col3, #T_255f1_row1_col4, #T_255f1_row1_col6, #T_255f1_row2_col0, #T_255f1_row2_col1, #T_255f1_row2_col2, #T_255f1_row2_col3, #T_255f1_row2_col4, #T_255f1_row2_col5, #T_255f1_row2_col6, #T_255f1_row3_col0, #T_255f1_row3_col1, #T_255f1_row3_col2, #T_255f1_row3_col3, #T_255f1_row3_col4, #T_255f1_row3_col5, #T_255f1_row3_col6, #T_255f1_row4_col0, #T_255f1_row4_col1, #T_255f1_row4_col2, #T_255f1_row4_col3, #T_255f1_row4_col4, #T_255f1_row4_col5, #T_255f1_row4_col6, #T_255f1_row5_col0, #T_255f1_row5_col1, #T_255f1_row5_col2, #T_255f1_row5_col3, #T_255f1_row5_col4, #T_255f1_row5_col5, #T_255f1_row5_col6, #T_255f1_row6_col0, #T_255f1_row6_col1, #T_255f1_row6_col2, #T_255f1_row6_col3, #T_255f1_row6_col4, #T_255f1_row6_col5, #T_255f1_row6_col6, #T_255f1_row7_col0, #T_255f1_row7_col1, #T_255f1_row7_col2, #T_255f1_row7_col3, #T_255f1_row7_col4, #T_255f1_row7_col5, #T_255f1_row7_col6, #T_255f1_row8_col0, #T_255f1_row8_col1, #T_255f1_row8_col2, #T_255f1_row8_col3, #T_255f1_row8_col4, #T_255f1_row8_col5, #T_255f1_row8_col6, #T_255f1_row9_col0, #T_255f1_row9_col1, #T_255f1_row9_col2, #T_255f1_row9_col3, #T_255f1_row9_col4, #T_255f1_row9_col5, #T_255f1_row9_col6, #T_255f1_row10_col0, #T_255f1_row10_col1, #T_255f1_row10_col2, #T_255f1_row10_col3, #T_255f1_row10_col4, #T_255f1_row10_col5, #T_255f1_row10_col6, #T_255f1_row11_col0, #T_255f1_row11_col1, #T_255f1_row11_col2, #T_255f1_row11_col3, #T_255f1_row11_col4, #T_255f1_row11_col5, #T_255f1_row11_col6, #T_255f1_row12_col0, #T_255f1_row12_col1, #T_255f1_row12_col2, #T_255f1_row12_col3, #T_255f1_row12_col4, #T_255f1_row12_col5, #T_255f1_row12_col6, #T_255f1_row13_col0, #T_255f1_row13_col1, #T_255f1_row13_col2, #T_255f1_row13_col3, #T_255f1_row13_col4, #T_255f1_row13_col5, #T_255f1_row13_col6, #T_255f1_row14_col0, #T_255f1_row14_col1, #T_255f1_row14_col2, #T_255f1_row14_col3, #T_255f1_row14_col4, #T_255f1_row14_col5, #T_255f1_row14_col6, #T_255f1_row15_col0, #T_255f1_row15_col1, #T_255f1_row15_col2, #T_255f1_row15_col3, #T_255f1_row15_col4, #T_255f1_row15_col5, #T_255f1_row15_col6, #T_255f1_row16_col0, #T_255f1_row16_col1, #T_255f1_row16_col2, #T_255f1_row16_col3, #T_255f1_row16_col4, #T_255f1_row16_col5, #T_255f1_row16_col6, #T_255f1_row17_col0, #T_255f1_row17_col1, #T_255f1_row17_col2, #T_255f1_row17_col3, #T_255f1_row17_col4, #T_255f1_row17_col5, #T_255f1_row17_col6 {\n",
       "  text-align: left;\n",
       "}\n",
       "#T_255f1_row0_col1, #T_255f1_row0_col2, #T_255f1_row0_col3, #T_255f1_row0_col4, #T_255f1_row0_col6, #T_255f1_row1_col5 {\n",
       "  text-align: left;\n",
       "  background-color: yellow;\n",
       "}\n",
       "#T_255f1_row0_col7, #T_255f1_row1_col7, #T_255f1_row2_col7, #T_255f1_row3_col7, #T_255f1_row4_col7, #T_255f1_row5_col7, #T_255f1_row6_col7, #T_255f1_row7_col7, #T_255f1_row8_col7, #T_255f1_row9_col7, #T_255f1_row10_col7, #T_255f1_row11_col7, #T_255f1_row12_col7, #T_255f1_row13_col7, #T_255f1_row14_col7, #T_255f1_row16_col7, #T_255f1_row17_col7 {\n",
       "  text-align: left;\n",
       "  background-color: lightgrey;\n",
       "}\n",
       "#T_255f1_row15_col7 {\n",
       "  text-align: left;\n",
       "  background-color: yellow;\n",
       "  background-color: lightgrey;\n",
       "}\n",
       "</style>\n",
       "<table id=\"T_255f1\">\n",
       "  <thead>\n",
       "    <tr>\n",
       "      <th class=\"blank level0\" >&nbsp;</th>\n",
       "      <th id=\"T_255f1_level0_col0\" class=\"col_heading level0 col0\" >Model</th>\n",
       "      <th id=\"T_255f1_level0_col1\" class=\"col_heading level0 col1\" >MAE</th>\n",
       "      <th id=\"T_255f1_level0_col2\" class=\"col_heading level0 col2\" >MSE</th>\n",
       "      <th id=\"T_255f1_level0_col3\" class=\"col_heading level0 col3\" >RMSE</th>\n",
       "      <th id=\"T_255f1_level0_col4\" class=\"col_heading level0 col4\" >R2</th>\n",
       "      <th id=\"T_255f1_level0_col5\" class=\"col_heading level0 col5\" >RMSLE</th>\n",
       "      <th id=\"T_255f1_level0_col6\" class=\"col_heading level0 col6\" >MAPE</th>\n",
       "      <th id=\"T_255f1_level0_col7\" class=\"col_heading level0 col7\" >TT (Sec)</th>\n",
       "    </tr>\n",
       "  </thead>\n",
       "  <tbody>\n",
       "    <tr>\n",
       "      <th id=\"T_255f1_level0_row0\" class=\"row_heading level0 row0\" >huber</th>\n",
       "      <td id=\"T_255f1_row0_col0\" class=\"data row0 col0\" >Huber Regressor</td>\n",
       "      <td id=\"T_255f1_row0_col1\" class=\"data row0 col1\" >258.3890</td>\n",
       "      <td id=\"T_255f1_row0_col2\" class=\"data row0 col2\" >228083.6740</td>\n",
       "      <td id=\"T_255f1_row0_col3\" class=\"data row0 col3\" >371.6009</td>\n",
       "      <td id=\"T_255f1_row0_col4\" class=\"data row0 col4\" >0.9199</td>\n",
       "      <td id=\"T_255f1_row0_col5\" class=\"data row0 col5\" >0.1362</td>\n",
       "      <td id=\"T_255f1_row0_col6\" class=\"data row0 col6\" >0.0966</td>\n",
       "      <td id=\"T_255f1_row0_col7\" class=\"data row0 col7\" >0.0130</td>\n",
       "    </tr>\n",
       "    <tr>\n",
       "      <th id=\"T_255f1_level0_row1\" class=\"row_heading level0 row1\" >br</th>\n",
       "      <td id=\"T_255f1_row1_col0\" class=\"data row1 col0\" >Bayesian Ridge</td>\n",
       "      <td id=\"T_255f1_row1_col1\" class=\"data row1 col1\" >322.4471</td>\n",
       "      <td id=\"T_255f1_row1_col2\" class=\"data row1 col2\" >234372.1446</td>\n",
       "      <td id=\"T_255f1_row1_col3\" class=\"data row1 col3\" >418.4366</td>\n",
       "      <td id=\"T_255f1_row1_col4\" class=\"data row1 col4\" >0.9036</td>\n",
       "      <td id=\"T_255f1_row1_col5\" class=\"data row1 col5\" >0.1355</td>\n",
       "      <td id=\"T_255f1_row1_col6\" class=\"data row1 col6\" >0.1186</td>\n",
       "      <td id=\"T_255f1_row1_col7\" class=\"data row1 col7\" >0.0110</td>\n",
       "    </tr>\n",
       "    <tr>\n",
       "      <th id=\"T_255f1_level0_row2\" class=\"row_heading level0 row2\" >lr</th>\n",
       "      <td id=\"T_255f1_row2_col0\" class=\"data row2 col0\" >Linear Regression</td>\n",
       "      <td id=\"T_255f1_row2_col1\" class=\"data row2 col1\" >328.3250</td>\n",
       "      <td id=\"T_255f1_row2_col2\" class=\"data row2 col2\" >242718.5349</td>\n",
       "      <td id=\"T_255f1_row2_col3\" class=\"data row2 col3\" >428.7119</td>\n",
       "      <td id=\"T_255f1_row2_col4\" class=\"data row2 col4\" >0.8988</td>\n",
       "      <td id=\"T_255f1_row2_col5\" class=\"data row2 col5\" >0.1359</td>\n",
       "      <td id=\"T_255f1_row2_col6\" class=\"data row2 col6\" >0.1191</td>\n",
       "      <td id=\"T_255f1_row2_col7\" class=\"data row2 col7\" >0.6670</td>\n",
       "    </tr>\n",
       "    <tr>\n",
       "      <th id=\"T_255f1_level0_row3\" class=\"row_heading level0 row3\" >lasso</th>\n",
       "      <td id=\"T_255f1_row3_col0\" class=\"data row3 col0\" >Lasso Regression</td>\n",
       "      <td id=\"T_255f1_row3_col1\" class=\"data row3 col1\" >328.3244</td>\n",
       "      <td id=\"T_255f1_row3_col2\" class=\"data row3 col2\" >242718.4072</td>\n",
       "      <td id=\"T_255f1_row3_col3\" class=\"data row3 col3\" >428.7120</td>\n",
       "      <td id=\"T_255f1_row3_col4\" class=\"data row3 col4\" >0.8988</td>\n",
       "      <td id=\"T_255f1_row3_col5\" class=\"data row3 col5\" >0.1359</td>\n",
       "      <td id=\"T_255f1_row3_col6\" class=\"data row3 col6\" >0.1191</td>\n",
       "      <td id=\"T_255f1_row3_col7\" class=\"data row3 col7\" >0.2850</td>\n",
       "    </tr>\n",
       "    <tr>\n",
       "      <th id=\"T_255f1_level0_row4\" class=\"row_heading level0 row4\" >ridge</th>\n",
       "      <td id=\"T_255f1_row4_col0\" class=\"data row4 col0\" >Ridge Regression</td>\n",
       "      <td id=\"T_255f1_row4_col1\" class=\"data row4 col1\" >328.3251</td>\n",
       "      <td id=\"T_255f1_row4_col2\" class=\"data row4 col2\" >242718.5854</td>\n",
       "      <td id=\"T_255f1_row4_col3\" class=\"data row4 col3\" >428.7119</td>\n",
       "      <td id=\"T_255f1_row4_col4\" class=\"data row4 col4\" >0.8988</td>\n",
       "      <td id=\"T_255f1_row4_col5\" class=\"data row4 col5\" >0.1359</td>\n",
       "      <td id=\"T_255f1_row4_col6\" class=\"data row4 col6\" >0.1191</td>\n",
       "      <td id=\"T_255f1_row4_col7\" class=\"data row4 col7\" >0.0100</td>\n",
       "    </tr>\n",
       "    <tr>\n",
       "      <th id=\"T_255f1_level0_row5\" class=\"row_heading level0 row5\" >en</th>\n",
       "      <td id=\"T_255f1_row5_col0\" class=\"data row5 col0\" >Elastic Net</td>\n",
       "      <td id=\"T_255f1_row5_col1\" class=\"data row5 col1\" >328.3249</td>\n",
       "      <td id=\"T_255f1_row5_col2\" class=\"data row5 col2\" >242718.6008</td>\n",
       "      <td id=\"T_255f1_row5_col3\" class=\"data row5 col3\" >428.7121</td>\n",
       "      <td id=\"T_255f1_row5_col4\" class=\"data row5 col4\" >0.8988</td>\n",
       "      <td id=\"T_255f1_row5_col5\" class=\"data row5 col5\" >0.1359</td>\n",
       "      <td id=\"T_255f1_row5_col6\" class=\"data row5 col6\" >0.1191</td>\n",
       "      <td id=\"T_255f1_row5_col7\" class=\"data row5 col7\" >0.0120</td>\n",
       "    </tr>\n",
       "    <tr>\n",
       "      <th id=\"T_255f1_level0_row6\" class=\"row_heading level0 row6\" >lar</th>\n",
       "      <td id=\"T_255f1_row6_col0\" class=\"data row6 col0\" >Least Angle Regression</td>\n",
       "      <td id=\"T_255f1_row6_col1\" class=\"data row6 col1\" >328.3253</td>\n",
       "      <td id=\"T_255f1_row6_col2\" class=\"data row6 col2\" >242718.8087</td>\n",
       "      <td id=\"T_255f1_row6_col3\" class=\"data row6 col3\" >428.7122</td>\n",
       "      <td id=\"T_255f1_row6_col4\" class=\"data row6 col4\" >0.8988</td>\n",
       "      <td id=\"T_255f1_row6_col5\" class=\"data row6 col5\" >0.1359</td>\n",
       "      <td id=\"T_255f1_row6_col6\" class=\"data row6 col6\" >0.1191</td>\n",
       "      <td id=\"T_255f1_row6_col7\" class=\"data row6 col7\" >0.0090</td>\n",
       "    </tr>\n",
       "    <tr>\n",
       "      <th id=\"T_255f1_level0_row7\" class=\"row_heading level0 row7\" >llar</th>\n",
       "      <td id=\"T_255f1_row7_col0\" class=\"data row7 col0\" >Lasso Least Angle Regression</td>\n",
       "      <td id=\"T_255f1_row7_col1\" class=\"data row7 col1\" >328.3251</td>\n",
       "      <td id=\"T_255f1_row7_col2\" class=\"data row7 col2\" >242718.6837</td>\n",
       "      <td id=\"T_255f1_row7_col3\" class=\"data row7 col3\" >428.7120</td>\n",
       "      <td id=\"T_255f1_row7_col4\" class=\"data row7 col4\" >0.8988</td>\n",
       "      <td id=\"T_255f1_row7_col5\" class=\"data row7 col5\" >0.1359</td>\n",
       "      <td id=\"T_255f1_row7_col6\" class=\"data row7 col6\" >0.1191</td>\n",
       "      <td id=\"T_255f1_row7_col7\" class=\"data row7 col7\" >0.0090</td>\n",
       "    </tr>\n",
       "    <tr>\n",
       "      <th id=\"T_255f1_level0_row8\" class=\"row_heading level0 row8\" >rf</th>\n",
       "      <td id=\"T_255f1_row8_col0\" class=\"data row8 col0\" >Random Forest Regressor</td>\n",
       "      <td id=\"T_255f1_row8_col1\" class=\"data row8 col1\" >380.3428</td>\n",
       "      <td id=\"T_255f1_row8_col2\" class=\"data row8 col2\" >277095.7804</td>\n",
       "      <td id=\"T_255f1_row8_col3\" class=\"data row8 col3\" >483.7314</td>\n",
       "      <td id=\"T_255f1_row8_col4\" class=\"data row8 col4\" >0.8582</td>\n",
       "      <td id=\"T_255f1_row8_col5\" class=\"data row8 col5\" >0.1765</td>\n",
       "      <td id=\"T_255f1_row8_col6\" class=\"data row8 col6\" >0.1590</td>\n",
       "      <td id=\"T_255f1_row8_col7\" class=\"data row8 col7\" >0.0440</td>\n",
       "    </tr>\n",
       "    <tr>\n",
       "      <th id=\"T_255f1_level0_row9\" class=\"row_heading level0 row9\" >par</th>\n",
       "      <td id=\"T_255f1_row9_col0\" class=\"data row9 col0\" >Passive Aggressive Regressor</td>\n",
       "      <td id=\"T_255f1_row9_col1\" class=\"data row9 col1\" >398.9974</td>\n",
       "      <td id=\"T_255f1_row9_col2\" class=\"data row9 col2\" >395346.6055</td>\n",
       "      <td id=\"T_255f1_row9_col3\" class=\"data row9 col3\" >545.8095</td>\n",
       "      <td id=\"T_255f1_row9_col4\" class=\"data row9 col4\" >0.8469</td>\n",
       "      <td id=\"T_255f1_row9_col5\" class=\"data row9 col5\" >0.1793</td>\n",
       "      <td id=\"T_255f1_row9_col6\" class=\"data row9 col6\" >0.1525</td>\n",
       "      <td id=\"T_255f1_row9_col7\" class=\"data row9 col7\" >0.0110</td>\n",
       "    </tr>\n",
       "    <tr>\n",
       "      <th id=\"T_255f1_level0_row10\" class=\"row_heading level0 row10\" >knn</th>\n",
       "      <td id=\"T_255f1_row10_col0\" class=\"data row10 col0\" >K Neighbors Regressor</td>\n",
       "      <td id=\"T_255f1_row10_col1\" class=\"data row10 col1\" >350.6235</td>\n",
       "      <td id=\"T_255f1_row10_col2\" class=\"data row10 col2\" >294141.2121</td>\n",
       "      <td id=\"T_255f1_row10_col3\" class=\"data row10 col3\" >467.5925</td>\n",
       "      <td id=\"T_255f1_row10_col4\" class=\"data row10 col4\" >0.8464</td>\n",
       "      <td id=\"T_255f1_row10_col5\" class=\"data row10 col5\" >0.1726</td>\n",
       "      <td id=\"T_255f1_row10_col6\" class=\"data row10 col6\" >0.1407</td>\n",
       "      <td id=\"T_255f1_row10_col7\" class=\"data row10 col7\" >0.0150</td>\n",
       "    </tr>\n",
       "    <tr>\n",
       "      <th id=\"T_255f1_level0_row11\" class=\"row_heading level0 row11\" >ada</th>\n",
       "      <td id=\"T_255f1_row11_col0\" class=\"data row11 col0\" >AdaBoost Regressor</td>\n",
       "      <td id=\"T_255f1_row11_col1\" class=\"data row11 col1\" >432.9335</td>\n",
       "      <td id=\"T_255f1_row11_col2\" class=\"data row11 col2\" >356503.2356</td>\n",
       "      <td id=\"T_255f1_row11_col3\" class=\"data row11 col3\" >553.8898</td>\n",
       "      <td id=\"T_255f1_row11_col4\" class=\"data row11 col4\" >0.8344</td>\n",
       "      <td id=\"T_255f1_row11_col5\" class=\"data row11 col5\" >0.2010</td>\n",
       "      <td id=\"T_255f1_row11_col6\" class=\"data row11 col6\" >0.1914</td>\n",
       "      <td id=\"T_255f1_row11_col7\" class=\"data row11 col7\" >0.0210</td>\n",
       "    </tr>\n",
       "    <tr>\n",
       "      <th id=\"T_255f1_level0_row12\" class=\"row_heading level0 row12\" >omp</th>\n",
       "      <td id=\"T_255f1_row12_col0\" class=\"data row12 col0\" >Orthogonal Matching Pursuit</td>\n",
       "      <td id=\"T_255f1_row12_col1\" class=\"data row12 col1\" >355.7322</td>\n",
       "      <td id=\"T_255f1_row12_col2\" class=\"data row12 col2\" >322773.3819</td>\n",
       "      <td id=\"T_255f1_row12_col3\" class=\"data row12 col3\" >481.1900</td>\n",
       "      <td id=\"T_255f1_row12_col4\" class=\"data row12 col4\" >0.8263</td>\n",
       "      <td id=\"T_255f1_row12_col5\" class=\"data row12 col5\" >0.1549</td>\n",
       "      <td id=\"T_255f1_row12_col6\" class=\"data row12 col6\" >0.1364</td>\n",
       "      <td id=\"T_255f1_row12_col7\" class=\"data row12 col7\" >0.0090</td>\n",
       "    </tr>\n",
       "    <tr>\n",
       "      <th id=\"T_255f1_level0_row13\" class=\"row_heading level0 row13\" >et</th>\n",
       "      <td id=\"T_255f1_row13_col0\" class=\"data row13 col0\" >Extra Trees Regressor</td>\n",
       "      <td id=\"T_255f1_row13_col1\" class=\"data row13 col1\" >437.4547</td>\n",
       "      <td id=\"T_255f1_row13_col2\" class=\"data row13 col2\" >390500.1588</td>\n",
       "      <td id=\"T_255f1_row13_col3\" class=\"data row13 col3\" >566.6309</td>\n",
       "      <td id=\"T_255f1_row13_col4\" class=\"data row13 col4\" >0.8182</td>\n",
       "      <td id=\"T_255f1_row13_col5\" class=\"data row13 col5\" >0.1928</td>\n",
       "      <td id=\"T_255f1_row13_col6\" class=\"data row13 col6\" >0.1754</td>\n",
       "      <td id=\"T_255f1_row13_col7\" class=\"data row13 col7\" >0.0400</td>\n",
       "    </tr>\n",
       "    <tr>\n",
       "      <th id=\"T_255f1_level0_row14\" class=\"row_heading level0 row14\" >gbr</th>\n",
       "      <td id=\"T_255f1_row14_col0\" class=\"data row14 col0\" >Gradient Boosting Regressor</td>\n",
       "      <td id=\"T_255f1_row14_col1\" class=\"data row14 col1\" >485.3294</td>\n",
       "      <td id=\"T_255f1_row14_col2\" class=\"data row14 col2\" >448764.6463</td>\n",
       "      <td id=\"T_255f1_row14_col3\" class=\"data row14 col3\" >615.4282</td>\n",
       "      <td id=\"T_255f1_row14_col4\" class=\"data row14 col4\" >0.7707</td>\n",
       "      <td id=\"T_255f1_row14_col5\" class=\"data row14 col5\" >0.2113</td>\n",
       "      <td id=\"T_255f1_row14_col6\" class=\"data row14 col6\" >0.1938</td>\n",
       "      <td id=\"T_255f1_row14_col7\" class=\"data row14 col7\" >0.0150</td>\n",
       "    </tr>\n",
       "    <tr>\n",
       "      <th id=\"T_255f1_level0_row15\" class=\"row_heading level0 row15\" >dt</th>\n",
       "      <td id=\"T_255f1_row15_col0\" class=\"data row15 col0\" >Decision Tree Regressor</td>\n",
       "      <td id=\"T_255f1_row15_col1\" class=\"data row15 col1\" >541.2650</td>\n",
       "      <td id=\"T_255f1_row15_col2\" class=\"data row15 col2\" >564251.4914</td>\n",
       "      <td id=\"T_255f1_row15_col3\" class=\"data row15 col3\" >695.4249</td>\n",
       "      <td id=\"T_255f1_row15_col4\" class=\"data row15 col4\" >0.6799</td>\n",
       "      <td id=\"T_255f1_row15_col5\" class=\"data row15 col5\" >0.2299</td>\n",
       "      <td id=\"T_255f1_row15_col6\" class=\"data row15 col6\" >0.2179</td>\n",
       "      <td id=\"T_255f1_row15_col7\" class=\"data row15 col7\" >0.0080</td>\n",
       "    </tr>\n",
       "    <tr>\n",
       "      <th id=\"T_255f1_level0_row16\" class=\"row_heading level0 row16\" >lightgbm</th>\n",
       "      <td id=\"T_255f1_row16_col0\" class=\"data row16 col0\" >Light Gradient Boosting Machine</td>\n",
       "      <td id=\"T_255f1_row16_col1\" class=\"data row16 col1\" >1506.2230</td>\n",
       "      <td id=\"T_255f1_row16_col2\" class=\"data row16 col2\" >3709123.0158</td>\n",
       "      <td id=\"T_255f1_row16_col3\" class=\"data row16 col3\" >1760.7746</td>\n",
       "      <td id=\"T_255f1_row16_col4\" class=\"data row16 col4\" >-0.8595</td>\n",
       "      <td id=\"T_255f1_row16_col5\" class=\"data row16 col5\" >0.7628</td>\n",
       "      <td id=\"T_255f1_row16_col6\" class=\"data row16 col6\" >0.9427</td>\n",
       "      <td id=\"T_255f1_row16_col7\" class=\"data row16 col7\" >0.0210</td>\n",
       "    </tr>\n",
       "    <tr>\n",
       "      <th id=\"T_255f1_level0_row17\" class=\"row_heading level0 row17\" >dummy</th>\n",
       "      <td id=\"T_255f1_row17_col0\" class=\"data row17 col0\" >Dummy Regressor</td>\n",
       "      <td id=\"T_255f1_row17_col1\" class=\"data row17 col1\" >1506.2230</td>\n",
       "      <td id=\"T_255f1_row17_col2\" class=\"data row17 col2\" >3709122.8188</td>\n",
       "      <td id=\"T_255f1_row17_col3\" class=\"data row17 col3\" >1760.7746</td>\n",
       "      <td id=\"T_255f1_row17_col4\" class=\"data row17 col4\" >-0.8595</td>\n",
       "      <td id=\"T_255f1_row17_col5\" class=\"data row17 col5\" >0.7628</td>\n",
       "      <td id=\"T_255f1_row17_col6\" class=\"data row17 col6\" >0.9427</td>\n",
       "      <td id=\"T_255f1_row17_col7\" class=\"data row17 col7\" >0.0100</td>\n",
       "    </tr>\n",
       "  </tbody>\n",
       "</table>\n"
      ],
      "text/plain": [
       "<pandas.io.formats.style.Styler at 0x1d2c5316fa0>"
      ]
     },
     "metadata": {},
     "output_type": "display_data"
    },
    {
     "data": {
      "text/html": [],
      "text/plain": [
       "<IPython.core.display.HTML object>"
      ]
     },
     "metadata": {},
     "output_type": "display_data"
    }
   ],
   "source": [
    "best = compare_models()"
   ]
  },
  {
   "cell_type": "code",
   "execution_count": 34,
   "metadata": {},
   "outputs": [
    {
     "data": {
      "text/html": [],
      "text/plain": [
       "<IPython.core.display.HTML object>"
      ]
     },
     "metadata": {},
     "output_type": "display_data"
    },
    {
     "data": {
      "text/html": [
       "<style type=\"text/css\">\n",
       "#T_4b4cd_row10_col0, #T_4b4cd_row10_col1, #T_4b4cd_row10_col2, #T_4b4cd_row10_col3, #T_4b4cd_row10_col4, #T_4b4cd_row10_col5 {\n",
       "  background: yellow;\n",
       "}\n",
       "</style>\n",
       "<table id=\"T_4b4cd\">\n",
       "  <thead>\n",
       "    <tr>\n",
       "      <th class=\"blank level0\" >&nbsp;</th>\n",
       "      <th id=\"T_4b4cd_level0_col0\" class=\"col_heading level0 col0\" >MAE</th>\n",
       "      <th id=\"T_4b4cd_level0_col1\" class=\"col_heading level0 col1\" >MSE</th>\n",
       "      <th id=\"T_4b4cd_level0_col2\" class=\"col_heading level0 col2\" >RMSE</th>\n",
       "      <th id=\"T_4b4cd_level0_col3\" class=\"col_heading level0 col3\" >R2</th>\n",
       "      <th id=\"T_4b4cd_level0_col4\" class=\"col_heading level0 col4\" >RMSLE</th>\n",
       "      <th id=\"T_4b4cd_level0_col5\" class=\"col_heading level0 col5\" >MAPE</th>\n",
       "    </tr>\n",
       "    <tr>\n",
       "      <th class=\"index_name level0\" >Fold</th>\n",
       "      <th class=\"blank col0\" >&nbsp;</th>\n",
       "      <th class=\"blank col1\" >&nbsp;</th>\n",
       "      <th class=\"blank col2\" >&nbsp;</th>\n",
       "      <th class=\"blank col3\" >&nbsp;</th>\n",
       "      <th class=\"blank col4\" >&nbsp;</th>\n",
       "      <th class=\"blank col5\" >&nbsp;</th>\n",
       "    </tr>\n",
       "  </thead>\n",
       "  <tbody>\n",
       "    <tr>\n",
       "      <th id=\"T_4b4cd_level0_row0\" class=\"row_heading level0 row0\" >0</th>\n",
       "      <td id=\"T_4b4cd_row0_col0\" class=\"data row0 col0\" >245.1835</td>\n",
       "      <td id=\"T_4b4cd_row0_col1\" class=\"data row0 col1\" >79420.2453</td>\n",
       "      <td id=\"T_4b4cd_row0_col2\" class=\"data row0 col2\" >281.8160</td>\n",
       "      <td id=\"T_4b4cd_row0_col3\" class=\"data row0 col3\" >0.9418</td>\n",
       "      <td id=\"T_4b4cd_row0_col4\" class=\"data row0 col4\" >0.1267</td>\n",
       "      <td id=\"T_4b4cd_row0_col5\" class=\"data row0 col5\" >0.1337</td>\n",
       "    </tr>\n",
       "    <tr>\n",
       "      <th id=\"T_4b4cd_level0_row1\" class=\"row_heading level0 row1\" >1</th>\n",
       "      <td id=\"T_4b4cd_row1_col0\" class=\"data row1 col0\" >527.3347</td>\n",
       "      <td id=\"T_4b4cd_row1_col1\" class=\"data row1 col1\" >426129.2278</td>\n",
       "      <td id=\"T_4b4cd_row1_col2\" class=\"data row1 col2\" >652.7857</td>\n",
       "      <td id=\"T_4b4cd_row1_col3\" class=\"data row1 col3\" >0.9437</td>\n",
       "      <td id=\"T_4b4cd_row1_col4\" class=\"data row1 col4\" >0.1712</td>\n",
       "      <td id=\"T_4b4cd_row1_col5\" class=\"data row1 col5\" >0.1685</td>\n",
       "    </tr>\n",
       "    <tr>\n",
       "      <th id=\"T_4b4cd_level0_row2\" class=\"row_heading level0 row2\" >2</th>\n",
       "      <td id=\"T_4b4cd_row2_col0\" class=\"data row2 col0\" >378.3990</td>\n",
       "      <td id=\"T_4b4cd_row2_col1\" class=\"data row2 col1\" >364791.8977</td>\n",
       "      <td id=\"T_4b4cd_row2_col2\" class=\"data row2 col2\" >603.9800</td>\n",
       "      <td id=\"T_4b4cd_row2_col3\" class=\"data row2 col3\" >0.8639</td>\n",
       "      <td id=\"T_4b4cd_row2_col4\" class=\"data row2 col4\" >0.1722</td>\n",
       "      <td id=\"T_4b4cd_row2_col5\" class=\"data row2 col5\" >0.1397</td>\n",
       "    </tr>\n",
       "    <tr>\n",
       "      <th id=\"T_4b4cd_level0_row3\" class=\"row_heading level0 row3\" >3</th>\n",
       "      <td id=\"T_4b4cd_row3_col0\" class=\"data row3 col0\" >229.8248</td>\n",
       "      <td id=\"T_4b4cd_row3_col1\" class=\"data row3 col1\" >65678.0089</td>\n",
       "      <td id=\"T_4b4cd_row3_col2\" class=\"data row3 col2\" >256.2772</td>\n",
       "      <td id=\"T_4b4cd_row3_col3\" class=\"data row3 col3\" >0.9094</td>\n",
       "      <td id=\"T_4b4cd_row3_col4\" class=\"data row3 col4\" >0.1508</td>\n",
       "      <td id=\"T_4b4cd_row3_col5\" class=\"data row3 col5\" >0.1459</td>\n",
       "    </tr>\n",
       "    <tr>\n",
       "      <th id=\"T_4b4cd_level0_row4\" class=\"row_heading level0 row4\" >4</th>\n",
       "      <td id=\"T_4b4cd_row4_col0\" class=\"data row4 col0\" >381.1781</td>\n",
       "      <td id=\"T_4b4cd_row4_col1\" class=\"data row4 col1\" >182734.7476</td>\n",
       "      <td id=\"T_4b4cd_row4_col2\" class=\"data row4 col2\" >427.4749</td>\n",
       "      <td id=\"T_4b4cd_row4_col3\" class=\"data row4 col3\" >0.9654</td>\n",
       "      <td id=\"T_4b4cd_row4_col4\" class=\"data row4 col4\" >0.1126</td>\n",
       "      <td id=\"T_4b4cd_row4_col5\" class=\"data row4 col5\" >0.1120</td>\n",
       "    </tr>\n",
       "    <tr>\n",
       "      <th id=\"T_4b4cd_level0_row5\" class=\"row_heading level0 row5\" >5</th>\n",
       "      <td id=\"T_4b4cd_row5_col0\" class=\"data row5 col0\" >442.0943</td>\n",
       "      <td id=\"T_4b4cd_row5_col1\" class=\"data row5 col1\" >406454.3797</td>\n",
       "      <td id=\"T_4b4cd_row5_col2\" class=\"data row5 col2\" >637.5377</td>\n",
       "      <td id=\"T_4b4cd_row5_col3\" class=\"data row5 col3\" >0.7556</td>\n",
       "      <td id=\"T_4b4cd_row5_col4\" class=\"data row5 col4\" >0.2267</td>\n",
       "      <td id=\"T_4b4cd_row5_col5\" class=\"data row5 col5\" >0.1878</td>\n",
       "    </tr>\n",
       "    <tr>\n",
       "      <th id=\"T_4b4cd_level0_row6\" class=\"row_heading level0 row6\" >6</th>\n",
       "      <td id=\"T_4b4cd_row6_col0\" class=\"data row6 col0\" >100.2130</td>\n",
       "      <td id=\"T_4b4cd_row6_col1\" class=\"data row6 col1\" >16730.2279</td>\n",
       "      <td id=\"T_4b4cd_row6_col2\" class=\"data row6 col2\" >129.3454</td>\n",
       "      <td id=\"T_4b4cd_row6_col3\" class=\"data row6 col3\" >0.9520</td>\n",
       "      <td id=\"T_4b4cd_row6_col4\" class=\"data row6 col4\" >0.1481</td>\n",
       "      <td id=\"T_4b4cd_row6_col5\" class=\"data row6 col5\" >0.1283</td>\n",
       "    </tr>\n",
       "    <tr>\n",
       "      <th id=\"T_4b4cd_level0_row7\" class=\"row_heading level0 row7\" >7</th>\n",
       "      <td id=\"T_4b4cd_row7_col0\" class=\"data row7 col0\" >547.0983</td>\n",
       "      <td id=\"T_4b4cd_row7_col1\" class=\"data row7 col1\" >377119.2875</td>\n",
       "      <td id=\"T_4b4cd_row7_col2\" class=\"data row7 col2\" >614.1004</td>\n",
       "      <td id=\"T_4b4cd_row7_col3\" class=\"data row7 col3\" >0.6873</td>\n",
       "      <td id=\"T_4b4cd_row7_col4\" class=\"data row7 col4\" >0.2086</td>\n",
       "      <td id=\"T_4b4cd_row7_col5\" class=\"data row7 col5\" >0.2082</td>\n",
       "    </tr>\n",
       "    <tr>\n",
       "      <th id=\"T_4b4cd_level0_row8\" class=\"row_heading level0 row8\" >8</th>\n",
       "      <td id=\"T_4b4cd_row8_col0\" class=\"data row8 col0\" >392.4981</td>\n",
       "      <td id=\"T_4b4cd_row8_col1\" class=\"data row8 col1\" >163415.3701</td>\n",
       "      <td id=\"T_4b4cd_row8_col2\" class=\"data row8 col2\" >404.2467</td>\n",
       "      <td id=\"T_4b4cd_row8_col3\" class=\"data row8 col3\" >0.6550</td>\n",
       "      <td id=\"T_4b4cd_row8_col4\" class=\"data row8 col4\" >0.2484</td>\n",
       "      <td id=\"T_4b4cd_row8_col5\" class=\"data row8 col5\" >0.2116</td>\n",
       "    </tr>\n",
       "    <tr>\n",
       "      <th id=\"T_4b4cd_level0_row9\" class=\"row_heading level0 row9\" >9</th>\n",
       "      <td id=\"T_4b4cd_row9_col0\" class=\"data row9 col0\" >559.6042</td>\n",
       "      <td id=\"T_4b4cd_row9_col1\" class=\"data row9 col1\" >688484.4112</td>\n",
       "      <td id=\"T_4b4cd_row9_col2\" class=\"data row9 col2\" >829.7496</td>\n",
       "      <td id=\"T_4b4cd_row9_col3\" class=\"data row9 col3\" >0.9074</td>\n",
       "      <td id=\"T_4b4cd_row9_col4\" class=\"data row9 col4\" >0.1999</td>\n",
       "      <td id=\"T_4b4cd_row9_col5\" class=\"data row9 col5\" >0.1543</td>\n",
       "    </tr>\n",
       "    <tr>\n",
       "      <th id=\"T_4b4cd_level0_row10\" class=\"row_heading level0 row10\" >Mean</th>\n",
       "      <td id=\"T_4b4cd_row10_col0\" class=\"data row10 col0\" >380.3428</td>\n",
       "      <td id=\"T_4b4cd_row10_col1\" class=\"data row10 col1\" >277095.7804</td>\n",
       "      <td id=\"T_4b4cd_row10_col2\" class=\"data row10 col2\" >483.7314</td>\n",
       "      <td id=\"T_4b4cd_row10_col3\" class=\"data row10 col3\" >0.8582</td>\n",
       "      <td id=\"T_4b4cd_row10_col4\" class=\"data row10 col4\" >0.1765</td>\n",
       "      <td id=\"T_4b4cd_row10_col5\" class=\"data row10 col5\" >0.1590</td>\n",
       "    </tr>\n",
       "    <tr>\n",
       "      <th id=\"T_4b4cd_level0_row11\" class=\"row_heading level0 row11\" >Std</th>\n",
       "      <td id=\"T_4b4cd_row11_col0\" class=\"data row11 col0\" >143.1470</td>\n",
       "      <td id=\"T_4b4cd_row11_col1\" class=\"data row11 col1\" >199817.6880</td>\n",
       "      <td id=\"T_4b4cd_row11_col2\" class=\"data row11 col2\" >207.6048</td>\n",
       "      <td id=\"T_4b4cd_row11_col3\" class=\"data row11 col3\" >0.1098</td>\n",
       "      <td id=\"T_4b4cd_row11_col4\" class=\"data row11 col4\" >0.0416</td>\n",
       "      <td id=\"T_4b4cd_row11_col5\" class=\"data row11 col5\" >0.0323</td>\n",
       "    </tr>\n",
       "  </tbody>\n",
       "</table>\n"
      ],
      "text/plain": [
       "<pandas.io.formats.style.Styler at 0x1d2c4ff6d90>"
      ]
     },
     "metadata": {},
     "output_type": "display_data"
    },
    {
     "data": {
      "text/html": [],
      "text/plain": [
       "<IPython.core.display.HTML object>"
      ]
     },
     "metadata": {},
     "output_type": "display_data"
    }
   ],
   "source": [
    "best = create_model(\"rf\")"
   ]
  },
  {
   "cell_type": "code",
   "execution_count": 35,
   "metadata": {},
   "outputs": [
    {
     "data": {
      "text/html": [],
      "text/plain": [
       "<IPython.core.display.HTML object>"
      ]
     },
     "metadata": {},
     "output_type": "display_data"
    },
    {
     "data": {
      "image/png": "[encoded data removed]",
      "text/plain": [
       "<Figure size 800x550 with 2 Axes>"
      ]
     },
     "metadata": {},
     "output_type": "display_data"
    }
   ],
   "source": [
    "plot_model(best, plot = 'residuals')"
   ]
  },
  {
   "cell_type": "code",
   "execution_count": 36,
   "metadata": {},
   "outputs": [
    {
     "data": {
      "text/html": [],
      "text/plain": [
       "<IPython.core.display.HTML object>"
      ]
     },
     "metadata": {},
     "output_type": "display_data"
    },
    {
     "data": {
      "image/png": "[encoded data removed]",
      "text/plain": [
       "<Figure size 800x550 with 1 Axes>"
      ]
     },
     "metadata": {},
     "output_type": "display_data"
    }
   ],
   "source": [
    "plot_model(best, plot = 'error')"
   ]
  },
  {
   "cell_type": "markdown",
   "metadata": {},
   "source": [
    "### ARIMA MODEL"
   ]
  },
  {
   "cell_type": "code",
   "execution_count": 13,
   "metadata": {},
   "outputs": [],
   "source": [
    "from statsmodels.graphics.tsaplots import plot_acf, plot_pacf\n",
    "from statsmodels.tsa.stattools import adfuller\n",
    "from statsmodels.tsa.arima_model import ARIMA\n"
   ]
  },
  {
   "cell_type": "code",
   "execution_count": 11,
   "metadata": {},
   "outputs": [
    {
     "data": {
      "text/html": [
       "<div>\n",
       "<style scoped>\n",
       "    .dataframe tbody tr th:only-of-type {\n",
       "        vertical-align: middle;\n",
       "    }\n",
       "\n",
       "    .dataframe tbody tr th {\n",
       "        vertical-align: top;\n",
       "    }\n",
       "\n",
       "    .dataframe thead th {\n",
       "        text-align: right;\n",
       "    }\n",
       "</style>\n",
       "<table border=\"1\" class=\"dataframe\">\n",
       "  <thead>\n",
       "    <tr style=\"text-align: right;\">\n",
       "      <th></th>\n",
       "      <th>Oil Production</th>\n",
       "    </tr>\n",
       "    <tr>\n",
       "      <th>Date</th>\n",
       "      <th></th>\n",
       "    </tr>\n",
       "  </thead>\n",
       "  <tbody>\n",
       "    <tr>\n",
       "      <th>2005-01-01</th>\n",
       "      <td>8045.2</td>\n",
       "    </tr>\n",
       "    <tr>\n",
       "      <th>2005-02-01</th>\n",
       "      <td>9243.7</td>\n",
       "    </tr>\n",
       "    <tr>\n",
       "      <th>2005-03-01</th>\n",
       "      <td>7498.1</td>\n",
       "    </tr>\n",
       "    <tr>\n",
       "      <th>2005-04-01</th>\n",
       "      <td>6840.4</td>\n",
       "    </tr>\n",
       "    <tr>\n",
       "      <th>2005-05-01</th>\n",
       "      <td>6470.0</td>\n",
       "    </tr>\n",
       "    <tr>\n",
       "      <th>...</th>\n",
       "      <td>...</td>\n",
       "    </tr>\n",
       "    <tr>\n",
       "      <th>2009-09-01</th>\n",
       "      <td>727.9</td>\n",
       "    </tr>\n",
       "    <tr>\n",
       "      <th>2009-10-01</th>\n",
       "      <td>797.7</td>\n",
       "    </tr>\n",
       "    <tr>\n",
       "      <th>2009-11-01</th>\n",
       "      <td>685.8</td>\n",
       "    </tr>\n",
       "    <tr>\n",
       "      <th>2009-12-01</th>\n",
       "      <td>675.3</td>\n",
       "    </tr>\n",
       "    <tr>\n",
       "      <th>2010-01-01</th>\n",
       "      <td>690.2</td>\n",
       "    </tr>\n",
       "  </tbody>\n",
       "</table>\n",
       "<p>61 rows × 1 columns</p>\n",
       "</div>"
      ],
      "text/plain": [
       "            Oil Production\n",
       "Date                      \n",
       "2005-01-01          8045.2\n",
       "2005-02-01          9243.7\n",
       "2005-03-01          7498.1\n",
       "2005-04-01          6840.4\n",
       "2005-05-01          6470.0\n",
       "...                    ...\n",
       "2009-09-01           727.9\n",
       "2009-10-01           797.7\n",
       "2009-11-01           685.8\n",
       "2009-12-01           675.3\n",
       "2010-01-01           690.2\n",
       "\n",
       "[61 rows x 1 columns]"
      ]
     },
     "execution_count": 11,
     "metadata": {},
     "output_type": "execute_result"
    }
   ],
   "source": [
    "data\n"
   ]
  },
  {
   "cell_type": "code",
   "execution_count": 12,
   "metadata": {},
   "outputs": [
    {
     "data": {
      "text/plain": [
       "<AxesSubplot: xlabel='Date'>"
      ]
     },
     "execution_count": 12,
     "metadata": {},
     "output_type": "execute_result"
    },
    {
     "data": {
      "image/png": "[encoded data removed]",
      "text/plain": [
       "<Figure size 640x480 with 1 Axes>"
      ]
     },
     "metadata": {},
     "output_type": "display_data"
    }
   ],
   "source": [
    "data.plot()"
   ]
  },
  {
   "cell_type": "code",
   "execution_count": 19,
   "metadata": {},
   "outputs": [],
   "source": [
    "s= adfuller(data.dropna())"
   ]
  },
  {
   "cell_type": "code",
   "execution_count": 20,
   "metadata": {},
   "outputs": [
    {
     "data": {
      "text/plain": [
       "(-2.4448360381972325,\n",
       " 0.1294794312183879,\n",
       " 10,\n",
       " 50,\n",
       " {'1%': -3.568485864, '5%': -2.92135992, '10%': -2.5986616},\n",
       " 528.1431261586829)"
      ]
     },
     "execution_count": 20,
     "metadata": {},
     "output_type": "execute_result"
    }
   ],
   "source": [
    "s"
   ]
  },
  {
   "cell_type": "code",
   "execution_count": 21,
   "metadata": {},
   "outputs": [
    {
     "data": {
      "text/plain": [
       "0.1294794312183879"
      ]
     },
     "execution_count": 21,
     "metadata": {},
     "output_type": "execute_result"
    }
   ],
   "source": [
    "s[1]"
   ]
  },
  {
   "cell_type": "code",
   "execution_count": 22,
   "metadata": {},
   "outputs": [
    {
     "name": "stdout",
     "output_type": "stream",
     "text": [
      "Data is not stationary\n"
     ]
    }
   ],
   "source": [
    "if s[1] < 0.05:\n",
    "    print(\"Data is stationary\")\n",
    "else:\n",
    "    print(\"Data is not stationary\")"
   ]
  },
  {
   "cell_type": "code",
   "execution_count": 23,
   "metadata": {},
   "outputs": [
    {
     "data": {
      "text/plain": [
       "<AxesSubplot: xlabel='Date'>"
      ]
     },
     "execution_count": 23,
     "metadata": {},
     "output_type": "execute_result"
    },
    {
     "data": {
      "image/png": "[encoded data removed]",
      "text/plain": [
       "<Figure size 640x480 with 1 Axes>"
      ]
     },
     "metadata": {},
     "output_type": "display_data"
    }
   ],
   "source": [
    "data.diff().plot()"
   ]
  },
  {
   "cell_type": "code",
   "execution_count": 25,
   "metadata": {},
   "outputs": [],
   "source": [
    "s= adfuller(data.diff().dropna())"
   ]
  },
  {
   "cell_type": "code",
   "execution_count": 26,
   "metadata": {},
   "outputs": [
    {
     "name": "stdout",
     "output_type": "stream",
     "text": [
      "Data is stationary\n"
     ]
    }
   ],
   "source": [
    "if s[1] < 0.05:\n",
    "    print(\"Data is stationary\")\n",
    "else:\n",
    "    print(\"Data is not stationary\")"
   ]
  },
  {
   "cell_type": "markdown",
   "metadata": {},
   "source": [
    "d = 1"
   ]
  },
  {
   "cell_type": "markdown",
   "metadata": {},
   "source": [
    "q value: PACF"
   ]
  },
  {
   "cell_type": "code",
   "execution_count": 27,
   "metadata": {},
   "outputs": [
    {
     "data": {
      "image/png": "[encoded data removed]",
      "text/plain": [
       "<Figure size 640x480 with 1 Axes>"
      ]
     },
     "execution_count": 27,
     "metadata": {},
     "output_type": "execute_result"
    },
    {
     "data": {
      "image/png": "[encoded data removed]",
      "text/plain": [
       "<Figure size 640x480 with 1 Axes>"
      ]
     },
     "metadata": {},
     "output_type": "display_data"
    }
   ],
   "source": [
    "plot_pacf(data.diff().dropna())"
   ]
  },
  {
   "cell_type": "markdown",
   "metadata": {},
   "source": [
    "P = 4 "
   ]
  },
  {
   "cell_type": "markdown",
   "metadata": {},
   "source": [
    "q "
   ]
  },
  {
   "cell_type": "code",
   "execution_count": 28,
   "metadata": {},
   "outputs": [
    {
     "data": {
      "image/png": "[encoded data removed]",
      "text/plain": [
       "<Figure size 640x480 with 1 Axes>"
      ]
     },
     "execution_count": 28,
     "metadata": {},
     "output_type": "execute_result"
    },
    {
     "data": {
      "image/png": "[encoded data removed]",
      "text/plain": [
       "<Figure size 640x480 with 1 Axes>"
      ]
     },
     "metadata": {},
     "output_type": "display_data"
    }
   ],
   "source": [
    "plot_acf(data.diff().dropna())"
   ]
  },
  {
   "cell_type": "markdown",
   "metadata": {},
   "source": [
    "q =1 "
   ]
  },
  {
   "cell_type": "markdown",
   "metadata": {},
   "source": [
    "d =1 , p = 4, q = 1"
   ]
  },
  {
   "cell_type": "code",
   "execution_count": 30,
   "metadata": {},
   "outputs": [],
   "source": [
    "import statsmodels.api as sm\n"
   ]
  },
  {
   "cell_type": "code",
   "execution_count": 31,
   "metadata": {},
   "outputs": [
    {
     "name": "stderr",
     "output_type": "stream",
     "text": [
      "C:\\Users\\Z004ET6Z\\AppData\\Roaming\\Python\\Python38\\site-packages\\statsmodels\\tsa\\base\\tsa_model.py:473: ValueWarning: No frequency information was provided, so inferred frequency MS will be used.\n",
      "  self._init_dates(dates, freq)\n",
      "C:\\Users\\Z004ET6Z\\AppData\\Roaming\\Python\\Python38\\site-packages\\statsmodels\\tsa\\base\\tsa_model.py:473: ValueWarning: No frequency information was provided, so inferred frequency MS will be used.\n",
      "  self._init_dates(dates, freq)\n",
      "C:\\Users\\Z004ET6Z\\AppData\\Roaming\\Python\\Python38\\site-packages\\statsmodels\\tsa\\base\\tsa_model.py:473: ValueWarning: No frequency information was provided, so inferred frequency MS will be used.\n",
      "  self._init_dates(dates, freq)\n"
     ]
    }
   ],
   "source": [
    "model = sm.tsa.arima.ARIMA(data,order=(4,1,1))"
   ]
  },
  {
   "cell_type": "code",
   "execution_count": 35,
   "metadata": {},
   "outputs": [
    {
     "name": "stderr",
     "output_type": "stream",
     "text": [
      "C:\\Users\\Z004ET6Z\\AppData\\Roaming\\Python\\Python38\\site-packages\\statsmodels\\base\\model.py:607: ConvergenceWarning: Maximum Likelihood optimization failed to converge. Check mle_retvals\n",
      "  warnings.warn(\"Maximum Likelihood optimization failed to \"\n"
     ]
    }
   ],
   "source": [
    "result = model.fit()"
   ]
  },
  {
   "cell_type": "code",
   "execution_count": 36,
   "metadata": {},
   "outputs": [
    {
     "data": {
      "text/html": [
       "<table class=\"simpletable\">\n",
       "<caption>SARIMAX Results</caption>\n",
       "<tr>\n",
       "  <th>Dep. Variable:</th>    <td>Oil Production</td>  <th>  No. Observations:  </th>    <td>61</td>   \n",
       "</tr>\n",
       "<tr>\n",
       "  <th>Model:</th>            <td>ARIMA(4, 1, 1)</td>  <th>  Log Likelihood     </th> <td>-393.761</td>\n",
       "</tr>\n",
       "<tr>\n",
       "  <th>Date:</th>            <td>Sat, 03 Aug 2024</td> <th>  AIC                </th>  <td>799.522</td>\n",
       "</tr>\n",
       "<tr>\n",
       "  <th>Time:</th>                <td>22:53:22</td>     <th>  BIC                </th>  <td>812.088</td>\n",
       "</tr>\n",
       "<tr>\n",
       "  <th>Sample:</th>             <td>01-01-2005</td>    <th>  HQIC               </th>  <td>804.437</td>\n",
       "</tr>\n",
       "<tr>\n",
       "  <th></th>                   <td>- 01-01-2010</td>   <th>                     </th>     <td> </td>   \n",
       "</tr>\n",
       "<tr>\n",
       "  <th>Covariance Type:</th>        <td>opg</td>       <th>                     </th>     <td> </td>   \n",
       "</tr>\n",
       "</table>\n",
       "<table class=\"simpletable\">\n",
       "<tr>\n",
       "     <td></td>       <th>coef</th>     <th>std err</th>      <th>z</th>      <th>P>|z|</th>  <th>[0.025</th>    <th>0.975]</th>  \n",
       "</tr>\n",
       "<tr>\n",
       "  <th>ar.L1</th>  <td>   -0.0378</td> <td>    0.021</td> <td>   -1.773</td> <td> 0.076</td> <td>   -0.080</td> <td>    0.004</td>\n",
       "</tr>\n",
       "<tr>\n",
       "  <th>ar.L2</th>  <td>   -0.0107</td> <td>    0.011</td> <td>   -0.962</td> <td> 0.336</td> <td>   -0.032</td> <td>    0.011</td>\n",
       "</tr>\n",
       "<tr>\n",
       "  <th>ar.L3</th>  <td>   -0.0164</td> <td>    0.023</td> <td>   -0.707</td> <td> 0.479</td> <td>   -0.062</td> <td>    0.029</td>\n",
       "</tr>\n",
       "<tr>\n",
       "  <th>ar.L4</th>  <td>    0.9411</td> <td>    0.018</td> <td>   53.551</td> <td> 0.000</td> <td>    0.907</td> <td>    0.975</td>\n",
       "</tr>\n",
       "<tr>\n",
       "  <th>ma.L1</th>  <td>    0.2463</td> <td>    0.148</td> <td>    1.666</td> <td> 0.096</td> <td>   -0.043</td> <td>    0.536</td>\n",
       "</tr>\n",
       "<tr>\n",
       "  <th>sigma2</th> <td> 1.699e+04</td> <td> 2110.187</td> <td>    8.050</td> <td> 0.000</td> <td> 1.29e+04</td> <td> 2.11e+04</td>\n",
       "</tr>\n",
       "</table>\n",
       "<table class=\"simpletable\">\n",
       "<tr>\n",
       "  <th>Ljung-Box (L1) (Q):</th>     <td>0.09</td> <th>  Jarque-Bera (JB):  </th> <td>39.54</td>\n",
       "</tr>\n",
       "<tr>\n",
       "  <th>Prob(Q):</th>                <td>0.76</td> <th>  Prob(JB):          </th> <td>0.00</td> \n",
       "</tr>\n",
       "<tr>\n",
       "  <th>Heteroskedasticity (H):</th> <td>0.05</td> <th>  Skew:              </th> <td>-0.03</td>\n",
       "</tr>\n",
       "<tr>\n",
       "  <th>Prob(H) (two-sided):</th>    <td>0.00</td> <th>  Kurtosis:          </th> <td>6.98</td> \n",
       "</tr>\n",
       "</table><br/><br/>Warnings:<br/>[1] Covariance matrix calculated using the outer product of gradients (complex-step)."
      ],
      "text/latex": [
       "\\begin{center}\n",
       "\\begin{tabular}{lclc}\n",
       "\\toprule\n",
       "\\textbf{Dep. Variable:}          &  Oil Production  & \\textbf{  No. Observations:  } &     61      \\\\\n",
       "\\textbf{Model:}                  &  ARIMA(4, 1, 1)  & \\textbf{  Log Likelihood     } &  -393.761   \\\\\n",
       "\\textbf{Date:}                   & Sat, 03 Aug 2024 & \\textbf{  AIC                } &  799.522    \\\\\n",
       "\\textbf{Time:}                   &     22:53:22     & \\textbf{  BIC                } &  812.088    \\\\\n",
       "\\textbf{Sample:}                 &    01-01-2005    & \\textbf{  HQIC               } &  804.437    \\\\\n",
       "\\textbf{}                        &   - 01-01-2010   & \\textbf{                     } &             \\\\\n",
       "\\textbf{Covariance Type:}        &       opg        & \\textbf{                     } &             \\\\\n",
       "\\bottomrule\n",
       "\\end{tabular}\n",
       "\\begin{tabular}{lcccccc}\n",
       "                & \\textbf{coef} & \\textbf{std err} & \\textbf{z} & \\textbf{P$> |$z$|$} & \\textbf{[0.025} & \\textbf{0.975]}  \\\\\n",
       "\\midrule\n",
       "\\textbf{ar.L1}  &      -0.0378  &        0.021     &    -1.773  &         0.076        &       -0.080    &        0.004     \\\\\n",
       "\\textbf{ar.L2}  &      -0.0107  &        0.011     &    -0.962  &         0.336        &       -0.032    &        0.011     \\\\\n",
       "\\textbf{ar.L3}  &      -0.0164  &        0.023     &    -0.707  &         0.479        &       -0.062    &        0.029     \\\\\n",
       "\\textbf{ar.L4}  &       0.9411  &        0.018     &    53.551  &         0.000        &        0.907    &        0.975     \\\\\n",
       "\\textbf{ma.L1}  &       0.2463  &        0.148     &     1.666  &         0.096        &       -0.043    &        0.536     \\\\\n",
       "\\textbf{sigma2} &    1.699e+04  &     2110.187     &     8.050  &         0.000        &     1.29e+04    &     2.11e+04     \\\\\n",
       "\\bottomrule\n",
       "\\end{tabular}\n",
       "\\begin{tabular}{lclc}\n",
       "\\textbf{Ljung-Box (L1) (Q):}     & 0.09 & \\textbf{  Jarque-Bera (JB):  } & 39.54  \\\\\n",
       "\\textbf{Prob(Q):}                & 0.76 & \\textbf{  Prob(JB):          } &  0.00  \\\\\n",
       "\\textbf{Heteroskedasticity (H):} & 0.05 & \\textbf{  Skew:              } & -0.03  \\\\\n",
       "\\textbf{Prob(H) (two-sided):}    & 0.00 & \\textbf{  Kurtosis:          } &  6.98  \\\\\n",
       "\\bottomrule\n",
       "\\end{tabular}\n",
       "%\\caption{SARIMAX Results}\n",
       "\\end{center}\n",
       "\n",
       "Warnings: \\newline\n",
       " [1] Covariance matrix calculated using the outer product of gradients (complex-step)."
      ],
      "text/plain": [
       "<class 'statsmodels.iolib.summary.Summary'>\n",
       "\"\"\"\n",
       "                               SARIMAX Results                                \n",
       "==============================================================================\n",
       "Dep. Variable:         Oil Production   No. Observations:                   61\n",
       "Model:                 ARIMA(4, 1, 1)   Log Likelihood                -393.761\n",
       "Date:                Sat, 03 Aug 2024   AIC                            799.522\n",
       "Time:                        22:53:22   BIC                            812.088\n",
       "Sample:                    01-01-2005   HQIC                           804.437\n",
       "                         - 01-01-2010                                         \n",
       "Covariance Type:                  opg                                         \n",
       "==============================================================================\n",
       "                 coef    std err          z      P>|z|      [0.025      0.975]\n",
       "------------------------------------------------------------------------------\n",
       "ar.L1         -0.0378      0.021     -1.773      0.076      -0.080       0.004\n",
       "ar.L2         -0.0107      0.011     -0.962      0.336      -0.032       0.011\n",
       "ar.L3         -0.0164      0.023     -0.707      0.479      -0.062       0.029\n",
       "ar.L4          0.9411      0.018     53.551      0.000       0.907       0.975\n",
       "ma.L1          0.2463      0.148      1.666      0.096      -0.043       0.536\n",
       "sigma2      1.699e+04   2110.187      8.050      0.000    1.29e+04    2.11e+04\n",
       "===================================================================================\n",
       "Ljung-Box (L1) (Q):                   0.09   Jarque-Bera (JB):                39.54\n",
       "Prob(Q):                              0.76   Prob(JB):                         0.00\n",
       "Heteroskedasticity (H):               0.05   Skew:                            -0.03\n",
       "Prob(H) (two-sided):                  0.00   Kurtosis:                         6.98\n",
       "===================================================================================\n",
       "\n",
       "Warnings:\n",
       "[1] Covariance matrix calculated using the outer product of gradients (complex-step).\n",
       "\"\"\""
      ]
     },
     "execution_count": 36,
     "metadata": {},
     "output_type": "execute_result"
    }
   ],
   "source": [
    "result.summary()"
   ]
  },
  {
   "cell_type": "code",
   "execution_count": 37,
   "metadata": {},
   "outputs": [],
   "source": [
    "residuals = result.resid    "
   ]
  },
  {
   "cell_type": "code",
   "execution_count": 38,
   "metadata": {},
   "outputs": [
    {
     "data": {
      "text/plain": [
       "[<matplotlib.lines.Line2D at 0x22530763670>]"
      ]
     },
     "execution_count": 38,
     "metadata": {},
     "output_type": "execute_result"
    },
    {
     "data": {
      "image/png": "[encoded data removed]",
      "text/plain": [
       "<Figure size 640x480 with 1 Axes>"
      ]
     },
     "metadata": {},
     "output_type": "display_data"
    }
   ],
   "source": [
    "plt.plot(residuals)"
   ]
  },
  {
   "cell_type": "code",
   "execution_count": 40,
   "metadata": {},
   "outputs": [
    {
     "data": {
      "text/plain": [
       "2010-02-01    758.278032\n",
       "Freq: MS, dtype: float64"
      ]
     },
     "execution_count": 40,
     "metadata": {},
     "output_type": "execute_result"
    }
   ],
   "source": [
    "result.forecast()"
   ]
  },
  {
   "cell_type": "code",
   "execution_count": 41,
   "metadata": {},
   "outputs": [
    {
     "data": {
      "text/html": [
       "<div>\n",
       "<style scoped>\n",
       "    .dataframe tbody tr th:only-of-type {\n",
       "        vertical-align: middle;\n",
       "    }\n",
       "\n",
       "    .dataframe tbody tr th {\n",
       "        vertical-align: top;\n",
       "    }\n",
       "\n",
       "    .dataframe thead th {\n",
       "        text-align: right;\n",
       "    }\n",
       "</style>\n",
       "<table border=\"1\" class=\"dataframe\">\n",
       "  <thead>\n",
       "    <tr style=\"text-align: right;\">\n",
       "      <th></th>\n",
       "      <th>Oil Production</th>\n",
       "    </tr>\n",
       "    <tr>\n",
       "      <th>Date</th>\n",
       "      <th></th>\n",
       "    </tr>\n",
       "  </thead>\n",
       "  <tbody>\n",
       "    <tr>\n",
       "      <th>2005-01-01</th>\n",
       "      <td>8045.2</td>\n",
       "    </tr>\n",
       "    <tr>\n",
       "      <th>2005-02-01</th>\n",
       "      <td>9243.7</td>\n",
       "    </tr>\n",
       "    <tr>\n",
       "      <th>2005-03-01</th>\n",
       "      <td>7498.1</td>\n",
       "    </tr>\n",
       "    <tr>\n",
       "      <th>2005-04-01</th>\n",
       "      <td>6840.4</td>\n",
       "    </tr>\n",
       "    <tr>\n",
       "      <th>2005-05-01</th>\n",
       "      <td>6470.0</td>\n",
       "    </tr>\n",
       "    <tr>\n",
       "      <th>...</th>\n",
       "      <td>...</td>\n",
       "    </tr>\n",
       "    <tr>\n",
       "      <th>2009-09-01</th>\n",
       "      <td>727.9</td>\n",
       "    </tr>\n",
       "    <tr>\n",
       "      <th>2009-10-01</th>\n",
       "      <td>797.7</td>\n",
       "    </tr>\n",
       "    <tr>\n",
       "      <th>2009-11-01</th>\n",
       "      <td>685.8</td>\n",
       "    </tr>\n",
       "    <tr>\n",
       "      <th>2009-12-01</th>\n",
       "      <td>675.3</td>\n",
       "    </tr>\n",
       "    <tr>\n",
       "      <th>2010-01-01</th>\n",
       "      <td>690.2</td>\n",
       "    </tr>\n",
       "  </tbody>\n",
       "</table>\n",
       "<p>61 rows × 1 columns</p>\n",
       "</div>"
      ],
      "text/plain": [
       "            Oil Production\n",
       "Date                      \n",
       "2005-01-01          8045.2\n",
       "2005-02-01          9243.7\n",
       "2005-03-01          7498.1\n",
       "2005-04-01          6840.4\n",
       "2005-05-01          6470.0\n",
       "...                    ...\n",
       "2009-09-01           727.9\n",
       "2009-10-01           797.7\n",
       "2009-11-01           685.8\n",
       "2009-12-01           675.3\n",
       "2010-01-01           690.2\n",
       "\n",
       "[61 rows x 1 columns]"
      ]
     },
     "execution_count": 41,
     "metadata": {},
     "output_type": "execute_result"
    }
   ],
   "source": [
    "data "
   ]
  },
  {
   "cell_type": "code",
   "execution_count": 42,
   "metadata": {},
   "outputs": [],
   "source": [
    "test = data[-10:]"
   ]
  },
  {
   "cell_type": "code",
   "execution_count": 43,
   "metadata": {},
   "outputs": [
    {
     "data": {
      "text/html": [
       "<div>\n",
       "<style scoped>\n",
       "    .dataframe tbody tr th:only-of-type {\n",
       "        vertical-align: middle;\n",
       "    }\n",
       "\n",
       "    .dataframe tbody tr th {\n",
       "        vertical-align: top;\n",
       "    }\n",
       "\n",
       "    .dataframe thead th {\n",
       "        text-align: right;\n",
       "    }\n",
       "</style>\n",
       "<table border=\"1\" class=\"dataframe\">\n",
       "  <thead>\n",
       "    <tr style=\"text-align: right;\">\n",
       "      <th></th>\n",
       "      <th>Oil Production</th>\n",
       "    </tr>\n",
       "    <tr>\n",
       "      <th>Date</th>\n",
       "      <th></th>\n",
       "    </tr>\n",
       "  </thead>\n",
       "  <tbody>\n",
       "    <tr>\n",
       "      <th>2009-04-01</th>\n",
       "      <td>788.6</td>\n",
       "    </tr>\n",
       "    <tr>\n",
       "      <th>2009-05-01</th>\n",
       "      <td>801.5</td>\n",
       "    </tr>\n",
       "    <tr>\n",
       "      <th>2009-06-01</th>\n",
       "      <td>898.6</td>\n",
       "    </tr>\n",
       "    <tr>\n",
       "      <th>2009-07-01</th>\n",
       "      <td>730.7</td>\n",
       "    </tr>\n",
       "    <tr>\n",
       "      <th>2009-08-01</th>\n",
       "      <td>713.9</td>\n",
       "    </tr>\n",
       "    <tr>\n",
       "      <th>2009-09-01</th>\n",
       "      <td>727.9</td>\n",
       "    </tr>\n",
       "    <tr>\n",
       "      <th>2009-10-01</th>\n",
       "      <td>797.7</td>\n",
       "    </tr>\n",
       "    <tr>\n",
       "      <th>2009-11-01</th>\n",
       "      <td>685.8</td>\n",
       "    </tr>\n",
       "    <tr>\n",
       "      <th>2009-12-01</th>\n",
       "      <td>675.3</td>\n",
       "    </tr>\n",
       "    <tr>\n",
       "      <th>2010-01-01</th>\n",
       "      <td>690.2</td>\n",
       "    </tr>\n",
       "  </tbody>\n",
       "</table>\n",
       "</div>"
      ],
      "text/plain": [
       "            Oil Production\n",
       "Date                      \n",
       "2009-04-01           788.6\n",
       "2009-05-01           801.5\n",
       "2009-06-01           898.6\n",
       "2009-07-01           730.7\n",
       "2009-08-01           713.9\n",
       "2009-09-01           727.9\n",
       "2009-10-01           797.7\n",
       "2009-11-01           685.8\n",
       "2009-12-01           675.3\n",
       "2010-01-01           690.2"
      ]
     },
     "execution_count": 43,
     "metadata": {},
     "output_type": "execute_result"
    }
   ],
   "source": [
    "\n",
    "test "
   ]
  },
  {
   "cell_type": "code",
   "execution_count": 44,
   "metadata": {},
   "outputs": [],
   "source": [
    "predictions = []"
   ]
  },
  {
   "cell_type": "code",
   "execution_count": 48,
   "metadata": {},
   "outputs": [],
   "source": [
    "d = list(data[\"Oil Production\"])"
   ]
  },
  {
   "cell_type": "code",
   "execution_count": 49,
   "metadata": {},
   "outputs": [
    {
     "name": "stderr",
     "output_type": "stream",
     "text": [
      "C:\\Users\\Z004ET6Z\\AppData\\Roaming\\Python\\Python38\\site-packages\\statsmodels\\base\\model.py:607: ConvergenceWarning: Maximum Likelihood optimization failed to converge. Check mle_retvals\n",
      "  warnings.warn(\"Maximum Likelihood optimization failed to \"\n"
     ]
    },
    {
     "name": "stdout",
     "output_type": "stream",
     "text": [
      "758.2780322982858\n"
     ]
    },
    {
     "name": "stderr",
     "output_type": "stream",
     "text": [
      "C:\\Users\\Z004ET6Z\\AppData\\Roaming\\Python\\Python38\\site-packages\\statsmodels\\base\\model.py:607: ConvergenceWarning: Maximum Likelihood optimization failed to converge. Check mle_retvals\n",
      "  warnings.warn(\"Maximum Likelihood optimization failed to \"\n"
     ]
    },
    {
     "name": "stdout",
     "output_type": "stream",
     "text": [
      "650.1271309341602\n"
     ]
    },
    {
     "name": "stderr",
     "output_type": "stream",
     "text": [
      "C:\\Users\\Z004ET6Z\\AppData\\Roaming\\Python\\Python38\\site-packages\\statsmodels\\base\\model.py:607: ConvergenceWarning: Maximum Likelihood optimization failed to converge. Check mle_retvals\n",
      "  warnings.warn(\"Maximum Likelihood optimization failed to \"\n"
     ]
    },
    {
     "name": "stdout",
     "output_type": "stream",
     "text": [
      "642.6352119978841\n"
     ]
    },
    {
     "name": "stderr",
     "output_type": "stream",
     "text": [
      "C:\\Users\\Z004ET6Z\\AppData\\Roaming\\Python\\Python38\\site-packages\\statsmodels\\base\\model.py:607: ConvergenceWarning: Maximum Likelihood optimization failed to converge. Check mle_retvals\n",
      "  warnings.warn(\"Maximum Likelihood optimization failed to \"\n"
     ]
    },
    {
     "name": "stdout",
     "output_type": "stream",
     "text": [
      "657.7123100242021\n"
     ]
    },
    {
     "name": "stderr",
     "output_type": "stream",
     "text": [
      "C:\\Users\\Z004ET6Z\\AppData\\Roaming\\Python\\Python38\\site-packages\\statsmodels\\base\\model.py:607: ConvergenceWarning: Maximum Likelihood optimization failed to converge. Check mle_retvals\n",
      "  warnings.warn(\"Maximum Likelihood optimization failed to \"\n"
     ]
    },
    {
     "name": "stdout",
     "output_type": "stream",
     "text": [
      "722.56619826174\n"
     ]
    },
    {
     "name": "stderr",
     "output_type": "stream",
     "text": [
      "C:\\Users\\Z004ET6Z\\AppData\\Roaming\\Python\\Python38\\site-packages\\statsmodels\\base\\model.py:607: ConvergenceWarning: Maximum Likelihood optimization failed to converge. Check mle_retvals\n",
      "  warnings.warn(\"Maximum Likelihood optimization failed to \"\n"
     ]
    },
    {
     "name": "stdout",
     "output_type": "stream",
     "text": [
      "617.460861445545\n"
     ]
    },
    {
     "name": "stderr",
     "output_type": "stream",
     "text": [
      "C:\\Users\\Z004ET6Z\\AppData\\Roaming\\Python\\Python38\\site-packages\\statsmodels\\base\\model.py:607: ConvergenceWarning: Maximum Likelihood optimization failed to converge. Check mle_retvals\n",
      "  warnings.warn(\"Maximum Likelihood optimization failed to \"\n"
     ]
    },
    {
     "name": "stdout",
     "output_type": "stream",
     "text": [
      "611.285822337192\n"
     ]
    },
    {
     "name": "stderr",
     "output_type": "stream",
     "text": [
      "C:\\Users\\Z004ET6Z\\AppData\\Roaming\\Python\\Python38\\site-packages\\statsmodels\\base\\model.py:607: ConvergenceWarning: Maximum Likelihood optimization failed to converge. Check mle_retvals\n",
      "  warnings.warn(\"Maximum Likelihood optimization failed to \"\n"
     ]
    },
    {
     "name": "stdout",
     "output_type": "stream",
     "text": [
      "625.6779007479822\n"
     ]
    },
    {
     "name": "stderr",
     "output_type": "stream",
     "text": [
      "C:\\Users\\Z004ET6Z\\AppData\\Roaming\\Python\\Python38\\site-packages\\statsmodels\\base\\model.py:607: ConvergenceWarning: Maximum Likelihood optimization failed to converge. Check mle_retvals\n",
      "  warnings.warn(\"Maximum Likelihood optimization failed to \"\n"
     ]
    },
    {
     "name": "stdout",
     "output_type": "stream",
     "text": [
      "687.8360065890446\n",
      "585.5685299698322\n"
     ]
    },
    {
     "name": "stderr",
     "output_type": "stream",
     "text": [
      "C:\\Users\\Z004ET6Z\\AppData\\Roaming\\Python\\Python38\\site-packages\\statsmodels\\base\\model.py:607: ConvergenceWarning: Maximum Likelihood optimization failed to converge. Check mle_retvals\n",
      "  warnings.warn(\"Maximum Likelihood optimization failed to \"\n"
     ]
    }
   ],
   "source": [
    "for t in range(len(test)):\n",
    "    model = sm.tsa.arima.ARIMA(d, order=(4,1,1))\n",
    "    model_fit = model.fit()\n",
    "    output = model_fit.forecast()\n",
    "    yhat = output[0]\n",
    "    print(yhat)\n",
    "    predictions.append(yhat)\n",
    "    data = d.append(yhat)"
   ]
  },
  {
   "cell_type": "code",
   "execution_count": 47,
   "metadata": {},
   "outputs": [
    {
     "data": {
      "text/plain": [
       "[758.2780322982858]"
      ]
     },
     "execution_count": 47,
     "metadata": {},
     "output_type": "execute_result"
    }
   ],
   "source": [
    "predictions"
   ]
  },
  {
   "cell_type": "code",
   "execution_count": 51,
   "metadata": {},
   "outputs": [
    {
     "data": {
      "text/plain": [
       "[<matplotlib.lines.Line2D at 0x22531a30670>]"
      ]
     },
     "execution_count": 51,
     "metadata": {},
     "output_type": "execute_result"
    },
    {
     "data": {
      "image/png": "[encoded data removed]",
      "text/plain": [
       "<Figure size 640x480 with 1 Axes>"
      ]
     },
     "metadata": {},
     "output_type": "display_data"
    }
   ],
   "source": [
    "plt.plot(predictions)"
   ]
  },
  {
   "cell_type": "code",
   "execution_count": 52,
   "metadata": {},
   "outputs": [
    {
     "data": {
      "text/plain": [
       "[<matplotlib.lines.Line2D at 0x22531b2ef70>]"
      ]
     },
     "execution_count": 52,
     "metadata": {},
     "output_type": "execute_result"
    },
    {
     "data": {
      "image/png": "[encoded data removed]",
      "text/plain": [
       "<Figure size 640x480 with 1 Axes>"
      ]
     },
     "metadata": {},
     "output_type": "display_data"
    }
   ],
   "source": [
    "plt.plot(d)"
   ]
  },
  {
   "cell_type": "code",
   "execution_count": null,
   "metadata": {},
   "outputs": [],
   "source": []
  },
  {
   "cell_type": "code",
   "execution_count": 55,
   "metadata": {},
   "outputs": [],
   "source": [
    "index_t = list(range(len(d)-9,len(d)-9+len(predictions)))"
   ]
  },
  {
   "cell_type": "code",
   "execution_count": 60,
   "metadata": {},
   "outputs": [
    {
     "data": {
      "text/plain": [
       "[<matplotlib.lines.Line2D at 0x22531dcf280>]"
      ]
     },
     "execution_count": 60,
     "metadata": {},
     "output_type": "execute_result"
    },
    {
     "data": {
      "image/png": "[encoded data removed]",
      "text/plain": [
       "<Figure size 640x480 with 1 Axes>"
      ]
     },
     "metadata": {},
     "output_type": "display_data"
    }
   ],
   "source": [
    "plt.plot(d[-10:])\n",
    "plt.plot(predictions)"
   ]
  },
  {
   "cell_type": "code",
   "execution_count": null,
   "metadata": {},
   "outputs": [],
   "source": []
  }
 ],
 "metadata": {
  "kernelspec": {
   "display_name": "edv",
   "language": "python",
   "name": "python3"
  },
  "language_info": {
   "codemirror_mode": {
    "name": "ipython",
    "version": 3
   },
   "file_extension": ".py",
   "mimetype": "text/x-python",
   "name": "python",
   "nbconvert_exporter": "python",
   "pygments_lexer": "ipython3",
   "version": "3.8.0"
  }
 },
 "nbformat": 4,
 "nbformat_minor": 2
}
