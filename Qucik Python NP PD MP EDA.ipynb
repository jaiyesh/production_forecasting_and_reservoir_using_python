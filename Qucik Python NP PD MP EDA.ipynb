{
 "cells": [
  {
   "cell_type": "markdown",
   "metadata": {},
   "source": [
    "# Python and Data Analytics in Oil and Gas\n",
    "\n",
    "#### Jaiyesh Chahar | jaiyesh0002@gmail.com\n",
    "\n",
    "#### Linkedin: https://www.linkedin.com/in/jaiyesh-chahar-9b3642107/\n",
    "\n",
    "#### Github: https://github.com/jaiyesh\n",
    "\n",
    "#### Petroleum From Scratch Youtube Channel: https://www.youtube.com/channel/UC_lT10npISN5V32HDLAklsw"
   ]
  },
  {
   "cell_type": "markdown",
   "metadata": {},
   "source": [
    "# Welcome Everyone! \n",
    "\n",
    "I am very excited to take you through this exiciting journey of applicaion of python and Data Analystics in O&G Industry.\n",
    "\n",
    "My Aim is to take you to a **better**, **confident** and **super comfortable** place as far as **Python for Oil and Gas** is concerned. \n",
    "\n",
    "We will start with basics of Python and then move on to use cases in Industry.\n",
    "\n",
    "Here goes."
   ]
  },
  {
   "cell_type": "markdown",
   "metadata": {},
   "source": [
    "## List of Contents in this Notebook:\n",
    "1. Basics of Python with oil and gas examples\n",
    "2. Data Structures: Lists, Dictionaries, Tuples, Sets\n",
    "3. Numpy\n",
    "4. Pandas: EDA With Volve Field Production Data\n",
    "5. Matplotlib\n",
    "6. Interactive Plotting: Pressure Profile in reservoir by varying Parameters\n",
    "7. Oil and Gas Mini Projects\n"
   ]
  },
  {
   "cell_type": "markdown",
   "metadata": {},
   "source": [
    "### Why a Petroleum Engineer Should to learn Python(or any other programming language)?\n",
    "\n",
    "1. Build your own simulation tool: Reservoir Simulation, EOR Simulation, Drilling, Production etc.\n",
    "\n",
    "\n",
    "2. Industry 4.0: \n",
    "    Data Volume in Oil and Gas Industry has been increasing exponentially because of advancement of technology, So why waste this data, if we can use it for building powerful Machine Learning, Deep Learning Algorithms for solving problems. For that python is best with its superpowers (Libraries)"
   ]
  },
  {
   "cell_type": "markdown",
   "metadata": {},
   "source": [
    "### Python from Scratch"
   ]
  },
  {
   "cell_type": "markdown",
   "metadata": {},
   "source": [
    "- Python is a programing language not a software (like petrel) \n",
    "- IDE (Integrated Development Environment) is an application to run python.\n",
    "- Examples: Pycharm, Jupyter Notebook, Google Collab(online and Free)\n"
   ]
  },
  {
   "cell_type": "code",
   "execution_count": 1,
   "metadata": {},
   "outputs": [
    {
     "name": "stdout",
     "output_type": "stream",
     "text": [
      " Hey Guys, Hows it going\n",
      " How everyone doing\n"
     ]
    }
   ],
   "source": [
    "# This is a comment, for explaining python code, preventing certain line of codes from executing\n",
    "# Starting with print function\n",
    "print(' Hey Guys, Hows it going')\n",
    "print(' How everyone doing')"
   ]
  },
  {
   "cell_type": "code",
   "execution_count": 2,
   "metadata": {},
   "outputs": [
    {
     "name": "stdout",
     "output_type": "stream",
     "text": [
      "5\n"
     ]
    }
   ],
   "source": [
    "print(5)"
   ]
  },
  {
   "cell_type": "code",
   "execution_count": 3,
   "metadata": {},
   "outputs": [
    {
     "name": "stdout",
     "output_type": "stream",
     "text": [
      "Hello \n",
      "All\n"
     ]
    }
   ],
   "source": [
    "# Breaking the print statement : use \\n\n",
    "print('Hello \\nAll')"
   ]
  },
  {
   "cell_type": "markdown",
   "metadata": {},
   "source": [
    "### Single values Data Types\n",
    "1. Integer eg. - 7\n",
    "2. Floats  eg. - 7.0\n",
    "3. Booleans: EIther True or False\n",
    "4. Strings: set of characters that can also contain spaces,text  and numbers, intialises by using \"______\"  eg. - \"6\""
   ]
  },
  {
   "cell_type": "code",
   "execution_count": 4,
   "metadata": {},
   "outputs": [
    {
     "data": {
      "text/plain": [
       "7"
      ]
     },
     "execution_count": 4,
     "metadata": {},
     "output_type": "execute_result"
    }
   ],
   "source": [
    "7"
   ]
  },
  {
   "cell_type": "code",
   "execution_count": 5,
   "metadata": {},
   "outputs": [
    {
     "data": {
      "text/plain": [
       "int"
      ]
     },
     "execution_count": 5,
     "metadata": {},
     "output_type": "execute_result"
    }
   ],
   "source": [
    "type(7)"
   ]
  },
  {
   "cell_type": "code",
   "execution_count": 6,
   "metadata": {},
   "outputs": [
    {
     "data": {
      "text/plain": [
       "7.8"
      ]
     },
     "execution_count": 6,
     "metadata": {},
     "output_type": "execute_result"
    }
   ],
   "source": [
    "7.8"
   ]
  },
  {
   "cell_type": "code",
   "execution_count": 7,
   "metadata": {},
   "outputs": [
    {
     "data": {
      "text/plain": [
       "7.0"
      ]
     },
     "execution_count": 7,
     "metadata": {},
     "output_type": "execute_result"
    }
   ],
   "source": [
    "7.0"
   ]
  },
  {
   "cell_type": "code",
   "execution_count": 8,
   "metadata": {},
   "outputs": [
    {
     "data": {
      "text/plain": [
       "7.0"
      ]
     },
     "execution_count": 8,
     "metadata": {},
     "output_type": "execute_result"
    }
   ],
   "source": [
    "7.0000"
   ]
  },
  {
   "cell_type": "code",
   "execution_count": 10,
   "metadata": {},
   "outputs": [
    {
     "name": "stdout",
     "output_type": "stream",
     "text": [
      "<class 'int'>\n",
      "<class 'float'>\n",
      "<class 'str'>\n",
      "<class 'str'>\n"
     ]
    }
   ],
   "source": [
    "#getting data type using type() function\n",
    "print(type(4))\n",
    "print(type(4.0))\n",
    "print(type(\"4\"))\n",
    "print(type(\"Petroleum Engineering\"))"
   ]
  },
  {
   "cell_type": "markdown",
   "metadata": {},
   "source": [
    "## Mathematical Operations\n"
   ]
  },
  {
   "cell_type": "code",
   "execution_count": 11,
   "metadata": {},
   "outputs": [
    {
     "name": "stdout",
     "output_type": "stream",
     "text": [
      "9\n",
      "9.0\n",
      "4\n",
      "4.0\n",
      "6\n",
      "62.5\n"
     ]
    }
   ],
   "source": [
    "# Addition\n",
    "print(4+5)\n",
    "print(4.0+5)\n",
    "#Subtraction\n",
    "print(5-1)\n",
    "print(5.0-1)\n",
    "#Multiplication\n",
    "print(2*3)\n",
    "#Division\n",
    "print(625/10)"
   ]
  },
  {
   "cell_type": "code",
   "execution_count": 12,
   "metadata": {},
   "outputs": [
    {
     "name": "stdout",
     "output_type": "stream",
     "text": [
      "25\n"
     ]
    }
   ],
   "source": [
    "## Exponent: using **\n",
    "print(5**2)"
   ]
  },
  {
   "cell_type": "code",
   "execution_count": 13,
   "metadata": {},
   "outputs": [
    {
     "name": "stdout",
     "output_type": "stream",
     "text": [
      "6\n"
     ]
    }
   ],
   "source": [
    "## Integer Division using // ==> Quotient\n",
    "print(32//5)"
   ]
  },
  {
   "cell_type": "code",
   "execution_count": 14,
   "metadata": {},
   "outputs": [
    {
     "name": "stdout",
     "output_type": "stream",
     "text": [
      "2\n"
     ]
    }
   ],
   "source": [
    "## To get remainder using %\n",
    "print(32%5)"
   ]
  },
  {
   "cell_type": "markdown",
   "metadata": {},
   "source": [
    "### Strings"
   ]
  },
  {
   "cell_type": "code",
   "execution_count": 15,
   "metadata": {},
   "outputs": [],
   "source": [
    "# surrounded by either single quotation marks, or double quotation marks"
   ]
  },
  {
   "cell_type": "markdown",
   "metadata": {},
   "source": [
    "6 : integer\n",
    "\n",
    "6.0 : Float\n",
    "\n",
    "\"6\" : String"
   ]
  },
  {
   "cell_type": "code",
   "execution_count": 16,
   "metadata": {},
   "outputs": [
    {
     "ename": "SyntaxError",
     "evalue": "invalid syntax (<ipython-input-16-4b79f5295f0b>, line 1)",
     "output_type": "error",
     "traceback": [
      "\u001b[1;36m  File \u001b[1;32m\"<ipython-input-16-4b79f5295f0b>\"\u001b[1;36m, line \u001b[1;32m1\u001b[0m\n\u001b[1;33m    print('Hey There's You')\u001b[0m\n\u001b[1;37m                     ^\u001b[0m\n\u001b[1;31mSyntaxError\u001b[0m\u001b[1;31m:\u001b[0m invalid syntax\n"
     ]
    }
   ],
   "source": [
    "print('Hey There's You')"
   ]
  },
  {
   "cell_type": "code",
   "execution_count": 20,
   "metadata": {},
   "outputs": [
    {
     "name": "stdout",
     "output_type": "stream",
     "text": [
      "Hey There's You\n"
     ]
    }
   ],
   "source": [
    "print(\"Hey There\\'s You\")"
   ]
  },
  {
   "cell_type": "code",
   "execution_count": 21,
   "metadata": {},
   "outputs": [
    {
     "name": "stdout",
     "output_type": "stream",
     "text": [
      "PetroleumEngineering\n",
      "PetroPetroPetro\n"
     ]
    }
   ],
   "source": [
    "# Operations\n",
    "print('Petroleum'+'Engineering')\n",
    "print('Petro'*3)"
   ]
  },
  {
   "cell_type": "code",
   "execution_count": 22,
   "metadata": {},
   "outputs": [
    {
     "name": "stdout",
     "output_type": "stream",
     "text": [
      "12\n",
      "3333\n"
     ]
    }
   ],
   "source": [
    "print(4*3)\n",
    "print(4*'3')"
   ]
  },
  {
   "cell_type": "code",
   "execution_count": 23,
   "metadata": {},
   "outputs": [
    {
     "data": {
      "text/plain": [
       "str"
      ]
     },
     "execution_count": 23,
     "metadata": {},
     "output_type": "execute_result"
    }
   ],
   "source": [
    "type(4*'3')"
   ]
  },
  {
   "cell_type": "markdown",
   "metadata": {},
   "source": [
    "### Variables: Containers for storing values\n",
    "\n",
    "- A variable is created the moment you first assign a value to it using = sign"
   ]
  },
  {
   "cell_type": "code",
   "execution_count": 24,
   "metadata": {},
   "outputs": [],
   "source": [
    "#This is called initialization. \n",
    "#The value from RHS gets stored into the variable at LHS.\n",
    "a = 5\n",
    "b = 'Petroleum'"
   ]
  },
  {
   "cell_type": "code",
   "execution_count": 25,
   "metadata": {},
   "outputs": [
    {
     "data": {
      "text/plain": [
       "5"
      ]
     },
     "execution_count": 25,
     "metadata": {},
     "output_type": "execute_result"
    }
   ],
   "source": [
    "a"
   ]
  },
  {
   "cell_type": "code",
   "execution_count": 26,
   "metadata": {},
   "outputs": [
    {
     "data": {
      "text/plain": [
       "'Petroleum'"
      ]
     },
     "execution_count": 26,
     "metadata": {},
     "output_type": "execute_result"
    }
   ],
   "source": [
    "b"
   ]
  },
  {
   "cell_type": "code",
   "execution_count": 27,
   "metadata": {},
   "outputs": [
    {
     "data": {
      "text/plain": [
       "'production forecasting'"
      ]
     },
     "execution_count": 27,
     "metadata": {},
     "output_type": "execute_result"
    }
   ],
   "source": [
    "b = \"production forecasting\" #Reintialize\n",
    "b"
   ]
  },
  {
   "cell_type": "code",
   "execution_count": 28,
   "metadata": {},
   "outputs": [
    {
     "data": {
      "text/plain": [
       "str"
      ]
     },
     "execution_count": 28,
     "metadata": {},
     "output_type": "execute_result"
    }
   ],
   "source": [
    "x = '566'\n",
    "type(x)"
   ]
  },
  {
   "cell_type": "code",
   "execution_count": 29,
   "metadata": {},
   "outputs": [
    {
     "data": {
      "text/plain": [
       "'566'"
      ]
     },
     "execution_count": 29,
     "metadata": {},
     "output_type": "execute_result"
    }
   ],
   "source": [
    "x"
   ]
  },
  {
   "cell_type": "code",
   "execution_count": 30,
   "metadata": {},
   "outputs": [
    {
     "data": {
      "text/plain": [
       "566.0"
      ]
     },
     "execution_count": 30,
     "metadata": {},
     "output_type": "execute_result"
    }
   ],
   "source": [
    "# casting Type\n",
    "y = float(x)\n",
    "y"
   ]
  },
  {
   "cell_type": "code",
   "execution_count": 31,
   "metadata": {},
   "outputs": [
    {
     "data": {
      "text/plain": [
       "float"
      ]
     },
     "execution_count": 31,
     "metadata": {},
     "output_type": "execute_result"
    }
   ],
   "source": [
    "type(y)"
   ]
  },
  {
   "cell_type": "code",
   "execution_count": 32,
   "metadata": {},
   "outputs": [
    {
     "name": "stdout",
     "output_type": "stream",
     "text": [
      "66\n",
      "24\n",
      "945\n",
      "2.142857142857143\n"
     ]
    }
   ],
   "source": [
    "x = 45\n",
    "y = 21\n",
    "print(x+y)\n",
    "print(x-y)\n",
    "print(x*y)\n",
    "print(x/y)"
   ]
  },
  {
   "cell_type": "code",
   "execution_count": null,
   "metadata": {},
   "outputs": [],
   "source": [
    "# Variable names cannot start with a number or special character.\n",
    "# Doesn't have spaces b/w two characters, but Underscore is allowed. \n",
    "#Ex - 1a is invalid\n",
    "#Ex - a1 is valid\n",
    "#Ex-  a_1 and _1_a both are valid. "
   ]
  },
  {
   "cell_type": "code",
   "execution_count": 34,
   "metadata": {},
   "outputs": [
    {
     "ename": "SyntaxError",
     "evalue": "invalid syntax (<ipython-input-34-549afe1a9f67>, line 1)",
     "output_type": "error",
     "traceback": [
      "\u001b[1;36m  File \u001b[1;32m\"<ipython-input-34-549afe1a9f67>\"\u001b[1;36m, line \u001b[1;32m1\u001b[0m\n\u001b[1;33m    @a = 45\u001b[0m\n\u001b[1;37m       ^\u001b[0m\n\u001b[1;31mSyntaxError\u001b[0m\u001b[1;31m:\u001b[0m invalid syntax\n"
     ]
    }
   ],
   "source": [
    "@a = 45"
   ]
  },
  {
   "cell_type": "code",
   "execution_count": 37,
   "metadata": {},
   "outputs": [
    {
     "ename": "SyntaxError",
     "evalue": "invalid syntax (<ipython-input-37-e06c26d73b17>, line 1)",
     "output_type": "error",
     "traceback": [
      "\u001b[1;36m  File \u001b[1;32m\"<ipython-input-37-e06c26d73b17>\"\u001b[1;36m, line \u001b[1;32m1\u001b[0m\n\u001b[1;33m    ab y = 3\u001b[0m\n\u001b[1;37m       ^\u001b[0m\n\u001b[1;31mSyntaxError\u001b[0m\u001b[1;31m:\u001b[0m invalid syntax\n"
     ]
    }
   ],
   "source": [
    "ab y = 3"
   ]
  },
  {
   "cell_type": "code",
   "execution_count": 39,
   "metadata": {},
   "outputs": [],
   "source": [
    "a1 = 45 "
   ]
  },
  {
   "cell_type": "code",
   "execution_count": 40,
   "metadata": {},
   "outputs": [
    {
     "data": {
      "text/plain": [
       "45"
      ]
     },
     "execution_count": 40,
     "metadata": {},
     "output_type": "execute_result"
    }
   ],
   "source": [
    "a1 "
   ]
  },
  {
   "cell_type": "code",
   "execution_count": 41,
   "metadata": {},
   "outputs": [
    {
     "ename": "SyntaxError",
     "evalue": "invalid syntax (<ipython-input-41-bf1781d39248>, line 1)",
     "output_type": "error",
     "traceback": [
      "\u001b[1;36m  File \u001b[1;32m\"<ipython-input-41-bf1781d39248>\"\u001b[1;36m, line \u001b[1;32m1\u001b[0m\n\u001b[1;33m    1a = 45\u001b[0m\n\u001b[1;37m     ^\u001b[0m\n\u001b[1;31mSyntaxError\u001b[0m\u001b[1;31m:\u001b[0m invalid syntax\n"
     ]
    }
   ],
   "source": [
    "1a = 45"
   ]
  },
  {
   "cell_type": "code",
   "execution_count": 42,
   "metadata": {},
   "outputs": [],
   "source": [
    "ab_y = 3"
   ]
  },
  {
   "cell_type": "code",
   "execution_count": 43,
   "metadata": {},
   "outputs": [
    {
     "ename": "SyntaxError",
     "evalue": "invalid syntax (<ipython-input-43-7126245a1a74>, line 1)",
     "output_type": "error",
     "traceback": [
      "\u001b[1;36m  File \u001b[1;32m\"<ipython-input-43-7126245a1a74>\"\u001b[1;36m, line \u001b[1;32m1\u001b[0m\n\u001b[1;33m    5a = 23\u001b[0m\n\u001b[1;37m     ^\u001b[0m\n\u001b[1;31mSyntaxError\u001b[0m\u001b[1;31m:\u001b[0m invalid syntax\n"
     ]
    }
   ],
   "source": [
    "5a = 23"
   ]
  },
  {
   "cell_type": "markdown",
   "metadata": {},
   "source": [
    "### Input: Asking input from user"
   ]
  },
  {
   "cell_type": "code",
   "execution_count": 49,
   "metadata": {},
   "outputs": [
    {
     "name": "stdout",
     "output_type": "stream",
     "text": [
      "Enter the Formation porosity: 0.56\n"
     ]
    }
   ],
   "source": [
    "porosity = input('Enter the Formation porosity: ')"
   ]
  },
  {
   "cell_type": "code",
   "execution_count": 50,
   "metadata": {},
   "outputs": [
    {
     "data": {
      "text/plain": [
       "'0.56'"
      ]
     },
     "execution_count": 50,
     "metadata": {},
     "output_type": "execute_result"
    }
   ],
   "source": [
    "porosity"
   ]
  },
  {
   "cell_type": "code",
   "execution_count": 51,
   "metadata": {},
   "outputs": [
    {
     "data": {
      "text/plain": [
       "str"
      ]
     },
     "execution_count": 51,
     "metadata": {},
     "output_type": "execute_result"
    }
   ],
   "source": [
    "type('porosity')"
   ]
  },
  {
   "cell_type": "code",
   "execution_count": 52,
   "metadata": {},
   "outputs": [
    {
     "data": {
      "text/plain": [
       "'0.560.560.560.560.560.560.560.560.560.560.560.560.560.560.560.560.560.560.560.560.560.560.560.560.560.560.560.560.560.560.560.560.560.560.560.560.560.560.560.560.560.560.560.560.560.560.560.560.560.560.560.560.560.560.560.560.560.560.560.560.560.560.560.560.560.560.560.560.560.560.560.560.560.560.560.560.560.560.560.560.560.560.560.560.560.560.560.560.560.560.560.560.560.560.560.560.560.560.560.56'"
      ]
     },
     "execution_count": 52,
     "metadata": {},
     "output_type": "execute_result"
    }
   ],
   "source": [
    "100*porosity"
   ]
  },
  {
   "cell_type": "code",
   "execution_count": 53,
   "metadata": {},
   "outputs": [
    {
     "name": "stdout",
     "output_type": "stream",
     "text": [
      "Enter the Formation porosity: 0.56\n"
     ]
    }
   ],
   "source": [
    "porosity = float(input('Enter the Formation porosity: '))"
   ]
  },
  {
   "cell_type": "code",
   "execution_count": 54,
   "metadata": {},
   "outputs": [
    {
     "data": {
      "text/plain": [
       "float"
      ]
     },
     "execution_count": 54,
     "metadata": {},
     "output_type": "execute_result"
    }
   ],
   "source": [
    "type(porosity)"
   ]
  },
  {
   "cell_type": "code",
   "execution_count": 55,
   "metadata": {},
   "outputs": [
    {
     "data": {
      "text/plain": [
       "56.00000000000001"
      ]
     },
     "execution_count": 55,
     "metadata": {},
     "output_type": "execute_result"
    }
   ],
   "source": [
    "100*porosity"
   ]
  },
  {
   "cell_type": "code",
   "execution_count": 56,
   "metadata": {},
   "outputs": [
    {
     "name": "stdout",
     "output_type": "stream",
     "text": [
      " Enter the formation's permeability(md): 52\n"
     ]
    }
   ],
   "source": [
    "permeability = float(input(' Enter the formation\\'s permeability(md): '))"
   ]
  },
  {
   "cell_type": "code",
   "execution_count": 60,
   "metadata": {},
   "outputs": [
    {
     "name": "stdout",
     "output_type": "stream",
     "text": [
      "Formation porosity is 0.56 and permeability is 52.0\n"
     ]
    }
   ],
   "source": [
    "print(f'Formation porosity is {porosity} and permeability is {permeability}')"
   ]
  },
  {
   "cell_type": "code",
   "execution_count": 62,
   "metadata": {},
   "outputs": [
    {
     "ename": "NameError",
     "evalue": "name 'saturation' is not defined",
     "output_type": "error",
     "traceback": [
      "\u001b[1;31m---------------------------------------------------------------------------\u001b[0m",
      "\u001b[1;31mNameError\u001b[0m                                 Traceback (most recent call last)",
      "\u001b[1;32m<ipython-input-62-eb1bbdc06452>\u001b[0m in \u001b[0;36m<module>\u001b[1;34m\u001b[0m\n\u001b[1;32m----> 1\u001b[1;33m \u001b[0mprint\u001b[0m\u001b[1;33m(\u001b[0m\u001b[1;34mf'Formation porosity is {porosity} and permeability is {permeability} and {saturation}'\u001b[0m\u001b[1;33m)\u001b[0m\u001b[1;33m\u001b[0m\u001b[1;33m\u001b[0m\u001b[0m\n\u001b[0m",
      "\u001b[1;31mNameError\u001b[0m: name 'saturation' is not defined"
     ]
    }
   ],
   "source": [
    "print(f'Formation porosity is {porosity} and permeability is {permeability} and {saturation}')"
   ]
  },
  {
   "cell_type": "code",
   "execution_count": 63,
   "metadata": {},
   "outputs": [],
   "source": [
    "saturation = 50"
   ]
  },
  {
   "cell_type": "code",
   "execution_count": 64,
   "metadata": {},
   "outputs": [
    {
     "name": "stdout",
     "output_type": "stream",
     "text": [
      "Formation porosity is 0.56 and permeability is 52.0 and 50\n"
     ]
    }
   ],
   "source": [
    "print(f'Formation porosity is {porosity} and permeability is {permeability} and {saturation}')"
   ]
  },
  {
   "cell_type": "code",
   "execution_count": null,
   "metadata": {},
   "outputs": [],
   "source": []
  },
  {
   "cell_type": "code",
   "execution_count": 65,
   "metadata": {},
   "outputs": [
    {
     "name": "stdout",
     "output_type": "stream",
     "text": [
      "Formation porosity is 0.56 and permeability is 52.0\n",
      "Formation porosity is 0.56 and permeability is 52.0\n",
      "Formation porosity is 0.56 and permeability is 52.0\n"
     ]
    }
   ],
   "source": [
    "# String Formatting: \n",
    "print(f'Formation porosity is {porosity} and permeability is {permeability}')  #Using fstring\n",
    "print('Formation porosity is {} and permeability is {}'.format(porosity,permeability)) #Using .format\n",
    "print('Formation porosity is', porosity, 'and permeability is', permeability )  # Using comma"
   ]
  },
  {
   "cell_type": "code",
   "execution_count": 66,
   "metadata": {},
   "outputs": [
    {
     "name": "stdout",
     "output_type": "stream",
     "text": [
      "Formation porosity is 56.00000000000001 % and permeability is 52.0\n"
     ]
    }
   ],
   "source": [
    "print(f'Formation porosity is {100*porosity} % and permeability is {permeability}')"
   ]
  },
  {
   "cell_type": "markdown",
   "metadata": {},
   "source": [
    "### Booleans and Comparisons\n",
    "- Booleans represent one of two values: True or False."
   ]
  },
  {
   "cell_type": "code",
   "execution_count": 67,
   "metadata": {},
   "outputs": [
    {
     "name": "stdout",
     "output_type": "stream",
     "text": [
      "True\n"
     ]
    }
   ],
   "source": [
    "print(2!= 3)"
   ]
  },
  {
   "cell_type": "code",
   "execution_count": 68,
   "metadata": {},
   "outputs": [
    {
     "name": "stdout",
     "output_type": "stream",
     "text": [
      "False\n"
     ]
    }
   ],
   "source": [
    "print(2 == 3 ) #== for comparison, = for assigning"
   ]
  },
  {
   "cell_type": "code",
   "execution_count": 69,
   "metadata": {},
   "outputs": [
    {
     "ename": "SyntaxError",
     "evalue": "expression cannot contain assignment, perhaps you meant \"==\"? (<ipython-input-69-116ad5cd7ae7>, line 1)",
     "output_type": "error",
     "traceback": [
      "\u001b[1;36m  File \u001b[1;32m\"<ipython-input-69-116ad5cd7ae7>\"\u001b[1;36m, line \u001b[1;32m1\u001b[0m\n\u001b[1;33m    print(2=3)\u001b[0m\n\u001b[1;37m          ^\u001b[0m\n\u001b[1;31mSyntaxError\u001b[0m\u001b[1;31m:\u001b[0m expression cannot contain assignment, perhaps you meant \"==\"?\n"
     ]
    }
   ],
   "source": [
    "print(2=3)"
   ]
  },
  {
   "cell_type": "code",
   "execution_count": 70,
   "metadata": {},
   "outputs": [],
   "source": [
    "a = 3 "
   ]
  },
  {
   "cell_type": "code",
   "execution_count": 71,
   "metadata": {},
   "outputs": [
    {
     "data": {
      "text/plain": [
       "True"
      ]
     },
     "execution_count": 71,
     "metadata": {},
     "output_type": "execute_result"
    }
   ],
   "source": [
    "a==3"
   ]
  },
  {
   "cell_type": "markdown",
   "metadata": {},
   "source": [
    "- '=' is used for intializing variable values, '==' is used for comparison"
   ]
  },
  {
   "cell_type": "code",
   "execution_count": 74,
   "metadata": {},
   "outputs": [
    {
     "name": "stdout",
     "output_type": "stream",
     "text": [
      "True\n"
     ]
    }
   ],
   "source": [
    "print(6>2 or 6>5 )"
   ]
  },
  {
   "cell_type": "code",
   "execution_count": 76,
   "metadata": {},
   "outputs": [
    {
     "name": "stdout",
     "output_type": "stream",
     "text": [
      "False\n"
     ]
    }
   ],
   "source": [
    "print(5>3 and 3<1 )"
   ]
  },
  {
   "cell_type": "markdown",
   "metadata": {},
   "source": [
    "### If-else: To run a block of code only if certain condition holds true"
   ]
  },
  {
   "cell_type": "markdown",
   "metadata": {},
   "source": [
    "##### Identation\n",
    "- Indentation refers to the spaces at the beginning of a code line\n",
    "- Python uses indentation to indicate a block of code."
   ]
  },
  {
   "cell_type": "code",
   "execution_count": 78,
   "metadata": {},
   "outputs": [
    {
     "name": "stdout",
     "output_type": "stream",
     "text": [
      "Five is greater than two!\n",
      "If is true\n",
      "This is outside\n"
     ]
    }
   ],
   "source": [
    "if 5 > 2:\n",
    "    print(\"Five is greater than two!\")\n",
    "    print('If is true')\n",
    "print('This is outside')"
   ]
  },
  {
   "cell_type": "code",
   "execution_count": 80,
   "metadata": {},
   "outputs": [
    {
     "name": "stdout",
     "output_type": "stream",
     "text": [
      "It will always run\n"
     ]
    }
   ],
   "source": [
    "if True:\n",
    "    print('It will always run')"
   ]
  },
  {
   "cell_type": "code",
   "execution_count": 83,
   "metadata": {},
   "outputs": [
    {
     "name": "stdout",
     "output_type": "stream",
     "text": [
      "Else statement executed\n"
     ]
    }
   ],
   "source": [
    "if 3<2:\n",
    "    print('If statement executed')\n",
    "else:\n",
    "    print('Else statement executed')"
   ]
  },
  {
   "cell_type": "code",
   "execution_count": 88,
   "metadata": {},
   "outputs": [],
   "source": [
    "a = 8\n",
    "b = 8"
   ]
  },
  {
   "cell_type": "code",
   "execution_count": 89,
   "metadata": {},
   "outputs": [
    {
     "name": "stdout",
     "output_type": "stream",
     "text": [
      "a is equal to b\n"
     ]
    }
   ],
   "source": [
    "if a>b:\n",
    "    print(\"a is greater than b\")\n",
    "elif b>a:\n",
    "    print(\"b is greater than  a\")\n",
    "\n",
    "else:\n",
    "    print(\"a is equal to b\")"
   ]
  },
  {
   "cell_type": "code",
   "execution_count": 99,
   "metadata": {},
   "outputs": [
    {
     "name": "stdout",
     "output_type": "stream",
     "text": [
      "Give input: 656\n"
     ]
    }
   ],
   "source": [
    "a = float(input(\"Give input: \"))"
   ]
  },
  {
   "cell_type": "code",
   "execution_count": 100,
   "metadata": {},
   "outputs": [
    {
     "data": {
      "text/plain": [
       "656.0"
      ]
     },
     "execution_count": 100,
     "metadata": {},
     "output_type": "execute_result"
    }
   ],
   "source": [
    "a"
   ]
  },
  {
   "cell_type": "code",
   "execution_count": 92,
   "metadata": {},
   "outputs": [
    {
     "name": "stdout",
     "output_type": "stream",
     "text": [
      "Enter the reservoir pressure(psi): 55\n",
      "Enter the Hydrostatic pressure of mud(psi): 55\n",
      "Enter the Fracture pressure of rock(psi): 55\n"
     ]
    }
   ],
   "source": [
    "Reservoir_Pressure = float(input('Enter the reservoir pressure(psi): '))\n",
    "Hydrostatic_pressure = float(input('Enter the Hydrostatic pressure of mud(psi): '))\n",
    "Fracture_pressure = float(input('Enter the Fracture pressure of rock(psi): '))"
   ]
  },
  {
   "cell_type": "code",
   "execution_count": 91,
   "metadata": {},
   "outputs": [
    {
     "name": "stdout",
     "output_type": "stream",
     "text": [
      "Reservoir Pressure is lesser than Hydrostatic Pressure, so No Kick\n",
      "Hydrostatic Pressure due to mud is lesser than Fracture Pressure of Formation, so no fracture\n",
      "Safe Zone\n"
     ]
    }
   ],
   "source": [
    "if Hydrostatic_pressure > Reservoir_Pressure and Hydrostatic_pressure < Fracture_pressure:\n",
    "    print('Reservoir Pressure is lesser than Hydrostatic Pressure, so No Kick')\n",
    "    print('Hydrostatic Pressure due to mud is lesser than Fracture Pressure of Formation, so no fracture')\n",
    "    print('Safe Zone')\n",
    "elif Hydrostatic_pressure > Reservoir_Pressure and Hydrostatic_pressure > Fracture_pressure:\n",
    "    print('Hydrostatic Pressure greater than Fracture pressure, may result in Frature')\n",
    "    print('Alert!!! Risk of formation Fracture')\n",
    "else:\n",
    "    print('Alert!!! Risk of kick')"
   ]
  },
  {
   "cell_type": "code",
   "execution_count": 105,
   "metadata": {},
   "outputs": [
    {
     "name": "stdout",
     "output_type": "stream",
     "text": [
      "Enter the intial Reservoir pressure(psia):  250\n",
      "Enter the bubble point pressure(psia) of reservoir fluid:  500\n"
     ]
    }
   ],
   "source": [
    "Pr = float(input('Enter the intial Reservoir pressure(psia):  '))\n",
    "Pb = float(input('Enter the bubble point pressure(psia) of reservoir fluid:  '))"
   ]
  },
  {
   "cell_type": "code",
   "execution_count": 106,
   "metadata": {},
   "outputs": [
    {
     "name": "stdout",
     "output_type": "stream",
     "text": [
      "Gas has been evolved from your reservoir, so your reservoir has both phases: Oil and Gas\n"
     ]
    }
   ],
   "source": [
    "if Pr > Pb:  #Reservoir Pressure greater than Bubble Point Pressure: Undersqaturated Oil Reservoir\n",
    "    print('Your reservoir is Undersaturated Oil Reservoir')\n",
    "elif Pr==Pb:\n",
    "    print('Your reservoir is Saturated Oil Reservoir')\n",
    "else:\n",
    "    print('Gas has been evolved from your reservoir, so your reservoir has both phases: Oil and Gas')"
   ]
  },
  {
   "cell_type": "markdown",
   "metadata": {},
   "source": [
    "### While Loop : To repeat a block of code again and again; until the condition satisfies\n",
    "The code in body of while loop is executed repeatedly. This is called **Iterations**"
   ]
  },
  {
   "cell_type": "code",
   "execution_count": null,
   "metadata": {},
   "outputs": [],
   "source": [
    "pressure = 2000\n",
    "while pressure < 2500:\n",
    "    print(f'{pressure} is not abnormal pressure')\n",
    "    pressure+=100\n",
    "else:  # Else loop can also be used in while loop, it will run when while loop condition is not getting satisfied\n",
    "    print(f'{pressure} is abnormal')"
   ]
  },
  {
   "cell_type": "code",
   "execution_count": null,
   "metadata": {},
   "outputs": [],
   "source": [
    "## While loop Can be used to stop iteration after a specific input"
   ]
  },
  {
   "cell_type": "code",
   "execution_count": null,
   "metadata": {},
   "outputs": [],
   "source": [
    "Password = input('Enter the Password: ')\n",
    "while Password!= 'Petroleum':\n",
    "    print('Wrong Password Enter Again')\n",
    "    Password = input('Enter the Password: ')\n",
    "    \n",
    "else:\n",
    "    print('Access Granted')"
   ]
  },
  {
   "cell_type": "markdown",
   "metadata": {},
   "source": [
    "### break statement: for breaking the while loop prematurely\n",
    "We can break an infinite loop if some condition is satisfied"
   ]
  },
  {
   "cell_type": "code",
   "execution_count": null,
   "metadata": {},
   "outputs": [],
   "source": [
    "pressure = 2500\n",
    "while True: #while True is an easy way to make an infinite loop\n",
    "    print(f'Formation Pressure is {pressure} psi')\n",
    "    pressure +=100\n",
    "    if pressure ==5000:\n",
    "        print('Pressure Reached its Maximum value, so breaking the loop')\n",
    "        break\n",
    "print('Finished')"
   ]
  },
  {
   "cell_type": "markdown",
   "metadata": {},
   "source": [
    "### Continue : to jump back to top of the while loop, rather than stopping it.\n",
    "Stops the current iteration and continue with the next one."
   ]
  },
  {
   "cell_type": "code",
   "execution_count": null,
   "metadata": {},
   "outputs": [],
   "source": [
    "pressure = 3500\n",
    "while pressure < 4500:\n",
    "    pressure+=100\n",
    "    if pressure ==4000:\n",
    "        print('Skipping 4000 psi')\n",
    "        continue\n",
    "    print(f'Pressure is {pressure} psi')"
   ]
  },
  {
   "cell_type": "markdown",
   "metadata": {},
   "source": [
    "## Multi Value Containers Data Structures and Sequences"
   ]
  },
  {
   "cell_type": "markdown",
   "metadata": {},
   "source": [
    "### Lists\n",
    "- Used to store multiple items in a single variable\n",
    "\n",
    "- Square Brackets are used [] for creating lists\n",
    "\n",
    "- Mutable: Can Change length, elements, elements values"
   ]
  },
  {
   "cell_type": "code",
   "execution_count": null,
   "metadata": {},
   "outputs": [],
   "source": [
    "porosity = [0.3,0.41,0.51,0.11,0.34,0.67]"
   ]
  },
  {
   "cell_type": "code",
   "execution_count": null,
   "metadata": {},
   "outputs": [],
   "source": [
    "porosity"
   ]
  },
  {
   "cell_type": "code",
   "execution_count": null,
   "metadata": {},
   "outputs": [],
   "source": [
    "type(porosity)"
   ]
  },
  {
   "cell_type": "code",
   "execution_count": null,
   "metadata": {},
   "outputs": [],
   "source": [
    "porosity[3]*100"
   ]
  },
  {
   "cell_type": "code",
   "execution_count": null,
   "metadata": {},
   "outputs": [],
   "source": [
    "#Index = Address of Element in list\n",
    "porosity[0]"
   ]
  },
  {
   "cell_type": "code",
   "execution_count": null,
   "metadata": {},
   "outputs": [],
   "source": [
    "porosity[-1]"
   ]
  },
  {
   "cell_type": "code",
   "execution_count": null,
   "metadata": {},
   "outputs": [],
   "source": [
    "porosity[-2]"
   ]
  },
  {
   "cell_type": "code",
   "execution_count": null,
   "metadata": {},
   "outputs": [],
   "source": [
    "porosity[4]"
   ]
  },
  {
   "cell_type": "code",
   "execution_count": null,
   "metadata": {},
   "outputs": [],
   "source": [
    "porosity[0] = 0.5453"
   ]
  },
  {
   "cell_type": "code",
   "execution_count": null,
   "metadata": {},
   "outputs": [],
   "source": [
    "porosity"
   ]
  },
  {
   "cell_type": "code",
   "execution_count": null,
   "metadata": {},
   "outputs": [],
   "source": [
    "#Len function: Calculate length of list "
   ]
  },
  {
   "cell_type": "code",
   "execution_count": null,
   "metadata": {},
   "outputs": [],
   "source": [
    "len(porosity)"
   ]
  },
  {
   "cell_type": "code",
   "execution_count": null,
   "metadata": {},
   "outputs": [],
   "source": [
    "# Empty list are widely used for populating it later with certain calculations\n",
    "specificgravity_of_crudes = [0.8,0.7,0.85,0.76,0.91,0.64,0.65]\n",
    "denWater = 62.4"
   ]
  },
  {
   "cell_type": "code",
   "execution_count": null,
   "metadata": {},
   "outputs": [],
   "source": [
    "len(specificgravity_of_crudes)"
   ]
  },
  {
   "cell_type": "code",
   "execution_count": null,
   "metadata": {},
   "outputs": [],
   "source": [
    "CrudeDensity = []\n",
    "i = 0\n",
    "while i < len(specificgravity_of_crudes):\n",
    "    denO = denWater*specificgravity_of_crudes[i]\n",
    "    CrudeDensity.append(denO)  #append: adding an item to the end of an existing list\n",
    "    i+=1\n",
    "CrudeDensity"
   ]
  },
  {
   "cell_type": "code",
   "execution_count": null,
   "metadata": {},
   "outputs": [],
   "source": [
    "CrudeDensity.append(62.4)"
   ]
  },
  {
   "cell_type": "code",
   "execution_count": null,
   "metadata": {},
   "outputs": [],
   "source": [
    "CrudeDensity"
   ]
  },
  {
   "cell_type": "code",
   "execution_count": null,
   "metadata": {},
   "outputs": [],
   "source": [
    "#insert: Like append but we can insert a new item at any position in list.\n",
    "a = [1,2,3,4,5,6,7]\n",
    "a.insert(4,'PETROLEUM')\n",
    "a"
   ]
  },
  {
   "cell_type": "code",
   "execution_count": null,
   "metadata": {},
   "outputs": [],
   "source": [
    "#Slicing. Just like the name says. \n",
    "#It helps cut a slice (sub-part) off a List. \n",
    "superset = [1,2,3,4,5,6,7,8,9]\n",
    "\n",
    "\n",
    "#Slicing syntax - listname[start:stop:step] start is included. stop is not\n",
    "subset1 = superset[0:5:2]\n",
    "\n",
    "print(subset1)\n",
    "\n",
    "subset2 = superset[::2]\n",
    "\n",
    "print(subset2) #Skipping a part also works for first and end indices. \n",
    "\n",
    "subset3 = superset[:-1] #starting to ending -1\n",
    "print(subset3)\n",
    "\n",
    "subset4 = superset[::] #everything\n",
    "print(subset4)"
   ]
  },
  {
   "cell_type": "code",
   "execution_count": null,
   "metadata": {},
   "outputs": [],
   "source": [
    "#Reversing the list\n",
    "reverse_set = superset[-1::-2] \n",
    "\n",
    "#Start at -1 th index, end at 0th, take negative steps.\n",
    "\n",
    "print(reverse_set)"
   ]
  },
  {
   "cell_type": "code",
   "execution_count": null,
   "metadata": {},
   "outputs": [],
   "source": [
    "# List Operations:\n",
    "#addition(concating lists): Demerit of list, Numpy Array will handle this issue\n",
    "a =[1,2,3]\n",
    "b =[4,5,6]\n",
    "c = a+b\n",
    "c"
   ]
  },
  {
   "cell_type": "code",
   "execution_count": null,
   "metadata": {},
   "outputs": [],
   "source": [
    "#Multiply\n",
    "a*3"
   ]
  },
  {
   "cell_type": "code",
   "execution_count": null,
   "metadata": {},
   "outputs": [],
   "source": [
    "a*b"
   ]
  },
  {
   "cell_type": "markdown",
   "metadata": {},
   "source": [
    "### Tuples\n",
    "- A tuple is a collection which is ordered and unchangeable\n",
    "\n",
    "- parenthesis are used ()\n",
    "\n",
    "- Immutable: Cannot be change: can be used for storing important data that cannot be changed by anyone"
   ]
  },
  {
   "cell_type": "code",
   "execution_count": null,
   "metadata": {},
   "outputs": [],
   "source": [
    "oilprd = (5000,1000,4322,5633,7892)"
   ]
  },
  {
   "cell_type": "code",
   "execution_count": null,
   "metadata": {},
   "outputs": [],
   "source": [
    "#Ordered\n",
    "oilprd[1]"
   ]
  },
  {
   "cell_type": "code",
   "execution_count": null,
   "metadata": {},
   "outputs": [],
   "source": [
    "#Immutable\n",
    "oilprd[3] = 2332"
   ]
  },
  {
   "cell_type": "markdown",
   "metadata": {},
   "source": [
    "### Dictionaries\n",
    "Helps store data with labels\n",
    "\n",
    "Syntax => { key : value }\n",
    "\n",
    "Can be directly converted to DataFrames (tables)"
   ]
  },
  {
   "cell_type": "code",
   "execution_count": null,
   "metadata": {},
   "outputs": [],
   "source": [
    "rock_properties = {'poro' : 0.25, 'perm' : 150 , 'lithology' : 'Limestone'}\n",
    "\n",
    "print(rock_properties)"
   ]
  },
  {
   "cell_type": "code",
   "execution_count": null,
   "metadata": {},
   "outputs": [],
   "source": [
    "#Access\n",
    "rock_properties['poro']"
   ]
  },
  {
   "cell_type": "code",
   "execution_count": null,
   "metadata": {},
   "outputs": [],
   "source": [
    "rock_properties['lithology'] = 'Shale'"
   ]
  },
  {
   "cell_type": "code",
   "execution_count": null,
   "metadata": {},
   "outputs": [],
   "source": [
    "rock_properties"
   ]
  },
  {
   "cell_type": "code",
   "execution_count": null,
   "metadata": {},
   "outputs": [],
   "source": [
    "#Saturation\n",
    "rock_properties['WaterSat'] = 0.25"
   ]
  },
  {
   "cell_type": "code",
   "execution_count": null,
   "metadata": {},
   "outputs": [],
   "source": [
    "rock_properties"
   ]
  },
  {
   "cell_type": "code",
   "execution_count": null,
   "metadata": {},
   "outputs": [],
   "source": [
    "import pandas as pd\n",
    "pd.DataFrame({'poro' : [0.10,0.20,0.30,0.50], 'perm' : [50,100,150,200],'Lithology':['S','S','C','S']})"
   ]
  },
  {
   "cell_type": "markdown",
   "metadata": {},
   "source": [
    "### Sets\n",
    "Curly braces are used just like dictionaries\n",
    "\n",
    "Unordered: Can't be indexed\n",
    "\n",
    "**Can't contain duplicate values**\n",
    "\n",
    "Faster Than List"
   ]
  },
  {
   "cell_type": "code",
   "execution_count": null,
   "metadata": {},
   "outputs": [],
   "source": [
    "a = {1,2,3,4,5,6,7,1,2,2}"
   ]
  },
  {
   "cell_type": "code",
   "execution_count": null,
   "metadata": {},
   "outputs": [],
   "source": [
    "a"
   ]
  },
  {
   "cell_type": "code",
   "execution_count": null,
   "metadata": {},
   "outputs": [],
   "source": [
    "l = [1,2,3,46,7,8,89,5,6,4,2,1,2,3,1,2]"
   ]
  },
  {
   "cell_type": "code",
   "execution_count": null,
   "metadata": {},
   "outputs": [],
   "source": [
    "s = set(l)"
   ]
  },
  {
   "cell_type": "code",
   "execution_count": null,
   "metadata": {},
   "outputs": [],
   "source": [
    "s"
   ]
  },
  {
   "cell_type": "markdown",
   "metadata": {},
   "source": [
    "### Summary of Data Structures\n",
    "1. Dictionary - Key:Value, mutable\n",
    "\n",
    "2. Lists - Mutable, Empty lists are used heavily to populate it later during the program\n",
    "\n",
    "3. Set - Uniqueness of Elements\n",
    "\n",
    "4. Tuples - Data cannot be changed"
   ]
  },
  {
   "cell_type": "markdown",
   "metadata": {},
   "source": [
    "### for loops\n",
    "The tool with which we can utilize the power of computers(iterations)\n",
    "\n",
    "We can perform repetition of a command a 1000 times in 1 second.\n",
    "\n",
    "Iterations are always performed on Iterables (ordered-collections).\n",
    "\n",
    "Examples of iterables - lists, strings etc"
   ]
  },
  {
   "cell_type": "code",
   "execution_count": null,
   "metadata": {},
   "outputs": [],
   "source": [
    "Specific_gravity = (0.2,0.3,0.4,0.87,0.9,1,0.2)\n",
    "for i in Specific_gravity:\n",
    "    api = (141.5/i) - 131.5\n",
    "    print('API gravity corresponding to Specific Gravity', i, 'is', api)"
   ]
  },
  {
   "cell_type": "markdown",
   "metadata": {},
   "source": [
    "### Functions \n",
    "\n",
    "#Functions are very important. \n",
    "\n",
    "#1. Make the code clean. \n",
    "#2. Helps Prevent repetitive commands.\n",
    "\n",
    "- Instead of writing code again and again we can create a function for different values, we can write a function and call that whenever we want to do the calculations"
   ]
  },
  {
   "cell_type": "code",
   "execution_count": null,
   "metadata": {},
   "outputs": [],
   "source": [
    "def Function():\n",
    "    print('Use of Function')"
   ]
  },
  {
   "cell_type": "code",
   "execution_count": null,
   "metadata": {},
   "outputs": [],
   "source": [
    "#Calling Function\n",
    "Function()"
   ]
  },
  {
   "cell_type": "code",
   "execution_count": null,
   "metadata": {},
   "outputs": [],
   "source": [
    "Function()"
   ]
  },
  {
   "cell_type": "code",
   "execution_count": null,
   "metadata": {},
   "outputs": [],
   "source": [
    "#Returning from a function\n",
    "def add_new(x,y):\n",
    "    return x+y,x*y"
   ]
  },
  {
   "cell_type": "code",
   "execution_count": null,
   "metadata": {},
   "outputs": [],
   "source": [
    "b,c = add_new(5,6)"
   ]
  },
  {
   "cell_type": "code",
   "execution_count": null,
   "metadata": {},
   "outputs": [],
   "source": [
    "b"
   ]
  },
  {
   "cell_type": "code",
   "execution_count": null,
   "metadata": {},
   "outputs": [],
   "source": [
    "c"
   ]
  },
  {
   "cell_type": "code",
   "execution_count": null,
   "metadata": {},
   "outputs": [],
   "source": [
    "#Storing return in a variable\n",
    "c = add_new(3,4)"
   ]
  },
  {
   "cell_type": "code",
   "execution_count": null,
   "metadata": {},
   "outputs": [],
   "source": [
    "c"
   ]
  },
  {
   "cell_type": "code",
   "execution_count": null,
   "metadata": {},
   "outputs": [],
   "source": [
    "#Once we return from a function, it stops being executed, any code writen after the return will never be executed\n",
    "def f(x,y,z):\n",
    "    return x/y +z\n",
    "    print('Hello')"
   ]
  },
  {
   "cell_type": "code",
   "execution_count": null,
   "metadata": {},
   "outputs": [],
   "source": [
    "f(3,4,5)"
   ]
  },
  {
   "cell_type": "code",
   "execution_count": null,
   "metadata": {},
   "outputs": [],
   "source": [
    "def api(x):\n",
    "    '''api function will take input as Specific Gravity and return density in API'''\n",
    "    api = 141.5/x - 131.5\n",
    "    print('The api gravity is',round(api))"
   ]
  },
  {
   "cell_type": "code",
   "execution_count": null,
   "metadata": {},
   "outputs": [],
   "source": [
    "api(0.9)"
   ]
  },
  {
   "cell_type": "code",
   "execution_count": null,
   "metadata": {},
   "outputs": [],
   "source": [
    "def pythhyp(base,height):\n",
    "    hyp = ((base**2)+(height**2))**0.5\n",
    "    print('The value of hypotenuse by pythagoras theorem is: ', hyp)\n",
    "    return hyp"
   ]
  },
  {
   "cell_type": "code",
   "execution_count": null,
   "metadata": {},
   "outputs": [],
   "source": [
    "pythhyp(3,4)"
   ]
  },
  {
   "cell_type": "code",
   "execution_count": null,
   "metadata": {},
   "outputs": [],
   "source": [
    "c = pythhyp(3,4)"
   ]
  },
  {
   "cell_type": "code",
   "execution_count": null,
   "metadata": {},
   "outputs": [],
   "source": [
    "c"
   ]
  },
  {
   "cell_type": "markdown",
   "metadata": {},
   "source": [
    "### Lambda Function\n",
    "Single line function"
   ]
  },
  {
   "cell_type": "code",
   "execution_count": null,
   "metadata": {},
   "outputs": [],
   "source": [
    "api_lambda = lambda x : 141.5/x - 131.5"
   ]
  },
  {
   "cell_type": "code",
   "execution_count": null,
   "metadata": {},
   "outputs": [],
   "source": [
    "api_lambda(0.9)"
   ]
  },
  {
   "cell_type": "markdown",
   "metadata": {},
   "source": [
    "# Numpy"
   ]
  },
  {
   "cell_type": "markdown",
   "metadata": {},
   "source": [
    "1. Stands for Numerical Python,numerical package for python\n",
    "2. Numpy is also incredibly fast, as it has bindings to C libraries. So, NumPy operations help in computational efficiency. \n",
    "3. Entire mathematical package of Matlab is numpy\n",
    "4. Data Manipulations of arrays and matix, Can be used for Multidimensional Data Preparations\n",
    "5. Array doesn't exist in python core, there list is present"
   ]
  },
  {
   "cell_type": "code",
   "execution_count": null,
   "metadata": {},
   "outputs": [],
   "source": [
    "# importing numpy\n",
    "import numpy as np"
   ]
  },
  {
   "cell_type": "markdown",
   "metadata": {},
   "source": [
    "## numpy arrays: numpy object used for storing data:\n",
    "Faster than lists(upto 50 times) and takes lesser space"
   ]
  },
  {
   "cell_type": "code",
   "execution_count": null,
   "metadata": {},
   "outputs": [],
   "source": [
    "#Creating Numpy array from a python list\n",
    "perm=[10,15,18,65,25]\n",
    "permarr = np.array(perm)\n",
    "permarr"
   ]
  },
  {
   "cell_type": "code",
   "execution_count": null,
   "metadata": {},
   "outputs": [],
   "source": [
    "type(permarr)"
   ]
  },
  {
   "cell_type": "code",
   "execution_count": null,
   "metadata": {},
   "outputs": [],
   "source": [
    "# Creating Numpy arrasy from tuples\n",
    "import numpy as np\n",
    "t = (1, 2, 3, 4, 5)\n",
    "\n",
    "arr = np.array(t)\n",
    "\n",
    "arr"
   ]
  },
  {
   "cell_type": "markdown",
   "metadata": {},
   "source": [
    "## DImensions in array"
   ]
  },
  {
   "cell_type": "markdown",
   "metadata": {},
   "source": [
    "### 0-D array: Array having one element"
   ]
  },
  {
   "cell_type": "code",
   "execution_count": null,
   "metadata": {},
   "outputs": [],
   "source": [
    "ar0 = np.array(34)"
   ]
  },
  {
   "cell_type": "code",
   "execution_count": null,
   "metadata": {},
   "outputs": [],
   "source": [
    "ar0"
   ]
  },
  {
   "cell_type": "code",
   "execution_count": null,
   "metadata": {},
   "outputs": [],
   "source": [
    "#Checking Dimension of array using ndim attribute\n",
    "\n",
    "ar0.ndim"
   ]
  },
  {
   "cell_type": "markdown",
   "metadata": {},
   "source": [
    "### 1-D array : Array having 0-D arrays as its elements\n",
    "- Most common and basic arrays\n",
    "- Similar to basic lists"
   ]
  },
  {
   "cell_type": "code",
   "execution_count": null,
   "metadata": {},
   "outputs": [],
   "source": [
    "porosity = [0.4,0.5,0.64,0.73,0.544,0.65]"
   ]
  },
  {
   "cell_type": "code",
   "execution_count": null,
   "metadata": {},
   "outputs": [],
   "source": [
    "arpor = np.array(porosity)"
   ]
  },
  {
   "cell_type": "code",
   "execution_count": null,
   "metadata": {},
   "outputs": [],
   "source": [
    "arpor"
   ]
  },
  {
   "cell_type": "code",
   "execution_count": null,
   "metadata": {},
   "outputs": [],
   "source": [
    "arpor.ndim"
   ]
  },
  {
   "cell_type": "markdown",
   "metadata": {},
   "source": [
    "### 2-D array: Array having 1-D arrays as its elements.\n",
    "- Represents matrix or 2md order tensor"
   ]
  },
  {
   "cell_type": "code",
   "execution_count": null,
   "metadata": {},
   "outputs": [],
   "source": [
    "porosity2d = np.array([[0.5,0.34,0.56,0.98,0.12],[0.34,0.65,0.12,0.87,0.23]])"
   ]
  },
  {
   "cell_type": "code",
   "execution_count": null,
   "metadata": {},
   "outputs": [],
   "source": [
    "porosity2d"
   ]
  },
  {
   "cell_type": "code",
   "execution_count": null,
   "metadata": {},
   "outputs": [],
   "source": [
    "porosity2d.ndim"
   ]
  },
  {
   "cell_type": "markdown",
   "metadata": {},
   "source": [
    "### 3- D array : 2-D arrays behave as element\n",
    "- Represents 3rd order tensor"
   ]
  },
  {
   "cell_type": "code",
   "execution_count": null,
   "metadata": {},
   "outputs": [],
   "source": [
    "perm = np.array([[[1,2,3,5],[4,5,6,7]],[[1,2,3,2],[3,4,5,5]],[[43,45,67,56],[32,54,65,64]]])"
   ]
  },
  {
   "cell_type": "code",
   "execution_count": null,
   "metadata": {},
   "outputs": [],
   "source": [
    "perm.ndim"
   ]
  },
  {
   "cell_type": "code",
   "execution_count": null,
   "metadata": {},
   "outputs": [],
   "source": [
    "perm"
   ]
  },
  {
   "cell_type": "markdown",
   "metadata": {},
   "source": [
    "### Shape: Checking shape"
   ]
  },
  {
   "cell_type": "code",
   "execution_count": null,
   "metadata": {},
   "outputs": [],
   "source": [
    "porosity2d"
   ]
  },
  {
   "cell_type": "code",
   "execution_count": null,
   "metadata": {},
   "outputs": [],
   "source": [
    "porosity2d.shape"
   ]
  },
  {
   "cell_type": "code",
   "execution_count": null,
   "metadata": {},
   "outputs": [],
   "source": [
    "perm"
   ]
  },
  {
   "cell_type": "code",
   "execution_count": null,
   "metadata": {},
   "outputs": [],
   "source": [
    "perm.shape"
   ]
  },
  {
   "cell_type": "markdown",
   "metadata": {},
   "source": [
    "# Using inbuilt methods for generating arrays"
   ]
  },
  {
   "cell_type": "markdown",
   "metadata": {},
   "source": [
    "## Arange: Return an array with evenly spaced elements in the given interval.\n",
    "    - np.arange(start,stop,step)"
   ]
  },
  {
   "cell_type": "code",
   "execution_count": null,
   "metadata": {},
   "outputs": [],
   "source": [
    "#Make an array of pressures ranging from 0 to 5000 psi with a step size of 500 psi\n",
    "pressures = np.arange(0,5500,500)"
   ]
  },
  {
   "cell_type": "code",
   "execution_count": null,
   "metadata": {},
   "outputs": [],
   "source": [
    "pressures"
   ]
  },
  {
   "cell_type": "code",
   "execution_count": null,
   "metadata": {},
   "outputs": [],
   "source": [
    "pressures.ndim"
   ]
  },
  {
   "cell_type": "markdown",
   "metadata": {},
   "source": [
    "## Linspace: Creates lineraly spaced array\n",
    "- Evenly spaced numbers over a specified interval\n",
    "- Creating n datapoints between two points"
   ]
  },
  {
   "cell_type": "code",
   "execution_count": null,
   "metadata": {},
   "outputs": [],
   "source": [
    "# Create saturation array from 0 to 1 having 100 points\n",
    "saturations = np.linspace(0,1,100)\n",
    "saturations"
   ]
  },
  {
   "cell_type": "code",
   "execution_count": null,
   "metadata": {},
   "outputs": [],
   "source": [
    "saturations.ndim"
   ]
  },
  {
   "cell_type": "markdown",
   "metadata": {},
   "source": [
    "# Indexing Arrays"
   ]
  },
  {
   "cell_type": "markdown",
   "metadata": {},
   "source": [
    "## Accesing elements"
   ]
  },
  {
   "cell_type": "code",
   "execution_count": null,
   "metadata": {},
   "outputs": [],
   "source": [
    "perm = np.array([[[1,2,3],[2,3,4]],[[34,45,56],[34,78,23]]])"
   ]
  },
  {
   "cell_type": "code",
   "execution_count": null,
   "metadata": {},
   "outputs": [],
   "source": [
    "perm"
   ]
  },
  {
   "cell_type": "code",
   "execution_count": null,
   "metadata": {},
   "outputs": [],
   "source": [
    "perm[0]"
   ]
  },
  {
   "cell_type": "code",
   "execution_count": null,
   "metadata": {},
   "outputs": [],
   "source": [
    "perm[0][1]"
   ]
  },
  {
   "cell_type": "code",
   "execution_count": null,
   "metadata": {},
   "outputs": [],
   "source": [
    "perm[0][1][1]"
   ]
  },
  {
   "cell_type": "markdown",
   "metadata": {},
   "source": [
    "# Slicing Arrays"
   ]
  },
  {
   "cell_type": "code",
   "execution_count": null,
   "metadata": {},
   "outputs": [],
   "source": [
    "perm = np.array([[13,23,32,43,54],[43,55,60,7,8],[12,34,45,77,87],[2,55,39,82,49]])"
   ]
  },
  {
   "cell_type": "code",
   "execution_count": null,
   "metadata": {},
   "outputs": [],
   "source": [
    "perm"
   ]
  },
  {
   "cell_type": "code",
   "execution_count": null,
   "metadata": {},
   "outputs": [],
   "source": [
    "import seaborn as sns\n",
    "import matplotlib.pyplot as plt"
   ]
  },
  {
   "cell_type": "code",
   "execution_count": null,
   "metadata": {},
   "outputs": [],
   "source": [
    "plt.figure(figsize = (10,8))\n",
    "plt.title('Reservoir Pemeability Grids')\n",
    "sns.heatmap(perm)"
   ]
  },
  {
   "cell_type": "code",
   "execution_count": null,
   "metadata": {},
   "outputs": [],
   "source": [
    "perm"
   ]
  },
  {
   "cell_type": "code",
   "execution_count": null,
   "metadata": {},
   "outputs": [],
   "source": [
    "perm[1:4]"
   ]
  },
  {
   "cell_type": "code",
   "execution_count": null,
   "metadata": {},
   "outputs": [],
   "source": [
    "perm[1:4,1:4]"
   ]
  },
  {
   "cell_type": "code",
   "execution_count": null,
   "metadata": {},
   "outputs": [],
   "source": [
    "plt.figure(figsize = (8,6))\n",
    "plt.title('Reservoir Pemeability Grids (Sliced)')\n",
    "sns.heatmap(perm[1:4,1:4])"
   ]
  },
  {
   "cell_type": "markdown",
   "metadata": {},
   "source": [
    "# Random Number Generation"
   ]
  },
  {
   "cell_type": "markdown",
   "metadata": {},
   "source": [
    "### Randint : Generating Random Integer\n",
    "- np.random.randint(min,max,shape)"
   ]
  },
  {
   "cell_type": "code",
   "execution_count": null,
   "metadata": {},
   "outputs": [],
   "source": [
    "np.random.randint(250,350,(3,4,3))"
   ]
  },
  {
   "cell_type": "markdown",
   "metadata": {},
   "source": [
    "### rand: Generating Random FLoat between 0 and 1\n",
    "- provide size"
   ]
  },
  {
   "cell_type": "code",
   "execution_count": null,
   "metadata": {},
   "outputs": [],
   "source": [
    "porosity = np.random.rand(5,4,2)"
   ]
  },
  {
   "cell_type": "code",
   "execution_count": null,
   "metadata": {},
   "outputs": [],
   "source": [
    "porosity"
   ]
  },
  {
   "cell_type": "markdown",
   "metadata": {},
   "source": [
    "### Additional*"
   ]
  },
  {
   "cell_type": "code",
   "execution_count": null,
   "metadata": {},
   "outputs": [],
   "source": [
    "import matplotlib.pyplot as plt\n",
    "import matplotlib.colorbar\n",
    "from matplotlib import cm"
   ]
  },
  {
   "cell_type": "code",
   "execution_count": null,
   "metadata": {},
   "outputs": [],
   "source": [
    "import numpy as np\n",
    "import matplotlib.pyplot as plt\n",
    "import matplotlib.colorbar\n",
    "from matplotlib import cm\n",
    "\n",
    "viridis = cm.get_cmap('plasma', 8) #Our color map\n",
    "\n",
    "def cuboid_data(center, size=(1,1,1)):\n",
    "    # suppose axis direction: x: to left; y: to inside; z: to upper\n",
    "    # get the (left, outside, bottom) point\n",
    "    o = [a - b / 2 for a, b in zip(center, size)]\n",
    "    # get the length, width, and height\n",
    "    l, w, h = size\n",
    "    x =  np.array([[o[0], o[0] + l, o[0] + l, o[0], o[0]],      # x coordinate of points in bottom surface\n",
    "         [o[0], o[0] + l, o[0] + l, o[0], o[0]],                # x coordinate of points in upper surface\n",
    "         [o[0], o[0] + l, o[0] + l, o[0], o[0]],                # x coordinate of points in outside surface\n",
    "         [o[0], o[0] + l, o[0] + l, o[0], o[0]]])               # x coordinate of points in inside surface\n",
    "    y =  np.array([[o[1], o[1], o[1] + w, o[1] + w, o[1]],      # y coordinate of points in bottom surface\n",
    "         [o[1], o[1], o[1] + w, o[1] + w, o[1]],                # y coordinate of points in upper surface\n",
    "         [o[1], o[1], o[1], o[1], o[1]],                        # y coordinate of points in outside surface\n",
    "         [o[1] + w, o[1] + w, o[1] + w, o[1] + w, o[1] + w]])   # y coordinate of points in inside surface\n",
    "    z =  np.array([[o[2], o[2], o[2], o[2], o[2]],              # z coordinate of points in bottom surface\n",
    "         [o[2] + h, o[2] + h, o[2] + h, o[2] + h, o[2] + h],    # z coordinate of points in upper surface\n",
    "         [o[2], o[2], o[2] + h, o[2] + h, o[2]],                # z coordinate of points in outside surface\n",
    "         [o[2], o[2], o[2] + h, o[2] + h, o[2]]])               # z coordinate of points in inside surface\n",
    "    return x, y, z\n",
    "\n",
    "def plotCubeAt(pos=(0,0,0), c=\"b\", alpha=0.1, ax=None):\n",
    "    # Plotting N cube elements at position pos\n",
    "    if ax !=None:\n",
    "        X, Y, Z = cuboid_data( (pos[0],pos[1],pos[2]) )\n",
    "        ax.plot_surface(X, Y, Z, color=c, rstride=1, cstride=1, alpha=0.1)\n",
    "\n",
    "def plotMatrix(ax, x, y, z, data, cmap=viridis, cax=None, alpha=0.1):\n",
    "    # plot a Matrix \n",
    "    norm = matplotlib.colors.Normalize(vmin=data.min(), vmax=data.max())\n",
    "    colors = lambda i,j,k : matplotlib.cm.ScalarMappable(norm=norm,cmap = cmap).to_rgba(data[i,j,k]) \n",
    "    for i, xi in enumerate(x):\n",
    "            for j, yi in enumerate(y):\n",
    "                for k, zi, in enumerate(z):\n",
    "                    plotCubeAt(pos=(xi, yi, zi), c=colors(i,j,k), alpha=alpha,  ax=ax)\n",
    "\n",
    "\n",
    "\n",
    "    if cax !=None:\n",
    "        cbar = matplotlib.colorbar.ColorbarBase(cax, cmap=cmap,\n",
    "                                norm=norm,\n",
    "                                orientation='vertical')  \n",
    "        cbar.set_ticks(np.unique(data))\n",
    "        # set the colorbar transparent as well\n",
    "        cbar.solids.set(alpha=alpha)              "
   ]
  },
  {
   "cell_type": "code",
   "execution_count": null,
   "metadata": {},
   "outputs": [],
   "source": [
    "x = np.array(range(10))\n",
    "y = np.array(range(10))\n",
    "z = np.array(range(5))\n",
    "por = np.random.normal(loc = 0.5,scale = 0.15,size =(len(x), len(y), len(z)) )\n",
    "print(por.shape)"
   ]
  },
  {
   "cell_type": "code",
   "execution_count": null,
   "metadata": {},
   "outputs": [],
   "source": [
    "fig = plt.figure(figsize=(10,5))\n",
    "ax = fig.add_axes([5,5,5,5], projection='3d')\n",
    "plt.title('Porosity')\n",
    "#ax_cb = fig.add_axes([1,1,1,1])\n",
    "plotMatrix(ax, x, y, z, por, cmap=viridis)"
   ]
  },
  {
   "cell_type": "markdown",
   "metadata": {},
   "source": [
    "## Arithmetics Functions:"
   ]
  },
  {
   "cell_type": "code",
   "execution_count": null,
   "metadata": {},
   "outputs": [],
   "source": [
    "# Addition:\n",
    "a = [1,2,3,44,5]\n",
    "b = [4,5,6,7,8]\n",
    "c= a+b\n",
    "c"
   ]
  },
  {
   "cell_type": "code",
   "execution_count": null,
   "metadata": {},
   "outputs": [],
   "source": [
    "ara = np.array(a)\n",
    "arb = np.array(b)\n",
    "arc = ara +arb\n",
    "arc"
   ]
  },
  {
   "cell_type": "code",
   "execution_count": null,
   "metadata": {},
   "outputs": [],
   "source": [
    "ara"
   ]
  },
  {
   "cell_type": "code",
   "execution_count": null,
   "metadata": {},
   "outputs": [],
   "source": [
    "ara+1"
   ]
  },
  {
   "cell_type": "code",
   "execution_count": null,
   "metadata": {},
   "outputs": [],
   "source": [
    "a+1"
   ]
  },
  {
   "cell_type": "code",
   "execution_count": null,
   "metadata": {},
   "outputs": [],
   "source": [
    "a*b"
   ]
  },
  {
   "cell_type": "code",
   "execution_count": null,
   "metadata": {},
   "outputs": [],
   "source": [
    "ara*arb"
   ]
  },
  {
   "cell_type": "code",
   "execution_count": null,
   "metadata": {},
   "outputs": [],
   "source": [
    "4551/0"
   ]
  },
  {
   "cell_type": "code",
   "execution_count": null,
   "metadata": {},
   "outputs": [],
   "source": [
    "np.array(42523454)/0"
   ]
  },
  {
   "cell_type": "code",
   "execution_count": null,
   "metadata": {},
   "outputs": [],
   "source": [
    "ara**arb"
   ]
  },
  {
   "cell_type": "code",
   "execution_count": null,
   "metadata": {},
   "outputs": [],
   "source": [
    "#Dot Product\n",
    "ara.dot(arb)"
   ]
  },
  {
   "cell_type": "code",
   "execution_count": null,
   "metadata": {},
   "outputs": [],
   "source": [
    "z = np.array([ara,ara**arb])\n",
    "z\n"
   ]
  },
  {
   "cell_type": "code",
   "execution_count": null,
   "metadata": {},
   "outputs": [],
   "source": [
    "len(z) #number of rows"
   ]
  },
  {
   "cell_type": "code",
   "execution_count": null,
   "metadata": {},
   "outputs": [],
   "source": [
    "z.T #Transpose"
   ]
  },
  {
   "cell_type": "code",
   "execution_count": null,
   "metadata": {},
   "outputs": [],
   "source": [
    "len(z.T)"
   ]
  },
  {
   "cell_type": "code",
   "execution_count": null,
   "metadata": {},
   "outputs": [],
   "source": [
    "#dtype : to see the datatype of elements in array\n",
    "z.dtype"
   ]
  },
  {
   "cell_type": "code",
   "execution_count": null,
   "metadata": {},
   "outputs": [],
   "source": [
    "#astype: TO cast to a specific datatype\n",
    "z.astype(float)"
   ]
  },
  {
   "cell_type": "code",
   "execution_count": null,
   "metadata": {},
   "outputs": [],
   "source": [
    "#Maths Functions for min,max,mean,std values\n",
    "poro = np.abs(np.random.normal(0.25,0.01,2000))\n",
    "poro"
   ]
  },
  {
   "cell_type": "code",
   "execution_count": null,
   "metadata": {},
   "outputs": [],
   "source": [
    "poro.max()"
   ]
  },
  {
   "cell_type": "code",
   "execution_count": null,
   "metadata": {},
   "outputs": [],
   "source": [
    "poro.min()"
   ]
  },
  {
   "cell_type": "code",
   "execution_count": null,
   "metadata": {},
   "outputs": [],
   "source": [
    "poro.mean()"
   ]
  },
  {
   "cell_type": "code",
   "execution_count": null,
   "metadata": {},
   "outputs": [],
   "source": [
    "poro.std()"
   ]
  },
  {
   "cell_type": "code",
   "execution_count": null,
   "metadata": {},
   "outputs": [],
   "source": [
    "poro.argmin()"
   ]
  },
  {
   "cell_type": "markdown",
   "metadata": {},
   "source": [
    "# Line Plot using Matplotlib"
   ]
  },
  {
   "cell_type": "code",
   "execution_count": null,
   "metadata": {},
   "outputs": [],
   "source": [
    "#Step 1: Import the library(s). \n",
    "import matplotlib.pyplot as plt\n",
    "\n",
    "#Step 2: create numpy arrays for x and y.\n",
    "x = np.linspace(-10,10)\n",
    "y = x**2\n",
    "\n",
    "#Step 3: Plot now. \n",
    "plt.plot(x,y)"
   ]
  },
  {
   "cell_type": "code",
   "execution_count": null,
   "metadata": {},
   "outputs": [],
   "source": [
    "z = x**3"
   ]
  },
  {
   "cell_type": "code",
   "execution_count": null,
   "metadata": {},
   "outputs": [],
   "source": [
    "#Customization\n",
    "plt.style.use('fivethirtyeight')\n",
    "plt.figure(figsize=(6,6))  #6X6 canvas.\n",
    "# plt.style.use('default')\n",
    "\n",
    "# 1. generate the plot. Add a label.\n",
    "plt.plot(x,y,label='It is a parabola')\n",
    "\n",
    "plt.plot(x,z,label='Cubic')\n",
    "\n",
    "#2. Set x axis label\n",
    "plt.xlabel('This is X-Axis')\n",
    "\n",
    "#3. Set y axis label.\n",
    "plt.ylabel('This is Y-Axis')\n",
    "\n",
    "#4. Set the title.\n",
    "plt.title('TITLE here.')\n",
    "\n",
    "#5. set the grid. \n",
    "plt.grid(True)\n",
    "\n",
    "#6. display the label in a legend.\n",
    "plt.legend(loc='best')"
   ]
  },
  {
   "cell_type": "code",
   "execution_count": null,
   "metadata": {},
   "outputs": [],
   "source": [
    "plt.style.available"
   ]
  },
  {
   "cell_type": "code",
   "execution_count": null,
   "metadata": {},
   "outputs": [],
   "source": [
    "def vogelipr():\n",
    "    porosity = float(input(\"Enter Porosity: \"))\n",
    "    K = float(input(\"Enter Perm.(md): \"))\n",
    "    h = float(input(\"Enter pay zone thicknes(Feet): \"))\n",
    "    P = float(input(\"Enter  Reservoir Pressure(psi): \"))\n",
    "    Pb = float(input(\"Enter Bubble Point Pressure(psi): \"))\n",
    "    Bo = float(input(\"Enter Formation Volume Factor: \"))\n",
    "    Viscosity  = float(input(\"Enter fluid viscosity(cp): \"))\n",
    "    ct = float(input(\"Enter Total Compressibility(psi-1): \"))\n",
    "    A = float(input(\"Enter Drainage Area(Acres): \"))\n",
    "    re = np.sqrt(43560*A/3.14)\n",
    "    rw = float(input(\"Enter Wellbore radius(ft): \"))\n",
    "    S = float(input(\"Enter Skin Factor: \"))\n",
    "##Calculation of productivity index\n",
    "    J = K*h/(141.2*Bo*Viscosity*(np.log(re/rw)-0.75+S))\n",
    "    print(\"The value of productivity index is\", J)\n",
    "##Calculation of Absolute open flow\n",
    "    qmax = J*P/1.8\n",
    "    print(\"The value of Absolute open flow is \", qmax, \"stb/day\")\n",
    "##Pressures array\n",
    "    a = np.arange(0,P,500)\n",
    "    b = np.append(a,P)\n",
    "    pwf = b[-1::-1]\n",
    "##Calculation of flowrate\n",
    "    flowrate = [] #empty list for occupying later\n",
    "    for i in pwf:\n",
    "        q = qmax*(1-0.2*(i/P)-0.8*((i/P)**2))\n",
    "        flowrate.append(q)\n",
    "    flowrates = np.array(flowrate)\n",
    "\n",
    "##plotting IPR\n",
    "    plt.figure(figsize = (9,6))\n",
    "    plt.plot(flowrates,pwf,c = \"red\",linewidth=3)\n",
    "    plt.xlabel(\"Flowrate(stb/day)\")\n",
    "    plt.ylabel(\"pwf(psia)\")\n",
    "    plt.grid(True)\n",
    "    plt.title(\"Vogel's IPR for Saturated Reservoir\")\n"
   ]
  },
  {
   "cell_type": "code",
   "execution_count": null,
   "metadata": {},
   "outputs": [],
   "source": [
    "vogelipr()"
   ]
  },
  {
   "cell_type": "markdown",
   "metadata": {},
   "source": [
    "# 2. Pressure Profile"
   ]
  },
  {
   "attachments": {
    "image.png": {
     "image/png": "[encoded data removed]"
    }
   },
   "cell_type": "markdown",
   "metadata": {},
   "source": [
    "![image.png](attachment:image.png)"
   ]
  },
  {
   "cell_type": "code",
   "execution_count": null,
   "metadata": {},
   "outputs": [],
   "source": [
    "def pressureprof():\n",
    "    re = float(input('Outer radius of Reservoir(ft): '))\n",
    "    rw = float(input('We4llbore Radius(ft): '))\n",
    "    Pwf = float(input('Bottomhole Pressure(PSI): '))\n",
    "    h = float(input('Net Pay Thickness(ft): '))\n",
    "    k = float(input('Average Reservoir Permeability(mD): '))\n",
    "    q = float(input('Flowrate(STB/Day): '))\n",
    "    mu = float(input('Oil Viscosity: '))\n",
    "    B = 1\n",
    "    r = np.linspace(rw,re,500)\n",
    "    Pressure = []\n",
    "    for i in range(len(r)):\n",
    "        P = Pwf + (141.2*q*mu*B*(np.log(r[i]/rw))/k/h)\n",
    "        Pressure.append(P)\n",
    "    plt.figure(figsize = [8,6])\n",
    "    plt.plot(r,Pressure)\n",
    "    plt.xlabel('r(ft)')\n",
    "    plt.ylabel('P(r), Psi')\n",
    "    plt.title('Reservoir Pressure Profile')\n",
    "    plt.grid(True)"
   ]
  },
  {
   "cell_type": "code",
   "execution_count": null,
   "metadata": {},
   "outputs": [],
   "source": [
    "pressureprof()\n"
   ]
  },
  {
   "cell_type": "markdown",
   "metadata": {},
   "source": [
    "## Dynamic Pressure Profile: Visualizing effect of Viscosity, Flowrate and permeability"
   ]
  },
  {
   "cell_type": "code",
   "execution_count": null,
   "metadata": {},
   "outputs": [],
   "source": [
    "from ipywidgets import interact, interactive\n",
    "from IPython.display import clear_output, display, HTML"
   ]
  },
  {
   "cell_type": "code",
   "execution_count": null,
   "metadata": {},
   "outputs": [],
   "source": [
    "def flowprofile(k,mu,q):\n",
    "\n",
    "  re = 3000\n",
    "  rw = 0.5\n",
    "\n",
    "  r = np.linspace(rw,re,500)\n",
    "\n",
    "  pe = 4000\n",
    "\n",
    "  B = 1\n",
    "\n",
    "  h = 30 #ft\n",
    "\n",
    "  P = pe - (141.2*q*mu*B*(np.log(re/r))/k/h)\n",
    "\n",
    "  y_min = P[np.where(r==rw)]\n",
    "\n",
    "\n",
    "\n",
    "  plt.plot(r,P,linewidth=4)\n",
    "  plt.axhline(y_min,linewidth=3,color='red')\n",
    "\n",
    "  plt.ylim(0,5000)\n",
    "\n",
    "  plt.xlabel('r(ft)')\n",
    "  plt.ylabel('P(r), Psi')\n",
    "\n",
    "  plt.title('Reservoir Pressure Profile')\n",
    "\n",
    "  plt.grid(True)\n",
    "\n",
    "  return r,P"
   ]
  },
  {
   "cell_type": "code",
   "execution_count": null,
   "metadata": {},
   "outputs": [],
   "source": [
    "w = interactive(flowprofile, k = (200,1000), mu=(10,220), q = (100,200))"
   ]
  },
  {
   "cell_type": "code",
   "execution_count": null,
   "metadata": {},
   "outputs": [],
   "source": [
    "display(w)"
   ]
  },
  {
   "cell_type": "markdown",
   "metadata": {},
   "source": [
    "# Pandas\n",
    "Ms Excel of Python but powerful\n",
    "This library helps us import | create | work with data in the form of tables.\n",
    "\n",
    "\n",
    "The tables are called DataFrames.\n",
    "\n",
    "1. We can directly convert a Dictionary into a DataFrame.\n",
    "2. We can import excel-sheets or CSV files (most popular) into DF.\n",
    "3. We can manipulate and use these tables in a  user-friendly way."
   ]
  },
  {
   "cell_type": "code",
   "execution_count": null,
   "metadata": {},
   "outputs": [],
   "source": [
    "#Converting Dictionary into DataFrame\n",
    "#Step 1: Import Pandas with an alias 'pd'\n",
    "import pandas as pd\n",
    "\n",
    "\n",
    "#Step 2: Create your dictionary\n",
    "Rock_Properties = {'phi': [0.2,0.40,0.30,0.25,0.270],\n",
    "                'perm': [100,20,150,130,145],\n",
    "                'lith': ['sandstone','shale','limestone','limestone','sandstone']}\n",
    "\n",
    "#Step 3: Create your Table.\n",
    "rock_table = pd.DataFrame(Rock_Properties)\n",
    "\n",
    "#Step 4: Print your table.\n",
    "rock_table"
   ]
  },
  {
   "cell_type": "code",
   "execution_count": null,
   "metadata": {},
   "outputs": [],
   "source": [
    "#Adding New Column\n",
    "rock_table['Saturation'] = [0.14,0.25,0.45,0.37,0.28]\n",
    "rock_table"
   ]
  },
  {
   "cell_type": "code",
   "execution_count": null,
   "metadata": {},
   "outputs": [],
   "source": [
    "#Importing from csv or excel files\n",
    "volve = pd.read_csv('vpd.csv')\n",
    "#Similarly excel file can be read by- \n",
    "#df = pd.read_excel('\\path\\filename.csv')"
   ]
  },
  {
   "cell_type": "code",
   "execution_count": null,
   "metadata": {},
   "outputs": [],
   "source": [
    "volve"
   ]
  },
  {
   "cell_type": "code",
   "execution_count": null,
   "metadata": {},
   "outputs": [],
   "source": [
    "volve.head()"
   ]
  },
  {
   "cell_type": "code",
   "execution_count": null,
   "metadata": {},
   "outputs": [],
   "source": [
    "#shape\n",
    "volve.shape"
   ]
  },
  {
   "cell_type": "code",
   "execution_count": null,
   "metadata": {},
   "outputs": [],
   "source": [
    "#columns to get output of columns name\n",
    "volve.columns"
   ]
  },
  {
   "cell_type": "code",
   "execution_count": null,
   "metadata": {},
   "outputs": [],
   "source": [
    "## Accessing certain column\n",
    "volve['NPD_WELL_BORE_NAME']"
   ]
  },
  {
   "cell_type": "code",
   "execution_count": null,
   "metadata": {},
   "outputs": [],
   "source": [
    "volve[['NPD_WELL_BORE_NAME','ON_STREAM_HRS']]"
   ]
  },
  {
   "cell_type": "code",
   "execution_count": null,
   "metadata": {},
   "outputs": [],
   "source": [
    "volve[['NPD_WELL_BORE_NAME']]"
   ]
  },
  {
   "cell_type": "code",
   "execution_count": null,
   "metadata": {},
   "outputs": [],
   "source": [
    "## Getting unique name\n",
    "\n",
    "volve['NPD_WELL_BORE_NAME'].unique()"
   ]
  },
  {
   "cell_type": "code",
   "execution_count": null,
   "metadata": {},
   "outputs": [],
   "source": [
    "#COunting values for each well\n",
    "volve['NPD_WELL_BORE_NAME'].value_counts()"
   ]
  },
  {
   "cell_type": "code",
   "execution_count": null,
   "metadata": {},
   "outputs": [],
   "source": [
    "plt.figure(figsize=(10,4))\n",
    "sns.countplot('NPD_WELL_BORE_NAME',data = volve)"
   ]
  },
  {
   "cell_type": "code",
   "execution_count": null,
   "metadata": {},
   "outputs": [],
   "source": [
    "plt.figure(figsize=(10,4))\n",
    "sns.countplot('FLOW_KIND',data = volve)"
   ]
  },
  {
   "cell_type": "code",
   "execution_count": null,
   "metadata": {},
   "outputs": [],
   "source": [
    "#Conditional Dataframe Slicing\n",
    "pf12 =  volve['NPD_WELL_BORE_NAME'] == '15/9-F-12' #Give Boolean\n",
    "volve_pf12 = volve[pf12]"
   ]
  },
  {
   "cell_type": "code",
   "execution_count": null,
   "metadata": {},
   "outputs": [],
   "source": [
    "volve_pf12.head()"
   ]
  },
  {
   "cell_type": "code",
   "execution_count": null,
   "metadata": {},
   "outputs": [],
   "source": [
    "#info: Information of datatypes and count of null values\n",
    "volve_pf12.info()"
   ]
  },
  {
   "cell_type": "code",
   "execution_count": null,
   "metadata": {},
   "outputs": [],
   "source": [
    "volve_pf12.set_index(pd.to_datetime(volve_pf12['DATEPRD']),inplace = True)"
   ]
  },
  {
   "cell_type": "code",
   "execution_count": null,
   "metadata": {},
   "outputs": [],
   "source": [
    "volve_pf12.head()"
   ]
  },
  {
   "cell_type": "code",
   "execution_count": null,
   "metadata": {},
   "outputs": [],
   "source": [
    "### Visualizing for null values\n",
    "volve_pf12.isnull()"
   ]
  },
  {
   "cell_type": "code",
   "execution_count": null,
   "metadata": {},
   "outputs": [],
   "source": [
    "sns.heatmap(volve_pf12.isnull())"
   ]
  },
  {
   "cell_type": "code",
   "execution_count": null,
   "metadata": {},
   "outputs": [],
   "source": [
    "#accessing through index number\n",
    "volve_pf12.iloc[2]"
   ]
  },
  {
   "cell_type": "code",
   "execution_count": null,
   "metadata": {},
   "outputs": [],
   "source": [
    "#index name\n",
    "volve_pf12.loc['2008-02-14']"
   ]
  },
  {
   "cell_type": "code",
   "execution_count": null,
   "metadata": {},
   "outputs": [],
   "source": [
    "volve_pf12['AVG_DOWNHOLE_PRESSURE']['2008-02-14']"
   ]
  },
  {
   "cell_type": "code",
   "execution_count": null,
   "metadata": {},
   "outputs": [],
   "source": [
    "#Plotting the values with value of date on x axis\n",
    "#inbuilt plot function of pandas\n",
    "volve_pf12.plot(figsize = (12,10),subplots= True)"
   ]
  },
  {
   "cell_type": "code",
   "execution_count": null,
   "metadata": {},
   "outputs": [],
   "source": [
    "plt.figure(figsize=(15,6))\n",
    "plt.plot(volve_pf12.index,volve_pf12['BORE_OIL_VOL'])"
   ]
  },
  {
   "cell_type": "markdown",
   "metadata": {},
   "source": [
    "## Material Balance"
   ]
  },
  {
   "cell_type": "markdown",
   "metadata": {},
   "source": [
    "#### Gas Material Balance"
   ]
  },
  {
   "cell_type": "code",
   "execution_count": null,
   "metadata": {},
   "outputs": [],
   "source": [
    "Time = [ 0,0.5,1,1.5,2]\n",
    "ReservoirPressure = [1798,1680,1540,1428,1335]\n",
    "Z = [0.869,0.870,0.880,0.890,0.900]\n",
    "Gp = [0,0.96,2.12,3.21,3.92]\n",
    "df = pd.DataFrame({\"Time(years)\":Time,\"ReservoirPressure(psia)\":ReservoirPressure, \"Z factor\": Z, \"Cumulative Gas Produced Gp(MMMSCF)\": Gp  })\n",
    "df['P/Z']= df['ReservoirPressure(psia)']/df['Z factor']\n",
    "df"
   ]
  },
  {
   "cell_type": "code",
   "execution_count": null,
   "metadata": {},
   "outputs": [],
   "source": [
    "x = df[\"Cumulative Gas Produced Gp(MMMSCF)\"]\n",
    "y = df['P/Z']"
   ]
  },
  {
   "cell_type": "code",
   "execution_count": null,
   "metadata": {},
   "outputs": [],
   "source": [
    "plt.scatter(x,y,marker = 'x',color = 'red')"
   ]
  },
  {
   "cell_type": "markdown",
   "metadata": {},
   "source": [
    "y = mx + c\n",
    "\n",
    "P/Z = m*Gp +c"
   ]
  },
  {
   "cell_type": "code",
   "execution_count": null,
   "metadata": {},
   "outputs": [],
   "source": [
    "model = np.polyfit(x, y, 1)\n",
    "model"
   ]
  },
  {
   "cell_type": "code",
   "execution_count": null,
   "metadata": {},
   "outputs": [],
   "source": [
    "PZZ = np.arange(2070.38439919,0,-1)\n",
    "GPP = (PZZ-2070.38439919)/-148.2874553"
   ]
  },
  {
   "cell_type": "code",
   "execution_count": null,
   "metadata": {},
   "outputs": [],
   "source": [
    "DF = pd.DataFrame({\"Cumulative Gas Produced Gp(MMMSCF)\": GPP, \"P/Z\": PZZ})\n",
    "DF"
   ]
  },
  {
   "cell_type": "code",
   "execution_count": null,
   "metadata": {},
   "outputs": [],
   "source": [
    "Initial_gas_in_place =  (-2070.38439919)/-148.2874553\n",
    "Initial_gas_in_place"
   ]
  },
  {
   "cell_type": "code",
   "execution_count": null,
   "metadata": {},
   "outputs": [],
   "source": [
    "plt.style.use('fivethirtyeight')\n",
    "plt.figure(figsize = (9,6))\n",
    "plt.plot(DF[\"Cumulative Gas Produced Gp(MMMSCF)\"][1:600],DF[\"P/Z\"][1:600])\n",
    "plt.plot(DF[\"Cumulative Gas Produced Gp(MMMSCF)\"][601:2072],DF[\"P/Z\"][601:2072], ls = \"--\")\n",
    "plt.scatter(x,y,marker = 'x',color = 'red',label = \"Production Data\")\n",
    "plt.scatter(Initial_gas_in_place,30, label = \"Initial Gas in Place\")\n",
    "plt.xlim(0,16)\n",
    "plt.ylim(1,2100)\n",
    "plt.axvspan(0,4,alpha=0.4,label='Production History',color='chartreuse')\n",
    "plt.xlabel(\"Cumulative Gas Production 'Gp' (MMMscf)\")\n",
    "plt.ylabel(\"P/Z\")\n",
    "plt.title(\"Gas Material Balance\")\n",
    "plt.legend(loc='best')\n",
    "plt.grid(True)\n",
    "plt.show()\n",
    "print(\"The Gas Initially in place is\", Initial_gas_in_place,\"MMMscf\")"
   ]
  },
  {
   "cell_type": "markdown",
   "metadata": {},
   "source": [
    "## Thank You, You have been a lovely Audience"
   ]
  }
 ],
 "metadata": {
  "kernelspec": {
   "display_name": "Python 3",
   "language": "python",
   "name": "python3"
  },
  "language_info": {
   "codemirror_mode": {
    "name": "ipython",
    "version": 3
   },
   "file_extension": ".py",
   "mimetype": "text/x-python",
   "name": "python",
   "nbconvert_exporter": "python",
   "pygments_lexer": "ipython3",
   "version": "3.8.8"
  }
 },
 "nbformat": 4,
 "nbformat_minor": 2
}
